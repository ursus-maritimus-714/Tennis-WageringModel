{
 "cells": [
  {
   "cell_type": "markdown",
   "id": "e054b1db",
   "metadata": {},
   "source": [
    "## Overview of Feature Development - Hard Court"
   ]
  },
  {
   "cell_type": "markdown",
   "id": "11a1f07d",
   "metadata": {},
   "source": [
    "In the previous workbook (02_Data_Cleaning_Wrangling_HardCourt), raw data were imported, clean and expanded upon. In this workbook, an extensive set of features is developed from the raw data (currently years 2012-2019). At a high level:\n",
    "* Target feature created per match to be predicted on (% total points won per player in match to be predicted on)\n",
    "* For each match to be predicted on, to assess long-term player performance as a predictor of performance in the next match under similar conditions, mean match stats-derived features from previous matches are accrued over the 60 matches previous to the match being predicted on. \n",
    "    * This accrual is surface-specific (hard or clay courts, with addtional features sensitive to indoor or outdoor match status) \n",
    "    * These past 60-match features are also decay weighted, such that matches occuring closer in time to the match being predicted on are weighted more than matches occuring less recently in time relative to the match being predicted on. Both the 60 match horizon, as well as the specific decay-weighting employed presently, have been derived (\"optimized\") empiricaly based on feedback from model performance with different parameters \n",
    "    * Decay-weighted past perfomance features (over the last 60 surface matches relative to a given match to be predicted on) have also been adjusted based on the relatively strong or weak past performance of the opponents faced during that 60 match stretch relative to a theoretical schedule of opponents of average past performance. \n",
    "        * This \"Strength of Schedule\" weighting makes a substantial improvement to prediction accuracy (I've determined this from running models with and without such adjustment). \n",
    "        * This weghting is also done with respect to time-decay weighting, ie opponent strength computation is subject to the same time decay weighting relative to the match being predicted on as the player's own performance being adjusted was\n",
    "* Apart from performance-based features, another set of features generated here deals with player stamina (derived from number of past matches played) and fatigue (points or minutes spent on court thus far in a given tournament). Stamina and fatigue are integrated into one \"body battery\" metric as well, which I've shown has more predictive value than considering fatigue or stamina in isolation. \n",
    "    * As with engineered performance features, fatigue features are fitted with empirically-derived, time decay-weighted curves\n",
    "* A number of other features are derived in this workbook, including on topics including head-to-head past performance between two players in a given match to be predicted on, handedness, height, \"home court advantage\" and court speed estimation (based on the past year's aggregate ace performance at the same tournament) and potential effects relative to individual player profiles\n",
    "* All player-level features generated in this workbook are formulated both in a \"raw\" version (ie, without respect to the opponent in the match to be predicted on) and a \"differential\" version (ie, WITH respect to the opponent in the match to be predicted on). Modeling shows that the differential versions of the features are MUCH more predictive than the raw versions. Though including the raw versions as well does yield a slight improvement in target feature prediction.\n",
    "* Currently, a data inclusion date range of 2012-2019 is delimited (this has been shaped by feedback from EDA and modeling), and matches played on grass (too low a sample size; also removed Davis up and Olympics matches for same reason as well as for their \"odd\" contexts) and matches where one player withdrew (usually for injury reason) either before the match or early on in the match were filtered out and NOT included in feature generation. Critically, matches filtered out beyond this point (see EDA and Modeling workbooks) WERE used for initial feature generation/accrual.\n",
    "   * For modeling clay court tennis specifically, where the sample is much smaller (by ~3-4x) over the same time frame as for hard court tennis, the sample has been expanded over 3 additional years (2009-2019) as compared to the hard court model. See reporting from the original Tennis Prediction Project for detailed analyses and discussion of this dichotomy. \n",
    "* A final general statement that is important to make is that pains are taken throughout to avoid \"data leakage\", which is to say to avoid incorporating into predictive features any information that would not have been available prior to the time a given match being predicted on was played. "
   ]
  },
  {
   "cell_type": "markdown",
   "id": "671afba3",
   "metadata": {},
   "source": [
    "### Imports"
   ]
  },
  {
   "cell_type": "code",
   "execution_count": 1,
   "id": "ad194731",
   "metadata": {},
   "outputs": [],
   "source": [
    "import pandas as pd\n",
    "import numpy as np\n",
    "import os\n",
    "import warnings\n",
    "warnings.filterwarnings('ignore')"
   ]
  },
  {
   "cell_type": "markdown",
   "id": "bba56de4",
   "metadata": {},
   "source": [
    "### Load Preprocessed Data"
   ]
  },
  {
   "cell_type": "code",
   "execution_count": 2,
   "id": "aae542e0",
   "metadata": {},
   "outputs": [],
   "source": [
    "#Load preprocessed\n",
    "df = pd.read_csv('../data/cleaned_data_for_FeatureDev_Hard.csv')"
   ]
  },
  {
   "cell_type": "code",
   "execution_count": 3,
   "id": "efc961ac",
   "metadata": {},
   "outputs": [],
   "source": [
    "#Load preprocessed (hard court time range)\n",
    "#df = pd.read_csv('../data/cleaned_data_for_FeatureDev_2012to2019.csv')"
   ]
  },
  {
   "cell_type": "code",
   "execution_count": 4,
   "id": "8caee012",
   "metadata": {},
   "outputs": [],
   "source": [
    "df = df.drop([\"t_loc\"], axis=1)"
   ]
  },
  {
   "cell_type": "code",
   "execution_count": 5,
   "id": "0e8398f9",
   "metadata": {},
   "outputs": [
    {
     "name": "stdout",
     "output_type": "stream",
     "text": [
      "<class 'pandas.core.frame.DataFrame'>\n",
      "RangeIndex: 11804 entries, 0 to 11803\n",
      "Data columns (total 50 columns):\n",
      " #   Column       Non-Null Count  Dtype  \n",
      "---  ------       --------------  -----  \n",
      " 0   t_id         11804 non-null  object \n",
      " 1   t_date       11804 non-null  int64  \n",
      " 2   tour_wk      11804 non-null  object \n",
      " 3   t_name       11804 non-null  object \n",
      " 4   t_country    11804 non-null  object \n",
      " 5   t_surf       11804 non-null  object \n",
      " 6   t_indoor     11804 non-null  int64  \n",
      " 7   t_alt        11804 non-null  int64  \n",
      " 8   t_lvl        11804 non-null  int64  \n",
      " 9   t_draw_size  11804 non-null  int64  \n",
      " 10  m_num        11804 non-null  int64  \n",
      " 11  t_round      11804 non-null  object \n",
      " 12  t_round_num  11804 non-null  int64  \n",
      " 13  m_best_of    11804 non-null  int64  \n",
      " 14  m_score      11804 non-null  object \n",
      " 15  m_time(m)    11804 non-null  float64\n",
      " 16  w_id         11804 non-null  int64  \n",
      " 17  w_name       11804 non-null  object \n",
      " 18  w_rank       11798 non-null  float64\n",
      " 19  w_rank_pts   11798 non-null  float64\n",
      " 20  w_ioc        11804 non-null  object \n",
      " 21  w_ent        11804 non-null  float64\n",
      " 22  w_hd         11804 non-null  object \n",
      " 23  w_ht         11804 non-null  float64\n",
      " 24  w_age        11804 non-null  float64\n",
      " 25  w_svpt       11804 non-null  float64\n",
      " 26  w_1stWon     11804 non-null  float64\n",
      " 27  w_2ndWon     11804 non-null  float64\n",
      " 28  w_SvGms      11804 non-null  float64\n",
      " 29  w_ace        11804 non-null  float64\n",
      " 30  w_bpSaved    11804 non-null  float64\n",
      " 31  w_bpFaced    11804 non-null  float64\n",
      " 32  l_id         11804 non-null  int64  \n",
      " 33  l_name       11804 non-null  object \n",
      " 34  l_rank       11773 non-null  float64\n",
      " 35  l_rank_pts   11773 non-null  float64\n",
      " 36  l_ioc        11804 non-null  object \n",
      " 37  l_ent        11804 non-null  float64\n",
      " 38  l_hd         11804 non-null  object \n",
      " 39  l_ht         11804 non-null  float64\n",
      " 40  l_age        11804 non-null  float64\n",
      " 41  l_svpt       11804 non-null  float64\n",
      " 42  l_1stWon     11804 non-null  float64\n",
      " 43  l_2ndWon     11804 non-null  float64\n",
      " 44  l_SvGms      11804 non-null  float64\n",
      " 45  l_ace        11804 non-null  float64\n",
      " 46  l_bpSaved    11804 non-null  float64\n",
      " 47  l_bpFaced    11804 non-null  float64\n",
      " 48  AvgW_IP_NV   11753 non-null  float64\n",
      " 49  AvgL_IP_NV   11753 non-null  float64\n",
      "dtypes: float64(27), int64(10), object(13)\n",
      "memory usage: 4.5+ MB\n"
     ]
    }
   ],
   "source": [
    "df.info()"
   ]
  },
  {
   "cell_type": "code",
   "execution_count": 6,
   "id": "ac021d06",
   "metadata": {},
   "outputs": [
    {
     "data": {
      "text/html": [
       "<div>\n",
       "<style scoped>\n",
       "    .dataframe tbody tr th:only-of-type {\n",
       "        vertical-align: middle;\n",
       "    }\n",
       "\n",
       "    .dataframe tbody tr th {\n",
       "        vertical-align: top;\n",
       "    }\n",
       "\n",
       "    .dataframe thead th {\n",
       "        text-align: right;\n",
       "    }\n",
       "</style>\n",
       "<table border=\"1\" class=\"dataframe\">\n",
       "  <thead>\n",
       "    <tr style=\"text-align: right;\">\n",
       "      <th></th>\n",
       "      <th>t_id</th>\n",
       "      <th>t_date</th>\n",
       "      <th>tour_wk</th>\n",
       "      <th>t_name</th>\n",
       "      <th>t_country</th>\n",
       "      <th>t_surf</th>\n",
       "      <th>t_indoor</th>\n",
       "      <th>t_alt</th>\n",
       "      <th>t_lvl</th>\n",
       "      <th>t_draw_size</th>\n",
       "      <th>...</th>\n",
       "      <th>l_age</th>\n",
       "      <th>l_svpt</th>\n",
       "      <th>l_1stWon</th>\n",
       "      <th>l_2ndWon</th>\n",
       "      <th>l_SvGms</th>\n",
       "      <th>l_ace</th>\n",
       "      <th>l_bpSaved</th>\n",
       "      <th>l_bpFaced</th>\n",
       "      <th>AvgW_IP_NV</th>\n",
       "      <th>AvgL_IP_NV</th>\n",
       "    </tr>\n",
       "  </thead>\n",
       "  <tbody>\n",
       "    <tr>\n",
       "      <th>0</th>\n",
       "      <td>2019-6242</td>\n",
       "      <td>20190819</td>\n",
       "      <td>2019_23</td>\n",
       "      <td>Winston-Salem</td>\n",
       "      <td>USA</td>\n",
       "      <td>Hard</td>\n",
       "      <td>0</td>\n",
       "      <td>0</td>\n",
       "      <td>1</td>\n",
       "      <td>64</td>\n",
       "      <td>...</td>\n",
       "      <td>32.92</td>\n",
       "      <td>38.0</td>\n",
       "      <td>8.0</td>\n",
       "      <td>2.0</td>\n",
       "      <td>6.0</td>\n",
       "      <td>0.0</td>\n",
       "      <td>5.0</td>\n",
       "      <td>11.0</td>\n",
       "      <td>90.75</td>\n",
       "      <td>9.25</td>\n",
       "    </tr>\n",
       "    <tr>\n",
       "      <th>1</th>\n",
       "      <td>2019-7485</td>\n",
       "      <td>20191014</td>\n",
       "      <td>2019_29</td>\n",
       "      <td>Antwerp</td>\n",
       "      <td>BEL</td>\n",
       "      <td>Hard</td>\n",
       "      <td>1</td>\n",
       "      <td>0</td>\n",
       "      <td>1</td>\n",
       "      <td>32</td>\n",
       "      <td>...</td>\n",
       "      <td>25.66</td>\n",
       "      <td>56.0</td>\n",
       "      <td>16.0</td>\n",
       "      <td>9.0</td>\n",
       "      <td>8.0</td>\n",
       "      <td>4.0</td>\n",
       "      <td>2.0</td>\n",
       "      <td>7.0</td>\n",
       "      <td>60.61</td>\n",
       "      <td>39.39</td>\n",
       "    </tr>\n",
       "    <tr>\n",
       "      <th>2</th>\n",
       "      <td>2019-0375</td>\n",
       "      <td>20190204</td>\n",
       "      <td>2019_04</td>\n",
       "      <td>Montpellier</td>\n",
       "      <td>FRA</td>\n",
       "      <td>Hard</td>\n",
       "      <td>1</td>\n",
       "      <td>0</td>\n",
       "      <td>1</td>\n",
       "      <td>32</td>\n",
       "      <td>...</td>\n",
       "      <td>33.27</td>\n",
       "      <td>41.0</td>\n",
       "      <td>11.0</td>\n",
       "      <td>6.0</td>\n",
       "      <td>7.0</td>\n",
       "      <td>2.0</td>\n",
       "      <td>2.0</td>\n",
       "      <td>7.0</td>\n",
       "      <td>69.68</td>\n",
       "      <td>30.32</td>\n",
       "    </tr>\n",
       "    <tr>\n",
       "      <th>3</th>\n",
       "      <td>2019-M020</td>\n",
       "      <td>20181231</td>\n",
       "      <td>2019_01</td>\n",
       "      <td>Brisbane</td>\n",
       "      <td>AUS</td>\n",
       "      <td>Hard</td>\n",
       "      <td>0</td>\n",
       "      <td>0</td>\n",
       "      <td>1</td>\n",
       "      <td>32</td>\n",
       "      <td>...</td>\n",
       "      <td>29.45</td>\n",
       "      <td>43.0</td>\n",
       "      <td>16.0</td>\n",
       "      <td>2.0</td>\n",
       "      <td>7.0</td>\n",
       "      <td>4.0</td>\n",
       "      <td>4.0</td>\n",
       "      <td>8.0</td>\n",
       "      <td>77.74</td>\n",
       "      <td>22.26</td>\n",
       "    </tr>\n",
       "    <tr>\n",
       "      <th>4</th>\n",
       "      <td>2019-560</td>\n",
       "      <td>20190826</td>\n",
       "      <td>2019_24</td>\n",
       "      <td>US Open</td>\n",
       "      <td>USA</td>\n",
       "      <td>Hard</td>\n",
       "      <td>0</td>\n",
       "      <td>0</td>\n",
       "      <td>4</td>\n",
       "      <td>128</td>\n",
       "      <td>...</td>\n",
       "      <td>29.57</td>\n",
       "      <td>33.0</td>\n",
       "      <td>9.0</td>\n",
       "      <td>4.0</td>\n",
       "      <td>6.0</td>\n",
       "      <td>2.0</td>\n",
       "      <td>3.0</td>\n",
       "      <td>7.0</td>\n",
       "      <td>91.09</td>\n",
       "      <td>8.91</td>\n",
       "    </tr>\n",
       "  </tbody>\n",
       "</table>\n",
       "<p>5 rows × 50 columns</p>\n",
       "</div>"
      ],
      "text/plain": [
       "        t_id    t_date  tour_wk         t_name t_country t_surf  t_indoor  \\\n",
       "0  2019-6242  20190819  2019_23  Winston-Salem       USA   Hard         0   \n",
       "1  2019-7485  20191014  2019_29        Antwerp       BEL   Hard         1   \n",
       "2  2019-0375  20190204  2019_04    Montpellier       FRA   Hard         1   \n",
       "3  2019-M020  20181231  2019_01       Brisbane       AUS   Hard         0   \n",
       "4   2019-560  20190826  2019_24        US Open       USA   Hard         0   \n",
       "\n",
       "   t_alt  t_lvl  t_draw_size  ...  l_age l_svpt  l_1stWon  l_2ndWon l_SvGms  \\\n",
       "0      0      1           64  ...  32.92   38.0       8.0       2.0     6.0   \n",
       "1      0      1           32  ...  25.66   56.0      16.0       9.0     8.0   \n",
       "2      0      1           32  ...  33.27   41.0      11.0       6.0     7.0   \n",
       "3      0      1           32  ...  29.45   43.0      16.0       2.0     7.0   \n",
       "4      0      4          128  ...  29.57   33.0       9.0       4.0     6.0   \n",
       "\n",
       "   l_ace  l_bpSaved l_bpFaced  AvgW_IP_NV  AvgL_IP_NV  \n",
       "0    0.0        5.0      11.0       90.75        9.25  \n",
       "1    4.0        2.0       7.0       60.61       39.39  \n",
       "2    2.0        2.0       7.0       69.68       30.32  \n",
       "3    4.0        4.0       8.0       77.74       22.26  \n",
       "4    2.0        3.0       7.0       91.09        8.91  \n",
       "\n",
       "[5 rows x 50 columns]"
      ]
     },
     "execution_count": 6,
     "metadata": {},
     "output_type": "execute_result"
    }
   ],
   "source": [
    "df.head()"
   ]
  },
  {
   "cell_type": "markdown",
   "id": "5cc47313",
   "metadata": {},
   "source": [
    "#### dataframe in by-match organization (first iteration)"
   ]
  },
  {
   "cell_type": "markdown",
   "id": "09560dc6",
   "metadata": {},
   "source": [
    "### Target Feature Creation: % Pts Won By Player in a Given Match"
   ]
  },
  {
   "cell_type": "code",
   "execution_count": 7,
   "id": "388d4d2c",
   "metadata": {},
   "outputs": [],
   "source": [
    "# Creation of target feature for each player in a given match: proportionalizing points played in the match appropriately between the two players.\n",
    "df[\"w_pts_won%\"] = round(((df[\"w_1stWon\"] + df[\"w_2ndWon\"] + (df[\"l_svpt\"] - (df[\"l_1stWon\"] + df[\"l_2ndWon\"])))/ (df[\"w_svpt\"] + df[\"l_svpt\"]))*100, 2)\n",
    "\n",
    "# Loser % pts won is simply 100 - w % pts won\n",
    "df[\"l_pts_won%\"] = 100 - df[\"w_pts_won%\"]"
   ]
  },
  {
   "cell_type": "code",
   "execution_count": 8,
   "id": "5f4e35eb",
   "metadata": {},
   "outputs": [],
   "source": [
    "# Target broken down into serving and returning \n",
    "\n",
    "# Winner % Serve pts won\n",
    "df[\"w_sv_pts_won%\"] = round((df[\"w_1stWon\"] + df[\"w_2ndWon\"]) / df[\"w_svpt\"]*100,2)\n",
    "\n",
    "# Winner % Return pts won\n",
    "df[\"w_ret_pts_won%\"] =round(((df[\"l_svpt\"] - (df[\"l_1stWon\"] + df[\"l_2ndWon\"]))/df[\"l_svpt\"])*100,2)\n",
    "\n",
    "# Loser % Serve pts won\n",
    "df[\"l_sv_pts_won%\"] = round((df[\"l_1stWon\"] + df[\"l_2ndWon\"]) / df[\"l_svpt\"]*100,2)\n",
    "\n",
    "# Loser % Return pts won\n",
    "df[\"l_ret_pts_won%\"] =round(((df[\"w_svpt\"] - (df[\"w_1stWon\"] + df[\"w_2ndWon\"]))/df[\"w_svpt\"])*100,2)"
   ]
  },
  {
   "cell_type": "code",
   "execution_count": 9,
   "id": "4738fe0f",
   "metadata": {},
   "outputs": [],
   "source": [
    "# Not a target feature, but useful for generating predictive features: Total Points Played In Match\n",
    "df[\"tot_pts\"] = df[\"l_svpt\"] + df[\"w_svpt\"]"
   ]
  },
  {
   "cell_type": "markdown",
   "id": "43c578d2",
   "metadata": {},
   "source": [
    "#### dataframe in by-player organization (first iteration)"
   ]
  },
  {
   "cell_type": "code",
   "execution_count": 10,
   "id": "d1619032",
   "metadata": {},
   "outputs": [
    {
     "name": "stdout",
     "output_type": "stream",
     "text": [
      "<class 'pandas.core.frame.DataFrame'>\n",
      "RangeIndex: 11804 entries, 0 to 11803\n",
      "Data columns (total 57 columns):\n",
      " #   Column          Non-Null Count  Dtype  \n",
      "---  ------          --------------  -----  \n",
      " 0   t_id            11804 non-null  object \n",
      " 1   t_date          11804 non-null  int64  \n",
      " 2   tour_wk         11804 non-null  object \n",
      " 3   t_name          11804 non-null  object \n",
      " 4   t_country       11804 non-null  object \n",
      " 5   t_surf          11804 non-null  object \n",
      " 6   t_indoor        11804 non-null  int64  \n",
      " 7   t_alt           11804 non-null  int64  \n",
      " 8   t_lvl           11804 non-null  int64  \n",
      " 9   t_draw_size     11804 non-null  int64  \n",
      " 10  m_num           11804 non-null  int64  \n",
      " 11  t_round         11804 non-null  object \n",
      " 12  t_round_num     11804 non-null  int64  \n",
      " 13  m_best_of       11804 non-null  int64  \n",
      " 14  m_score         11804 non-null  object \n",
      " 15  m_time(m)       11804 non-null  float64\n",
      " 16  w_id            11804 non-null  int64  \n",
      " 17  w_name          11804 non-null  object \n",
      " 18  w_rank          11798 non-null  float64\n",
      " 19  w_rank_pts      11798 non-null  float64\n",
      " 20  w_ioc           11804 non-null  object \n",
      " 21  w_ent           11804 non-null  float64\n",
      " 22  w_hd            11804 non-null  object \n",
      " 23  w_ht            11804 non-null  float64\n",
      " 24  w_age           11804 non-null  float64\n",
      " 25  w_svpt          11804 non-null  float64\n",
      " 26  w_1stWon        11804 non-null  float64\n",
      " 27  w_2ndWon        11804 non-null  float64\n",
      " 28  w_SvGms         11804 non-null  float64\n",
      " 29  w_ace           11804 non-null  float64\n",
      " 30  w_bpSaved       11804 non-null  float64\n",
      " 31  w_bpFaced       11804 non-null  float64\n",
      " 32  l_id            11804 non-null  int64  \n",
      " 33  l_name          11804 non-null  object \n",
      " 34  l_rank          11773 non-null  float64\n",
      " 35  l_rank_pts      11773 non-null  float64\n",
      " 36  l_ioc           11804 non-null  object \n",
      " 37  l_ent           11804 non-null  float64\n",
      " 38  l_hd            11804 non-null  object \n",
      " 39  l_ht            11804 non-null  float64\n",
      " 40  l_age           11804 non-null  float64\n",
      " 41  l_svpt          11804 non-null  float64\n",
      " 42  l_1stWon        11804 non-null  float64\n",
      " 43  l_2ndWon        11804 non-null  float64\n",
      " 44  l_SvGms         11804 non-null  float64\n",
      " 45  l_ace           11804 non-null  float64\n",
      " 46  l_bpSaved       11804 non-null  float64\n",
      " 47  l_bpFaced       11804 non-null  float64\n",
      " 48  AvgW_IP_NV      11753 non-null  float64\n",
      " 49  AvgL_IP_NV      11753 non-null  float64\n",
      " 50  w_pts_won%      11804 non-null  float64\n",
      " 51  l_pts_won%      11804 non-null  float64\n",
      " 52  w_sv_pts_won%   11804 non-null  float64\n",
      " 53  w_ret_pts_won%  11804 non-null  float64\n",
      " 54  l_sv_pts_won%   11804 non-null  float64\n",
      " 55  l_ret_pts_won%  11804 non-null  float64\n",
      " 56  tot_pts         11804 non-null  float64\n",
      "dtypes: float64(34), int64(10), object(13)\n",
      "memory usage: 5.1+ MB\n"
     ]
    }
   ],
   "source": [
    "df.info()"
   ]
  },
  {
   "cell_type": "markdown",
   "id": "e3beb827",
   "metadata": {},
   "source": [
    "### Retrospective, Surface-Specific Performance Prediction Features by Player per Match"
   ]
  },
  {
   "cell_type": "markdown",
   "id": "f8fcdd62",
   "metadata": {},
   "source": [
    "The goal in this section is to generate, for a given player relative to a given match to be played, backward-looking predictors of performance in the match to be predicted on. A number of early experiments (including feedback from EDA and simple modeling) I conducted with integration windows and various decay weights have driven me to land on the values currently present here (though more optimization surely will follow in post-complex modeling iterations)."
   ]
  },
  {
   "cell_type": "code",
   "execution_count": 11,
   "id": "8dc4ec31",
   "metadata": {},
   "outputs": [],
   "source": [
    "df_winners = df.drop([\"l_name\", \"l_rank\", \"l_rank_pts\", \"l_ioc\", \"l_ent\", \"l_hd\", \"l_ht\", \"l_age\", \"l_1stWon\", \"l_2ndWon\", \"l_SvGms\", \"l_pts_won%\", \"l_sv_pts_won%\", \"l_ret_pts_won%\", \"AvgL_IP_NV\"], axis = 1)\n",
    "df_winners[\"m_outcome\"] = 1\n",
    "df_losers =  df.drop([\"w_name\", \"w_rank\", \"w_rank_pts\", \"w_ioc\", \"w_ent\", \"w_hd\", \"w_ht\", \"w_age\", \"w_1stWon\", \"w_2ndWon\", \"w_SvGms\", \"w_pts_won%\", \"w_sv_pts_won%\", \"w_ret_pts_won%\", \"AvgW_IP_NV\"], axis = 1)\n",
    "df_losers[\"m_outcome\"] = 0"
   ]
  },
  {
   "cell_type": "code",
   "execution_count": 12,
   "id": "1884957d",
   "metadata": {},
   "outputs": [
    {
     "name": "stdout",
     "output_type": "stream",
     "text": [
      "<class 'pandas.core.frame.DataFrame'>\n",
      "RangeIndex: 11804 entries, 0 to 11803\n",
      "Data columns (total 43 columns):\n",
      " #   Column          Non-Null Count  Dtype  \n",
      "---  ------          --------------  -----  \n",
      " 0   t_id            11804 non-null  object \n",
      " 1   t_date          11804 non-null  int64  \n",
      " 2   tour_wk         11804 non-null  object \n",
      " 3   t_name          11804 non-null  object \n",
      " 4   t_country       11804 non-null  object \n",
      " 5   t_surf          11804 non-null  object \n",
      " 6   t_indoor        11804 non-null  int64  \n",
      " 7   t_alt           11804 non-null  int64  \n",
      " 8   t_lvl           11804 non-null  int64  \n",
      " 9   t_draw_size     11804 non-null  int64  \n",
      " 10  m_num           11804 non-null  int64  \n",
      " 11  t_round         11804 non-null  object \n",
      " 12  t_round_num     11804 non-null  int64  \n",
      " 13  m_best_of       11804 non-null  int64  \n",
      " 14  m_score         11804 non-null  object \n",
      " 15  m_time(m)       11804 non-null  float64\n",
      " 16  w_id            11804 non-null  int64  \n",
      " 17  w_name          11804 non-null  object \n",
      " 18  w_rank          11798 non-null  float64\n",
      " 19  w_rank_pts      11798 non-null  float64\n",
      " 20  w_ioc           11804 non-null  object \n",
      " 21  w_ent           11804 non-null  float64\n",
      " 22  w_hd            11804 non-null  object \n",
      " 23  w_ht            11804 non-null  float64\n",
      " 24  w_age           11804 non-null  float64\n",
      " 25  w_svpt          11804 non-null  float64\n",
      " 26  w_1stWon        11804 non-null  float64\n",
      " 27  w_2ndWon        11804 non-null  float64\n",
      " 28  w_SvGms         11804 non-null  float64\n",
      " 29  w_ace           11804 non-null  float64\n",
      " 30  w_bpSaved       11804 non-null  float64\n",
      " 31  w_bpFaced       11804 non-null  float64\n",
      " 32  l_id            11804 non-null  int64  \n",
      " 33  l_svpt          11804 non-null  float64\n",
      " 34  l_ace           11804 non-null  float64\n",
      " 35  l_bpSaved       11804 non-null  float64\n",
      " 36  l_bpFaced       11804 non-null  float64\n",
      " 37  AvgW_IP_NV      11753 non-null  float64\n",
      " 38  w_pts_won%      11804 non-null  float64\n",
      " 39  w_sv_pts_won%   11804 non-null  float64\n",
      " 40  w_ret_pts_won%  11804 non-null  float64\n",
      " 41  tot_pts         11804 non-null  float64\n",
      " 42  m_outcome       11804 non-null  int64  \n",
      "dtypes: float64(22), int64(11), object(10)\n",
      "memory usage: 3.9+ MB\n"
     ]
    }
   ],
   "source": [
    "df_winners.info()"
   ]
  },
  {
   "cell_type": "code",
   "execution_count": 13,
   "id": "76a4a7cd",
   "metadata": {},
   "outputs": [
    {
     "name": "stdout",
     "output_type": "stream",
     "text": [
      "<class 'pandas.core.frame.DataFrame'>\n",
      "RangeIndex: 11804 entries, 0 to 11803\n",
      "Data columns (total 43 columns):\n",
      " #   Column          Non-Null Count  Dtype  \n",
      "---  ------          --------------  -----  \n",
      " 0   t_id            11804 non-null  object \n",
      " 1   t_date          11804 non-null  int64  \n",
      " 2   tour_wk         11804 non-null  object \n",
      " 3   t_name          11804 non-null  object \n",
      " 4   t_country       11804 non-null  object \n",
      " 5   t_surf          11804 non-null  object \n",
      " 6   t_indoor        11804 non-null  int64  \n",
      " 7   t_alt           11804 non-null  int64  \n",
      " 8   t_lvl           11804 non-null  int64  \n",
      " 9   t_draw_size     11804 non-null  int64  \n",
      " 10  m_num           11804 non-null  int64  \n",
      " 11  t_round         11804 non-null  object \n",
      " 12  t_round_num     11804 non-null  int64  \n",
      " 13  m_best_of       11804 non-null  int64  \n",
      " 14  m_score         11804 non-null  object \n",
      " 15  m_time(m)       11804 non-null  float64\n",
      " 16  w_id            11804 non-null  int64  \n",
      " 17  w_svpt          11804 non-null  float64\n",
      " 18  w_ace           11804 non-null  float64\n",
      " 19  w_bpSaved       11804 non-null  float64\n",
      " 20  w_bpFaced       11804 non-null  float64\n",
      " 21  l_id            11804 non-null  int64  \n",
      " 22  l_name          11804 non-null  object \n",
      " 23  l_rank          11773 non-null  float64\n",
      " 24  l_rank_pts      11773 non-null  float64\n",
      " 25  l_ioc           11804 non-null  object \n",
      " 26  l_ent           11804 non-null  float64\n",
      " 27  l_hd            11804 non-null  object \n",
      " 28  l_ht            11804 non-null  float64\n",
      " 29  l_age           11804 non-null  float64\n",
      " 30  l_svpt          11804 non-null  float64\n",
      " 31  l_1stWon        11804 non-null  float64\n",
      " 32  l_2ndWon        11804 non-null  float64\n",
      " 33  l_SvGms         11804 non-null  float64\n",
      " 34  l_ace           11804 non-null  float64\n",
      " 35  l_bpSaved       11804 non-null  float64\n",
      " 36  l_bpFaced       11804 non-null  float64\n",
      " 37  AvgL_IP_NV      11753 non-null  float64\n",
      " 38  l_pts_won%      11804 non-null  float64\n",
      " 39  l_sv_pts_won%   11804 non-null  float64\n",
      " 40  l_ret_pts_won%  11804 non-null  float64\n",
      " 41  tot_pts         11804 non-null  float64\n",
      " 42  m_outcome       11804 non-null  int64  \n",
      "dtypes: float64(22), int64(11), object(10)\n",
      "memory usage: 3.9+ MB\n"
     ]
    }
   ],
   "source": [
    "df_losers.info()"
   ]
  },
  {
   "cell_type": "code",
   "execution_count": 14,
   "id": "9748465c",
   "metadata": {},
   "outputs": [],
   "source": [
    "# Split out winners and losers from by-match organization and concatenate into a per player organization\n",
    "df_winners = df_winners.set_axis([\"t_id\", \"t_date\", \"tour_wk\", \"t_name\", \"t_country\", \"t_surf\", \"t_indoor\", \"t_alt\", \"t_lvl\", \"t_draw_size\", \"m_num\", \"t_round\", \"t_rd_num\", \"m_best_of\", \"m_score\", \"m_time(m)\", \"p_id\", \"p_name\",\"p_rank\", \"p_rank_pts\", \"p_country\", \"p_ent\", \"p_hd\", \"p_ht\", \"p_age\", \"p_svpt\", \"p_1stWon\",\"p_2ndWon\",\"p_SvGms\",\"p_ace\",\"p_bpSaved\",\"p_bpFaced\",\"opp_id\",\"opp_svpt\",\"opp_ace\",\"opp_bpSaved\",\"opp_bpFaced\", \"p_IP_NV\",\"p_pts_won%\",\"p_sv_pts_won%\",\"p_ret_pts_won%\", \"m_tot_pts\", \"m_outcome\"], axis=1)\n",
    "df_losers = df_losers.set_axis([\"t_id\", \"t_date\", \"tour_wk\", \"t_name\", \"t_country\", \"t_surf\", \"t_indoor\", \"t_alt\", \"t_lvl\", \"t_draw_size\", \"m_num\", \"t_round\", \"t_rd_num\", \"m_best_of\", \"m_score\", \"m_time(m)\", \"opp_id\", \"opp_svpt\",\"opp_ace\",\"opp_bpSaved\",\"opp_bpFaced\",\"p_id\",\"p_name\",\"p_rank\", \"p_rank_pts\", \"p_country\", \"p_ent\", \"p_hd\", \"p_ht\", \"p_age\", \"p_svpt\", \"p_1stWon\",\"p_2ndWon\",\"p_SvGms\", \"p_ace\",\"p_bpSaved\",\"p_bpFaced\",\"p_IP_NV\",\"p_pts_won%\",\"p_sv_pts_won%\",\"p_ret_pts_won%\", \"m_tot_pts\", \"m_outcome\"], axis=1)\n",
    "df_player1 = pd.concat([df_winners, df_losers], ignore_index=True)\n",
    "df_player1 = df_player1.sort_values(by=['p_id','tour_wk','t_rd_num'], ascending = False)"
   ]
  },
  {
   "cell_type": "markdown",
   "id": "0191deee",
   "metadata": {},
   "source": [
    "Generated below are a number of retrospective (relative to the match being predicted on) predictive performance features. Aggregations are surface specific in this workstream (though some filtering components remain in the code form the cross-surface workbook at this stage of analysis in the original Tennis Prediction Project)."
   ]
  },
  {
   "cell_type": "code",
   "execution_count": 15,
   "id": "9b7d1704",
   "metadata": {},
   "outputs": [],
   "source": [
    "#Sorting as such helps visually verify the complicated, backward-looking stat accrual calculations we will make below\n",
    "df_player1 = df_player1.sort_values(by=['p_id','tour_wk','t_rd_num'], ascending = False)"
   ]
  },
  {
   "cell_type": "code",
   "execution_count": 16,
   "id": "6845e9de",
   "metadata": {},
   "outputs": [
    {
     "data": {
      "text/html": [
       "<div>\n",
       "<style scoped>\n",
       "    .dataframe tbody tr th:only-of-type {\n",
       "        vertical-align: middle;\n",
       "    }\n",
       "\n",
       "    .dataframe tbody tr th {\n",
       "        vertical-align: top;\n",
       "    }\n",
       "\n",
       "    .dataframe thead th {\n",
       "        text-align: right;\n",
       "    }\n",
       "</style>\n",
       "<table border=\"1\" class=\"dataframe\">\n",
       "  <thead>\n",
       "    <tr style=\"text-align: right;\">\n",
       "      <th></th>\n",
       "      <th>t_id</th>\n",
       "      <th>t_date</th>\n",
       "      <th>tour_wk</th>\n",
       "      <th>t_name</th>\n",
       "      <th>t_country</th>\n",
       "      <th>t_surf</th>\n",
       "      <th>t_indoor</th>\n",
       "      <th>t_alt</th>\n",
       "      <th>t_lvl</th>\n",
       "      <th>t_draw_size</th>\n",
       "      <th>...</th>\n",
       "      <th>opp_svpt</th>\n",
       "      <th>opp_ace</th>\n",
       "      <th>opp_bpSaved</th>\n",
       "      <th>opp_bpFaced</th>\n",
       "      <th>p_IP_NV</th>\n",
       "      <th>p_pts_won%</th>\n",
       "      <th>p_sv_pts_won%</th>\n",
       "      <th>p_ret_pts_won%</th>\n",
       "      <th>m_tot_pts</th>\n",
       "      <th>m_outcome</th>\n",
       "    </tr>\n",
       "  </thead>\n",
       "  <tbody>\n",
       "    <tr>\n",
       "      <th>13288</th>\n",
       "      <td>2019-560</td>\n",
       "      <td>20190826</td>\n",
       "      <td>2019_24</td>\n",
       "      <td>US Open</td>\n",
       "      <td>USA</td>\n",
       "      <td>Hard</td>\n",
       "      <td>0</td>\n",
       "      <td>0</td>\n",
       "      <td>4</td>\n",
       "      <td>128</td>\n",
       "      <td>...</td>\n",
       "      <td>164.0</td>\n",
       "      <td>6.0</td>\n",
       "      <td>9.0</td>\n",
       "      <td>16.0</td>\n",
       "      <td>10.32</td>\n",
       "      <td>47.84</td>\n",
       "      <td>56.28</td>\n",
       "      <td>38.41</td>\n",
       "      <td>347.0</td>\n",
       "      <td>0</td>\n",
       "    </tr>\n",
       "    <tr>\n",
       "      <th>12652</th>\n",
       "      <td>2019-M014</td>\n",
       "      <td>20191014</td>\n",
       "      <td>2019_29</td>\n",
       "      <td>Moscow</td>\n",
       "      <td>RUS</td>\n",
       "      <td>Hard</td>\n",
       "      <td>1</td>\n",
       "      <td>0</td>\n",
       "      <td>1</td>\n",
       "      <td>32</td>\n",
       "      <td>...</td>\n",
       "      <td>72.0</td>\n",
       "      <td>11.0</td>\n",
       "      <td>3.0</td>\n",
       "      <td>5.0</td>\n",
       "      <td>29.19</td>\n",
       "      <td>41.29</td>\n",
       "      <td>49.40</td>\n",
       "      <td>31.94</td>\n",
       "      <td>155.0</td>\n",
       "      <td>0</td>\n",
       "    </tr>\n",
       "    <tr>\n",
       "      <th>11817</th>\n",
       "      <td>2019-M004</td>\n",
       "      <td>20190225</td>\n",
       "      <td>2019_07</td>\n",
       "      <td>Acapulco</td>\n",
       "      <td>MEX</td>\n",
       "      <td>Hard</td>\n",
       "      <td>0</td>\n",
       "      <td>0</td>\n",
       "      <td>1</td>\n",
       "      <td>32</td>\n",
       "      <td>...</td>\n",
       "      <td>40.0</td>\n",
       "      <td>2.0</td>\n",
       "      <td>0.0</td>\n",
       "      <td>0.0</td>\n",
       "      <td>10.48</td>\n",
       "      <td>37.23</td>\n",
       "      <td>51.85</td>\n",
       "      <td>17.50</td>\n",
       "      <td>94.0</td>\n",
       "      <td>0</td>\n",
       "    </tr>\n",
       "    <tr>\n",
       "      <th>108</th>\n",
       "      <td>2019-7696</td>\n",
       "      <td>20191105</td>\n",
       "      <td>2019_33</td>\n",
       "      <td>NextGen Finals</td>\n",
       "      <td>ITA</td>\n",
       "      <td>Hard</td>\n",
       "      <td>1</td>\n",
       "      <td>0</td>\n",
       "      <td>3</td>\n",
       "      <td>8</td>\n",
       "      <td>...</td>\n",
       "      <td>41.0</td>\n",
       "      <td>2.0</td>\n",
       "      <td>5.0</td>\n",
       "      <td>8.0</td>\n",
       "      <td>NaN</td>\n",
       "      <td>59.14</td>\n",
       "      <td>69.23</td>\n",
       "      <td>46.34</td>\n",
       "      <td>93.0</td>\n",
       "      <td>1</td>\n",
       "    </tr>\n",
       "    <tr>\n",
       "      <th>311</th>\n",
       "      <td>2019-7696</td>\n",
       "      <td>20191105</td>\n",
       "      <td>2019_33</td>\n",
       "      <td>NextGen Finals</td>\n",
       "      <td>ITA</td>\n",
       "      <td>Hard</td>\n",
       "      <td>1</td>\n",
       "      <td>0</td>\n",
       "      <td>3</td>\n",
       "      <td>8</td>\n",
       "      <td>...</td>\n",
       "      <td>58.0</td>\n",
       "      <td>2.0</td>\n",
       "      <td>5.0</td>\n",
       "      <td>8.0</td>\n",
       "      <td>NaN</td>\n",
       "      <td>53.66</td>\n",
       "      <td>70.77</td>\n",
       "      <td>34.48</td>\n",
       "      <td>123.0</td>\n",
       "      <td>1</td>\n",
       "    </tr>\n",
       "    <tr>\n",
       "      <th>12575</th>\n",
       "      <td>2019-7696</td>\n",
       "      <td>20191105</td>\n",
       "      <td>2019_33</td>\n",
       "      <td>NextGen Finals</td>\n",
       "      <td>ITA</td>\n",
       "      <td>Hard</td>\n",
       "      <td>1</td>\n",
       "      <td>0</td>\n",
       "      <td>3</td>\n",
       "      <td>8</td>\n",
       "      <td>...</td>\n",
       "      <td>77.0</td>\n",
       "      <td>11.0</td>\n",
       "      <td>3.0</td>\n",
       "      <td>4.0</td>\n",
       "      <td>NaN</td>\n",
       "      <td>50.00</td>\n",
       "      <td>69.33</td>\n",
       "      <td>31.17</td>\n",
       "      <td>152.0</td>\n",
       "      <td>0</td>\n",
       "    </tr>\n",
       "    <tr>\n",
       "      <th>33</th>\n",
       "      <td>2019-7696</td>\n",
       "      <td>20191105</td>\n",
       "      <td>2019_33</td>\n",
       "      <td>NextGen Finals</td>\n",
       "      <td>ITA</td>\n",
       "      <td>Hard</td>\n",
       "      <td>1</td>\n",
       "      <td>0</td>\n",
       "      <td>3</td>\n",
       "      <td>8</td>\n",
       "      <td>...</td>\n",
       "      <td>44.0</td>\n",
       "      <td>2.0</td>\n",
       "      <td>4.0</td>\n",
       "      <td>8.0</td>\n",
       "      <td>NaN</td>\n",
       "      <td>62.50</td>\n",
       "      <td>72.73</td>\n",
       "      <td>52.27</td>\n",
       "      <td>88.0</td>\n",
       "      <td>1</td>\n",
       "    </tr>\n",
       "    <tr>\n",
       "      <th>487</th>\n",
       "      <td>2019-7696</td>\n",
       "      <td>20191105</td>\n",
       "      <td>2019_33</td>\n",
       "      <td>NextGen Finals</td>\n",
       "      <td>ITA</td>\n",
       "      <td>Hard</td>\n",
       "      <td>1</td>\n",
       "      <td>0</td>\n",
       "      <td>3</td>\n",
       "      <td>8</td>\n",
       "      <td>...</td>\n",
       "      <td>69.0</td>\n",
       "      <td>7.0</td>\n",
       "      <td>2.0</td>\n",
       "      <td>5.0</td>\n",
       "      <td>NaN</td>\n",
       "      <td>52.14</td>\n",
       "      <td>71.83</td>\n",
       "      <td>31.88</td>\n",
       "      <td>140.0</td>\n",
       "      <td>1</td>\n",
       "    </tr>\n",
       "    <tr>\n",
       "      <th>12269</th>\n",
       "      <td>2019-0337</td>\n",
       "      <td>20191021</td>\n",
       "      <td>2019_30</td>\n",
       "      <td>Vienna</td>\n",
       "      <td>AUT</td>\n",
       "      <td>Hard</td>\n",
       "      <td>1</td>\n",
       "      <td>0</td>\n",
       "      <td>1</td>\n",
       "      <td>32</td>\n",
       "      <td>...</td>\n",
       "      <td>79.0</td>\n",
       "      <td>17.0</td>\n",
       "      <td>3.0</td>\n",
       "      <td>3.0</td>\n",
       "      <td>48.95</td>\n",
       "      <td>47.33</td>\n",
       "      <td>66.20</td>\n",
       "      <td>30.38</td>\n",
       "      <td>150.0</td>\n",
       "      <td>0</td>\n",
       "    </tr>\n",
       "    <tr>\n",
       "      <th>559</th>\n",
       "      <td>2019-0337</td>\n",
       "      <td>20191021</td>\n",
       "      <td>2019_30</td>\n",
       "      <td>Vienna</td>\n",
       "      <td>AUT</td>\n",
       "      <td>Hard</td>\n",
       "      <td>1</td>\n",
       "      <td>0</td>\n",
       "      <td>1</td>\n",
       "      <td>32</td>\n",
       "      <td>...</td>\n",
       "      <td>62.0</td>\n",
       "      <td>8.0</td>\n",
       "      <td>6.0</td>\n",
       "      <td>9.0</td>\n",
       "      <td>44.91</td>\n",
       "      <td>55.15</td>\n",
       "      <td>64.86</td>\n",
       "      <td>43.55</td>\n",
       "      <td>136.0</td>\n",
       "      <td>1</td>\n",
       "    </tr>\n",
       "    <tr>\n",
       "      <th>11924</th>\n",
       "      <td>2019-7485</td>\n",
       "      <td>20191014</td>\n",
       "      <td>2019_29</td>\n",
       "      <td>Antwerp</td>\n",
       "      <td>BEL</td>\n",
       "      <td>Hard</td>\n",
       "      <td>1</td>\n",
       "      <td>0</td>\n",
       "      <td>1</td>\n",
       "      <td>32</td>\n",
       "      <td>...</td>\n",
       "      <td>46.0</td>\n",
       "      <td>8.0</td>\n",
       "      <td>1.0</td>\n",
       "      <td>2.0</td>\n",
       "      <td>32.87</td>\n",
       "      <td>39.58</td>\n",
       "      <td>52.00</td>\n",
       "      <td>26.09</td>\n",
       "      <td>96.0</td>\n",
       "      <td>0</td>\n",
       "    </tr>\n",
       "    <tr>\n",
       "      <th>742</th>\n",
       "      <td>2019-7485</td>\n",
       "      <td>20191014</td>\n",
       "      <td>2019_29</td>\n",
       "      <td>Antwerp</td>\n",
       "      <td>BEL</td>\n",
       "      <td>Hard</td>\n",
       "      <td>1</td>\n",
       "      <td>0</td>\n",
       "      <td>1</td>\n",
       "      <td>32</td>\n",
       "      <td>...</td>\n",
       "      <td>79.0</td>\n",
       "      <td>7.0</td>\n",
       "      <td>3.0</td>\n",
       "      <td>5.0</td>\n",
       "      <td>48.16</td>\n",
       "      <td>51.57</td>\n",
       "      <td>70.00</td>\n",
       "      <td>32.91</td>\n",
       "      <td>159.0</td>\n",
       "      <td>1</td>\n",
       "    </tr>\n",
       "    <tr>\n",
       "      <th>62</th>\n",
       "      <td>2019-7485</td>\n",
       "      <td>20191014</td>\n",
       "      <td>2019_29</td>\n",
       "      <td>Antwerp</td>\n",
       "      <td>BEL</td>\n",
       "      <td>Hard</td>\n",
       "      <td>1</td>\n",
       "      <td>0</td>\n",
       "      <td>1</td>\n",
       "      <td>32</td>\n",
       "      <td>...</td>\n",
       "      <td>59.0</td>\n",
       "      <td>9.0</td>\n",
       "      <td>6.0</td>\n",
       "      <td>10.0</td>\n",
       "      <td>29.74</td>\n",
       "      <td>60.19</td>\n",
       "      <td>77.27</td>\n",
       "      <td>47.46</td>\n",
       "      <td>103.0</td>\n",
       "      <td>1</td>\n",
       "    </tr>\n",
       "    <tr>\n",
       "      <th>182</th>\n",
       "      <td>2019-7485</td>\n",
       "      <td>20191014</td>\n",
       "      <td>2019_29</td>\n",
       "      <td>Antwerp</td>\n",
       "      <td>BEL</td>\n",
       "      <td>Hard</td>\n",
       "      <td>1</td>\n",
       "      <td>0</td>\n",
       "      <td>1</td>\n",
       "      <td>32</td>\n",
       "      <td>...</td>\n",
       "      <td>59.0</td>\n",
       "      <td>4.0</td>\n",
       "      <td>4.0</td>\n",
       "      <td>8.0</td>\n",
       "      <td>50.66</td>\n",
       "      <td>55.86</td>\n",
       "      <td>67.31</td>\n",
       "      <td>45.76</td>\n",
       "      <td>111.0</td>\n",
       "      <td>1</td>\n",
       "    </tr>\n",
       "    <tr>\n",
       "      <th>12516</th>\n",
       "      <td>2019-0568</td>\n",
       "      <td>20190916</td>\n",
       "      <td>2019_25</td>\n",
       "      <td>St. Petersburg</td>\n",
       "      <td>RUS</td>\n",
       "      <td>Hard</td>\n",
       "      <td>1</td>\n",
       "      <td>0</td>\n",
       "      <td>1</td>\n",
       "      <td>32</td>\n",
       "      <td>...</td>\n",
       "      <td>82.0</td>\n",
       "      <td>1.0</td>\n",
       "      <td>9.0</td>\n",
       "      <td>11.0</td>\n",
       "      <td>41.07</td>\n",
       "      <td>48.95</td>\n",
       "      <td>63.93</td>\n",
       "      <td>37.80</td>\n",
       "      <td>143.0</td>\n",
       "      <td>0</td>\n",
       "    </tr>\n",
       "    <tr>\n",
       "      <th>13176</th>\n",
       "      <td>2019-560</td>\n",
       "      <td>20190826</td>\n",
       "      <td>2019_24</td>\n",
       "      <td>US Open</td>\n",
       "      <td>USA</td>\n",
       "      <td>Hard</td>\n",
       "      <td>0</td>\n",
       "      <td>0</td>\n",
       "      <td>4</td>\n",
       "      <td>128</td>\n",
       "      <td>...</td>\n",
       "      <td>148.0</td>\n",
       "      <td>15.0</td>\n",
       "      <td>10.0</td>\n",
       "      <td>14.0</td>\n",
       "      <td>17.56</td>\n",
       "      <td>47.41</td>\n",
       "      <td>61.48</td>\n",
       "      <td>35.81</td>\n",
       "      <td>270.0</td>\n",
       "      <td>0</td>\n",
       "    </tr>\n",
       "    <tr>\n",
       "      <th>13209</th>\n",
       "      <td>2019-560</td>\n",
       "      <td>20190826</td>\n",
       "      <td>2019_24</td>\n",
       "      <td>US Open</td>\n",
       "      <td>USA</td>\n",
       "      <td>Hard</td>\n",
       "      <td>0</td>\n",
       "      <td>0</td>\n",
       "      <td>4</td>\n",
       "      <td>128</td>\n",
       "      <td>...</td>\n",
       "      <td>131.0</td>\n",
       "      <td>5.0</td>\n",
       "      <td>3.0</td>\n",
       "      <td>10.0</td>\n",
       "      <td>21.90</td>\n",
       "      <td>48.39</td>\n",
       "      <td>54.73</td>\n",
       "      <td>41.22</td>\n",
       "      <td>279.0</td>\n",
       "      <td>0</td>\n",
       "    </tr>\n",
       "    <tr>\n",
       "      <th>1250</th>\n",
       "      <td>2019-560</td>\n",
       "      <td>20190826</td>\n",
       "      <td>2019_24</td>\n",
       "      <td>US Open</td>\n",
       "      <td>USA</td>\n",
       "      <td>Hard</td>\n",
       "      <td>0</td>\n",
       "      <td>0</td>\n",
       "      <td>4</td>\n",
       "      <td>128</td>\n",
       "      <td>...</td>\n",
       "      <td>114.0</td>\n",
       "      <td>5.0</td>\n",
       "      <td>8.0</td>\n",
       "      <td>14.0</td>\n",
       "      <td>26.01</td>\n",
       "      <td>54.07</td>\n",
       "      <td>66.32</td>\n",
       "      <td>43.86</td>\n",
       "      <td>209.0</td>\n",
       "      <td>1</td>\n",
       "    </tr>\n",
       "    <tr>\n",
       "      <th>14286</th>\n",
       "      <td>2018-560</td>\n",
       "      <td>20180827</td>\n",
       "      <td>2018_24</td>\n",
       "      <td>US Open</td>\n",
       "      <td>USA</td>\n",
       "      <td>Hard</td>\n",
       "      <td>0</td>\n",
       "      <td>0</td>\n",
       "      <td>4</td>\n",
       "      <td>128</td>\n",
       "      <td>...</td>\n",
       "      <td>58.0</td>\n",
       "      <td>6.0</td>\n",
       "      <td>1.0</td>\n",
       "      <td>2.0</td>\n",
       "      <td>7.35</td>\n",
       "      <td>35.86</td>\n",
       "      <td>45.98</td>\n",
       "      <td>20.69</td>\n",
       "      <td>145.0</td>\n",
       "      <td>0</td>\n",
       "    </tr>\n",
       "    <tr>\n",
       "      <th>12673</th>\n",
       "      <td>2019-M007</td>\n",
       "      <td>20190318</td>\n",
       "      <td>2019_09</td>\n",
       "      <td>Miami Masters</td>\n",
       "      <td>USA</td>\n",
       "      <td>Hard</td>\n",
       "      <td>0</td>\n",
       "      <td>0</td>\n",
       "      <td>2</td>\n",
       "      <td>128</td>\n",
       "      <td>...</td>\n",
       "      <td>78.0</td>\n",
       "      <td>2.0</td>\n",
       "      <td>4.0</td>\n",
       "      <td>6.0</td>\n",
       "      <td>23.67</td>\n",
       "      <td>46.15</td>\n",
       "      <td>54.95</td>\n",
       "      <td>35.90</td>\n",
       "      <td>169.0</td>\n",
       "      <td>0</td>\n",
       "    </tr>\n",
       "  </tbody>\n",
       "</table>\n",
       "<p>20 rows × 43 columns</p>\n",
       "</div>"
      ],
      "text/plain": [
       "            t_id    t_date  tour_wk          t_name t_country t_surf  \\\n",
       "13288   2019-560  20190826  2019_24         US Open       USA   Hard   \n",
       "12652  2019-M014  20191014  2019_29          Moscow       RUS   Hard   \n",
       "11817  2019-M004  20190225  2019_07        Acapulco       MEX   Hard   \n",
       "108    2019-7696  20191105  2019_33  NextGen Finals       ITA   Hard   \n",
       "311    2019-7696  20191105  2019_33  NextGen Finals       ITA   Hard   \n",
       "12575  2019-7696  20191105  2019_33  NextGen Finals       ITA   Hard   \n",
       "33     2019-7696  20191105  2019_33  NextGen Finals       ITA   Hard   \n",
       "487    2019-7696  20191105  2019_33  NextGen Finals       ITA   Hard   \n",
       "12269  2019-0337  20191021  2019_30          Vienna       AUT   Hard   \n",
       "559    2019-0337  20191021  2019_30          Vienna       AUT   Hard   \n",
       "11924  2019-7485  20191014  2019_29         Antwerp       BEL   Hard   \n",
       "742    2019-7485  20191014  2019_29         Antwerp       BEL   Hard   \n",
       "62     2019-7485  20191014  2019_29         Antwerp       BEL   Hard   \n",
       "182    2019-7485  20191014  2019_29         Antwerp       BEL   Hard   \n",
       "12516  2019-0568  20190916  2019_25  St. Petersburg       RUS   Hard   \n",
       "13176   2019-560  20190826  2019_24         US Open       USA   Hard   \n",
       "13209   2019-560  20190826  2019_24         US Open       USA   Hard   \n",
       "1250    2019-560  20190826  2019_24         US Open       USA   Hard   \n",
       "14286   2018-560  20180827  2018_24         US Open       USA   Hard   \n",
       "12673  2019-M007  20190318  2019_09   Miami Masters       USA   Hard   \n",
       "\n",
       "       t_indoor  t_alt  t_lvl  t_draw_size  ...  opp_svpt opp_ace  \\\n",
       "13288         0      0      4          128  ...     164.0     6.0   \n",
       "12652         1      0      1           32  ...      72.0    11.0   \n",
       "11817         0      0      1           32  ...      40.0     2.0   \n",
       "108           1      0      3            8  ...      41.0     2.0   \n",
       "311           1      0      3            8  ...      58.0     2.0   \n",
       "12575         1      0      3            8  ...      77.0    11.0   \n",
       "33            1      0      3            8  ...      44.0     2.0   \n",
       "487           1      0      3            8  ...      69.0     7.0   \n",
       "12269         1      0      1           32  ...      79.0    17.0   \n",
       "559           1      0      1           32  ...      62.0     8.0   \n",
       "11924         1      0      1           32  ...      46.0     8.0   \n",
       "742           1      0      1           32  ...      79.0     7.0   \n",
       "62            1      0      1           32  ...      59.0     9.0   \n",
       "182           1      0      1           32  ...      59.0     4.0   \n",
       "12516         1      0      1           32  ...      82.0     1.0   \n",
       "13176         0      0      4          128  ...     148.0    15.0   \n",
       "13209         0      0      4          128  ...     131.0     5.0   \n",
       "1250          0      0      4          128  ...     114.0     5.0   \n",
       "14286         0      0      4          128  ...      58.0     6.0   \n",
       "12673         0      0      2          128  ...      78.0     2.0   \n",
       "\n",
       "       opp_bpSaved  opp_bpFaced p_IP_NV  p_pts_won%  p_sv_pts_won%  \\\n",
       "13288          9.0         16.0   10.32       47.84          56.28   \n",
       "12652          3.0          5.0   29.19       41.29          49.40   \n",
       "11817          0.0          0.0   10.48       37.23          51.85   \n",
       "108            5.0          8.0     NaN       59.14          69.23   \n",
       "311            5.0          8.0     NaN       53.66          70.77   \n",
       "12575          3.0          4.0     NaN       50.00          69.33   \n",
       "33             4.0          8.0     NaN       62.50          72.73   \n",
       "487            2.0          5.0     NaN       52.14          71.83   \n",
       "12269          3.0          3.0   48.95       47.33          66.20   \n",
       "559            6.0          9.0   44.91       55.15          64.86   \n",
       "11924          1.0          2.0   32.87       39.58          52.00   \n",
       "742            3.0          5.0   48.16       51.57          70.00   \n",
       "62             6.0         10.0   29.74       60.19          77.27   \n",
       "182            4.0          8.0   50.66       55.86          67.31   \n",
       "12516          9.0         11.0   41.07       48.95          63.93   \n",
       "13176         10.0         14.0   17.56       47.41          61.48   \n",
       "13209          3.0         10.0   21.90       48.39          54.73   \n",
       "1250           8.0         14.0   26.01       54.07          66.32   \n",
       "14286          1.0          2.0    7.35       35.86          45.98   \n",
       "12673          4.0          6.0   23.67       46.15          54.95   \n",
       "\n",
       "      p_ret_pts_won%  m_tot_pts  m_outcome  \n",
       "13288          38.41      347.0          0  \n",
       "12652          31.94      155.0          0  \n",
       "11817          17.50       94.0          0  \n",
       "108            46.34       93.0          1  \n",
       "311            34.48      123.0          1  \n",
       "12575          31.17      152.0          0  \n",
       "33             52.27       88.0          1  \n",
       "487            31.88      140.0          1  \n",
       "12269          30.38      150.0          0  \n",
       "559            43.55      136.0          1  \n",
       "11924          26.09       96.0          0  \n",
       "742            32.91      159.0          1  \n",
       "62             47.46      103.0          1  \n",
       "182            45.76      111.0          1  \n",
       "12516          37.80      143.0          0  \n",
       "13176          35.81      270.0          0  \n",
       "13209          41.22      279.0          0  \n",
       "1250           43.86      209.0          1  \n",
       "14286          20.69      145.0          0  \n",
       "12673          35.90      169.0          0  \n",
       "\n",
       "[20 rows x 43 columns]"
      ]
     },
     "execution_count": 16,
     "metadata": {},
     "output_type": "execute_result"
    }
   ],
   "source": [
    "df_player1.head(20)"
   ]
  },
  {
   "cell_type": "code",
   "execution_count": 17,
   "id": "9c06811c",
   "metadata": {},
   "outputs": [],
   "source": [
    "# % total points won over up to the last 60 surface-specific matches for a given player prior to a match to be predicted on\n",
    "# In EDA and modeling, we will require a minimum # of matches in the past relative to a match being predicted on FOR BOTH PLAYERS IN THE MATCH\n",
    "# Therefore, we do not need to go to extremes to backfill NaNs here when a window to compute on doesn't meet the min period requirement.\n",
    "\n",
    "df_player1 = df_player1.iloc[::-1]\n",
    "\n",
    "df_player1['p_pts_won%_1to10'] = df_player1.groupby(['p_id','t_surf'])['p_pts_won%'].transform(lambda x: x.rolling(window=10, min_periods = 1).mean().round(2).shift(1))\n",
    "\n",
    "df_player1['p_pts_won%_11to20'] = df_player1.groupby(['p_id','t_surf'])['p_pts_won%'].transform(lambda x: x.rolling(window=10, min_periods = 3).mean().round(2).shift(11))\n",
    "df_player1['p_pts_won%_11to20'] = df_player1['p_pts_won%_11to20'].fillna(df_player1['p_pts_won%_1to10'])\n",
    "\n",
    "df_player1['p_pts_won%_21to30'] = df_player1.groupby(['p_id','t_surf'])['p_pts_won%'].transform(lambda x: x.rolling(window=10, min_periods = 3).mean().round(2).shift(21))\n",
    "df_player1['p_pts_won%_21to30'] = df_player1['p_pts_won%_21to30'].fillna(df_player1['p_pts_won%_11to20'])\n",
    "\n",
    "df_player1['p_pts_won%_31to40'] = df_player1.groupby(['p_id','t_surf'])['p_pts_won%'].transform(lambda x: x.rolling(window=10, min_periods = 3).mean().round(2).shift(31))\n",
    "df_player1['p_pts_won%_31to40'] = df_player1['p_pts_won%_31to40'].fillna(df_player1['p_pts_won%_21to30'])\n",
    "\n",
    "df_player1['p_pts_won%_41to50'] = df_player1.groupby(['p_id','t_surf'])['p_pts_won%'].transform(lambda x: x.rolling(window=10, min_periods = 3).mean().round(2).shift(41))\n",
    "df_player1['p_pts_won%_41to50'] = df_player1['p_pts_won%_41to50'].fillna(df_player1['p_pts_won%_31to40'])\n",
    "\n",
    "df_player1['p_pts_won%_51to60'] = df_player1.groupby(['p_id','t_surf'])['p_pts_won%'].transform(lambda x: x.rolling(window=10, min_periods = 3).mean().round(2).shift(51))\n",
    "df_player1['p_pts_won%_51to60'] = df_player1['p_pts_won%_51to60'].fillna(df_player1['p_pts_won%_41to50'])\n",
    "\n",
    "#df_player1['p_pts_won%_61to70'] = df_player1.groupby(['p_id','t_surf'])['p_pts_won%'].transform(lambda x: x.rolling(window=10, min_periods = 3).mean().round(2).shift(61))\n",
    "#df_player1['p_pts_won%_61to70'] = df_player1['p_pts_won%_61to70'].fillna(df_player1['p_pts_won%_51to60'])\n",
    "\n",
    "#df_player1['p_pts_won%_71to80'] = df_player1.groupby(['p_id','t_surf'])['p_pts_won%'].transform(lambda x: x.rolling(window=10, min_periods = 3).mean().round(2).shift(71))\n",
    "#df_player1['p_pts_won%_71to80'] = df_player1['p_pts_won%_71to80'].fillna(df_player1['p_pts_won%_61to70'])\n",
    "\n",
    "df_player1 = df_player1.iloc[::-1]"
   ]
  },
  {
   "cell_type": "code",
   "execution_count": 18,
   "id": "9676dd4e",
   "metadata": {},
   "outputs": [],
   "source": [
    "# Time-decay weighting the total pts won % by player result from above.\n",
    "#  Core version\n",
    "df_player1[\"p_pts_won%_l60_decay\"] = (((df_player1['p_pts_won%_1to10'] * 14) + (df_player1['p_pts_won%_11to20'] * 8) + (df_player1['p_pts_won%_21to30'] * 5) \n",
    "+ (df_player1['p_pts_won%_31to40'] * 3) + (df_player1['p_pts_won%_41to50'] * 2) + (df_player1['p_pts_won%_51to60'] * 1))/33).round(2)\n",
    "\n",
    "#Dropping the transient columns used for the decay calculations\n",
    "df_player1.drop([\"p_pts_won%_11to20\",\"p_pts_won%_21to30\",\"p_pts_won%_31to40\",\"p_pts_won%_41to50\",\"p_pts_won%_51to60\"],axis=1, inplace=True)\n",
    "#df_player1"
   ]
  },
  {
   "cell_type": "code",
   "execution_count": 19,
   "id": "1fa52b35",
   "metadata": {},
   "outputs": [],
   "source": [
    "# Short term total points won% perfomance\n",
    "df_player1[\"p_pts_won%_l10\"] = df_player1[\"p_pts_won%_1to10\"]\n",
    "\n",
    "df_player1.drop([\"p_pts_won%_1to10\"],axis=1, inplace=True)"
   ]
  },
  {
   "cell_type": "code",
   "execution_count": 20,
   "id": "b042baeb",
   "metadata": {},
   "outputs": [],
   "source": [
    "# Total points won% over the last 60 surface-specific matches taking indoor vs outdoor into consideration\n",
    "\n",
    "# In EDA and modeling, we will require a minimum # of matches in the past relative to a match being predicted on FOR BOTH PLAYERS IN THE MATCH\n",
    "# Therefore, we do not need to go to extremes to backfill NaNs here when a window to compute on doesn't meet the min period requirement.\n",
    "\n",
    "df_player1 = df_player1.iloc[::-1]\n",
    "\n",
    "df_player1['p_pts_won%_1to10_IO'] = df_player1.groupby(['p_id','t_surf','t_indoor'])['p_pts_won%'].transform(lambda x: x.rolling(window=10, min_periods = 1).mean().round(2).shift(1))\n",
    "\n",
    "df_player1['p_pts_won%_11to20_IO'] = df_player1.groupby(['p_id','t_surf','t_indoor'])['p_pts_won%'].transform(lambda x: x.rolling(window=10, min_periods = 3).mean().round(2).shift(11))\n",
    "df_player1['p_pts_won%_11to20_IO'] = df_player1['p_pts_won%_11to20_IO'].fillna(df_player1['p_pts_won%_1to10_IO'])\n",
    "\n",
    "df_player1['p_pts_won%_21to30_IO'] = df_player1.groupby(['p_id','t_surf','t_indoor'])['p_pts_won%'].transform(lambda x: x.rolling(window=10, min_periods = 3).mean().round(2).shift(21))\n",
    "df_player1['p_pts_won%_21to30_IO'] = df_player1['p_pts_won%_21to30_IO'].fillna(df_player1['p_pts_won%_11to20_IO'])\n",
    "\n",
    "df_player1['p_pts_won%_31to40_IO'] = df_player1.groupby(['p_id','t_surf','t_indoor'])['p_pts_won%'].transform(lambda x: x.rolling(window=10, min_periods = 3).mean().round(2).shift(31))\n",
    "df_player1['p_pts_won%_31to40_IO'] = df_player1['p_pts_won%_31to40_IO'].fillna(df_player1['p_pts_won%_21to30_IO'])\n",
    "\n",
    "df_player1['p_pts_won%_41to50_IO'] = df_player1.groupby(['p_id','t_surf','t_indoor'])['p_pts_won%'].transform(lambda x: x.rolling(window=10, min_periods = 3).mean().round(2).shift(41))\n",
    "df_player1['p_pts_won%_41to50_IO'] = df_player1['p_pts_won%_41to50_IO'].fillna(df_player1['p_pts_won%_31to40_IO'])\n",
    "\n",
    "df_player1['p_pts_won%_51to60_IO'] = df_player1.groupby(['p_id','t_surf','t_indoor'])['p_pts_won%'].transform(lambda x: x.rolling(window=10, min_periods = 3).mean().round(2).shift(51))\n",
    "df_player1['p_pts_won%_51to60_IO'] = df_player1['p_pts_won%_51to60_IO'].fillna(df_player1['p_pts_won%_41to50_IO'])\n",
    "\n",
    "#df_player1['p_pts_won%_61to70_IO'] = df_player1.groupby(['p_id','t_surf','t_indoor'])['p_pts_won%'].transform(lambda x: x.rolling(window=10, min_periods = 3).mean().round(2).shift(61))\n",
    "#df_player1['p_pts_won%_61to70_IO'] = df_player1['p_pts_won%_61to70_IO'].fillna(df_player1['p_pts_won%_51to60_IO'])\n",
    "\n",
    "#df_player1['p_pts_won%_71to80'] = df_player1.groupby(['p_id','t_surf'])['p_pts_won%'].transform(lambda x: x.rolling(window=10, min_periods = 3).mean().round(2).shift(71))\n",
    "#df_player1['p_pts_won%_71to80'] = df_player1['p_pts_won%_71to80'].fillna(df_player1['p_pts_won%_61to70'])\n",
    "\n",
    "df_player1 = df_player1.iloc[::-1]"
   ]
  },
  {
   "cell_type": "code",
   "execution_count": 21,
   "id": "c4cd3918",
   "metadata": {},
   "outputs": [],
   "source": [
    "# Time-decay weighting the total pts won % by player result from above.\n",
    "df_player1[\"p_pts_won%_l60_decay_IO\"] = (((df_player1['p_pts_won%_1to10_IO'] * 14) + (df_player1['p_pts_won%_11to20_IO'] * 8) + (df_player1['p_pts_won%_21to30_IO'] * 5) \n",
    "+ (df_player1['p_pts_won%_31to40_IO'] * 3) + (df_player1['p_pts_won%_41to50_IO'] * 2) + (df_player1['p_pts_won%_51to60_IO'] * 1))/33).round(2)\n",
    "\n",
    "#Dropping the transient columns used for the decay calculations\n",
    "df_player1.drop([\"p_pts_won%_1to10_IO\",\"p_pts_won%_11to20_IO\",\"p_pts_won%_21to30_IO\",\"p_pts_won%_31to40_IO\",\"p_pts_won%_41to50_IO\",\"p_pts_won%_51to60_IO\"],axis=1, inplace=True)\n",
    "#df_player1"
   ]
  },
  {
   "cell_type": "code",
   "execution_count": 22,
   "id": "71f42580",
   "metadata": {},
   "outputs": [],
   "source": [
    "# % SERVE points won over up to the last 60 surface-specific matches for a given player prior to a match to be predicted on\n",
    "# In EDA and modeling, we will require a minimum # of matches in the past relative to a match being predicted on FOR BOTH PLAYERS IN THE MATCH\n",
    "# Therefore, we do not need to go to extremes to backfill NaNs here when a window to compute on doesn't meet the min period requirement.\n",
    "\n",
    "df_player1 = df_player1.iloc[::-1]\n",
    "\n",
    "df_player1['p_sv_pts_won%_1to10'] = df_player1.groupby(['p_id','t_surf'])['p_sv_pts_won%'].transform(lambda x: x.rolling(window=10, min_periods = 1).mean().round(2).shift(1))\n",
    "\n",
    "df_player1['p_sv_pts_won%_11to20'] = df_player1.groupby(['p_id','t_surf'])['p_sv_pts_won%'].transform(lambda x: x.rolling(window=10, min_periods = 3).mean().round(2).shift(11))\n",
    "df_player1['p_sv_pts_won%_11to20'] = df_player1['p_sv_pts_won%_11to20'].fillna(df_player1['p_sv_pts_won%_1to10'])\n",
    "\n",
    "df_player1['p_sv_pts_won%_21to30'] = df_player1.groupby(['p_id','t_surf'])['p_sv_pts_won%'].transform(lambda x: x.rolling(window=10, min_periods = 3).mean().round(2).shift(21))\n",
    "df_player1['p_sv_pts_won%_21to30'] = df_player1['p_sv_pts_won%_21to30'].fillna(df_player1['p_sv_pts_won%_11to20'])\n",
    "\n",
    "df_player1['p_sv_pts_won%_31to40'] = df_player1.groupby(['p_id','t_surf'])['p_sv_pts_won%'].transform(lambda x: x.rolling(window=10, min_periods = 3).mean().round(2).shift(31))\n",
    "df_player1['p_sv_pts_won%_31to40'] = df_player1['p_sv_pts_won%_31to40'].fillna(df_player1['p_sv_pts_won%_21to30'])\n",
    "\n",
    "df_player1['p_sv_pts_won%_41to50'] = df_player1.groupby(['p_id','t_surf'])['p_sv_pts_won%'].transform(lambda x: x.rolling(window=10, min_periods = 3).mean().round(2).shift(41))\n",
    "df_player1['p_sv_pts_won%_41to50'] = df_player1['p_sv_pts_won%_41to50'].fillna(df_player1['p_sv_pts_won%_31to40'])\n",
    "\n",
    "df_player1['p_sv_pts_won%_51to60'] = df_player1.groupby(['p_id','t_surf'])['p_sv_pts_won%'].transform(lambda x: x.rolling(window=10, min_periods = 3).mean().round(2).shift(51))\n",
    "df_player1['p_sv_pts_won%_51to60'] = df_player1['p_sv_pts_won%_51to60'].fillna(df_player1['p_sv_pts_won%_41to50'])\n",
    "\n",
    "#df_player1['p_sv_pts_won%_61to70'] = df_player1.groupby(['p_id','t_surf'])['p_sv_pts_won%'].transform(lambda x: x.rolling(window=10, min_periods = 3).mean().round(2).shift(61))\n",
    "#df_player1['p_sv_pts_won%_61to70'] = df_player1['p_sv_pts_won%_61to70'].fillna(df_player1['p_sv_pts_won%_51to60'])\n",
    "\n",
    "df_player1 = df_player1.iloc[::-1]\n"
   ]
  },
  {
   "cell_type": "code",
   "execution_count": 23,
   "id": "d4dee1fa",
   "metadata": {},
   "outputs": [],
   "source": [
    "# Time-decay weighting the SERVE pts won % by player result from above.\n",
    "df_player1[\"p_sv_pts_won%_l60_decay\"] = (((df_player1['p_sv_pts_won%_1to10'] * 14) + (df_player1['p_sv_pts_won%_11to20'] * 8) + (df_player1['p_sv_pts_won%_21to30'] * 5) \n",
    "+ (df_player1['p_sv_pts_won%_31to40'] * 3) + (df_player1['p_sv_pts_won%_41to50'] * 2) + (df_player1['p_sv_pts_won%_51to60'] * 1))/33).round(2)\n",
    "\n",
    "#Dropping the transient columns used for the decay calculations\n",
    "df_player1.drop([\"p_sv_pts_won%_11to20\",\"p_sv_pts_won%_21to30\",\"p_sv_pts_won%_31to40\",\"p_sv_pts_won%_41to50\",\"p_sv_pts_won%_51to60\"],axis=1, inplace=True)\n"
   ]
  },
  {
   "cell_type": "code",
   "execution_count": 24,
   "id": "3f5aa87c",
   "metadata": {},
   "outputs": [],
   "source": [
    "# Short term serve points won% perfomance\n",
    "df_player1[\"p_sv_pts_won%_l10\"] = df_player1[\"p_sv_pts_won%_1to10\"]\n",
    "\n",
    "df_player1.drop([\"p_sv_pts_won%_1to10\"],axis=1, inplace=True)"
   ]
  },
  {
   "cell_type": "code",
   "execution_count": 25,
   "id": "540639b8",
   "metadata": {},
   "outputs": [],
   "source": [
    "# % RETURN points won over up to the last 60 surface-specific matches for a given player prior to a match to be predicted on\n",
    "# In EDA and modeling, we will require a minimum # of matches in the past relative to a match being predicted on FOR BOTH PLAYERS IN THE MATCH\n",
    "# Therefore, we do not need to go to extremes to backfill NaNs here when a window to compute on doesn't meet the min period requirement.\n",
    "\n",
    "df_player1 = df_player1.iloc[::-1]\n",
    "\n",
    "df_player1['p_ret_pts_won%_1to10'] = df_player1.groupby(['p_id','t_surf'])['p_ret_pts_won%'].transform(lambda x: x.rolling(window=10, min_periods = 1).mean().round(2).shift(1))\n",
    "\n",
    "df_player1['p_ret_pts_won%_11to20'] = df_player1.groupby(['p_id','t_surf'])['p_ret_pts_won%'].transform(lambda x: x.rolling(window=10, min_periods = 3).mean().round(2).shift(11))\n",
    "df_player1['p_ret_pts_won%_11to20'] = df_player1['p_ret_pts_won%_11to20'].fillna(df_player1['p_ret_pts_won%_1to10'])\n",
    "\n",
    "df_player1['p_ret_pts_won%_21to30'] = df_player1.groupby(['p_id','t_surf'])['p_ret_pts_won%'].transform(lambda x: x.rolling(window=10, min_periods = 3).mean().round(2).shift(21))\n",
    "df_player1['p_ret_pts_won%_21to30'] = df_player1['p_ret_pts_won%_21to30'].fillna(df_player1['p_ret_pts_won%_11to20'])\n",
    "\n",
    "df_player1['p_ret_pts_won%_31to40'] = df_player1.groupby(['p_id','t_surf'])['p_ret_pts_won%'].transform(lambda x: x.rolling(window=10, min_periods = 3).mean().round(2).shift(31))\n",
    "df_player1['p_ret_pts_won%_31to40'] = df_player1['p_ret_pts_won%_31to40'].fillna(df_player1['p_ret_pts_won%_21to30'])\n",
    "\n",
    "df_player1['p_ret_pts_won%_41to50'] = df_player1.groupby(['p_id','t_surf'])['p_ret_pts_won%'].transform(lambda x: x.rolling(window=10, min_periods = 3).mean().round(2).shift(41))\n",
    "df_player1['p_ret_pts_won%_41to50'] = df_player1['p_ret_pts_won%_41to50'].fillna(df_player1['p_ret_pts_won%_31to40'])\n",
    "\n",
    "df_player1['p_ret_pts_won%_51to60'] = df_player1.groupby(['p_id','t_surf'])['p_ret_pts_won%'].transform(lambda x: x.rolling(window=10, min_periods = 3).mean().round(2).shift(51))\n",
    "df_player1['p_ret_pts_won%_51to60'] = df_player1['p_ret_pts_won%_51to60'].fillna(df_player1['p_ret_pts_won%_41to50'])\n",
    "\n",
    "#df_player1['p_ret_pts_won%_61to70'] = df_player1.groupby(['p_id','t_surf'])['p_ret_pts_won%'].transform(lambda x: x.rolling(window=10, min_periods = 3).mean().round(2).shift(61))\n",
    "#df_player1['p_ret_pts_won%_61to70'] = df_player1['p_ret_pts_won%_61to70'].fillna(df_player1['p_ret_pts_won%_51to60'])\n",
    "\n",
    "df_player1 = df_player1.iloc[::-1]\n"
   ]
  },
  {
   "cell_type": "code",
   "execution_count": 26,
   "id": "54757624",
   "metadata": {},
   "outputs": [],
   "source": [
    "# Time-decay weighting the RETURN pts won % by player result from above.\n",
    "df_player1[\"p_ret_pts_won%_l60_decay\"] = (((df_player1['p_ret_pts_won%_1to10'] * 14) + (df_player1['p_ret_pts_won%_11to20'] * 8) + (df_player1['p_ret_pts_won%_21to30'] * 5) \n",
    "+ (df_player1['p_ret_pts_won%_31to40'] * 3) + (df_player1['p_ret_pts_won%_41to50'] * 2) + (df_player1['p_ret_pts_won%_51to60'] * 1))/33).round(2)\n",
    "\n",
    "#Dropping the transient columns used for the decay calculations\n",
    "df_player1.drop([\"p_ret_pts_won%_11to20\",\"p_ret_pts_won%_21to30\",\"p_ret_pts_won%_31to40\",\"p_ret_pts_won%_41to50\",\"p_ret_pts_won%_51to60\"],axis=1, inplace=True)\n"
   ]
  },
  {
   "cell_type": "code",
   "execution_count": 27,
   "id": "2d930ed3",
   "metadata": {},
   "outputs": [],
   "source": [
    "# Short term return points won% perfomance\n",
    "df_player1[\"p_ret_pts_won%_l10\"] = df_player1[\"p_ret_pts_won%_1to10\"]\n",
    "\n",
    "df_player1.drop([\"p_ret_pts_won%_1to10\"],axis=1, inplace=True)"
   ]
  },
  {
   "cell_type": "code",
   "execution_count": 28,
   "id": "53af2f8d",
   "metadata": {},
   "outputs": [],
   "source": [
    "#Save to review\n",
    "#df_player1.to_csv('../data/df_player1.csv', index=False)"
   ]
  },
  {
   "cell_type": "code",
   "execution_count": 29,
   "id": "a6a305c2",
   "metadata": {},
   "outputs": [],
   "source": [
    "# player ace% over up to the last 60 surface-specific matches for a given player prior to a match to be predicted on\n",
    "# In EDA and modeling, we will require a minimum # of matches in the past relative to a match being predicted on FOR BOTH PLAYERS IN THE MATCH\n",
    "# Therefore, we do not need to go to extremes to backfill NaNs here when a window to compute on doesn't meet the min period requirement.\n",
    "\n",
    "# decay-weighted player ace % over up to the last 60 matches (surface-specific)\n",
    "df_player1[\"p_ace%\"] = ((df_player1[\"p_ace\"]/df_player1[\"p_svpt\"])*100).round(2)\n",
    "\n",
    "df_player1 = df_player1.iloc[::-1]\n",
    "\n",
    "df_player1['p_ace%_1to10'] = df_player1.groupby(['p_id','t_surf'])['p_ace%'].transform(lambda x: x.rolling(window=10, min_periods = 1).mean().round(2).shift(1))\n",
    "\n",
    "df_player1['p_ace%_11to20'] = df_player1.groupby(['p_id','t_surf'])['p_ace%'].transform(lambda x: x.rolling(window=10, min_periods = 3).mean().round(2).shift(11))\n",
    "df_player1['p_ace%_11to20'] = df_player1['p_ace%_11to20'].fillna(df_player1['p_ace%_1to10'])\n",
    "\n",
    "df_player1['p_ace%_21to30'] = df_player1.groupby(['p_id','t_surf'])['p_ace%'].transform(lambda x: x.rolling(window=10, min_periods = 3).mean().round(2).shift(21))\n",
    "df_player1['p_ace%_21to30'] = df_player1['p_ace%_21to30'].fillna(df_player1['p_ace%_11to20'])\n",
    "\n",
    "df_player1['p_ace%_31to40'] = df_player1.groupby(['p_id','t_surf'])['p_ace%'].transform(lambda x: x.rolling(window=10, min_periods = 3).mean().round(2).shift(31))\n",
    "df_player1['p_ace%_31to40'] = df_player1['p_ace%_31to40'].fillna(df_player1['p_ace%_21to30'])\n",
    "\n",
    "df_player1['p_ace%_41to50'] = df_player1.groupby(['p_id','t_surf'])['p_ace%'].transform(lambda x: x.rolling(window=10, min_periods = 3).mean().round(2).shift(41))\n",
    "df_player1['p_ace%_41to50'] = df_player1['p_ace%_41to50'].fillna(df_player1['p_ace%_31to40'])\n",
    "\n",
    "df_player1['p_ace%_51to60'] = df_player1.groupby(['p_id','t_surf'])['p_ace%'].transform(lambda x: x.rolling(window=10, min_periods = 3).mean().round(2).shift(51))\n",
    "df_player1['p_ace%_51to60'] = df_player1['p_ace%_51to60'].fillna(df_player1['p_ace%_41to50'])\n",
    "\n",
    "#df_player1['p_ace%_61to70'] = df_player1.groupby(['p_id','t_surf'])['p_ace%'].transform(lambda x: x.rolling(window=10, min_periods = 3).mean().round(2).shift(61))\n",
    "#df_player1['p_ace%_61to70'] = df_player1['p_ace%_61to70'].fillna(df_player1['p_ace%_51to60'])\n",
    "\n",
    "df_player1 = df_player1.iloc[::-1]"
   ]
  },
  {
   "cell_type": "code",
   "execution_count": 30,
   "id": "84e3ca98",
   "metadata": {},
   "outputs": [],
   "source": [
    "# Time-decay weighting the ace% by player result from above.\n",
    "df_player1[\"p_ace%_l60_decay\"] = (((df_player1['p_ace%_1to10'] * 14) + (df_player1['p_ace%_11to20'] * 8) + (df_player1['p_ace%_21to30'] * 5) \n",
    "+ (df_player1['p_ace%_31to40'] * 3) + (df_player1['p_ace%_41to50'] * 2) + (df_player1['p_ace%_51to60'] * 1))/33).round(2)\n",
    "\n",
    "#Dropping the transient columns used for the decay calculations\n",
    "df_player1.drop([\"p_ace%_11to20\",\"p_ace%_21to30\",\"p_ace%_31to40\",\"p_ace%_41to50\",\"p_ace%_51to60\"],axis=1, inplace=True)"
   ]
  },
  {
   "cell_type": "code",
   "execution_count": 31,
   "id": "4d1d0661",
   "metadata": {},
   "outputs": [],
   "source": [
    "# Short term ace% perfomance\n",
    "df_player1[\"p_ace%_l10\"] = df_player1[\"p_ace%_1to10\"]\n",
    "df_player1.drop([\"p_ace%_1to10\"],axis=1, inplace=True)"
   ]
  },
  {
   "cell_type": "code",
   "execution_count": 32,
   "id": "de9df498",
   "metadata": {},
   "outputs": [],
   "source": [
    "# player aced% (as a returner) over up to the last 60 surface-specific matches for a given player prior to a match to be predicted on\n",
    "# In EDA and modeling, we will require a minimum # of matches in the past relative to a match being predicted on FOR BOTH PLAYERS IN THE MATCH\n",
    "# Therefore, we do not need to go to extremes to backfill NaNs here when a window to compute on doesn't meet the min period requirement.\n",
    "\n",
    "df_player1[\"p_aced%\"] = ((df_player1[\"opp_ace\"]/df_player1[\"opp_svpt\"])*100).round(2)\n",
    "\n",
    "df_player1 = df_player1.iloc[::-1]\n",
    "\n",
    "df_player1['p_aced%_1to10'] = df_player1.groupby(['p_id','t_surf'])['p_aced%'].transform(lambda x: x.rolling(window=10, min_periods = 1).mean().round(2).shift(1))\n",
    "\n",
    "df_player1['p_aced%_11to20'] = df_player1.groupby(['p_id','t_surf'])['p_aced%'].transform(lambda x: x.rolling(window=10, min_periods = 3).mean().round(2).shift(11))\n",
    "df_player1['p_aced%_11to20'] = df_player1['p_aced%_11to20'].fillna(df_player1['p_aced%_1to10'])\n",
    "\n",
    "df_player1['p_aced%_21to30'] = df_player1.groupby(['p_id','t_surf'])['p_aced%'].transform(lambda x: x.rolling(window=10, min_periods = 3).mean().round(2).shift(21))\n",
    "df_player1['p_aced%_21to30'] = df_player1['p_aced%_21to30'].fillna(df_player1['p_aced%_11to20'])\n",
    "\n",
    "df_player1['p_aced%_31to40'] = df_player1.groupby(['p_id','t_surf'])['p_aced%'].transform(lambda x: x.rolling(window=10, min_periods = 3).mean().round(2).shift(31))\n",
    "df_player1['p_aced%_31to40'] = df_player1['p_aced%_31to40'].fillna(df_player1['p_aced%_21to30'])\n",
    "\n",
    "df_player1['p_aced%_41to50'] = df_player1.groupby(['p_id','t_surf'])['p_aced%'].transform(lambda x: x.rolling(window=10, min_periods = 3).mean().round(2).shift(41))\n",
    "df_player1['p_aced%_41to50'] = df_player1['p_aced%_41to50'].fillna(df_player1['p_aced%_31to40'])\n",
    "\n",
    "df_player1['p_aced%_51to60'] = df_player1.groupby(['p_id','t_surf'])['p_aced%'].transform(lambda x: x.rolling(window=10, min_periods = 3).mean().round(2).shift(51))\n",
    "df_player1['p_aced%_51to60'] = df_player1['p_aced%_51to60'].fillna(df_player1['p_aced%_41to50'])\n",
    "\n",
    "#df_player1['p_aced%_61to70'] = df_player1.groupby(['p_id','t_surf'])['p_aced%'].transform(lambda x: x.rolling(window=10, min_periods = 3).mean().round(2).shift(61))\n",
    "#df_player1['p_aced%_61to70'] = df_player1['p_aced%_61to70'].fillna(df_player1['p_aced%_51to60'])\n",
    "\n",
    "df_player1 = df_player1.iloc[::-1]"
   ]
  },
  {
   "cell_type": "code",
   "execution_count": 33,
   "id": "7a388991",
   "metadata": {},
   "outputs": [],
   "source": [
    "# Time-decay weighting the aced% by player result from above.\n",
    "df_player1[\"p_aced%_l60_decay\"] = (((df_player1['p_aced%_1to10'] * 14) + (df_player1['p_aced%_11to20'] * 8) + (df_player1['p_aced%_21to30'] * 5) \n",
    "+ (df_player1['p_aced%_31to40'] * 3) + (df_player1['p_aced%_41to50'] * 2) + (df_player1['p_aced%_51to60'] * 1))/33).round(2)\n",
    "\n",
    "#Dropping the transient columns used for the decay calculations\n",
    "df_player1.drop([\"p_aced%_11to20\",\"p_aced%_21to30\",\"p_aced%_31to40\",\"p_aced%_41to50\",\"p_aced%_51to60\"],axis=1, inplace=True)"
   ]
  },
  {
   "cell_type": "code",
   "execution_count": 34,
   "id": "c38319c7",
   "metadata": {},
   "outputs": [],
   "source": [
    "# Short term aced% perfomance\n",
    "df_player1[\"p_aced%_l10\"] = df_player1[\"p_aced%_1to10\"]\n",
    "df_player1.drop([\"p_aced%_1to10\"],axis=1, inplace=True)"
   ]
  },
  {
   "cell_type": "code",
   "execution_count": 35,
   "id": "81ed7c5a",
   "metadata": {},
   "outputs": [],
   "source": [
    "#df_player1.to_csv('../data/df_player1.csv', index=False)"
   ]
  },
  {
   "cell_type": "code",
   "execution_count": 36,
   "id": "95fb4a90",
   "metadata": {},
   "outputs": [],
   "source": [
    "# player break point save % (as a server) over up to the last 60 matches (surface-specific)\n",
    "# I played around with a weighted version of this, but it didn't work as well as unweighted just due to the rareness of the events\n",
    "\n",
    "df_player1[\"p_bp_save%\"] = ((df_player1[\"p_bpSaved\"]/df_player1[\"p_bpFaced\"])*100).round(2)\n",
    "df_player1['p_bp_save%'] = df_player1['p_bp_save%'].fillna(100) #covers the cases where a player faced 0 break pts in the match\n",
    "\n",
    "df_player1 = df_player1.iloc[::-1]\n",
    "df_player1['p_bp_save%_l60'] = df_player1.groupby(['p_id','t_surf'])['p_bp_save%'].transform(lambda x: x.rolling(window=60, min_periods = 1).mean().round(2).shift(1))\n",
    "df_player1 = df_player1.iloc[::-1]"
   ]
  },
  {
   "cell_type": "code",
   "execution_count": 37,
   "id": "8470c247",
   "metadata": {},
   "outputs": [],
   "source": [
    "# player break point save% (as a server) over the short term (last 10 matches) (surface-specific)\n",
    "df_player1 = df_player1.iloc[::-1]\n",
    "df_player1['p_bp_save%_l10'] = df_player1.groupby(['p_id','t_surf'])['p_bp_save%'].transform(lambda x: x.rolling(window=10, min_periods = 1).mean().round(2).shift(1))\n",
    "df_player1 = df_player1.iloc[::-1]"
   ]
  },
  {
   "cell_type": "code",
   "execution_count": 38,
   "id": "9edc0aa3",
   "metadata": {},
   "outputs": [],
   "source": [
    "# player break point conversion % (as a returner) over up to the last 60 matches (surface-specific)\n",
    "# I played around with a weighted version of this, but it didn't work as well as unweighted just due to the rareness of the events\n",
    "\n",
    "df_player1[\"p_bp_convert%\"] = ((1 - (df_player1[\"opp_bpSaved\"]/df_player1[\"opp_bpFaced\"]))*100).round(2)\n",
    "df_player1['p_bp_convert%'] = df_player1['p_bp_convert%'].fillna(0) #covers the cases where a player generated 0 break point opportunities in a match\n",
    "\n",
    "df_player1 = df_player1.iloc[::-1]\n",
    "df_player1['p_bp_convert%_l60'] = df_player1.groupby(['p_id','t_surf'])['p_bp_convert%'].transform(lambda x: x.rolling(window=60, min_periods = 1).mean().round(2).shift(1))\n",
    "df_player1 = df_player1.iloc[::-1]"
   ]
  },
  {
   "cell_type": "code",
   "execution_count": 39,
   "id": "ced7bd26",
   "metadata": {},
   "outputs": [],
   "source": [
    "# player break point convert% (as a returner) over the short term (last 10 matches) (surface-specific)\n",
    "df_player1 = df_player1.iloc[::-1]\n",
    "df_player1['p_bp_convert%_l10'] = df_player1.groupby(['p_id','t_surf'])['p_bp_convert%'].transform(lambda x: x.rolling(window=10, min_periods = 1).mean().round(2).shift(1))\n",
    "df_player1 = df_player1.iloc[::-1]"
   ]
  },
  {
   "cell_type": "code",
   "execution_count": 40,
   "id": "33dae5d0",
   "metadata": {},
   "outputs": [],
   "source": [
    "# Variability (standard deviation) in total pts won% over the previous 60 surface-specific matches (decay weighted)\n",
    "df_player1 = df_player1.iloc[::-1]\n",
    "\n",
    "df_player1['p_pts_won%_std_1to10'] = df_player1.groupby(['p_id','t_surf'])['p_pts_won%'].transform(lambda x: x.rolling(window=10, min_periods = 1).std().round(2).shift(1))\n",
    "\n",
    "df_player1['p_pts_won%_std_11to20'] = df_player1.groupby(['p_id','t_surf'])['p_pts_won%'].transform(lambda x: x.rolling(window=10, min_periods = 3).std().round(2).shift(11))\n",
    "df_player1['p_pts_won%_std_11to20'] = df_player1['p_pts_won%_std_11to20'].fillna(df_player1['p_pts_won%_std_1to10'])\n",
    "\n",
    "df_player1['p_pts_won%_std_21to30'] = df_player1.groupby(['p_id','t_surf'])['p_pts_won%'].transform(lambda x: x.rolling(window=10, min_periods = 3).std().round(2).shift(21))\n",
    "df_player1['p_pts_won%_std_21to30'] = df_player1['p_pts_won%_std_21to30'].fillna(df_player1['p_pts_won%_std_11to20'])\n",
    "\n",
    "df_player1['p_pts_won%_std_31to40'] = df_player1.groupby(['p_id','t_surf'])['p_pts_won%'].transform(lambda x: x.rolling(window=10, min_periods = 3).std().round(2).shift(31))\n",
    "df_player1['p_pts_won%_std_31to40'] = df_player1['p_pts_won%_std_31to40'].fillna(df_player1['p_pts_won%_std_21to30'])\n",
    "\n",
    "df_player1['p_pts_won%_std_41to50'] = df_player1.groupby(['p_id','t_surf'])['p_pts_won%'].transform(lambda x: x.rolling(window=10, min_periods = 3).std().round(2).shift(41))\n",
    "df_player1['p_pts_won%_std_41to50'] = df_player1['p_pts_won%_std_41to50'].fillna(df_player1['p_pts_won%_std_31to40'])\n",
    "\n",
    "df_player1['p_pts_won%_std_51to60'] = df_player1.groupby(['p_id','t_surf'])['p_pts_won%'].transform(lambda x: x.rolling(window=10, min_periods = 3).std().round(2).shift(51))\n",
    "df_player1['p_pts_won%_std_51to60'] = df_player1['p_pts_won%_std_51to60'].fillna(df_player1['p_pts_won%_std_41to50'])\n",
    "\n",
    "df_player1 = df_player1.iloc[::-1]"
   ]
  },
  {
   "cell_type": "code",
   "execution_count": 41,
   "id": "a8ca872e",
   "metadata": {},
   "outputs": [],
   "source": [
    "# Time-decay weighting the total pts won % by player result from above.\n",
    "\n",
    "df_player1[\"p_pts_won%_std_l60_decay\"] = (((df_player1['p_pts_won%_std_1to10'] * 14) + (df_player1['p_pts_won%_std_11to20'] * 8) + (df_player1['p_pts_won%_std_21to30'] * 5) \n",
    "+ (df_player1['p_pts_won%_std_31to40'] * 3) + (df_player1['p_pts_won%_std_41to50'] * 2) + (df_player1['p_pts_won%_std_51to60'] * 1))/33).round(2)\n",
    "\n",
    "#Dropping the transient columns used for the decay calculations\n",
    "df_player1.drop([\"p_pts_won%_std_1to10\", \"p_pts_won%_std_11to20\",\"p_pts_won%_std_21to30\",\"p_pts_won%_std_31to40\",\"p_pts_won%_std_41to50\",\"p_pts_won%_std_51to60\"],axis=1, inplace=True)\n"
   ]
  },
  {
   "cell_type": "code",
   "execution_count": 42,
   "id": "0eec6305",
   "metadata": {},
   "outputs": [],
   "source": [
    "# Variability (standard deviation) in serve pts won% over the previous 60 surface-specific matches (decay weighted)\n",
    "df_player1 = df_player1.iloc[::-1]\n",
    "\n",
    "df_player1['p_sv_pts_won%_std_1to10'] = df_player1.groupby(['p_id','t_surf'])['p_sv_pts_won%'].transform(lambda x: x.rolling(window=10, min_periods = 1).std().round(2).shift(1))\n",
    "\n",
    "df_player1['p_sv_pts_won%_std_11to20'] = df_player1.groupby(['p_id','t_surf'])['p_sv_pts_won%'].transform(lambda x: x.rolling(window=10, min_periods = 3).std().round(2).shift(11))\n",
    "df_player1['p_sv_pts_won%_std_11to20'] = df_player1['p_sv_pts_won%_std_11to20'].fillna(df_player1['p_sv_pts_won%_std_1to10'])\n",
    "\n",
    "df_player1['p_sv_pts_won%_std_21to30'] = df_player1.groupby(['p_id','t_surf'])['p_sv_pts_won%'].transform(lambda x: x.rolling(window=10, min_periods = 3).std().round(2).shift(21))\n",
    "df_player1['p_sv_pts_won%_std_21to30'] = df_player1['p_sv_pts_won%_std_21to30'].fillna(df_player1['p_sv_pts_won%_std_11to20'])\n",
    "\n",
    "df_player1['p_sv_pts_won%_std_31to40'] = df_player1.groupby(['p_id','t_surf'])['p_sv_pts_won%'].transform(lambda x: x.rolling(window=10, min_periods = 3).std().round(2).shift(31))\n",
    "df_player1['p_sv_pts_won%_std_31to40'] = df_player1['p_sv_pts_won%_std_31to40'].fillna(df_player1['p_sv_pts_won%_std_21to30'])\n",
    "\n",
    "df_player1['p_sv_pts_won%_std_41to50'] = df_player1.groupby(['p_id','t_surf'])['p_sv_pts_won%'].transform(lambda x: x.rolling(window=10, min_periods = 3).std().round(2).shift(41))\n",
    "df_player1['p_sv_pts_won%_std_41to50'] = df_player1['p_sv_pts_won%_std_41to50'].fillna(df_player1['p_sv_pts_won%_std_31to40'])\n",
    "\n",
    "df_player1['p_sv_pts_won%_std_51to60'] = df_player1.groupby(['p_id','t_surf'])['p_sv_pts_won%'].transform(lambda x: x.rolling(window=10, min_periods = 3).std().round(2).shift(51))\n",
    "df_player1['p_sv_pts_won%_std_51to60'] = df_player1['p_sv_pts_won%_std_51to60'].fillna(df_player1['p_sv_pts_won%_std_41to50'])\n",
    "\n",
    "df_player1 = df_player1.iloc[::-1]"
   ]
  },
  {
   "cell_type": "code",
   "execution_count": 43,
   "id": "9a39f3e6",
   "metadata": {},
   "outputs": [],
   "source": [
    "# Time-decay weighting the serve pts won % by player result from above.\n",
    "\n",
    "df_player1[\"p_sv_pts_won%_std_l60_decay\"] = (((df_player1['p_sv_pts_won%_std_1to10'] * 14) + (df_player1['p_sv_pts_won%_std_11to20'] * 8) + (df_player1['p_sv_pts_won%_std_21to30'] * 5) \n",
    "+ (df_player1['p_sv_pts_won%_std_31to40'] * 3) + (df_player1['p_sv_pts_won%_std_41to50'] * 2) + (df_player1['p_sv_pts_won%_std_51to60'] * 1))/33).round(2)\n",
    "\n",
    "#Dropping the transient columns used for the decay calculations\n",
    "df_player1.drop([\"p_sv_pts_won%_std_1to10\", \"p_sv_pts_won%_std_11to20\",\"p_sv_pts_won%_std_21to30\",\"p_sv_pts_won%_std_31to40\",\"p_sv_pts_won%_std_41to50\",\"p_sv_pts_won%_std_51to60\"],axis=1, inplace=True)\n"
   ]
  },
  {
   "cell_type": "code",
   "execution_count": 44,
   "id": "6ec99138",
   "metadata": {},
   "outputs": [],
   "source": [
    "# Variability (standard deviation) in return pts won% over the previous 60 surface-specific matches (decay weighted)\n",
    "df_player1 = df_player1.iloc[::-1]\n",
    "\n",
    "df_player1['p_ret_pts_won%_std_1to10'] = df_player1.groupby(['p_id','t_surf'])['p_ret_pts_won%'].transform(lambda x: x.rolling(window=10, min_periods = 1).std().round(2).shift(1))\n",
    "\n",
    "df_player1['p_ret_pts_won%_std_11to20'] = df_player1.groupby(['p_id','t_surf'])['p_ret_pts_won%'].transform(lambda x: x.rolling(window=10, min_periods = 3).std().round(2).shift(11))\n",
    "df_player1['p_ret_pts_won%_std_11to20'] = df_player1['p_ret_pts_won%_std_11to20'].fillna(df_player1['p_ret_pts_won%_std_1to10'])\n",
    "\n",
    "df_player1['p_ret_pts_won%_std_21to30'] = df_player1.groupby(['p_id','t_surf'])['p_ret_pts_won%'].transform(lambda x: x.rolling(window=10, min_periods = 3).std().round(2).shift(21))\n",
    "df_player1['p_ret_pts_won%_std_21to30'] = df_player1['p_ret_pts_won%_std_21to30'].fillna(df_player1['p_ret_pts_won%_std_11to20'])\n",
    "\n",
    "df_player1['p_ret_pts_won%_std_31to40'] = df_player1.groupby(['p_id','t_surf'])['p_ret_pts_won%'].transform(lambda x: x.rolling(window=10, min_periods = 3).std().round(2).shift(31))\n",
    "df_player1['p_ret_pts_won%_std_31to40'] = df_player1['p_ret_pts_won%_std_31to40'].fillna(df_player1['p_ret_pts_won%_std_21to30'])\n",
    "\n",
    "df_player1['p_ret_pts_won%_std_41to50'] = df_player1.groupby(['p_id','t_surf'])['p_ret_pts_won%'].transform(lambda x: x.rolling(window=10, min_periods = 3).std().round(2).shift(41))\n",
    "df_player1['p_ret_pts_won%_std_41to50'] = df_player1['p_ret_pts_won%_std_41to50'].fillna(df_player1['p_ret_pts_won%_std_31to40'])\n",
    "\n",
    "df_player1['p_ret_pts_won%_std_51to60'] = df_player1.groupby(['p_id','t_surf'])['p_ret_pts_won%'].transform(lambda x: x.rolling(window=10, min_periods = 3).std().round(2).shift(51))\n",
    "df_player1['p_ret_pts_won%_std_51to60'] = df_player1['p_ret_pts_won%_std_51to60'].fillna(df_player1['p_ret_pts_won%_std_41to50'])\n",
    "\n",
    "df_player1 = df_player1.iloc[::-1]"
   ]
  },
  {
   "cell_type": "code",
   "execution_count": 45,
   "id": "f02e3a2f",
   "metadata": {},
   "outputs": [],
   "source": [
    "# Time-decay weighting the return pts won % by player result from above.\n",
    "\n",
    "df_player1[\"p_ret_pts_won%_std_l60_decay\"] = (((df_player1['p_ret_pts_won%_std_1to10'] * 14) + (df_player1['p_ret_pts_won%_std_11to20'] * 8) + (df_player1['p_ret_pts_won%_std_21to30'] * 5) \n",
    "+ (df_player1['p_ret_pts_won%_std_31to40'] * 3) + (df_player1['p_ret_pts_won%_std_41to50'] * 2) + (df_player1['p_ret_pts_won%_std_51to60'] * 1))/33).round(2)\n",
    "\n",
    "#Dropping the transient columns used for the decay calculations\n",
    "df_player1.drop([\"p_ret_pts_won%_std_1to10\", \"p_ret_pts_won%_std_11to20\",\"p_ret_pts_won%_std_21to30\",\"p_ret_pts_won%_std_31to40\",\"p_ret_pts_won%_std_41to50\",\"p_ret_pts_won%_std_51to60\"],axis=1, inplace=True)\n"
   ]
  },
  {
   "cell_type": "code",
   "execution_count": 46,
   "id": "af1bb420",
   "metadata": {},
   "outputs": [],
   "source": [
    "#df_player1.to_csv('../data/df_player1.csv', index=False)"
   ]
  },
  {
   "cell_type": "code",
   "execution_count": 47,
   "id": "525726aa",
   "metadata": {},
   "outputs": [
    {
     "name": "stdout",
     "output_type": "stream",
     "text": [
      "<class 'pandas.core.frame.DataFrame'>\n",
      "Int64Index: 23608 entries, 13288 to 20560\n",
      "Data columns (total 65 columns):\n",
      " #   Column                        Non-Null Count  Dtype  \n",
      "---  ------                        --------------  -----  \n",
      " 0   t_id                          23608 non-null  object \n",
      " 1   t_date                        23608 non-null  int64  \n",
      " 2   tour_wk                       23608 non-null  object \n",
      " 3   t_name                        23608 non-null  object \n",
      " 4   t_country                     23608 non-null  object \n",
      " 5   t_surf                        23608 non-null  object \n",
      " 6   t_indoor                      23608 non-null  int64  \n",
      " 7   t_alt                         23608 non-null  int64  \n",
      " 8   t_lvl                         23608 non-null  int64  \n",
      " 9   t_draw_size                   23608 non-null  int64  \n",
      " 10  m_num                         23608 non-null  int64  \n",
      " 11  t_round                       23608 non-null  object \n",
      " 12  t_rd_num                      23608 non-null  int64  \n",
      " 13  m_best_of                     23608 non-null  int64  \n",
      " 14  m_score                       23608 non-null  object \n",
      " 15  m_time(m)                     23608 non-null  float64\n",
      " 16  p_id                          23608 non-null  int64  \n",
      " 17  p_name                        23608 non-null  object \n",
      " 18  p_rank                        23571 non-null  float64\n",
      " 19  p_rank_pts                    23571 non-null  float64\n",
      " 20  p_country                     23608 non-null  object \n",
      " 21  p_ent                         23608 non-null  float64\n",
      " 22  p_hd                          23608 non-null  object \n",
      " 23  p_ht                          23608 non-null  float64\n",
      " 24  p_age                         23608 non-null  float64\n",
      " 25  p_svpt                        23608 non-null  float64\n",
      " 26  p_1stWon                      23608 non-null  float64\n",
      " 27  p_2ndWon                      23608 non-null  float64\n",
      " 28  p_SvGms                       23608 non-null  float64\n",
      " 29  p_ace                         23608 non-null  float64\n",
      " 30  p_bpSaved                     23608 non-null  float64\n",
      " 31  p_bpFaced                     23608 non-null  float64\n",
      " 32  opp_id                        23608 non-null  int64  \n",
      " 33  opp_svpt                      23608 non-null  float64\n",
      " 34  opp_ace                       23608 non-null  float64\n",
      " 35  opp_bpSaved                   23608 non-null  float64\n",
      " 36  opp_bpFaced                   23608 non-null  float64\n",
      " 37  p_IP_NV                       23506 non-null  float64\n",
      " 38  p_pts_won%                    23608 non-null  float64\n",
      " 39  p_sv_pts_won%                 23608 non-null  float64\n",
      " 40  p_ret_pts_won%                23608 non-null  float64\n",
      " 41  m_tot_pts                     23608 non-null  float64\n",
      " 42  m_outcome                     23608 non-null  int64  \n",
      " 43  p_pts_won%_l60_decay          23069 non-null  float64\n",
      " 44  p_pts_won%_l10                23069 non-null  float64\n",
      " 45  p_pts_won%_l60_decay_IO       22774 non-null  float64\n",
      " 46  p_sv_pts_won%_l60_decay       23069 non-null  float64\n",
      " 47  p_sv_pts_won%_l10             23069 non-null  float64\n",
      " 48  p_ret_pts_won%_l60_decay      23069 non-null  float64\n",
      " 49  p_ret_pts_won%_l10            23069 non-null  float64\n",
      " 50  p_ace%                        23608 non-null  float64\n",
      " 51  p_ace%_l60_decay              23069 non-null  float64\n",
      " 52  p_ace%_l10                    23069 non-null  float64\n",
      " 53  p_aced%                       23608 non-null  float64\n",
      " 54  p_aced%_l60_decay             23069 non-null  float64\n",
      " 55  p_aced%_l10                   23069 non-null  float64\n",
      " 56  p_bp_save%                    23608 non-null  float64\n",
      " 57  p_bp_save%_l60                23069 non-null  float64\n",
      " 58  p_bp_save%_l10                23069 non-null  float64\n",
      " 59  p_bp_convert%                 23608 non-null  float64\n",
      " 60  p_bp_convert%_l60             23069 non-null  float64\n",
      " 61  p_bp_convert%_l10             23069 non-null  float64\n",
      " 62  p_pts_won%_std_l60_decay      22652 non-null  float64\n",
      " 63  p_sv_pts_won%_std_l60_decay   22652 non-null  float64\n",
      " 64  p_ret_pts_won%_std_l60_decay  22652 non-null  float64\n",
      "dtypes: float64(44), int64(11), object(10)\n",
      "memory usage: 11.9+ MB\n"
     ]
    }
   ],
   "source": [
    "df_player1.info()"
   ]
  },
  {
   "cell_type": "markdown",
   "id": "02601d9f",
   "metadata": {},
   "source": [
    "### Fatigue and Stamina Predictive Features"
   ]
  },
  {
   "cell_type": "code",
   "execution_count": 48,
   "id": "da389c98",
   "metadata": {},
   "outputs": [],
   "source": [
    "# Computes number of surface-specific (by dint of filtering prior to this workbook; this is dfferent from the original model, where this accrual included byoth hard court and clay court) \n",
    "# matches previous to the one being predicted on a player has played AND is contained in the sample\n",
    "# so basically this serves as a check on \"p_matches_surf\" in this workflow and should be redundant. \n",
    "\n",
    "df_player1 = df_player1.iloc[::-1]\n",
    "df_player1['p_matches'] = df_player1.groupby('p_id')['p_id'].transform(lambda x: x.rolling(500, min_periods=1).count().shift(1))\n",
    "df_player1 = df_player1.iloc[::-1]\n",
    "\n",
    "# If this is the first match in the sample on this surface for the player, the NaN will become 1 (these matches will be filtered out before modeling anyhow)\n",
    "df_player1['p_matches'] = df_player1['p_matches'].fillna(1)"
   ]
  },
  {
   "cell_type": "code",
   "execution_count": 49,
   "id": "ec293ab1",
   "metadata": {},
   "outputs": [],
   "source": [
    "# Computes number of matches previous to the one being predicted on a player has played AND is contained in the sample\n",
    "# Accrued WITH SURFACE SPECIFICITY (Clay or Hard). See cell above. \n",
    "\n",
    "df_player1 = df_player1.iloc[::-1]\n",
    "df_player1['p_matches_surf'] = df_player1.groupby(['p_id','t_surf'])['p_id'].transform(lambda x: x.rolling(window = 1000, min_periods=1).count().shift(1))\n",
    "df_player1 = df_player1.iloc[::-1]\n",
    "\n",
    "# If this is the first match in the sample for the player, the NaN will become 1 (these matches will be filtered out before modeling anyhow)\n",
    "df_player1['p_matches_surf'] = df_player1['p_matches_surf'].fillna(1)"
   ]
  },
  {
   "cell_type": "code",
   "execution_count": 50,
   "id": "cf7786e1",
   "metadata": {},
   "outputs": [],
   "source": [
    "# Computes time spent on court for a player across up to his last 6 matches within the same tournament (the most possible prior matches\n",
    "# in one tournament a player can have) as the match being predicted on is in.\n",
    "# NaN is replaced with 15 minutes; a range of values for fill (ie, \"off-day exertion\") was explored in modeling and this came out best\n",
    "\n",
    "df_player1[\"p_m_time_last\"] = df_player1.groupby(['p_id','tour_wk'])['m_time(m)'].shift(-1)\n",
    "df_player1['p_m_time_last'] = df_player1['p_m_time_last'].fillna(15)\n",
    "df_player1[\"p_m_time_2ago\"] = df_player1.groupby(['p_id','tour_wk'])['m_time(m)'].shift(-2)\n",
    "df_player1['p_m_time_2ago'] = df_player1['p_m_time_2ago'].fillna(15) \n",
    "df_player1[\"p_m_time_3ago\"] = df_player1.groupby(['p_id','tour_wk'])['m_time(m)'].shift(-3)\n",
    "df_player1['p_m_time_3ago'] = df_player1['p_m_time_3ago'].fillna(15) \n",
    "df_player1[\"p_m_time_4ago\"] = df_player1.groupby(['p_id','tour_wk'])['m_time(m)'].shift(-4)\n",
    "df_player1['p_m_time_4ago'] = df_player1['p_m_time_4ago'].fillna(15)\n",
    "df_player1[\"p_m_time_5ago\"] = df_player1.groupby(['p_id','tour_wk'])['m_time(m)'].shift(-5)\n",
    "df_player1['p_m_time_5ago'] = df_player1['p_m_time_5ago'].fillna(15) \n",
    "df_player1[\"p_m_time_6ago\"] = df_player1.groupby(['p_id','tour_wk'])['m_time(m)'].shift(-6)\n",
    "df_player1['p_m_time_6ago'] = df_player1['p_m_time_6ago'].fillna(15)\n",
    "\n",
    "# Decay-weighted and non-decay weighted versions of the total time are computed\n",
    "df_player1['p_tot_time_l6_decay'] = ((df_player1['p_m_time_last']*1) + (df_player1['p_m_time_2ago']*.9) + (df_player1['p_m_time_3ago']*.8) + (df_player1['p_m_time_4ago']*.7) + (df_player1['p_m_time_5ago']*.6) + (df_player1['p_m_time_5ago']*.5))\n",
    "df_player1['p_tot_time_l6'] = ((df_player1['p_m_time_last']*1) + (df_player1['p_m_time_2ago']*1) + (df_player1['p_m_time_3ago']*1) + (df_player1['p_m_time_4ago']*1) + (df_player1['p_m_time_5ago']*1) + (df_player1['p_m_time_6ago']*1)) #empirically tested to discern that no decay performs slightly better than decay\n",
    "\n",
    "# Dropping transient columns; keeping \"p_m_time_last\"\n",
    "df_player1 = df_player1.drop(['p_m_time_2ago','p_m_time_3ago','p_m_time_4ago','p_m_time_5ago','p_m_time_6ago'],axis=1)"
   ]
  },
  {
   "cell_type": "code",
   "execution_count": 51,
   "id": "1c9a60d4",
   "metadata": {},
   "outputs": [],
   "source": [
    "# Computes total points played for a player across up to his last 6 matches within the same tournament (the most possible prior matches\n",
    "# in one tournament a player can have) as the match being predicted on is in.\n",
    "# NaN is replaced with 25 points; a range of values for fill (ie, \"off-day exertion\") was explored in modeling and this came out best\n",
    "\n",
    "df_player1[\"p_tot_pts_last\"] = df_player1.groupby(['p_id','tour_wk'])['m_tot_pts'].shift(-1)\n",
    "df_player1['p_tot_pts_last'] = df_player1['p_tot_pts_last'].fillna(40) #a range of values for fill (ie, \"off-day exertion\") was explored in modeling and this came out best\n",
    "df_player1[\"p_tot_pts_2ago\"] = df_player1.groupby(['p_id','tour_wk'])['m_tot_pts'].shift(-2)\n",
    "df_player1['p_tot_pts_2ago'] = df_player1['p_tot_pts_2ago'].fillna(40) \n",
    "df_player1[\"p_tot_pts_3ago\"] = df_player1.groupby(['p_id','tour_wk'])['m_tot_pts'].shift(-3)\n",
    "df_player1['p_tot_pts_3ago'] = df_player1['p_tot_pts_3ago'].fillna(40) \n",
    "df_player1[\"p_tot_pts_4ago\"] = df_player1.groupby(['p_id','tour_wk'])['m_tot_pts'].shift(-4)\n",
    "df_player1['p_tot_pts_4ago'] = df_player1['p_tot_pts_4ago'].fillna(40)\n",
    "df_player1[\"p_tot_pts_5ago\"] = df_player1.groupby(['p_id','tour_wk'])['m_tot_pts'].shift(-5)\n",
    "df_player1['p_tot_pts_5ago'] = df_player1['p_tot_pts_5ago'].fillna(40) \n",
    "df_player1[\"p_tot_pts_6ago\"] = df_player1.groupby(['p_id','tour_wk'])['m_tot_pts'].shift(-6)\n",
    "df_player1['p_tot_pts_6ago'] = df_player1['p_tot_pts_6ago'].fillna(40) \n",
    "\n",
    "# Decay-weighted and non-decay weighted versions of the total pts are computed\n",
    "df_player1['p_tot_pts_l6_decay'] = ((df_player1['p_tot_pts_last']*1) + (df_player1['p_tot_pts_2ago']*.9) + (df_player1['p_tot_pts_3ago']*.8) + (df_player1['p_tot_pts_4ago']*.7) + (df_player1['p_tot_pts_5ago']*.6) + (df_player1['p_tot_pts_6ago']*.5))\n",
    "df_player1['p_tot_pts_l6'] = ((df_player1['p_tot_pts_last']*1) + (df_player1['p_tot_pts_2ago']*1) + (df_player1['p_tot_pts_3ago']*1) + (df_player1['p_tot_pts_4ago']*1) + (df_player1['p_tot_pts_5ago']*1) + (df_player1['p_tot_pts_6ago']*1)) #empirically tested to discern that no decay performs slightly better than decay\n",
    "\n",
    "# Dropping transient columns; keeping points from last match (\"p_tot_pts_last\")\n",
    "df_player1 = df_player1.drop(['p_tot_pts_2ago','p_tot_pts_3ago','p_tot_pts_4ago','p_tot_pts_5ago','p_tot_pts_6ago'],axis=1)"
   ]
  },
  {
   "cell_type": "code",
   "execution_count": 52,
   "id": "3dec93c2",
   "metadata": {},
   "outputs": [],
   "source": [
    "# Integrates \"stamina\" and \"fatigue\" features into a \"body battery\" feature (non- and decay weighted for match pts variable)\n",
    "# Currently, player matches in denom factored 4th root, based on some prediction quality feedbck from simple (linear) model \n",
    "\n",
    "#df_player1[\"p_stamina_adj_fatigue_decay\"] = (df_player1[\"p_tot_pts_l6_decay\"]/np.sqrt(df_player1[\"p_matches\"])).round(2)\n",
    "#df_player1[\"p_stamina_adj_fatigue\"] = (df_player1[\"p_tot_pts_l6\"]/np.sqrt(df_player1[\"p_matches\"])).round(2)\n",
    "df_player1[\"p_stamina_adj_fatigue_decay\"] = (df_player1[\"p_tot_pts_l6_decay\"])/(df_player1[\"p_matches\"]**(1/4)).round(2)\n",
    "df_player1[\"p_stamina_adj_fatigue\"] = (df_player1[\"p_tot_pts_l6\"])/(df_player1[\"p_matches\"]**(1/4)).round(2)"
   ]
  },
  {
   "cell_type": "code",
   "execution_count": 53,
   "id": "a8b2a353",
   "metadata": {},
   "outputs": [
    {
     "data": {
      "text/plain": [
       "13288    240.000000\n",
       "12652    240.000000\n",
       "11817    240.000000\n",
       "108      313.440860\n",
       "311      274.725275\n",
       "12575    217.977528\n",
       "33       196.531792\n",
       "487      142.857143\n",
       "12269    206.134969\n",
       "559      152.866242\n",
       "11924    328.666667\n",
       "742      265.248227\n",
       "62       235.606061\n",
       "182      201.680672\n",
       "12516    240.000000\n",
       "13176    240.000000\n",
       "13209    343.697479\n",
       "1250     240.000000\n",
       "14286    240.000000\n",
       "12673    240.000000\n",
       "14417    240.000000\n",
       "13984    240.000000\n",
       "12999    240.000000\n",
       "13593    240.000000\n",
       "13620    240.000000\n",
       "12148    105.263158\n",
       "12393    159.734513\n",
       "464      107.142857\n",
       "12338    108.597285\n",
       "12093    109.589041\n",
       "Name: p_stamina_adj_fatigue, dtype: float64"
      ]
     },
     "execution_count": 53,
     "metadata": {},
     "output_type": "execute_result"
    }
   ],
   "source": [
    "df_player1[\"p_stamina_adj_fatigue\"].head(30)"
   ]
  },
  {
   "cell_type": "markdown",
   "id": "ce738c5d",
   "metadata": {},
   "source": [
    "#### below is computed a given player's H2H wins versus an opponent prior to a match being predicted on in a surface-specific manner (across entire sample 2012-2019 though)"
   ]
  },
  {
   "cell_type": "code",
   "execution_count": 54,
   "id": "126078ac",
   "metadata": {},
   "outputs": [
    {
     "data": {
      "text/html": [
       "<div>\n",
       "<style scoped>\n",
       "    .dataframe tbody tr th:only-of-type {\n",
       "        vertical-align: middle;\n",
       "    }\n",
       "\n",
       "    .dataframe tbody tr th {\n",
       "        vertical-align: top;\n",
       "    }\n",
       "\n",
       "    .dataframe thead th {\n",
       "        text-align: right;\n",
       "    }\n",
       "</style>\n",
       "<table border=\"1\" class=\"dataframe\">\n",
       "  <thead>\n",
       "    <tr style=\"text-align: right;\">\n",
       "      <th></th>\n",
       "      <th>t_id</th>\n",
       "      <th>t_date</th>\n",
       "      <th>tour_wk</th>\n",
       "      <th>t_name</th>\n",
       "      <th>t_country</th>\n",
       "      <th>t_surf</th>\n",
       "      <th>t_indoor</th>\n",
       "      <th>t_alt</th>\n",
       "      <th>t_lvl</th>\n",
       "      <th>t_draw_size</th>\n",
       "      <th>...</th>\n",
       "      <th>p_matches_surf</th>\n",
       "      <th>p_m_time_last</th>\n",
       "      <th>p_tot_time_l6_decay</th>\n",
       "      <th>p_tot_time_l6</th>\n",
       "      <th>p_tot_pts_last</th>\n",
       "      <th>p_tot_pts_l6_decay</th>\n",
       "      <th>p_tot_pts_l6</th>\n",
       "      <th>p_stamina_adj_fatigue_decay</th>\n",
       "      <th>p_stamina_adj_fatigue</th>\n",
       "      <th>p_H2H_w</th>\n",
       "    </tr>\n",
       "  </thead>\n",
       "  <tbody>\n",
       "    <tr>\n",
       "      <th>13288</th>\n",
       "      <td>2019-560</td>\n",
       "      <td>20190826</td>\n",
       "      <td>2019_24</td>\n",
       "      <td>US Open</td>\n",
       "      <td>USA</td>\n",
       "      <td>Hard</td>\n",
       "      <td>0</td>\n",
       "      <td>0</td>\n",
       "      <td>4</td>\n",
       "      <td>128</td>\n",
       "      <td>...</td>\n",
       "      <td>1.0</td>\n",
       "      <td>15.0</td>\n",
       "      <td>67.5</td>\n",
       "      <td>90.0</td>\n",
       "      <td>40.0</td>\n",
       "      <td>180.0</td>\n",
       "      <td>240.0</td>\n",
       "      <td>180.000000</td>\n",
       "      <td>240.000000</td>\n",
       "      <td>0.0</td>\n",
       "    </tr>\n",
       "    <tr>\n",
       "      <th>12652</th>\n",
       "      <td>2019-M014</td>\n",
       "      <td>20191014</td>\n",
       "      <td>2019_29</td>\n",
       "      <td>Moscow</td>\n",
       "      <td>RUS</td>\n",
       "      <td>Hard</td>\n",
       "      <td>1</td>\n",
       "      <td>0</td>\n",
       "      <td>1</td>\n",
       "      <td>32</td>\n",
       "      <td>...</td>\n",
       "      <td>1.0</td>\n",
       "      <td>15.0</td>\n",
       "      <td>67.5</td>\n",
       "      <td>90.0</td>\n",
       "      <td>40.0</td>\n",
       "      <td>180.0</td>\n",
       "      <td>240.0</td>\n",
       "      <td>180.000000</td>\n",
       "      <td>240.000000</td>\n",
       "      <td>0.0</td>\n",
       "    </tr>\n",
       "    <tr>\n",
       "      <th>11817</th>\n",
       "      <td>2019-M004</td>\n",
       "      <td>20190225</td>\n",
       "      <td>2019_07</td>\n",
       "      <td>Acapulco</td>\n",
       "      <td>MEX</td>\n",
       "      <td>Hard</td>\n",
       "      <td>0</td>\n",
       "      <td>0</td>\n",
       "      <td>1</td>\n",
       "      <td>32</td>\n",
       "      <td>...</td>\n",
       "      <td>1.0</td>\n",
       "      <td>15.0</td>\n",
       "      <td>67.5</td>\n",
       "      <td>90.0</td>\n",
       "      <td>40.0</td>\n",
       "      <td>180.0</td>\n",
       "      <td>240.0</td>\n",
       "      <td>180.000000</td>\n",
       "      <td>240.000000</td>\n",
       "      <td>0.0</td>\n",
       "    </tr>\n",
       "    <tr>\n",
       "      <th>108</th>\n",
       "      <td>2019-7696</td>\n",
       "      <td>20191105</td>\n",
       "      <td>2019_33</td>\n",
       "      <td>NextGen Finals</td>\n",
       "      <td>ITA</td>\n",
       "      <td>Hard</td>\n",
       "      <td>1</td>\n",
       "      <td>0</td>\n",
       "      <td>3</td>\n",
       "      <td>8</td>\n",
       "      <td>...</td>\n",
       "      <td>12.0</td>\n",
       "      <td>75.0</td>\n",
       "      <td>289.2</td>\n",
       "      <td>350.0</td>\n",
       "      <td>123.0</td>\n",
       "      <td>472.2</td>\n",
       "      <td>583.0</td>\n",
       "      <td>253.870968</td>\n",
       "      <td>313.440860</td>\n",
       "      <td>0.0</td>\n",
       "    </tr>\n",
       "    <tr>\n",
       "      <th>311</th>\n",
       "      <td>2019-7696</td>\n",
       "      <td>20191105</td>\n",
       "      <td>2019_33</td>\n",
       "      <td>NextGen Finals</td>\n",
       "      <td>ITA</td>\n",
       "      <td>Hard</td>\n",
       "      <td>1</td>\n",
       "      <td>0</td>\n",
       "      <td>3</td>\n",
       "      <td>8</td>\n",
       "      <td>...</td>\n",
       "      <td>11.0</td>\n",
       "      <td>103.0</td>\n",
       "      <td>249.2</td>\n",
       "      <td>290.0</td>\n",
       "      <td>152.0</td>\n",
       "      <td>415.2</td>\n",
       "      <td>500.0</td>\n",
       "      <td>228.131868</td>\n",
       "      <td>274.725275</td>\n",
       "      <td>0.0</td>\n",
       "    </tr>\n",
       "    <tr>\n",
       "      <th>...</th>\n",
       "      <td>...</td>\n",
       "      <td>...</td>\n",
       "      <td>...</td>\n",
       "      <td>...</td>\n",
       "      <td>...</td>\n",
       "      <td>...</td>\n",
       "      <td>...</td>\n",
       "      <td>...</td>\n",
       "      <td>...</td>\n",
       "      <td>...</td>\n",
       "      <td>...</td>\n",
       "      <td>...</td>\n",
       "      <td>...</td>\n",
       "      <td>...</td>\n",
       "      <td>...</td>\n",
       "      <td>...</td>\n",
       "      <td>...</td>\n",
       "      <td>...</td>\n",
       "      <td>...</td>\n",
       "      <td>...</td>\n",
       "      <td>...</td>\n",
       "    </tr>\n",
       "    <tr>\n",
       "      <th>6364</th>\n",
       "      <td>2015-403</td>\n",
       "      <td>20150325</td>\n",
       "      <td>2015_09</td>\n",
       "      <td>Miami Masters</td>\n",
       "      <td>USA</td>\n",
       "      <td>Hard</td>\n",
       "      <td>0</td>\n",
       "      <td>0</td>\n",
       "      <td>2</td>\n",
       "      <td>96</td>\n",
       "      <td>...</td>\n",
       "      <td>4.0</td>\n",
       "      <td>15.0</td>\n",
       "      <td>67.5</td>\n",
       "      <td>90.0</td>\n",
       "      <td>40.0</td>\n",
       "      <td>180.0</td>\n",
       "      <td>240.0</td>\n",
       "      <td>127.659574</td>\n",
       "      <td>170.212766</td>\n",
       "      <td>0.0</td>\n",
       "    </tr>\n",
       "    <tr>\n",
       "      <th>18899</th>\n",
       "      <td>2015-495</td>\n",
       "      <td>20150223</td>\n",
       "      <td>2015_07</td>\n",
       "      <td>Dubai</td>\n",
       "      <td>UAE</td>\n",
       "      <td>Hard</td>\n",
       "      <td>0</td>\n",
       "      <td>0</td>\n",
       "      <td>1</td>\n",
       "      <td>32</td>\n",
       "      <td>...</td>\n",
       "      <td>3.0</td>\n",
       "      <td>15.0</td>\n",
       "      <td>67.5</td>\n",
       "      <td>90.0</td>\n",
       "      <td>40.0</td>\n",
       "      <td>180.0</td>\n",
       "      <td>240.0</td>\n",
       "      <td>136.363636</td>\n",
       "      <td>181.818182</td>\n",
       "      <td>0.0</td>\n",
       "    </tr>\n",
       "    <tr>\n",
       "      <th>18710</th>\n",
       "      <td>2015-496</td>\n",
       "      <td>20150216</td>\n",
       "      <td>2015_06</td>\n",
       "      <td>Marseille</td>\n",
       "      <td>FRA</td>\n",
       "      <td>Hard</td>\n",
       "      <td>1</td>\n",
       "      <td>0</td>\n",
       "      <td>1</td>\n",
       "      <td>28</td>\n",
       "      <td>...</td>\n",
       "      <td>2.0</td>\n",
       "      <td>15.0</td>\n",
       "      <td>67.5</td>\n",
       "      <td>90.0</td>\n",
       "      <td>40.0</td>\n",
       "      <td>180.0</td>\n",
       "      <td>240.0</td>\n",
       "      <td>151.260504</td>\n",
       "      <td>201.680672</td>\n",
       "      <td>0.0</td>\n",
       "    </tr>\n",
       "    <tr>\n",
       "      <th>19075</th>\n",
       "      <td>2015-407</td>\n",
       "      <td>20150209</td>\n",
       "      <td>2015_05</td>\n",
       "      <td>Rotterdam</td>\n",
       "      <td>NED</td>\n",
       "      <td>Hard</td>\n",
       "      <td>1</td>\n",
       "      <td>0</td>\n",
       "      <td>1</td>\n",
       "      <td>32</td>\n",
       "      <td>...</td>\n",
       "      <td>1.0</td>\n",
       "      <td>15.0</td>\n",
       "      <td>67.5</td>\n",
       "      <td>90.0</td>\n",
       "      <td>40.0</td>\n",
       "      <td>180.0</td>\n",
       "      <td>240.0</td>\n",
       "      <td>180.000000</td>\n",
       "      <td>240.000000</td>\n",
       "      <td>0.0</td>\n",
       "    </tr>\n",
       "    <tr>\n",
       "      <th>20560</th>\n",
       "      <td>2014-328</td>\n",
       "      <td>20141020</td>\n",
       "      <td>2014_31</td>\n",
       "      <td>Basel</td>\n",
       "      <td>SUI</td>\n",
       "      <td>Hard</td>\n",
       "      <td>1</td>\n",
       "      <td>0</td>\n",
       "      <td>1</td>\n",
       "      <td>32</td>\n",
       "      <td>...</td>\n",
       "      <td>1.0</td>\n",
       "      <td>15.0</td>\n",
       "      <td>67.5</td>\n",
       "      <td>90.0</td>\n",
       "      <td>40.0</td>\n",
       "      <td>180.0</td>\n",
       "      <td>240.0</td>\n",
       "      <td>180.000000</td>\n",
       "      <td>240.000000</td>\n",
       "      <td>0.0</td>\n",
       "    </tr>\n",
       "  </tbody>\n",
       "</table>\n",
       "<p>23608 rows × 76 columns</p>\n",
       "</div>"
      ],
      "text/plain": [
       "            t_id    t_date  tour_wk          t_name t_country t_surf  \\\n",
       "13288   2019-560  20190826  2019_24         US Open       USA   Hard   \n",
       "12652  2019-M014  20191014  2019_29          Moscow       RUS   Hard   \n",
       "11817  2019-M004  20190225  2019_07        Acapulco       MEX   Hard   \n",
       "108    2019-7696  20191105  2019_33  NextGen Finals       ITA   Hard   \n",
       "311    2019-7696  20191105  2019_33  NextGen Finals       ITA   Hard   \n",
       "...          ...       ...      ...             ...       ...    ...   \n",
       "6364    2015-403  20150325  2015_09   Miami Masters       USA   Hard   \n",
       "18899   2015-495  20150223  2015_07           Dubai       UAE   Hard   \n",
       "18710   2015-496  20150216  2015_06       Marseille       FRA   Hard   \n",
       "19075   2015-407  20150209  2015_05       Rotterdam       NED   Hard   \n",
       "20560   2014-328  20141020  2014_31           Basel       SUI   Hard   \n",
       "\n",
       "       t_indoor  t_alt  t_lvl  t_draw_size  ...  p_matches_surf p_m_time_last  \\\n",
       "13288         0      0      4          128  ...             1.0          15.0   \n",
       "12652         1      0      1           32  ...             1.0          15.0   \n",
       "11817         0      0      1           32  ...             1.0          15.0   \n",
       "108           1      0      3            8  ...            12.0          75.0   \n",
       "311           1      0      3            8  ...            11.0         103.0   \n",
       "...         ...    ...    ...          ...  ...             ...           ...   \n",
       "6364          0      0      2           96  ...             4.0          15.0   \n",
       "18899         0      0      1           32  ...             3.0          15.0   \n",
       "18710         1      0      1           28  ...             2.0          15.0   \n",
       "19075         1      0      1           32  ...             1.0          15.0   \n",
       "20560         1      0      1           32  ...             1.0          15.0   \n",
       "\n",
       "       p_tot_time_l6_decay  p_tot_time_l6 p_tot_pts_last  p_tot_pts_l6_decay  \\\n",
       "13288                 67.5           90.0           40.0               180.0   \n",
       "12652                 67.5           90.0           40.0               180.0   \n",
       "11817                 67.5           90.0           40.0               180.0   \n",
       "108                  289.2          350.0          123.0               472.2   \n",
       "311                  249.2          290.0          152.0               415.2   \n",
       "...                    ...            ...            ...                 ...   \n",
       "6364                  67.5           90.0           40.0               180.0   \n",
       "18899                 67.5           90.0           40.0               180.0   \n",
       "18710                 67.5           90.0           40.0               180.0   \n",
       "19075                 67.5           90.0           40.0               180.0   \n",
       "20560                 67.5           90.0           40.0               180.0   \n",
       "\n",
       "       p_tot_pts_l6 p_stamina_adj_fatigue_decay  p_stamina_adj_fatigue  \\\n",
       "13288         240.0                  180.000000             240.000000   \n",
       "12652         240.0                  180.000000             240.000000   \n",
       "11817         240.0                  180.000000             240.000000   \n",
       "108           583.0                  253.870968             313.440860   \n",
       "311           500.0                  228.131868             274.725275   \n",
       "...             ...                         ...                    ...   \n",
       "6364          240.0                  127.659574             170.212766   \n",
       "18899         240.0                  136.363636             181.818182   \n",
       "18710         240.0                  151.260504             201.680672   \n",
       "19075         240.0                  180.000000             240.000000   \n",
       "20560         240.0                  180.000000             240.000000   \n",
       "\n",
       "       p_H2H_w  \n",
       "13288      0.0  \n",
       "12652      0.0  \n",
       "11817      0.0  \n",
       "108        0.0  \n",
       "311        0.0  \n",
       "...        ...  \n",
       "6364       0.0  \n",
       "18899      0.0  \n",
       "18710      0.0  \n",
       "19075      0.0  \n",
       "20560      0.0  \n",
       "\n",
       "[23608 rows x 76 columns]"
      ]
     },
     "execution_count": 54,
     "metadata": {},
     "output_type": "execute_result"
    }
   ],
   "source": [
    "df_player1 = df_player1.iloc[::-1]\n",
    "df_player1['p_H2H_w'] = df_player1.groupby(['p_id','opp_id','t_surf'])['m_outcome'].transform(lambda x: x.rolling(window=2000, min_periods = 1).sum().shift(1))\n",
    "df_player1 = df_player1.iloc[::-1]\n",
    "df_player1['p_H2H_w'] = df_player1['p_H2H_w'].fillna(0)\n",
    "df_player1"
   ]
  },
  {
   "cell_type": "code",
   "execution_count": 55,
   "id": "f22846cb",
   "metadata": {},
   "outputs": [],
   "source": [
    "# H2H Past Comparison at the level of pts% won\n",
    "df_player1 = df_player1.iloc[::-1]\n",
    "df_player1['p_H2H_pts_won%'] = df_player1.groupby(['p_id','opp_id','t_surf'])['p_pts_won%'].transform(lambda x: x.rolling(window=2000, min_periods = 1).mean().shift(1))\n",
    "df_player1 = df_player1.iloc[::-1]\n",
    "#df_player1['p_H2H_pts_won%'] = df_player1['p_H2H_pts_won%'].fillna(0)\n",
    "#df_player1"
   ]
  },
  {
   "cell_type": "code",
   "execution_count": 56,
   "id": "38a8ae7d",
   "metadata": {},
   "outputs": [],
   "source": [
    "#Save current df prior to another transformation back to by-match organization\n",
    "#df_player2.to_csv('../data/df_player2.csv', index=False)"
   ]
  },
  {
   "cell_type": "markdown",
   "id": "69f10029",
   "metadata": {},
   "source": [
    "converting briefly back to by-match organization so that we can obtain the data we need to compute player \"Strength of Schedule\" at the time of each match to be predicted on, across a range of features. The concept is the same as you might seen in football or soccer analytics. At the time of every match to be predicted on, we have a number of (mostly time-decay weighted) assessments of how the player performed over the last stretch of time (60 matches) on the same surface as the match to be played. However, we want to normalize these predictive features by the aggregate strength of the schedule of opponents they faced in the stretch over which those features were generated. For example, winning 60% of your serve points against a schedule of opponents who had historically yielded 65% of opponent serve points (ie, their own return points) is not as impressive as winning 60% of your serve points against a schedule of opponents who had historically yielded 55% of opponent serve points (ie, their own return points)."
   ]
  },
  {
   "cell_type": "code",
   "execution_count": 57,
   "id": "dee7c353",
   "metadata": {},
   "outputs": [],
   "source": [
    "df_winners2 = df_player1[df_player1['m_outcome'] == 1]\n",
    "df_losers2 = df_player1[df_player1['m_outcome'] == 0]\n",
    "df_match2 = df_winners2.merge(df_losers2, on='m_num', how = 'left')"
   ]
  },
  {
   "cell_type": "code",
   "execution_count": 58,
   "id": "cf231e47",
   "metadata": {},
   "outputs": [],
   "source": [
    "#Save current df prior to another transformation back to by-match organization\n",
    "df_match2.to_csv('../data/df_match2.csv', index=False)"
   ]
  },
  {
   "cell_type": "code",
   "execution_count": 59,
   "id": "2910bcd4",
   "metadata": {},
   "outputs": [
    {
     "name": "stdout",
     "output_type": "stream",
     "text": [
      "<class 'pandas.core.frame.DataFrame'>\n",
      "Int64Index: 11804 entries, 0 to 11803\n",
      "Columns: 153 entries, t_id_x to p_H2H_pts_won%_y\n",
      "dtypes: float64(112), int64(21), object(20)\n",
      "memory usage: 13.9+ MB\n"
     ]
    }
   ],
   "source": [
    "df_match2.info()"
   ]
  },
  {
   "cell_type": "code",
   "execution_count": 60,
   "id": "e860eb08",
   "metadata": {},
   "outputs": [],
   "source": [
    "#Back to by-player organization, picking up the reciprocal columns per player needed to make SOS calculations\n",
    "\n",
    "# Dropping other player columns for winners\n",
    "df_winners2 = df_match2.drop([\"p_svpt_x\", \"p_1stWon_x\", \"p_2ndWon_x\", \"p_SvGms_x\", \"p_ace_x\", \"p_bpSaved_x\", \"p_bpFaced_x\", \"opp_svpt_x\", \"opp_ace_x\", \"opp_bpSaved_x\", \"opp_bpFaced_x\", \"m_outcome_x\", \"t_id_y\", \"t_date_y\", \"tour_wk_y\", \"t_name_y\", \"t_country_y\", \"t_surf_y\", \"t_indoor_y\", \"t_alt_y\", \"t_lvl_y\", \"t_draw_size_y\", \"t_round_y\", \"t_rd_num_y\", \"m_best_of_y\", \"m_score_y\", \"m_time(m)_y\", \"p_id_y\", \"p_name_y\", \"p_rank_y\", \"p_rank_pts_y\", \"p_country_y\", \"p_ent_y\", \"p_hd_y\", \"p_ht_y\", \"p_age_y\", \"p_svpt_y\", \"p_1stWon_y\", \"p_2ndWon_y\", \"p_SvGms_y\", \"p_ace_y\", \"p_bpSaved_y\", \"p_bpFaced_y\", \"opp_id_y\", \"opp_svpt_y\", \"opp_ace_y\", \"opp_bpSaved_y\", \"opp_bpFaced_y\", \"p_IP_NV_y\", \"p_pts_won%_y\", \"p_sv_pts_won%_y\", \"p_ret_pts_won%_y\", \"m_tot_pts_y\", \"m_outcome_y\", \"p_ace%_y\", \"p_aced%_y\", \"p_bp_save%_y\", \"p_bp_convert%_y\", \"p_pts_won%_std_l60_decay_y\", \"p_sv_pts_won%_std_l60_decay_y\", \"p_ret_pts_won%_std_l60_decay_y\", \"p_matches_y\", \"p_matches_surf_y\", \"p_m_time_last_y\", \"p_tot_time_l6_decay_y\", \"p_tot_time_l6_y\", \"p_tot_pts_last_y\", \"p_tot_pts_l6_decay_y\", \"p_tot_pts_l6_y\", \"p_stamina_adj_fatigue_decay_y\", \"p_stamina_adj_fatigue_y\",  \"p_H2H_w_y\", \"p_H2H_pts_won%_y\"], axis = 1)\n",
    "df_winners2[\"m_outcome\"] = 1"
   ]
  },
  {
   "cell_type": "code",
   "execution_count": 61,
   "id": "bc30f56f",
   "metadata": {},
   "outputs": [
    {
     "name": "stdout",
     "output_type": "stream",
     "text": [
      "<class 'pandas.core.frame.DataFrame'>\n",
      "Int64Index: 11804 entries, 0 to 11803\n",
      "Data columns (total 81 columns):\n",
      " #   Column                          Non-Null Count  Dtype  \n",
      "---  ------                          --------------  -----  \n",
      " 0   t_id_x                          11804 non-null  object \n",
      " 1   t_date_x                        11804 non-null  int64  \n",
      " 2   tour_wk_x                       11804 non-null  object \n",
      " 3   t_name_x                        11804 non-null  object \n",
      " 4   t_country_x                     11804 non-null  object \n",
      " 5   t_surf_x                        11804 non-null  object \n",
      " 6   t_indoor_x                      11804 non-null  int64  \n",
      " 7   t_alt_x                         11804 non-null  int64  \n",
      " 8   t_lvl_x                         11804 non-null  int64  \n",
      " 9   t_draw_size_x                   11804 non-null  int64  \n",
      " 10  m_num                           11804 non-null  int64  \n",
      " 11  t_round_x                       11804 non-null  object \n",
      " 12  t_rd_num_x                      11804 non-null  int64  \n",
      " 13  m_best_of_x                     11804 non-null  int64  \n",
      " 14  m_score_x                       11804 non-null  object \n",
      " 15  m_time(m)_x                     11804 non-null  float64\n",
      " 16  p_id_x                          11804 non-null  int64  \n",
      " 17  p_name_x                        11804 non-null  object \n",
      " 18  p_rank_x                        11798 non-null  float64\n",
      " 19  p_rank_pts_x                    11798 non-null  float64\n",
      " 20  p_country_x                     11804 non-null  object \n",
      " 21  p_ent_x                         11804 non-null  float64\n",
      " 22  p_hd_x                          11804 non-null  object \n",
      " 23  p_ht_x                          11804 non-null  float64\n",
      " 24  p_age_x                         11804 non-null  float64\n",
      " 25  opp_id_x                        11804 non-null  int64  \n",
      " 26  p_IP_NV_x                       11753 non-null  float64\n",
      " 27  p_pts_won%_x                    11804 non-null  float64\n",
      " 28  p_sv_pts_won%_x                 11804 non-null  float64\n",
      " 29  p_ret_pts_won%_x                11804 non-null  float64\n",
      " 30  m_tot_pts_x                     11804 non-null  float64\n",
      " 31  p_pts_won%_l60_decay_x          11663 non-null  float64\n",
      " 32  p_pts_won%_l10_x                11663 non-null  float64\n",
      " 33  p_pts_won%_l60_decay_IO_x       11527 non-null  float64\n",
      " 34  p_sv_pts_won%_l60_decay_x       11663 non-null  float64\n",
      " 35  p_sv_pts_won%_l10_x             11663 non-null  float64\n",
      " 36  p_ret_pts_won%_l60_decay_x      11663 non-null  float64\n",
      " 37  p_ret_pts_won%_l10_x            11663 non-null  float64\n",
      " 38  p_ace%_x                        11804 non-null  float64\n",
      " 39  p_ace%_l60_decay_x              11663 non-null  float64\n",
      " 40  p_ace%_l10_x                    11663 non-null  float64\n",
      " 41  p_aced%_x                       11804 non-null  float64\n",
      " 42  p_aced%_l60_decay_x             11663 non-null  float64\n",
      " 43  p_aced%_l10_x                   11663 non-null  float64\n",
      " 44  p_bp_save%_x                    11804 non-null  float64\n",
      " 45  p_bp_save%_l60_x                11663 non-null  float64\n",
      " 46  p_bp_save%_l10_x                11663 non-null  float64\n",
      " 47  p_bp_convert%_x                 11804 non-null  float64\n",
      " 48  p_bp_convert%_l60_x             11663 non-null  float64\n",
      " 49  p_bp_convert%_l10_x             11663 non-null  float64\n",
      " 50  p_pts_won%_std_l60_decay_x      11524 non-null  float64\n",
      " 51  p_sv_pts_won%_std_l60_decay_x   11524 non-null  float64\n",
      " 52  p_ret_pts_won%_std_l60_decay_x  11524 non-null  float64\n",
      " 53  p_matches_x                     11804 non-null  float64\n",
      " 54  p_matches_surf_x                11804 non-null  float64\n",
      " 55  p_m_time_last_x                 11804 non-null  float64\n",
      " 56  p_tot_time_l6_decay_x           11804 non-null  float64\n",
      " 57  p_tot_time_l6_x                 11804 non-null  float64\n",
      " 58  p_tot_pts_last_x                11804 non-null  float64\n",
      " 59  p_tot_pts_l6_decay_x            11804 non-null  float64\n",
      " 60  p_tot_pts_l6_x                  11804 non-null  float64\n",
      " 61  p_stamina_adj_fatigue_decay_x   11804 non-null  float64\n",
      " 62  p_stamina_adj_fatigue_x         11804 non-null  float64\n",
      " 63  p_H2H_w_x                       11804 non-null  float64\n",
      " 64  p_H2H_pts_won%_x                3905 non-null   float64\n",
      " 65  p_pts_won%_l60_decay_y          11406 non-null  float64\n",
      " 66  p_pts_won%_l10_y                11406 non-null  float64\n",
      " 67  p_pts_won%_l60_decay_IO_y       11247 non-null  float64\n",
      " 68  p_sv_pts_won%_l60_decay_y       11406 non-null  float64\n",
      " 69  p_sv_pts_won%_l10_y             11406 non-null  float64\n",
      " 70  p_ret_pts_won%_l60_decay_y      11406 non-null  float64\n",
      " 71  p_ret_pts_won%_l10_y            11406 non-null  float64\n",
      " 72  p_ace%_l60_decay_y              11406 non-null  float64\n",
      " 73  p_ace%_l10_y                    11406 non-null  float64\n",
      " 74  p_aced%_l60_decay_y             11406 non-null  float64\n",
      " 75  p_aced%_l10_y                   11406 non-null  float64\n",
      " 76  p_bp_save%_l60_y                11406 non-null  float64\n",
      " 77  p_bp_save%_l10_y                11406 non-null  float64\n",
      " 78  p_bp_convert%_l60_y             11406 non-null  float64\n",
      " 79  p_bp_convert%_l10_y             11406 non-null  float64\n",
      " 80  m_outcome                       11804 non-null  int64  \n",
      "dtypes: float64(60), int64(11), object(10)\n",
      "memory usage: 7.4+ MB\n"
     ]
    }
   ],
   "source": [
    "df_winners2.info()"
   ]
  },
  {
   "cell_type": "code",
   "execution_count": 62,
   "id": "069b8165",
   "metadata": {},
   "outputs": [],
   "source": [
    "#Renaming columns to remove winner-loser descriptions so we can re-concatenate winners and losers\n",
    "df_winners2 = df_winners2.set_axis([\"t_id\", \"t_date\", \"tour_wk\", \"t_name\", \"t_country\", \"t_surf\", \"t_indoor\", \"t_alt\", \"t_lvl\", \"t_draw_size\", \"m_num\", \"t_round\", \"t_rd_num\", \"m_best_of\", \"m_score\",\"m_time(m)\", \"p_id\", \"p_name\",\"p_rank\", \"p_rank_pts\", \"p_country\", \"p_ent\", \"p_hd\", \"p_ht\", \"p_age\", \"opp_id\", \"p_IP_NV\", \"p_pts_won%\", \"p_sv_pts_won%\", \"p_ret_pts_won%\", \"m_tot_pts\", \"p_pts_won%_l60_decay\", \"p_pts_won%_l10\", \"p_pts_won%_l60_decay_IO\", \"p_sv_pts_won%_l60_decay\", \"p_sv_pts_won%_l10\", \"p_ret_pts_won%_l60_decay\", \"p_ret_pts_won%_l10\", \"p_ace%\", \"p_ace%_l60_decay\", \"p_ace%_l10\", \"p_aced%\", \"p_aced%_l60_decay\", \"p_aced%_l10\", \"p_bp_save%\", \"p_bp_save%_l60\", \"p_bp_save%_l10\", \"p_bp_convert%\", \"p_bp_convert%_l60\", \"p_bp_convert%_l10\", \"p_pts_won%_std_l60_decay\",'p_sv_pts_won%_std_l60_decay','p_ret_pts_won%_std_l60_decay', \"p_matches\", \"p_matches_surf\", \"p_m_time_last\", \"p_tot_time_l6_decay\", \"p_tot_time_l6\", \"p_tot_pts_last\", \"p_tot_pts_l6_decay\", \"p_tot_pts_l6\", \"p_stamina_adj_fatigue_decay\", \"p_stamina_adj_fatigue\", \"p_H2H_w\", \"p_H2H_pts_won%\", \"p_opp_pts_won%_l60_decay\", \"p_opp_pts_won%_l10\", \"p_opp_pts_won%_l60_decay_IO\", \"p_opp_sv_pts_won%_l60_decay\", \"p_opp_sv_pts_won%_l10\", \"p_opp_ret_pts_won%_l60_decay\", \"p_opp_ret_pts_won%_l10\", \"p_opp_ace%_l60_decay\", \"p_opp_ace%_l10\", \"p_opp_aced%_l60_decay\", \"p_opp_aced%_l10\", \"p_opp_bp_save%_l60\", \"p_opp_bp_save%_l10\", \"p_opp_bp_convert%_l60\", \"p_opp_bp_convert%_l10\", \"m_outcome\"], axis=1)"
   ]
  },
  {
   "cell_type": "code",
   "execution_count": 63,
   "id": "3313d596",
   "metadata": {},
   "outputs": [],
   "source": [
    "#Dropping other player columns for losers\n",
    "df_losers2 = df_match2.drop([\"p_id_x\", \"p_name_x\", \"p_rank_x\", \"p_rank_pts_x\", \"p_country_x\", \"p_ent_x\", \"p_hd_x\", \"p_ht_x\", \"p_age_x\", \"p_svpt_x\", \"p_1stWon_x\", \"p_2ndWon_x\", \"p_SvGms_x\", \"p_ace_x\", \"p_bpSaved_x\", \"p_bpFaced_x\", \"opp_id_x\", \"opp_svpt_x\", \"opp_ace_x\", \"opp_bpSaved_x\", \"opp_bpFaced_x\", \"p_IP_NV_x\", \"p_pts_won%_x\", \"p_sv_pts_won%_x\", \"p_ret_pts_won%_x\", \"m_outcome_x\", \"p_ace%_x\", \"p_aced%_x\", \"p_bp_save%_x\", \"p_bp_convert%_x\", \"p_pts_won%_std_l60_decay_x\", \"p_sv_pts_won%_std_l60_decay_x\", \"p_ret_pts_won%_std_l60_decay_x\", \"p_matches_x\", \"p_matches_surf_x\", \"p_m_time_last_x\", \"p_tot_time_l6_decay_x\", \"p_tot_time_l6_x\", \"p_tot_pts_last_x\", \"p_tot_pts_l6_decay_x\", \"p_tot_pts_l6_x\", \"p_stamina_adj_fatigue_decay_x\", \"p_stamina_adj_fatigue_x\", \"p_H2H_w_x\", \"p_H2H_pts_won%_x\", \"t_id_y\", \"t_date_y\", \"tour_wk_y\", \"t_name_y\", \"t_country_y\", \"t_surf_y\", \"t_indoor_y\", \"t_alt_y\", \"t_lvl_y\", \"t_draw_size_y\", \"t_round_y\", \"t_rd_num_y\", \"m_best_of_y\", \"m_score_y\", \"m_time(m)_y\", \"p_svpt_y\", \"p_1stWon_y\", \"p_2ndWon_y\", \"p_SvGms_y\", \"p_ace_y\", \"p_bpSaved_y\", \"p_bpFaced_y\", \"opp_svpt_y\", \"opp_ace_y\", \"opp_bpSaved_y\", \"opp_bpFaced_y\", \"m_tot_pts_y\", \"m_outcome_y\"], axis = 1)\n",
    "df_losers2[\"m_outcome\"] = 0"
   ]
  },
  {
   "cell_type": "code",
   "execution_count": 64,
   "id": "50e834eb",
   "metadata": {},
   "outputs": [
    {
     "name": "stdout",
     "output_type": "stream",
     "text": [
      "<class 'pandas.core.frame.DataFrame'>\n",
      "Int64Index: 11804 entries, 0 to 11803\n",
      "Data columns (total 81 columns):\n",
      " #   Column                          Non-Null Count  Dtype  \n",
      "---  ------                          --------------  -----  \n",
      " 0   t_id_x                          11804 non-null  object \n",
      " 1   t_date_x                        11804 non-null  int64  \n",
      " 2   tour_wk_x                       11804 non-null  object \n",
      " 3   t_name_x                        11804 non-null  object \n",
      " 4   t_country_x                     11804 non-null  object \n",
      " 5   t_surf_x                        11804 non-null  object \n",
      " 6   t_indoor_x                      11804 non-null  int64  \n",
      " 7   t_alt_x                         11804 non-null  int64  \n",
      " 8   t_lvl_x                         11804 non-null  int64  \n",
      " 9   t_draw_size_x                   11804 non-null  int64  \n",
      " 10  m_num                           11804 non-null  int64  \n",
      " 11  t_round_x                       11804 non-null  object \n",
      " 12  t_rd_num_x                      11804 non-null  int64  \n",
      " 13  m_best_of_x                     11804 non-null  int64  \n",
      " 14  m_score_x                       11804 non-null  object \n",
      " 15  m_time(m)_x                     11804 non-null  float64\n",
      " 16  m_tot_pts_x                     11804 non-null  float64\n",
      " 17  p_pts_won%_l60_decay_x          11663 non-null  float64\n",
      " 18  p_pts_won%_l10_x                11663 non-null  float64\n",
      " 19  p_pts_won%_l60_decay_IO_x       11527 non-null  float64\n",
      " 20  p_sv_pts_won%_l60_decay_x       11663 non-null  float64\n",
      " 21  p_sv_pts_won%_l10_x             11663 non-null  float64\n",
      " 22  p_ret_pts_won%_l60_decay_x      11663 non-null  float64\n",
      " 23  p_ret_pts_won%_l10_x            11663 non-null  float64\n",
      " 24  p_ace%_l60_decay_x              11663 non-null  float64\n",
      " 25  p_ace%_l10_x                    11663 non-null  float64\n",
      " 26  p_aced%_l60_decay_x             11663 non-null  float64\n",
      " 27  p_aced%_l10_x                   11663 non-null  float64\n",
      " 28  p_bp_save%_l60_x                11663 non-null  float64\n",
      " 29  p_bp_save%_l10_x                11663 non-null  float64\n",
      " 30  p_bp_convert%_l60_x             11663 non-null  float64\n",
      " 31  p_bp_convert%_l10_x             11663 non-null  float64\n",
      " 32  p_id_y                          11804 non-null  int64  \n",
      " 33  p_name_y                        11804 non-null  object \n",
      " 34  p_rank_y                        11773 non-null  float64\n",
      " 35  p_rank_pts_y                    11773 non-null  float64\n",
      " 36  p_country_y                     11804 non-null  object \n",
      " 37  p_ent_y                         11804 non-null  float64\n",
      " 38  p_hd_y                          11804 non-null  object \n",
      " 39  p_ht_y                          11804 non-null  float64\n",
      " 40  p_age_y                         11804 non-null  float64\n",
      " 41  opp_id_y                        11804 non-null  int64  \n",
      " 42  p_IP_NV_y                       11753 non-null  float64\n",
      " 43  p_pts_won%_y                    11804 non-null  float64\n",
      " 44  p_sv_pts_won%_y                 11804 non-null  float64\n",
      " 45  p_ret_pts_won%_y                11804 non-null  float64\n",
      " 46  p_pts_won%_l60_decay_y          11406 non-null  float64\n",
      " 47  p_pts_won%_l10_y                11406 non-null  float64\n",
      " 48  p_pts_won%_l60_decay_IO_y       11247 non-null  float64\n",
      " 49  p_sv_pts_won%_l60_decay_y       11406 non-null  float64\n",
      " 50  p_sv_pts_won%_l10_y             11406 non-null  float64\n",
      " 51  p_ret_pts_won%_l60_decay_y      11406 non-null  float64\n",
      " 52  p_ret_pts_won%_l10_y            11406 non-null  float64\n",
      " 53  p_ace%_y                        11804 non-null  float64\n",
      " 54  p_ace%_l60_decay_y              11406 non-null  float64\n",
      " 55  p_ace%_l10_y                    11406 non-null  float64\n",
      " 56  p_aced%_y                       11804 non-null  float64\n",
      " 57  p_aced%_l60_decay_y             11406 non-null  float64\n",
      " 58  p_aced%_l10_y                   11406 non-null  float64\n",
      " 59  p_bp_save%_y                    11804 non-null  float64\n",
      " 60  p_bp_save%_l60_y                11406 non-null  float64\n",
      " 61  p_bp_save%_l10_y                11406 non-null  float64\n",
      " 62  p_bp_convert%_y                 11804 non-null  float64\n",
      " 63  p_bp_convert%_l60_y             11406 non-null  float64\n",
      " 64  p_bp_convert%_l10_y             11406 non-null  float64\n",
      " 65  p_pts_won%_std_l60_decay_y      11128 non-null  float64\n",
      " 66  p_sv_pts_won%_std_l60_decay_y   11128 non-null  float64\n",
      " 67  p_ret_pts_won%_std_l60_decay_y  11128 non-null  float64\n",
      " 68  p_matches_y                     11804 non-null  float64\n",
      " 69  p_matches_surf_y                11804 non-null  float64\n",
      " 70  p_m_time_last_y                 11804 non-null  float64\n",
      " 71  p_tot_time_l6_decay_y           11804 non-null  float64\n",
      " 72  p_tot_time_l6_y                 11804 non-null  float64\n",
      " 73  p_tot_pts_last_y                11804 non-null  float64\n",
      " 74  p_tot_pts_l6_decay_y            11804 non-null  float64\n",
      " 75  p_tot_pts_l6_y                  11804 non-null  float64\n",
      " 76  p_stamina_adj_fatigue_decay_y   11804 non-null  float64\n",
      " 77  p_stamina_adj_fatigue_y         11804 non-null  float64\n",
      " 78  p_H2H_w_y                       11804 non-null  float64\n",
      " 79  p_H2H_pts_won%_y                3905 non-null   float64\n",
      " 80  m_outcome                       11804 non-null  int64  \n",
      "dtypes: float64(60), int64(11), object(10)\n",
      "memory usage: 7.4+ MB\n"
     ]
    }
   ],
   "source": [
    "df_losers2.info()"
   ]
  },
  {
   "cell_type": "code",
   "execution_count": 65,
   "id": "4ddf59f8",
   "metadata": {},
   "outputs": [],
   "source": [
    "#Renaming columns to remove winner-loser descriptions so we can re-concatenate winners and losers\n",
    "df_losers2 = df_losers2.set_axis([\"t_id\", \"t_date\", \"tour_wk\", \"t_name\", \"t_country\", \"t_surf\", \"t_indoor\", \"t_alt\", \"t_lvl\", \"t_draw_size\", \"m_num\", \"t_round\", \"t_rd_num\", \"m_best_of\", \"m_score\",\"m_time(m)\", \"m_tot_pts\", \"p_opp_pts_won%_l60_decay\", \"p_opp_pts_won%_l10\", \"p_opp_pts_won%_l60_decay_IO\", \"p_opp_sv_pts_won%_l60_decay\", \"p_opp_sv_pts_won%_l10\", \"p_opp_ret_pts_won%_l60_decay\", \"p_opp_ret_pts_won%_l10\", \"p_opp_ace%_l60_decay\", \"p_opp_ace%_l10\", \"p_opp_aced%_l60_decay\", \"p_opp_aced%_l10\", \"p_opp_bp_save%_l60\", \"p_opp_bp_save%_l10\", \"p_opp_bp_convert%_l60\", \"p_opp_bp_convert%_l10\", \"p_id\", \"p_name\",\"p_rank\", \"p_rank_pts\", \"p_country\", \"p_ent\", \"p_hd\", \"p_ht\", \"p_age\", \"opp_id\", \"p_IP_NV\", \"p_pts_won%\", \"p_sv_pts_won%\", \"p_ret_pts_won%\", \"p_pts_won%_l60_decay\", \"p_pts_won%_l10\", \"p_pts_won%_l60_decay_IO\", \"p_sv_pts_won%_l60_decay\", \"p_sv_pts_won%_l10\", \"p_ret_pts_won%_l60_decay\", \"p_ret_pts_won%_l10\", \"p_ace%\", \"p_ace%_l60_decay\", \"p_ace%_l10\", \"p_aced%\", \"p_aced%_l60_decay\", \"p_aced%_l10\", \"p_bp_save%\", \"p_bp_save%_l60\", \"p_bp_save%_l10\", \"p_bp_convert%\", \"p_bp_convert%_l60\", \"p_bp_convert%_l10\", \"p_pts_won%_std_l60_decay\",'p_sv_pts_won%_std_l60_decay','p_ret_pts_won%_std_l60_decay', \"p_matches\", \"p_matches_surf\", \"p_m_time_last\", \"p_tot_time_l6_decay\", \"p_tot_time_l6\", \"p_tot_pts_last\", \"p_tot_pts_l6_decay\", \"p_tot_pts_l6\", \"p_stamina_adj_fatigue_decay\", \"p_stamina_adj_fatigue\", \"p_H2H_w\", \"p_H2H_pts_won%\", \"m_outcome\"], axis=1)"
   ]
  },
  {
   "cell_type": "code",
   "execution_count": 66,
   "id": "784191fd",
   "metadata": {},
   "outputs": [],
   "source": [
    "#Re-merge data, but now with no separate columns for winners and losers \n",
    "df_player2 = pd.concat([df_winners2, df_losers2], ignore_index=True)"
   ]
  },
  {
   "cell_type": "code",
   "execution_count": 67,
   "id": "1605d779",
   "metadata": {},
   "outputs": [
    {
     "name": "stdout",
     "output_type": "stream",
     "text": [
      "<class 'pandas.core.frame.DataFrame'>\n",
      "RangeIndex: 23608 entries, 0 to 23607\n",
      "Data columns (total 81 columns):\n",
      " #   Column                        Non-Null Count  Dtype  \n",
      "---  ------                        --------------  -----  \n",
      " 0   t_id                          23608 non-null  object \n",
      " 1   t_date                        23608 non-null  int64  \n",
      " 2   tour_wk                       23608 non-null  object \n",
      " 3   t_name                        23608 non-null  object \n",
      " 4   t_country                     23608 non-null  object \n",
      " 5   t_surf                        23608 non-null  object \n",
      " 6   t_indoor                      23608 non-null  int64  \n",
      " 7   t_alt                         23608 non-null  int64  \n",
      " 8   t_lvl                         23608 non-null  int64  \n",
      " 9   t_draw_size                   23608 non-null  int64  \n",
      " 10  m_num                         23608 non-null  int64  \n",
      " 11  t_round                       23608 non-null  object \n",
      " 12  t_rd_num                      23608 non-null  int64  \n",
      " 13  m_best_of                     23608 non-null  int64  \n",
      " 14  m_score                       23608 non-null  object \n",
      " 15  m_time(m)                     23608 non-null  float64\n",
      " 16  p_id                          23608 non-null  int64  \n",
      " 17  p_name                        23608 non-null  object \n",
      " 18  p_rank                        23571 non-null  float64\n",
      " 19  p_rank_pts                    23571 non-null  float64\n",
      " 20  p_country                     23608 non-null  object \n",
      " 21  p_ent                         23608 non-null  float64\n",
      " 22  p_hd                          23608 non-null  object \n",
      " 23  p_ht                          23608 non-null  float64\n",
      " 24  p_age                         23608 non-null  float64\n",
      " 25  opp_id                        23608 non-null  int64  \n",
      " 26  p_IP_NV                       23506 non-null  float64\n",
      " 27  p_pts_won%                    23608 non-null  float64\n",
      " 28  p_sv_pts_won%                 23608 non-null  float64\n",
      " 29  p_ret_pts_won%                23608 non-null  float64\n",
      " 30  m_tot_pts                     23608 non-null  float64\n",
      " 31  p_pts_won%_l60_decay          23069 non-null  float64\n",
      " 32  p_pts_won%_l10                23069 non-null  float64\n",
      " 33  p_pts_won%_l60_decay_IO       22774 non-null  float64\n",
      " 34  p_sv_pts_won%_l60_decay       23069 non-null  float64\n",
      " 35  p_sv_pts_won%_l10             23069 non-null  float64\n",
      " 36  p_ret_pts_won%_l60_decay      23069 non-null  float64\n",
      " 37  p_ret_pts_won%_l10            23069 non-null  float64\n",
      " 38  p_ace%                        23608 non-null  float64\n",
      " 39  p_ace%_l60_decay              23069 non-null  float64\n",
      " 40  p_ace%_l10                    23069 non-null  float64\n",
      " 41  p_aced%                       23608 non-null  float64\n",
      " 42  p_aced%_l60_decay             23069 non-null  float64\n",
      " 43  p_aced%_l10                   23069 non-null  float64\n",
      " 44  p_bp_save%                    23608 non-null  float64\n",
      " 45  p_bp_save%_l60                23069 non-null  float64\n",
      " 46  p_bp_save%_l10                23069 non-null  float64\n",
      " 47  p_bp_convert%                 23608 non-null  float64\n",
      " 48  p_bp_convert%_l60             23069 non-null  float64\n",
      " 49  p_bp_convert%_l10             23069 non-null  float64\n",
      " 50  p_pts_won%_std_l60_decay      22652 non-null  float64\n",
      " 51  p_sv_pts_won%_std_l60_decay   22652 non-null  float64\n",
      " 52  p_ret_pts_won%_std_l60_decay  22652 non-null  float64\n",
      " 53  p_matches                     23608 non-null  float64\n",
      " 54  p_matches_surf                23608 non-null  float64\n",
      " 55  p_m_time_last                 23608 non-null  float64\n",
      " 56  p_tot_time_l6_decay           23608 non-null  float64\n",
      " 57  p_tot_time_l6                 23608 non-null  float64\n",
      " 58  p_tot_pts_last                23608 non-null  float64\n",
      " 59  p_tot_pts_l6_decay            23608 non-null  float64\n",
      " 60  p_tot_pts_l6                  23608 non-null  float64\n",
      " 61  p_stamina_adj_fatigue_decay   23608 non-null  float64\n",
      " 62  p_stamina_adj_fatigue         23608 non-null  float64\n",
      " 63  p_H2H_w                       23608 non-null  float64\n",
      " 64  p_H2H_pts_won%                7810 non-null   float64\n",
      " 65  p_opp_pts_won%_l60_decay      23069 non-null  float64\n",
      " 66  p_opp_pts_won%_l10            23069 non-null  float64\n",
      " 67  p_opp_pts_won%_l60_decay_IO   22774 non-null  float64\n",
      " 68  p_opp_sv_pts_won%_l60_decay   23069 non-null  float64\n",
      " 69  p_opp_sv_pts_won%_l10         23069 non-null  float64\n",
      " 70  p_opp_ret_pts_won%_l60_decay  23069 non-null  float64\n",
      " 71  p_opp_ret_pts_won%_l10        23069 non-null  float64\n",
      " 72  p_opp_ace%_l60_decay          23069 non-null  float64\n",
      " 73  p_opp_ace%_l10                23069 non-null  float64\n",
      " 74  p_opp_aced%_l60_decay         23069 non-null  float64\n",
      " 75  p_opp_aced%_l10               23069 non-null  float64\n",
      " 76  p_opp_bp_save%_l60            23069 non-null  float64\n",
      " 77  p_opp_bp_save%_l10            23069 non-null  float64\n",
      " 78  p_opp_bp_convert%_l60         23069 non-null  float64\n",
      " 79  p_opp_bp_convert%_l10         23069 non-null  float64\n",
      " 80  m_outcome                     23608 non-null  int64  \n",
      "dtypes: float64(60), int64(11), object(10)\n",
      "memory usage: 14.6+ MB\n"
     ]
    }
   ],
   "source": [
    "df_player2.info()"
   ]
  },
  {
   "cell_type": "code",
   "execution_count": 68,
   "id": "364dde7c",
   "metadata": {},
   "outputs": [],
   "source": [
    "#Reorder columns and sort in useful way visually \n",
    "df_player2 = df_player2[[\"t_id\", \"t_date\", \"tour_wk\", \"t_name\", \"t_country\", \"t_surf\", \"t_indoor\", \"t_alt\", \"t_lvl\", \"t_draw_size\", \"t_round\", \"t_rd_num\", \"m_num\", \"m_best_of\", \"m_outcome\", \"m_score\",\"m_time(m)\", \"m_tot_pts\", \"p_id\", \"p_name\", \"opp_id\", \"p_H2H_w\", \"p_H2H_pts_won%\", \"p_rank\", \"p_rank_pts\", \"p_country\", \"p_ent\", \"p_hd\", \"p_ht\", \"p_age\", \"p_matches\", \"p_matches_surf\", \"p_pts_won%\", \"p_pts_won%_l60_decay\", \"p_pts_won%_l60_decay_IO\", \"p_pts_won%_l10\", \"p_sv_pts_won%\", \"p_sv_pts_won%_l60_decay\", \"p_sv_pts_won%_l10\", \"p_ret_pts_won%\", \"p_ret_pts_won%_l60_decay\", \"p_ret_pts_won%_l10\", \"p_ace%\", \"p_ace%_l60_decay\", \"p_ace%_l10\", \"p_aced%\", \"p_aced%_l60_decay\", \"p_aced%_l10\", \"p_bp_save%\", \"p_bp_save%_l60\", \"p_bp_save%_l10\", \"p_bp_convert%\", \"p_bp_convert%_l60\", \"p_bp_convert%_l10\", \"p_pts_won%_std_l60_decay\",'p_sv_pts_won%_std_l60_decay','p_ret_pts_won%_std_l60_decay', \"p_m_time_last\", \"p_tot_time_l6\", \"p_tot_time_l6_decay\", \"p_tot_pts_last\", \"p_tot_pts_l6\", \"p_tot_pts_l6_decay\", \"p_stamina_adj_fatigue_decay\", \"p_stamina_adj_fatigue\", \"p_opp_pts_won%_l60_decay\", \"p_opp_pts_won%_l60_decay_IO\", \"p_opp_pts_won%_l10\", \"p_opp_sv_pts_won%_l60_decay\", \"p_opp_sv_pts_won%_l10\", \"p_opp_ret_pts_won%_l60_decay\", \"p_opp_ret_pts_won%_l10\", \"p_opp_ace%_l60_decay\", \"p_opp_ace%_l10\", \"p_opp_aced%_l60_decay\", \"p_opp_aced%_l10\", \"p_opp_bp_save%_l60\", \"p_opp_bp_save%_l10\", \"p_opp_bp_convert%_l60\", \"p_opp_bp_convert%_l10\",\"p_IP_NV\"]]\n",
    "df_player2 = df_player2.sort_values(by=['p_id','tour_wk','t_rd_num'], ascending = False)"
   ]
  },
  {
   "cell_type": "code",
   "execution_count": 69,
   "id": "a16cc6d1",
   "metadata": {},
   "outputs": [],
   "source": [
    "#df_player2.head(20)"
   ]
  },
  {
   "cell_type": "code",
   "execution_count": 70,
   "id": "c08d8f3e",
   "metadata": {},
   "outputs": [
    {
     "name": "stdout",
     "output_type": "stream",
     "text": [
      "<class 'pandas.core.frame.DataFrame'>\n",
      "Int64Index: 23608 entries, 22458 to 14336\n",
      "Data columns (total 81 columns):\n",
      " #   Column                        Non-Null Count  Dtype  \n",
      "---  ------                        --------------  -----  \n",
      " 0   t_id                          23608 non-null  object \n",
      " 1   t_date                        23608 non-null  int64  \n",
      " 2   tour_wk                       23608 non-null  object \n",
      " 3   t_name                        23608 non-null  object \n",
      " 4   t_country                     23608 non-null  object \n",
      " 5   t_surf                        23608 non-null  object \n",
      " 6   t_indoor                      23608 non-null  int64  \n",
      " 7   t_alt                         23608 non-null  int64  \n",
      " 8   t_lvl                         23608 non-null  int64  \n",
      " 9   t_draw_size                   23608 non-null  int64  \n",
      " 10  t_round                       23608 non-null  object \n",
      " 11  t_rd_num                      23608 non-null  int64  \n",
      " 12  m_num                         23608 non-null  int64  \n",
      " 13  m_best_of                     23608 non-null  int64  \n",
      " 14  m_outcome                     23608 non-null  int64  \n",
      " 15  m_score                       23608 non-null  object \n",
      " 16  m_time(m)                     23608 non-null  float64\n",
      " 17  m_tot_pts                     23608 non-null  float64\n",
      " 18  p_id                          23608 non-null  int64  \n",
      " 19  p_name                        23608 non-null  object \n",
      " 20  opp_id                        23608 non-null  int64  \n",
      " 21  p_H2H_w                       23608 non-null  float64\n",
      " 22  p_H2H_pts_won%                7810 non-null   float64\n",
      " 23  p_rank                        23571 non-null  float64\n",
      " 24  p_rank_pts                    23571 non-null  float64\n",
      " 25  p_country                     23608 non-null  object \n",
      " 26  p_ent                         23608 non-null  float64\n",
      " 27  p_hd                          23608 non-null  object \n",
      " 28  p_ht                          23608 non-null  float64\n",
      " 29  p_age                         23608 non-null  float64\n",
      " 30  p_matches                     23608 non-null  float64\n",
      " 31  p_matches_surf                23608 non-null  float64\n",
      " 32  p_pts_won%                    23608 non-null  float64\n",
      " 33  p_pts_won%_l60_decay          23069 non-null  float64\n",
      " 34  p_pts_won%_l60_decay_IO       22774 non-null  float64\n",
      " 35  p_pts_won%_l10                23069 non-null  float64\n",
      " 36  p_sv_pts_won%                 23608 non-null  float64\n",
      " 37  p_sv_pts_won%_l60_decay       23069 non-null  float64\n",
      " 38  p_sv_pts_won%_l10             23069 non-null  float64\n",
      " 39  p_ret_pts_won%                23608 non-null  float64\n",
      " 40  p_ret_pts_won%_l60_decay      23069 non-null  float64\n",
      " 41  p_ret_pts_won%_l10            23069 non-null  float64\n",
      " 42  p_ace%                        23608 non-null  float64\n",
      " 43  p_ace%_l60_decay              23069 non-null  float64\n",
      " 44  p_ace%_l10                    23069 non-null  float64\n",
      " 45  p_aced%                       23608 non-null  float64\n",
      " 46  p_aced%_l60_decay             23069 non-null  float64\n",
      " 47  p_aced%_l10                   23069 non-null  float64\n",
      " 48  p_bp_save%                    23608 non-null  float64\n",
      " 49  p_bp_save%_l60                23069 non-null  float64\n",
      " 50  p_bp_save%_l10                23069 non-null  float64\n",
      " 51  p_bp_convert%                 23608 non-null  float64\n",
      " 52  p_bp_convert%_l60             23069 non-null  float64\n",
      " 53  p_bp_convert%_l10             23069 non-null  float64\n",
      " 54  p_pts_won%_std_l60_decay      22652 non-null  float64\n",
      " 55  p_sv_pts_won%_std_l60_decay   22652 non-null  float64\n",
      " 56  p_ret_pts_won%_std_l60_decay  22652 non-null  float64\n",
      " 57  p_m_time_last                 23608 non-null  float64\n",
      " 58  p_tot_time_l6                 23608 non-null  float64\n",
      " 59  p_tot_time_l6_decay           23608 non-null  float64\n",
      " 60  p_tot_pts_last                23608 non-null  float64\n",
      " 61  p_tot_pts_l6                  23608 non-null  float64\n",
      " 62  p_tot_pts_l6_decay            23608 non-null  float64\n",
      " 63  p_stamina_adj_fatigue_decay   23608 non-null  float64\n",
      " 64  p_stamina_adj_fatigue         23608 non-null  float64\n",
      " 65  p_opp_pts_won%_l60_decay      23069 non-null  float64\n",
      " 66  p_opp_pts_won%_l60_decay_IO   22774 non-null  float64\n",
      " 67  p_opp_pts_won%_l10            23069 non-null  float64\n",
      " 68  p_opp_sv_pts_won%_l60_decay   23069 non-null  float64\n",
      " 69  p_opp_sv_pts_won%_l10         23069 non-null  float64\n",
      " 70  p_opp_ret_pts_won%_l60_decay  23069 non-null  float64\n",
      " 71  p_opp_ret_pts_won%_l10        23069 non-null  float64\n",
      " 72  p_opp_ace%_l60_decay          23069 non-null  float64\n",
      " 73  p_opp_ace%_l10                23069 non-null  float64\n",
      " 74  p_opp_aced%_l60_decay         23069 non-null  float64\n",
      " 75  p_opp_aced%_l10               23069 non-null  float64\n",
      " 76  p_opp_bp_save%_l60            23069 non-null  float64\n",
      " 77  p_opp_bp_save%_l10            23069 non-null  float64\n",
      " 78  p_opp_bp_convert%_l60         23069 non-null  float64\n",
      " 79  p_opp_bp_convert%_l10         23069 non-null  float64\n",
      " 80  p_IP_NV                       23506 non-null  float64\n",
      "dtypes: float64(60), int64(11), object(10)\n",
      "memory usage: 14.8+ MB\n"
     ]
    }
   ],
   "source": [
    "df_player2.info()"
   ]
  },
  {
   "cell_type": "code",
   "execution_count": 71,
   "id": "1681c30f",
   "metadata": {},
   "outputs": [],
   "source": [
    "#Save to review\n",
    "df_player2.to_csv('../data/df_player2.csv', index=False)"
   ]
  },
  {
   "cell_type": "markdown",
   "id": "29d3a5ae",
   "metadata": {},
   "source": [
    "### \"Strength of Schedule\" Calculation and Adjustment for Predictive Features"
   ]
  },
  {
   "cell_type": "markdown",
   "id": "87ad96f3",
   "metadata": {},
   "source": [
    "for each past-performance based (last 60 matches, relative to a given match; surface-specific) predictive feature per-player for the match being predicted on, \"Strength of Schedule\" is calculated below. For a given player, time decay-weighted (for most features) performance over the last 60 matches (which we are using to predict performance in the match at hand) is adjusted by how much above or below sample average performance their roster of opponents during that stretch had THEMSELVES performed over THEIR last 60 matches heading into their match with the player of interest. This strength of schedule adjustment is common practice in team sports, but this requires much more computation because it's relative to each match in a very large sample per player (in NFL, for example, you only need to re-compute 16 times per season)."
   ]
  },
  {
   "cell_type": "code",
   "execution_count": 72,
   "id": "f3527647",
   "metadata": {},
   "outputs": [],
   "source": [
    "#Calculates % total points won 'Strength of Schedule' for the past 60 opponents of a given player in a given match\n",
    "#Uses each opponent's decay-weighted last 60 match performance prior to facing the player of interest (surface-specific)\n",
    "#With this, we can obtain the \"expected\" performance over the last 60 matches for the player of interest, then can SOS adjust\n",
    "#that player's performance over their last 60 on the surface to reflect how much above or below an average schedule they faced (see calculations below)\n",
    "\n",
    "df_player2 = df_player2.iloc[::-1]\n",
    "\n",
    "df_player2['p_pts_won%_SOS_1to10'] = df_player2.groupby(['p_id','t_surf'])['p_opp_pts_won%_l60_decay'].transform(lambda x: x.rolling(window=10, min_periods = 1).mean().round(2).shift(1))\n",
    "\n",
    "df_player2['p_pts_won%_SOS_11to20'] = df_player2.groupby(['p_id','t_surf'])['p_opp_pts_won%_l60_decay'].transform(lambda x: x.rolling(window=10, min_periods = 3).mean().round(2).shift(11))\n",
    "df_player2['p_pts_won%_SOS_11to20'] = df_player2['p_pts_won%_SOS_11to20'].fillna(df_player2['p_pts_won%_SOS_1to10'])\n",
    "\n",
    "df_player2['p_pts_won%_SOS_21to30'] = df_player2.groupby(['p_id','t_surf'])['p_opp_pts_won%_l60_decay'].transform(lambda x: x.rolling(window=10, min_periods = 3).mean().round(2).shift(21))\n",
    "df_player2['p_pts_won%_SOS_21to30'] = df_player2['p_pts_won%_SOS_21to30'].fillna(df_player2['p_pts_won%_SOS_11to20'])\n",
    "\n",
    "df_player2['p_pts_won%_SOS_31to40'] = df_player2.groupby(['p_id','t_surf'])['p_opp_pts_won%_l60_decay'].transform(lambda x: x.rolling(window=10, min_periods = 3).mean().round(2).shift(31))\n",
    "df_player2['p_pts_won%_SOS_31to40'] = df_player2['p_pts_won%_SOS_31to40'].fillna(df_player2['p_pts_won%_SOS_21to30'])\n",
    "\n",
    "df_player2['p_pts_won%_SOS_41to50'] = df_player2.groupby(['p_id','t_surf'])['p_opp_pts_won%_l60_decay'].transform(lambda x: x.rolling(window=10, min_periods = 3).mean().round(2).shift(41))\n",
    "df_player2['p_pts_won%_SOS_41to50'] = df_player2['p_pts_won%_SOS_41to50'].fillna(df_player2['p_pts_won%_SOS_31to40'])\n",
    "\n",
    "df_player2['p_pts_won%_SOS_51to60'] = df_player2.groupby(['p_id','t_surf'])['p_opp_pts_won%_l60_decay'].transform(lambda x: x.rolling(window=10, min_periods = 3).mean().round(2).shift(51))\n",
    "df_player2['p_pts_won%_SOS_51to60'] = df_player2['p_pts_won%_SOS_51to60'].fillna(df_player2['p_pts_won%_SOS_41to50'])\n",
    "\n",
    "df_player2['p_pts_won%_SOS_61to70'] = df_player2.groupby(['p_id','t_surf'])['p_opp_pts_won%_l60_decay'].transform(lambda x: x.rolling(window=10, min_periods = 3).mean().round(2).shift(61))\n",
    "df_player2['p_pts_won%_SOS_61to70'] = df_player2['p_pts_won%_SOS_61to70'].fillna(df_player2['p_pts_won%_SOS_51to60'])\n",
    "\n",
    "#df_player2['p_pts_won%_SOS_71to80'] = df_player2.groupby(['p_id','t_surf'])['p_opp_pts_won%_l60_decay'].transform(lambda x: x.rolling(window=10, min_periods = 3).mean().round(2).shift(51))\n",
    "#df_player2['p_pts_won%_SOS_71to80'] = df_player2['p_pts_won%_SOS_71to80'].fillna(df_player2['p_pts_won%_SOS_61to70'])\n",
    "\n",
    "df_player2 = df_player2.iloc[::-1]\n"
   ]
  },
  {
   "cell_type": "code",
   "execution_count": 73,
   "id": "ee7e9fc5",
   "metadata": {},
   "outputs": [],
   "source": [
    "# Decay weights the SOS calculation at each match to be predicted on, and frames as expected points% given up by player opponents over the last 60 surface-specific matches (we will contrast directly to the player's ACTUAL performance over the last 70 prior to that match to be predict\n",
    "# Core version\n",
    "\n",
    "df_player2[\"p_expected_opp_yield_pts%\"] = (100 - (((df_player2['p_pts_won%_SOS_1to10'] * 14) + (df_player2['p_pts_won%_SOS_11to20'] * 8) + (df_player2['p_pts_won%_SOS_21to30'] * 5) \n",
    "+ (df_player2['p_pts_won%_SOS_31to40'] * 3) + (df_player2['p_pts_won%_SOS_41to50'] * 2) + (df_player2['p_pts_won%_SOS_51to60'] * 1))/33)).round(2)\n",
    "\n",
    "# Drops transient columns\n",
    "df_player2.drop([\"p_pts_won%_SOS_11to20\",\"p_pts_won%_SOS_21to30\",\"p_pts_won%_SOS_31to40\",\"p_pts_won%_SOS_41to50\",\"p_pts_won%_SOS_51to60\"],axis=1, inplace=True)"
   ]
  },
  {
   "cell_type": "code",
   "execution_count": 74,
   "id": "07ac37be",
   "metadata": {},
   "outputs": [
    {
     "data": {
      "text/plain": [
       "(nan, 49.843936451515184)"
      ]
     },
     "execution_count": 74,
     "metadata": {},
     "output_type": "execute_result"
    }
   ],
   "source": [
    "# Calculates mean opponent performance per surface. We will use these to factor player l60 performance based on opponent \n",
    "# l60 performance (surface-specific) prior to the match of interest relative to the surface-specific sample mean\n",
    "\n",
    "mean_clay_SOS1 = df_player2.loc[df_player2['t_surf'] == \"Clay\", 'p_opp_pts_won%_l60_decay'].mean()\n",
    "mean_clay_SOS1 = 100 - mean_clay_SOS1 #we want in terms of pct pts the field ALLOWS on average\n",
    "mean_hard_SOS1 = df_player2.loc[df_player2['t_surf'] == \"Hard\", 'p_opp_pts_won%_l60_decay'].mean()\n",
    "mean_hard_SOS1 = 100 - mean_hard_SOS1 #we want in terms of pct pts the field ALLOWS on average\n",
    "mean_clay_SOS1, mean_hard_SOS1"
   ]
  },
  {
   "cell_type": "code",
   "execution_count": 75,
   "id": "3e02649c",
   "metadata": {},
   "outputs": [],
   "source": [
    "# Puts together the above- factors the player's actual performance over the last 70 by schedule of opponents' aggregrate performance over THEIR l60 prior to when they faced the player.\n",
    "# Adjustment proportional to opponents' deviation from field mean performs better than various boosted or blunted versions attempted \n",
    "df_player2.loc[(df_player2[\"t_surf\"] == \"Clay\"), \"p_SOS_adj_pts_won%_l60_decay\"] = ((df_player2[\"p_pts_won%_l60_decay\"])*(mean_clay_SOS1/df_player2[\"p_expected_opp_yield_pts%\"])).round(2)          \n",
    "df_player2.loc[(df_player2[\"t_surf\"] == \"Hard\"), \"p_SOS_adj_pts_won%_l60_decay\"] = ((df_player2[\"p_pts_won%_l60_decay\"])*(mean_hard_SOS1/df_player2[\"p_expected_opp_yield_pts%\"])).round(2)\n",
    "\n",
    "df_player2.loc[(df_player2[\"p_SOS_adj_pts_won%_l60_decay\"] > 100), \"p_SOS_adj_pts_won%_l60_decay\"] = df_player2[\"p_SOS_adj_pts_won%_l60_decay\"].mean() #deals with a few spuriously high values when there's only one previous match (won't impact modelling at all, as these matches will be filtered out)\n",
    "\n",
    "#df_player2.loc[(df_player2[\"t_surf\"] == \"Clay\"), \"p_SOS_adj_pts_won%_l60_decay\"] = ((df_player2[\"p_pts_won%_l60_decay\"])*(np.cbrt(mean_clay_SOS1/df_player2[\"p_expected_opp_yield_pts%\"]))).round(2)          \n",
    "#df_player2.loc[(df_player2[\"t_surf\"] == \"Hard\"), \"p_SOS_adj_pts_won%_l60_decay\"] = ((df_player2[\"p_pts_won%_l60_decay\"])*(np.cbrt(mean_hard_SOS1/df_player2[\"p_expected_opp_yield_pts%\"]))).round(2)\n",
    "\n",
    "#df_player2.loc[(df_player2[\"p_SOS_adj_pts_won%_l60_decay\"] > df_player2[\"p_pts_won%_l60_decay\"]), \"p_SOS_adj_pts_won%_l60_decay\"] = df_player2[\"p_SOS_adj_pts_won%_l60_decay\"] + 0.25 \n",
    "#df_player2.loc[(df_player2[\"p_SOS_adj_pts_won%_l60_decay\"] < df_player2[\"p_pts_won%_l60_decay\"]), \"p_SOS_adj_pts_won%_l60_decay\"] = df_player2[\"p_SOS_adj_pts_won%_l60_decay\"] - 0.25"
   ]
  },
  {
   "cell_type": "code",
   "execution_count": 76,
   "id": "c54237f6",
   "metadata": {},
   "outputs": [],
   "source": [
    "#Calculates % total points won 'Strength of Schedule' for the past 60 opponents of a given player in a given match\n",
    "#This version respects INDOOR AND OUTDOOR distinction\n",
    "#Uses each opponent's decay-weighted last 60 match performance prior to facing the player of interest (surface-specific)\n",
    "#With this, we can obtain the \"expected\" performance over the last 60 matches for the player of interest, then can SOS adjust\n",
    "#that player's performance over their last 60 on the surface to reflect how much above or below an average schedule they faced (see calculations below)\n",
    "\n",
    "df_player2 = df_player2.iloc[::-1]\n",
    "\n",
    "df_player2['p_pts_won%_SOS_1to10_IO'] = df_player2.groupby(['p_id','t_surf','t_indoor'])['p_opp_pts_won%_l60_decay_IO'].transform(lambda x: x.rolling(window=10, min_periods = 1).mean().round(2).shift(1))\n",
    "\n",
    "df_player2['p_pts_won%_SOS_11to20_IO'] = df_player2.groupby(['p_id','t_surf','t_indoor'])['p_opp_pts_won%_l60_decay_IO'].transform(lambda x: x.rolling(window=10, min_periods = 3).mean().round(2).shift(11))\n",
    "df_player2['p_pts_won%_SOS_11to20_IO'] = df_player2['p_pts_won%_SOS_11to20_IO'].fillna(df_player2['p_pts_won%_SOS_1to10_IO'])\n",
    "\n",
    "df_player2['p_pts_won%_SOS_21to30_IO'] = df_player2.groupby(['p_id','t_surf','t_indoor'])['p_opp_pts_won%_l60_decay_IO'].transform(lambda x: x.rolling(window=10, min_periods = 3).mean().round(2).shift(21))\n",
    "df_player2['p_pts_won%_SOS_21to30_IO'] = df_player2['p_pts_won%_SOS_21to30_IO'].fillna(df_player2['p_pts_won%_SOS_11to20_IO'])\n",
    "\n",
    "df_player2['p_pts_won%_SOS_31to40_IO'] = df_player2.groupby(['p_id','t_surf','t_indoor'])['p_opp_pts_won%_l60_decay_IO'].transform(lambda x: x.rolling(window=10, min_periods = 3).mean().round(2).shift(31))\n",
    "df_player2['p_pts_won%_SOS_31to40_IO'] = df_player2['p_pts_won%_SOS_31to40_IO'].fillna(df_player2['p_pts_won%_SOS_21to30_IO'])\n",
    "\n",
    "df_player2['p_pts_won%_SOS_41to50_IO'] = df_player2.groupby(['p_id','t_surf','t_indoor'])['p_opp_pts_won%_l60_decay_IO'].transform(lambda x: x.rolling(window=10, min_periods = 3).mean().round(2).shift(41))\n",
    "df_player2['p_pts_won%_SOS_41to50_IO'] = df_player2['p_pts_won%_SOS_41to50_IO'].fillna(df_player2['p_pts_won%_SOS_31to40_IO'])\n",
    "\n",
    "df_player2['p_pts_won%_SOS_51to60_IO'] = df_player2.groupby(['p_id','t_surf','t_indoor'])['p_opp_pts_won%_l60_decay_IO'].transform(lambda x: x.rolling(window=10, min_periods = 3).mean().round(2).shift(51))\n",
    "df_player2['p_pts_won%_SOS_51to60_IO'] = df_player2['p_pts_won%_SOS_51to60_IO'].fillna(df_player2['p_pts_won%_SOS_41to50_IO'])\n",
    "\n",
    "#df_player2['p_pts_won%_SOS_61to70_IO'] = df_player2.groupby(['p_id','t_surf','t_indoor'])['p_opp_pts_won%_l60_decay_IO'].transform(lambda x: x.rolling(window=10, min_periods = 3).mean().round(2).shift(61))\n",
    "#df_player2['p_pts_won%_SOS_61to70_IO'] = df_player2['p_pts_won%_SOS_61to70_IO'].fillna(df_player2['p_pts_won%_SOS_51to60_IO'])\n",
    "\n",
    "#df_player2['p_pts_won%_SOS_71to80'] = df_player2.groupby(['p_id','t_surf'])['p_opp_pts_won%_l60_decay'].transform(lambda x: x.rolling(window=10, min_periods = 3).mean().round(2).shift(51))\n",
    "#df_player2['p_pts_won%_SOS_71to80'] = df_player2['p_pts_won%_SOS_71to80'].fillna(df_player2['p_pts_won%_SOS_61to70'])\n",
    "\n",
    "df_player2 = df_player2.iloc[::-1]"
   ]
  },
  {
   "cell_type": "code",
   "execution_count": 77,
   "id": "7e16bb96",
   "metadata": {},
   "outputs": [],
   "source": [
    "# Decay weights the SOS calculation at each match to be predicted on, and frames as expected points% given up by player opponents over the last 60 surface-specific matches (we will contrast directly to the player's ACTUAL performance over the last 60 prior to that match to be predicted on. \n",
    "#This version respects INDOOR AND OUTDOOR distinction\n",
    "\n",
    "df_player2[\"p_expected_opp_yield_pts%_IO\"] = (100 - (((df_player2['p_pts_won%_SOS_1to10_IO'] * 14) + (df_player2['p_pts_won%_SOS_11to20_IO'] * 8) + (df_player2['p_pts_won%_SOS_21to30_IO'] * 5) \n",
    "+ (df_player2['p_pts_won%_SOS_31to40_IO'] * 3) + (df_player2['p_pts_won%_SOS_41to50_IO'] * 2) + (df_player2['p_pts_won%_SOS_51to60_IO'] * 1))/33)).round(2)\n",
    "\n",
    "# Drops transient columns\n",
    "df_player2.drop([\"p_pts_won%_SOS_1to10_IO\", \"p_pts_won%_SOS_11to20_IO\",\"p_pts_won%_SOS_21to30_IO\",\"p_pts_won%_SOS_31to40_IO\",\"p_pts_won%_SOS_41to50_IO\",\"p_pts_won%_SOS_51to60_IO\"],axis=1, inplace=True)"
   ]
  },
  {
   "cell_type": "code",
   "execution_count": 78,
   "id": "f42439a7",
   "metadata": {},
   "outputs": [
    {
     "data": {
      "text/plain": [
       "(nan, nan, 49.84273607316788, 49.44790768194078)"
      ]
     },
     "execution_count": 78,
     "metadata": {},
     "output_type": "execute_result"
    }
   ],
   "source": [
    "# Calculates mean opponent performance per surface. We will use these to factor player l60 performance based on opponent \n",
    "# l60 performance (surface-specific) prior to the match of interest relative to the surface-specific sample mean\n",
    "#This version respects INDOOR AND OUTDOOR distinction\n",
    "\n",
    "mean_clay_outdoor_SOS1 = df_player2.loc[(df_player2['t_surf'] == \"Clay\") & (df_player2['t_indoor'] == 0), 'p_opp_pts_won%_l60_decay_IO'].mean()\n",
    "mean_clay_outdoor_SOS1 = 100 - mean_clay_outdoor_SOS1 #we want in terms of pct pts the field ALLOWS on average\n",
    "mean_clay_indoor_SOS1 = df_player2.loc[(df_player2['t_surf'] == \"Clay\") & (df_player2['t_indoor'] == 1), 'p_opp_pts_won%_l60_decay_IO'].mean()\n",
    "mean_clay_indoor_SOS1 = 100 - mean_clay_indoor_SOS1 #we want in terms of pct pts the field ALLOWS on average\n",
    "\n",
    "mean_hard_outdoor_SOS1 = df_player2.loc[(df_player2['t_surf'] == \"Hard\") & (df_player2['t_indoor'] == 0), 'p_opp_pts_won%_l60_decay_IO'].mean()\n",
    "mean_hard_outdoor_SOS1 = 100 - mean_hard_outdoor_SOS1 #we want in terms of pct pts the field ALLOWS on average\n",
    "mean_hard_indoor_SOS1 = df_player2.loc[(df_player2['t_surf'] == \"Hard\") & (df_player2['t_indoor'] == 1), 'p_opp_pts_won%_l60_decay_IO'].mean()\n",
    "mean_hard_indoor_SOS1 = 100 - mean_hard_indoor_SOS1 #we want in terms of pct pts the field ALLOWS on average\n",
    "\n",
    "mean_clay_outdoor_SOS1, mean_clay_indoor_SOS1, mean_hard_outdoor_SOS1, mean_hard_indoor_SOS1"
   ]
  },
  {
   "cell_type": "code",
   "execution_count": 79,
   "id": "990d4d6b",
   "metadata": {},
   "outputs": [],
   "source": [
    "# Puts together the above- factors the player's actual performance over the last 60 by schedule of opponents' aggregrate performance over THEIR l60 prior to when they faced the player.\n",
    "# Adjustment proportional to opponents' deviation from field mean performs better than various boosted or blunted versions attempted \n",
    "#This version respects INDOOR AND OUTDOOR distinction\n",
    "\n",
    "df_player2.loc[(df_player2[\"t_surf\"] == \"Clay\") & (df_player2['t_indoor'] == 0), \"p_SOS_adj_pts_won%_l60_decay_IO\"] = ((df_player2[\"p_pts_won%_l60_decay_IO\"])*(mean_clay_outdoor_SOS1/df_player2[\"p_expected_opp_yield_pts%_IO\"])).round(2)          \n",
    "df_player2.loc[(df_player2[\"t_surf\"] == \"Clay\") & (df_player2['t_indoor'] == 1), \"p_SOS_adj_pts_won%_l60_decay_IO\"] = ((df_player2[\"p_pts_won%_l60_decay_IO\"])*(mean_clay_indoor_SOS1/df_player2[\"p_expected_opp_yield_pts%_IO\"])).round(2)          \n",
    "df_player2.loc[(df_player2[\"t_surf\"] == \"Hard\") & (df_player2['t_indoor'] == 0), \"p_SOS_adj_pts_won%_l60_decay_IO\"] = ((df_player2[\"p_pts_won%_l60_decay_IO\"])*(mean_hard_outdoor_SOS1/df_player2[\"p_expected_opp_yield_pts%_IO\"])).round(2)          \n",
    "df_player2.loc[(df_player2[\"t_surf\"] == \"Hard\") & (df_player2['t_indoor'] == 1), \"p_SOS_adj_pts_won%_l60_decay_IO\"] = ((df_player2[\"p_pts_won%_l60_decay_IO\"])*(mean_hard_indoor_SOS1/df_player2[\"p_expected_opp_yield_pts%_IO\"])).round(2)          \n",
    "\n",
    "df_player2.loc[(df_player2[\"p_SOS_adj_pts_won%_l60_decay_IO\"] > 100), \"p_SOS_adj_pts_won%_l60_decay_IO\"] = df_player2[\"p_SOS_adj_pts_won%_l60_decay_IO\"].mean() #deals with a few spuriously high values when there's only one previous match (won't impact modelling at all, as these matches will be filtered out)\n"
   ]
  },
  {
   "cell_type": "code",
   "execution_count": 80,
   "id": "43dcfd5d",
   "metadata": {},
   "outputs": [],
   "source": [
    "# New SOS-adjusted last 60 points won% feature weighting overall surface-specific performance and indoor or outdoor-specific performance\n",
    "# Computed across hard and clay, but indoor clay is so rare that probably won't be useful for that surface\n",
    "\n",
    "df_player2[\"p_SOS_adj_pts_won%_l60_decay_IO_weighted\"] = (((df_player2[\"p_SOS_adj_pts_won%_l60_decay\"]*1) + (df_player2[\"p_SOS_adj_pts_won%_l60_decay_IO\"]*1))/2).round(2)"
   ]
  },
  {
   "cell_type": "code",
   "execution_count": 81,
   "id": "748dc344",
   "metadata": {},
   "outputs": [],
   "source": [
    "# SOS adjustment for total points% for just the last 10 matches (recent performance)\n",
    "\n",
    "df_player2[\"p_expected_opp_yield_pts%_l10\"] = (100 - df_player2['p_pts_won%_SOS_1to10'])\n",
    "\n",
    "# Calculates mean opponent performance per surface. We will use these to factor player l10 performance based on opponent \n",
    "# l10 performance (surface-specific) prior to the match of interest relative to the surface-specific sample mean\n",
    "mean_clay_SOS1 = df_player2.loc[df_player2['t_surf'] == \"Clay\", 'p_opp_pts_won%_l10'].mean()\n",
    "mean_clay_SOS1 = 100 - mean_clay_SOS1 #we want in terms of pct pts the field ALLOWS on average\n",
    "mean_hard_SOS1 = df_player2.loc[df_player2['t_surf'] == \"Hard\", 'p_opp_pts_won%_l10'].mean()\n",
    "mean_hard_SOS1 = 100 - mean_hard_SOS1 #we want in terms of pct pts the field ALLOWS on average\n",
    "mean_clay_SOS1, mean_hard_SOS1\n",
    "\n",
    "# Puts together the above- factors the player's actual performance over the last 10 by schedule of opponents' aggregrate performance over THEIR l10 prior to when they faced the player.\n",
    "# Adjustment proportional to opponents' deviation from field mean performs better than various boosted or blunted versions attempted \n",
    "df_player2.loc[(df_player2[\"t_surf\"] == \"Clay\"), \"p_SOS_adj_pts_won%_l10\"] = ((df_player2[\"p_pts_won%_l10\"])*(mean_clay_SOS1/df_player2[\"p_expected_opp_yield_pts%_l10\"])).round(2)          \n",
    "df_player2.loc[(df_player2[\"t_surf\"] == \"Hard\"), \"p_SOS_adj_pts_won%_l10\"] = ((df_player2[\"p_pts_won%_l10\"])*(mean_hard_SOS1/df_player2[\"p_expected_opp_yield_pts%_l10\"])).round(2)\n",
    "\n",
    "df_player2.loc[(df_player2[\"p_SOS_adj_pts_won%_l10\"] > 100), \"p_SOS_adj_pts_won%_l10\"] = df_player2[\"p_SOS_adj_pts_won%_l10\"].mean() #deals with a few spuriously high values when there's only one previous match (won't impact modelling at all, as these matches will be filtered out)\n",
    "\n",
    "df_player2.drop([\"p_pts_won%_SOS_1to10\"],axis=1, inplace=True)"
   ]
  },
  {
   "cell_type": "code",
   "execution_count": 82,
   "id": "59759bb7",
   "metadata": {},
   "outputs": [],
   "source": [
    "#Save to review\n",
    "#df_player2.to_csv('../data/df_player2b.csv', index=False)"
   ]
  },
  {
   "cell_type": "code",
   "execution_count": 83,
   "id": "a8708a66",
   "metadata": {},
   "outputs": [],
   "source": [
    "#Calculates % SERVE points won 'Strength of Schedule' for the past 60 opponents of a given player in a given match\n",
    "#Uses each opponent's decay-weighted last 60 match performance prior to facing the player of interest (surface-specific)\n",
    "#With this, we can obtain the \"expected\" performance over the last 60 matches for the player of interest, then can SOS adjust\n",
    "#that player's performance over their last 60 on the surface to reflect how much above or below an average schedule they faced (see calculations below)\n",
    "\n",
    "df_player2 = df_player2.iloc[::-1]\n",
    "\n",
    "df_player2['p_sv_pts_won%_SOS_1to10'] = df_player2.groupby(['p_id','t_surf'])['p_opp_sv_pts_won%_l60_decay'].transform(lambda x: x.rolling(window=10, min_periods = 1).mean().round(2).shift(1))\n",
    "\n",
    "df_player2['p_sv_pts_won%_SOS_11to20'] = df_player2.groupby(['p_id','t_surf'])['p_opp_sv_pts_won%_l60_decay'].transform(lambda x: x.rolling(window=10, min_periods = 3).mean().round(2).shift(11))\n",
    "df_player2['p_sv_pts_won%_SOS_11to20'] = df_player2['p_sv_pts_won%_SOS_11to20'].fillna(df_player2['p_sv_pts_won%_SOS_1to10'])\n",
    "\n",
    "df_player2['p_sv_pts_won%_SOS_21to30'] = df_player2.groupby(['p_id','t_surf'])['p_opp_sv_pts_won%_l60_decay'].transform(lambda x: x.rolling(window=10, min_periods = 3).mean().round(2).shift(21))\n",
    "df_player2['p_sv_pts_won%_SOS_21to30'] = df_player2['p_sv_pts_won%_SOS_21to30'].fillna(df_player2['p_sv_pts_won%_SOS_11to20'])\n",
    "\n",
    "df_player2['p_sv_pts_won%_SOS_31to40'] = df_player2.groupby(['p_id','t_surf'])['p_opp_sv_pts_won%_l60_decay'].transform(lambda x: x.rolling(window=10, min_periods = 3).mean().round(2).shift(31))\n",
    "df_player2['p_sv_pts_won%_SOS_31to40'] = df_player2['p_sv_pts_won%_SOS_31to40'].fillna(df_player2['p_sv_pts_won%_SOS_21to30'])\n",
    "\n",
    "df_player2['p_sv_pts_won%_SOS_41to50'] = df_player2.groupby(['p_id','t_surf'])['p_opp_sv_pts_won%_l60_decay'].transform(lambda x: x.rolling(window=10, min_periods = 3).mean().round(2).shift(41))\n",
    "df_player2['p_sv_pts_won%_SOS_41to50'] = df_player2['p_sv_pts_won%_SOS_41to50'].fillna(df_player2['p_sv_pts_won%_SOS_31to40'])\n",
    "\n",
    "df_player2['p_sv_pts_won%_SOS_51to60'] = df_player2.groupby(['p_id','t_surf'])['p_opp_sv_pts_won%_l60_decay'].transform(lambda x: x.rolling(window=10, min_periods = 3).mean().round(2).shift(51))\n",
    "df_player2['p_sv_pts_won%_SOS_51to60'] = df_player2['p_sv_pts_won%_SOS_51to60'].fillna(df_player2['p_sv_pts_won%_SOS_41to50'])\n",
    "\n",
    "#df_player2['p_sv_pts_won%_SOS_61to70'] = df_player2.groupby(['p_id','t_surf'])['p_opp_sv_pts_won%_l60_decay'].transform(lambda x: x.rolling(window=10, min_periods = 3).mean().round(2).shift(61))\n",
    "#df_player2['p_sv_pts_won%_SOS_61to70'] = df_player2['p_sv_pts_won%_SOS_61to70'].fillna(df_player2['p_sv_pts_won%_SOS_51to60'])\n",
    "\n",
    "df_player2 = df_player2.iloc[::-1]\n"
   ]
  },
  {
   "cell_type": "code",
   "execution_count": 84,
   "id": "a9e5e731",
   "metadata": {},
   "outputs": [],
   "source": [
    "# Decay weights the SOS calculation at each match to be predicted on, and frames as expected RETURN PTS YIELD up by player's opponents over the last 60 surface-specific matches (we will contrast directly to the player's ACTUAL performance over the last 60 prior to that match to be predicted on). \n",
    "\n",
    "df_player2[\"p_expected_opp_yield_ret_pts%\"] = (100 - (((df_player2['p_sv_pts_won%_SOS_1to10'] * 14) + (df_player2['p_sv_pts_won%_SOS_11to20'] * 8) + (df_player2['p_sv_pts_won%_SOS_21to30'] * 5) \n",
    "+ (df_player2['p_sv_pts_won%_SOS_31to40'] * 3) + (df_player2['p_sv_pts_won%_SOS_41to50'] * 2) + (df_player2['p_sv_pts_won%_SOS_51to60'] * 1))/33)).round(2)\n",
    "\n",
    "# Drops transient columns\n",
    "df_player2.drop([\"p_sv_pts_won%_SOS_11to20\",\"p_sv_pts_won%_SOS_21to30\",\"p_sv_pts_won%_SOS_31to40\",\"p_sv_pts_won%_SOS_41to50\",\"p_sv_pts_won%_SOS_51to60\"],axis=1, inplace=True)"
   ]
  },
  {
   "cell_type": "code",
   "execution_count": 85,
   "id": "2f7169b1",
   "metadata": {},
   "outputs": [
    {
     "data": {
      "text/plain": [
       "(nan, 35.83784949499261)"
      ]
     },
     "execution_count": 85,
     "metadata": {},
     "output_type": "execute_result"
    }
   ],
   "source": [
    "# Calculates mean opponent performance per surface. We will use these to factor player l60 performance based on opponent \n",
    "# l60 performance (surface-specific) prior to the match of interest relative to the surface-specific sample mean\n",
    "\n",
    "mean_clay_SOS2 = df_player2.loc[df_player2['t_surf'] == \"Clay\", 'p_opp_sv_pts_won%_l60_decay'].mean()\n",
    "mean_clay_SOS2 = 100 - mean_clay_SOS2 #we want in terms of pct RETURN pts the field ALLOWS on average\n",
    "mean_hard_SOS2 = df_player2.loc[df_player2['t_surf'] == \"Hard\", 'p_opp_sv_pts_won%_l60_decay'].mean()\n",
    "mean_hard_SOS2 = 100 - mean_hard_SOS2 #we want in terms of pct RETURN pts the field ALLOWS on average\n",
    "mean_clay_SOS2, mean_hard_SOS2"
   ]
  },
  {
   "cell_type": "code",
   "execution_count": 86,
   "id": "8927290e",
   "metadata": {},
   "outputs": [],
   "source": [
    "# Puts together the above- factors the player's actual performance over the last 60 by schedule of opponents' aggregrate performance over THEIR l60 prior to when they faced the player.\n",
    "# If opponents \n",
    "df_player2.loc[(df_player2[\"t_surf\"] == \"Clay\"), \"p_SOS_adj_ret_pts_won%_l60_decay\"] = ((df_player2[\"p_ret_pts_won%_l60_decay\"])*(mean_clay_SOS2/df_player2[\"p_expected_opp_yield_ret_pts%\"])).round(2)\n",
    "                \n",
    "df_player2.loc[(df_player2[\"t_surf\"] == \"Hard\"), \"p_SOS_adj_ret_pts_won%_l60_decay\"] = ((df_player2[\"p_ret_pts_won%_l60_decay\"])*(mean_hard_SOS2/df_player2[\"p_expected_opp_yield_ret_pts%\"])).round(2)\n",
    "\n",
    "df_player2.loc[(df_player2[\"p_SOS_adj_ret_pts_won%_l60_decay\"] > 100), \"p_SOS_adj_ret_pts_won%_l60_decay\"] = df_player2[\"p_SOS_adj_ret_pts_won%_l60_decay\"].mean() #deals with a few spuriously high values when there's only one previous match (won't impact modeling at all, as these matches will be filter"
   ]
  },
  {
   "cell_type": "code",
   "execution_count": 87,
   "id": "7cc8e569",
   "metadata": {},
   "outputs": [],
   "source": [
    "# SOS adjustment for serve points% (OPPONENT RETURN PTS% YIELD) for just the last 10 matches (recent performance)\n",
    "df_player2[\"p_expected_opp_yield_ret_pts%_l10\"] = (100 - df_player2['p_sv_pts_won%_SOS_1to10'])\n",
    "\n",
    "# Calculates mean opponent performance per surface. We will use these to factor player l10 performance based on opponent \n",
    "# l10 performance (surface-specific) prior to the match of interest relative to the surface-specific sample mean\n",
    "mean_clay_SOS2 = df_player2.loc[df_player2['t_surf'] == \"Clay\", 'p_opp_sv_pts_won%_l10'].mean()\n",
    "mean_clay_SOS2 = 100 - mean_clay_SOS2 #we want in terms of pct pts the field ALLOWS on average\n",
    "mean_hard_SOS2 = df_player2.loc[df_player2['t_surf'] == \"Hard\", 'p_opp_sv_pts_won%_l10'].mean()\n",
    "mean_hard_SOS2 = 100 - mean_hard_SOS2 #we want in terms of pct pts the field ALLOWS on average\n",
    "mean_clay_SOS2, mean_hard_SOS2\n",
    "\n",
    "# Puts together the above- factors the player's actual performance over the last 10 by schedule of opponents' aggregrate performance over THEIR l10 prior to when they faced the player.\n",
    "# Adjustment proportional to opponents' deviation from field mean performs better than various boosted or blunted versions attempted \n",
    "df_player2.loc[(df_player2[\"t_surf\"] == \"Clay\"), \"p_SOS_adj_ret_pts_won%_l10\"] = ((df_player2[\"p_ret_pts_won%_l10\"])*(mean_clay_SOS2/df_player2[\"p_expected_opp_yield_ret_pts%_l10\"])).round(2)          \n",
    "df_player2.loc[(df_player2[\"t_surf\"] == \"Hard\"), \"p_SOS_adj_ret_pts_won%_l10\"] = ((df_player2[\"p_ret_pts_won%_l10\"])*(mean_hard_SOS2/df_player2[\"p_expected_opp_yield_ret_pts%_l10\"])).round(2)\n",
    "\n",
    "df_player2.loc[(df_player2[\"p_SOS_adj_ret_pts_won%_l10\"] > 100), \"p_SOS_adj_ret_pts_won%_l10\"] = df_player2[\"p_SOS_adj_ret_pts_won%_l10\"].mean() #deals with a few spuriously high values when there's only one previous match (won't impact modelling at all, as these matches will be filtered out)\n",
    "\n",
    "df_player2.drop([\"p_sv_pts_won%_SOS_1to10\"],axis=1, inplace=True)"
   ]
  },
  {
   "cell_type": "code",
   "execution_count": 88,
   "id": "5dd20b08",
   "metadata": {},
   "outputs": [],
   "source": [
    "#Calculates % RETURN points won 'Strength of Schedule' for the past 60 opponents of a given player in a given match\n",
    "#Uses each opponent's decay-weighted last 60 match performance prior to facing the player of interest (surface-specific)\n",
    "#With this, we can obtain the \"expected\" performance over the last 60 matches for the player of interest, then can SOS adjust\n",
    "#that player's performance over their last 60 on the surface to reflect how much above or below an average schedule they faced (see calculations below)\n",
    "\n",
    "df_player2 = df_player2.iloc[::-1]\n",
    "\n",
    "df_player2['p_ret_pts_won%_SOS_1to10'] = df_player2.groupby(['p_id','t_surf'])['p_opp_ret_pts_won%_l60_decay'].transform(lambda x: x.rolling(window=10, min_periods = 1).mean().round(2).shift(1))\n",
    "\n",
    "df_player2['p_ret_pts_won%_SOS_11to20'] = df_player2.groupby(['p_id','t_surf'])['p_opp_ret_pts_won%_l60_decay'].transform(lambda x: x.rolling(window=10, min_periods = 3).mean().round(2).shift(11))\n",
    "df_player2['p_ret_pts_won%_SOS_11to20'] = df_player2['p_ret_pts_won%_SOS_11to20'].fillna(df_player2['p_ret_pts_won%_SOS_1to10'])\n",
    "\n",
    "df_player2['p_ret_pts_won%_SOS_21to30'] = df_player2.groupby(['p_id','t_surf'])['p_opp_ret_pts_won%_l60_decay'].transform(lambda x: x.rolling(window=10, min_periods = 3).mean().round(2).shift(21))\n",
    "df_player2['p_ret_pts_won%_SOS_21to30'] = df_player2['p_ret_pts_won%_SOS_21to30'].fillna(df_player2['p_ret_pts_won%_SOS_11to20'])\n",
    "\n",
    "df_player2['p_ret_pts_won%_SOS_31to40'] = df_player2.groupby(['p_id','t_surf'])['p_opp_ret_pts_won%_l60_decay'].transform(lambda x: x.rolling(window=10, min_periods = 3).mean().round(2).shift(31))\n",
    "df_player2['p_ret_pts_won%_SOS_31to40'] = df_player2['p_ret_pts_won%_SOS_31to40'].fillna(df_player2['p_ret_pts_won%_SOS_21to30'])\n",
    "\n",
    "df_player2['p_ret_pts_won%_SOS_41to50'] = df_player2.groupby(['p_id','t_surf'])['p_opp_ret_pts_won%_l60_decay'].transform(lambda x: x.rolling(window=10, min_periods = 3).mean().round(2).shift(41))\n",
    "df_player2['p_ret_pts_won%_SOS_41to50'] = df_player2['p_ret_pts_won%_SOS_41to50'].fillna(df_player2['p_ret_pts_won%_SOS_31to40'])\n",
    "\n",
    "df_player2['p_ret_pts_won%_SOS_51to60'] = df_player2.groupby(['p_id','t_surf'])['p_opp_ret_pts_won%_l60_decay'].transform(lambda x: x.rolling(window=10, min_periods = 3).mean().round(2).shift(51))\n",
    "df_player2['p_ret_pts_won%_SOS_51to60'] = df_player2['p_ret_pts_won%_SOS_51to60'].fillna(df_player2['p_ret_pts_won%_SOS_41to50'])\n",
    "\n",
    "#df_player2['p_ret_pts_won%_SOS_61to70'] = df_player2.groupby(['p_id','t_surf'])['p_opp_ret_pts_won%_l60_decay'].transform(lambda x: x.rolling(window=10, min_periods = 3).mean().round(2).shift(61))\n",
    "#df_player2['p_ret_pts_won%_SOS_61to70'] = df_player2['p_ret_pts_won%_SOS_61to70'].fillna(df_player2['p_ret_pts_won%_SOS_51to60'])\n",
    "\n",
    "df_player2 = df_player2.iloc[::-1]\n"
   ]
  },
  {
   "cell_type": "code",
   "execution_count": 89,
   "id": "7c709b54",
   "metadata": {},
   "outputs": [],
   "source": [
    "# Decay weights the SOS calculation at each match to be predicted on, and frames as expected SERVE PTS YIELD up by player's opponents over the last 70 surface-specific matches (we will contrast directly to the player's ACTUAL performance over the last 70 prior to that match to be predicted on). \n",
    "\n",
    "df_player2[\"p_expected_opp_yield_sv_pts%\"] = (100 - (((df_player2['p_ret_pts_won%_SOS_1to10'] * 14) + (df_player2['p_ret_pts_won%_SOS_11to20'] * 8) + (df_player2['p_ret_pts_won%_SOS_21to30'] * 5) \n",
    "+ (df_player2['p_ret_pts_won%_SOS_31to40'] * 3) + (df_player2['p_ret_pts_won%_SOS_41to50'] * 2) + (df_player2['p_ret_pts_won%_SOS_51to60'] * 1))/33)).round(2)\n",
    "\n",
    "# Drops transient columns\n",
    "df_player2.drop([\"p_ret_pts_won%_SOS_11to20\",\"p_ret_pts_won%_SOS_21to30\",\"p_ret_pts_won%_SOS_31to40\",\"p_ret_pts_won%_SOS_41to50\",\"p_ret_pts_won%_SOS_51to60\"],axis=1, inplace=True)"
   ]
  },
  {
   "cell_type": "code",
   "execution_count": 90,
   "id": "932f610b",
   "metadata": {},
   "outputs": [
    {
     "data": {
      "text/plain": [
       "(nan, 63.82294464432792)"
      ]
     },
     "execution_count": 90,
     "metadata": {},
     "output_type": "execute_result"
    }
   ],
   "source": [
    "# Calculates mean opponent performance per surface. We will use these to factor player l60 performance based on opponent \n",
    "# l60 performance (surface-specific) prior to the match of interest relative to the surface-specific sample mean\n",
    "\n",
    "mean_clay_SOS3 = df_player2.loc[df_player2['t_surf'] == \"Clay\", 'p_opp_ret_pts_won%_l60_decay'].mean()\n",
    "mean_clay_SOS3 = 100 - mean_clay_SOS3 #we want in terms of pct SERVE pts the field ALLOWS on average\n",
    "mean_hard_SOS3 = df_player2.loc[df_player2['t_surf'] == \"Hard\", 'p_opp_ret_pts_won%_l60_decay'].mean()\n",
    "mean_hard_SOS3 = 100 - mean_hard_SOS3 #we want in terms of pct SERVE pts the field ALLOWS on average\n",
    "mean_clay_SOS3, mean_hard_SOS3"
   ]
  },
  {
   "cell_type": "code",
   "execution_count": 91,
   "id": "76cd9bdc",
   "metadata": {},
   "outputs": [],
   "source": [
    "# Puts together the above- factors the player's actual performance over the last 60 by schedule of opponents' aggregrate performance over THEIR l60 prior to when they faced the player.\n",
    "\n",
    "df_player2.loc[(df_player2[\"t_surf\"] == \"Clay\"), \"p_SOS_adj_sv_pts_won%_l60_decay\"] = ((df_player2[\"p_sv_pts_won%_l60_decay\"])*(mean_clay_SOS3/df_player2[\"p_expected_opp_yield_sv_pts%\"])).round(2)\n",
    "                \n",
    "df_player2.loc[(df_player2[\"t_surf\"] == \"Hard\"), \"p_SOS_adj_sv_pts_won%_l60_decay\"] = ((df_player2[\"p_sv_pts_won%_l60_decay\"])*(mean_hard_SOS3/df_player2[\"p_expected_opp_yield_sv_pts%\"])).round(2)\n",
    "\n",
    "df_player2.loc[(df_player2[\"p_SOS_adj_sv_pts_won%_l60_decay\"] > 100), \"p_SOS_adj_sv_pts_won%_l60_decay\"] = df_player2[\"p_SOS_adj_sv_pts_won%_l60_decay\"].mean() #deals with a few spuriously high values when there's only one previous match (won't impact modeling at all, as these matches will be filter"
   ]
  },
  {
   "cell_type": "code",
   "execution_count": 92,
   "id": "d4c9fe8e",
   "metadata": {},
   "outputs": [],
   "source": [
    "# SOS adjustment for serve points% (OPPONENT SERVE PTS% YIELD) for just the last 10 matches (recent performance)\n",
    "df_player2[\"p_expected_opp_yield_sv_pts%_l10\"] = (100 - df_player2['p_ret_pts_won%_SOS_1to10'])\n",
    "\n",
    "# Calculates mean opponent performance per surface. We will use these to factor player l10 performance based on opponent \n",
    "# l10 performance (surface-specific) prior to the match of interest relative to the surface-specific sample mean\n",
    "mean_clay_SOS3 = df_player2.loc[df_player2['t_surf'] == \"Clay\", 'p_opp_ret_pts_won%_l10'].mean()\n",
    "mean_clay_SOS3 = 100 - mean_clay_SOS3 #we want in terms of pct pts the field ALLOWS on average\n",
    "mean_hard_SOS3 = df_player2.loc[df_player2['t_surf'] == \"Hard\", 'p_opp_ret_pts_won%_l10'].mean()\n",
    "mean_hard_SOS3 = 100 - mean_hard_SOS3 #we want in terms of pct pts the field ALLOWS on average\n",
    "mean_clay_SOS3, mean_hard_SOS3\n",
    "\n",
    "# Puts together the above- factors the player's actual performance over the last 10 by schedule of opponents' aggregrate performance over THEIR l10 prior to when they faced the player.\n",
    "# Adjustment proportional to opponents' deviation from field mean performs better than various boosted or blunted versions attempted \n",
    "df_player2.loc[(df_player2[\"t_surf\"] == \"Clay\"), \"p_SOS_adj_sv_pts_won%_l10\"] = ((df_player2[\"p_sv_pts_won%_l10\"])*(mean_clay_SOS3/df_player2[\"p_expected_opp_yield_sv_pts%_l10\"])).round(2)          \n",
    "df_player2.loc[(df_player2[\"t_surf\"] == \"Hard\"), \"p_SOS_adj_sv_pts_won%_l10\"] = ((df_player2[\"p_sv_pts_won%_l10\"])*(mean_hard_SOS3/df_player2[\"p_expected_opp_yield_sv_pts%_l10\"])).round(2)\n",
    "\n",
    "df_player2.loc[(df_player2[\"p_SOS_adj_sv_pts_won%_l10\"] > 100), \"p_SOS_adj_sv_pts_won%_l10\"] = df_player2[\"p_SOS_adj_sv_pts_won%_l10\"].mean() #deals with a few spuriously high values when there's only one previous match (won't impact modelling at all, as these matches will be filtered out)\n",
    "\n",
    "df_player2.drop([\"p_ret_pts_won%_SOS_1to10\"],axis=1, inplace=True)"
   ]
  },
  {
   "cell_type": "code",
   "execution_count": 93,
   "id": "80c4ab52",
   "metadata": {},
   "outputs": [],
   "source": [
    "#Save to review\n",
    "#df_player2.to_csv('../data/df_player2c.csv', index=False)"
   ]
  },
  {
   "cell_type": "code",
   "execution_count": 94,
   "id": "bcac7ff7",
   "metadata": {},
   "outputs": [],
   "source": [
    "#Calculates ace % 'Strength of Schedule' for the past 60 opponents of a given player in a given match\n",
    "#Uses each opponent's decay-weighted last 60 match performance prior to facing the player of interest (surface-specific)\n",
    "#With this, we can obtain the \"expected\" performance over the last 60 matches for the player of interest, then can SOS adjust\n",
    "#that player's performance over their last 60 on the surface to reflect how much above or below an average schedule they faced (see calculations below)\n",
    "\n",
    "df_player2 = df_player2.iloc[::-1]\n",
    "\n",
    "df_player2['p_ace%_SOS_1to10'] = df_player2.groupby(['p_id','t_surf'])['p_opp_ace%_l60_decay'].transform(lambda x: x.rolling(window=10, min_periods = 1).mean().round(2).shift(1))\n",
    "\n",
    "df_player2['p_ace%_SOS_11to20'] = df_player2.groupby(['p_id','t_surf'])['p_opp_ace%_l60_decay'].transform(lambda x: x.rolling(window=10, min_periods = 3).mean().round(2).shift(11))\n",
    "df_player2['p_ace%_SOS_11to20'] = df_player2['p_ace%_SOS_11to20'].fillna(df_player2['p_ace%_SOS_1to10'])\n",
    "\n",
    "df_player2['p_ace%_SOS_21to30'] = df_player2.groupby(['p_id','t_surf'])['p_opp_ace%_l60_decay'].transform(lambda x: x.rolling(window=10, min_periods = 3).mean().round(2).shift(21))\n",
    "df_player2['p_ace%_SOS_21to30'] = df_player2['p_ace%_SOS_21to30'].fillna(df_player2['p_ace%_SOS_11to20'])\n",
    "\n",
    "df_player2['p_ace%_SOS_31to40'] = df_player2.groupby(['p_id','t_surf'])['p_opp_ace%_l60_decay'].transform(lambda x: x.rolling(window=10, min_periods = 3).mean().round(2).shift(31))\n",
    "df_player2['p_ace%_SOS_31to40'] = df_player2['p_ace%_SOS_31to40'].fillna(df_player2['p_ace%_SOS_21to30'])\n",
    "\n",
    "df_player2['p_ace%_SOS_41to50'] = df_player2.groupby(['p_id','t_surf'])['p_opp_ace%_l60_decay'].transform(lambda x: x.rolling(window=10, min_periods = 3).mean().round(2).shift(41))\n",
    "df_player2['p_ace%_SOS_41to50'] = df_player2['p_ace%_SOS_41to50'].fillna(df_player2['p_ace%_SOS_31to40'])\n",
    "\n",
    "df_player2['p_ace%_SOS_51to60'] = df_player2.groupby(['p_id','t_surf'])['p_opp_ace%_l60_decay'].transform(lambda x: x.rolling(window=10, min_periods = 3).mean().round(2).shift(51))\n",
    "df_player2['p_ace%_SOS_51to60'] = df_player2['p_ace%_SOS_51to60'].fillna(df_player2['p_ace%_SOS_41to50'])\n",
    "\n",
    "#df_player2['p_ace%_SOS_61to70'] = df_player2.groupby(['p_id','t_surf'])['p_opp_ace%_l60_decay'].transform(lambda x: x.rolling(window=10, min_periods = 3).mean().round(2).shift(61))\n",
    "#df_player2['p_ace%_SOS_61to70'] = df_player2['p_ace%_SOS_61to70'].fillna(df_player2['p_ace%_SOS_51to60'])\n",
    "\n",
    "df_player2 = df_player2.iloc[::-1]\n"
   ]
  },
  {
   "cell_type": "code",
   "execution_count": 95,
   "id": "1ab6a807",
   "metadata": {},
   "outputs": [],
   "source": [
    "# Decay weights the SOS calculation at each match to be predicted on, and frames as expected ACED% YIELD by player's opponents over the last 60 surface-specific matches (we will contrast directly to the player's ACTUAL performance over the last 60 prior to that match to be predicted on). \n",
    "\n",
    "df_player2[\"p_expected_opp_yield_aced%\"] = (((df_player2['p_ace%_SOS_1to10'] * 14) + (df_player2['p_ace%_SOS_11to20'] * 8) + (df_player2['p_ace%_SOS_21to30'] * 5) \n",
    "+ (df_player2['p_ace%_SOS_31to40'] * 3) + (df_player2['p_ace%_SOS_41to50'] * 2) + (df_player2['p_ace%_SOS_51to60'] * 1))/33).round(2)\n",
    "\n",
    "# Drops transient columns\n",
    "df_player2.drop([\"p_ace%_SOS_11to20\",\"p_ace%_SOS_21to30\",\"p_ace%_SOS_31to40\",\"p_ace%_SOS_41to50\",\"p_ace%_SOS_51to60\"],axis=1, inplace=True)"
   ]
  },
  {
   "cell_type": "code",
   "execution_count": 96,
   "id": "948502aa",
   "metadata": {},
   "outputs": [
    {
     "data": {
      "text/plain": [
       "(nan, 8.77937882006153)"
      ]
     },
     "execution_count": 96,
     "metadata": {},
     "output_type": "execute_result"
    }
   ],
   "source": [
    "# Calculates mean opponent performance per surface. We will use these to factor player l60 performance based on opponent \n",
    "# l60 performance (surface-specific) prior to the match of interest relative to the surface-specific sample mean\n",
    "\n",
    "mean_clay_SOS4 = df_player2.loc[df_player2['t_surf'] == \"Clay\", 'p_opp_ace%_l60_decay'].mean()\n",
    "mean_clay_SOS4 = mean_clay_SOS4 #we want in terms of pct ACED the field ALLOWS on average\n",
    "mean_hard_SOS4 = df_player2.loc[df_player2['t_surf'] == \"Hard\", 'p_opp_ace%_l60_decay'].mean()\n",
    "mean_hard_SOS4 = mean_hard_SOS4 #we want in terms of pct ACED the field ALLOWS on average\n",
    "mean_clay_SOS4, mean_hard_SOS4"
   ]
  },
  {
   "cell_type": "code",
   "execution_count": 97,
   "id": "43b45715",
   "metadata": {},
   "outputs": [],
   "source": [
    "# Puts together the above- factors the player's actual performance over the last 60 by schedule of opponents' aggregrate performance over THEIR l60 prior to when they faced the player.\n",
    " \n",
    "df_player2.loc[(df_player2[\"t_surf\"] == \"Clay\"), \"p_SOS_adj_aced%_l60_decay\"] = ((df_player2[\"p_aced%_l60_decay\"])*(mean_clay_SOS4/df_player2[\"p_expected_opp_yield_aced%\"])).round(2)\n",
    "                \n",
    "df_player2.loc[(df_player2[\"t_surf\"] == \"Hard\"), \"p_SOS_adj_aced%_l60_decay\"] = ((df_player2[\"p_aced%_l60_decay\"])*(mean_hard_SOS4/df_player2[\"p_expected_opp_yield_aced%\"])).round(2)\n",
    "\n",
    "df_player2[\"p_SOS_adj_aced%_l60_decay\"].replace(np.inf, np.nan, inplace=True) #deals with a few infs in first handful of matches in sample where there is no SOS (divide by zero errors in the above)\n",
    "df_player2.loc[(df_player2[\"p_SOS_adj_aced%_l60_decay\"] > 100), \"p_SOS_adj_aced%_l60_decay\"] = df_player2[\"p_SOS_adj_aced%_l60_decay\"].mean() #deals with a few spuriously high values when there's only one previous match (won't impact modeling at all, as these matches will be filter\n"
   ]
  },
  {
   "cell_type": "code",
   "execution_count": 98,
   "id": "36b93278",
   "metadata": {},
   "outputs": [],
   "source": [
    "# SOS adjustment for serve points% (OPPONENT ACED% YIELD) for just the last 10 matches (recent performance)\n",
    "df_player2[\"p_expected_opp_yield_aced%_l10\"] = df_player2['p_ace%_SOS_1to10']\n",
    "\n",
    "# Calculates mean opponent performance per surface. We will use these to factor player l10 performance based on opponent \n",
    "# l10 performance (surface-specific) prior to the match of interest relative to the surface-specific sample mean\n",
    "mean_clay_SOS4 = df_player2.loc[df_player2['t_surf'] == \"Clay\", 'p_opp_ace%_l10'].mean()\n",
    "mean_clay_SOS4 = mean_clay_SOS4 #we want in terms of pct pts the field ALLOWS on average\n",
    "mean_hard_SOS4 = df_player2.loc[df_player2['t_surf'] == \"Hard\", 'p_opp_ace%_l10'].mean()\n",
    "mean_hard_SOS4 = mean_hard_SOS4 #we want in terms of pct pts the field ALLOWS on average\n",
    "mean_clay_SOS4, mean_hard_SOS4\n",
    "\n",
    "# Puts together the above- factors the player's actual performance over the last 10 by schedule of opponents' aggregrate performance over THEIR l10 prior to when they faced the player.\n",
    "# Adjustment proportional to opponents' deviation from field mean performs better than various boosted or blunted versions attempted \n",
    "df_player2.loc[(df_player2[\"t_surf\"] == \"Clay\"), \"p_SOS_adj_aced%_l10\"] = ((df_player2[\"p_aced%_l10\"])*(mean_clay_SOS4/df_player2[\"p_expected_opp_yield_aced%_l10\"])).round(2)          \n",
    "df_player2.loc[(df_player2[\"t_surf\"] == \"Hard\"), \"p_SOS_adj_aced%_l10\"] = ((df_player2[\"p_aced%_l10\"])*(mean_hard_SOS4/df_player2[\"p_expected_opp_yield_aced%_l10\"])).round(2)\n",
    "\n",
    "df_player2[\"p_SOS_adj_aced%_l10\"].replace(np.inf, np.nan, inplace=True) #deals with a few infs in first handful of matches in sample where there is no SOS (divide by zero errors in the above)\n",
    "df_player2.loc[(df_player2[\"p_SOS_adj_aced%_l10\"] > 100), \"p_SOS_adj_aced%_l10\"] = df_player2[\"p_SOS_adj_aced%_l10\"].mean() #deals with a few spuriously high values when there's only one previous match (won't impact modelling at all, as these matches will be filtered out)\n",
    "\n",
    "df_player2.drop([\"p_ace%_SOS_1to10\"],axis=1, inplace=True)"
   ]
  },
  {
   "cell_type": "code",
   "execution_count": 99,
   "id": "539854e3",
   "metadata": {},
   "outputs": [],
   "source": [
    "#Save to review\n",
    "#df_player2.to_csv('../data/df_player2d.csv', index=False)"
   ]
  },
  {
   "cell_type": "code",
   "execution_count": 100,
   "id": "6632b5aa",
   "metadata": {},
   "outputs": [],
   "source": [
    "#Calculates aced % 'Strength of Schedule' for the past 60 opponents of a given player in a given match\n",
    "#Uses each opponent's decay-weighted last 60 match performance prior to facing the player of interest (surface-specific)\n",
    "#With this, we can obtain the \"expected\" performance over the last 60 matches for the player of interest, then can SOS adjust\n",
    "#that player's performance over their last 60 on the surface to reflect how much above or below an average schedule they faced (see calculations below)\n",
    "\n",
    "df_player2 = df_player2.iloc[::-1]\n",
    "\n",
    "df_player2['p_aced%_SOS_1to10'] = df_player2.groupby(['p_id','t_surf'])['p_opp_aced%_l60_decay'].transform(lambda x: x.rolling(window=10, min_periods = 1).mean().round(2).shift(1))\n",
    "\n",
    "df_player2['p_aced%_SOS_11to20'] = df_player2.groupby(['p_id','t_surf'])['p_opp_aced%_l60_decay'].transform(lambda x: x.rolling(window=10, min_periods = 3).mean().round(2).shift(11))\n",
    "df_player2['p_aced%_SOS_11to20'] = df_player2['p_aced%_SOS_11to20'].fillna(df_player2['p_aced%_SOS_1to10'])\n",
    "\n",
    "df_player2['p_aced%_SOS_21to30'] = df_player2.groupby(['p_id','t_surf'])['p_opp_aced%_l60_decay'].transform(lambda x: x.rolling(window=10, min_periods = 3).mean().round(2).shift(21))\n",
    "df_player2['p_aced%_SOS_21to30'] = df_player2['p_aced%_SOS_21to30'].fillna(df_player2['p_aced%_SOS_11to20'])\n",
    "\n",
    "df_player2['p_aced%_SOS_31to40'] = df_player2.groupby(['p_id','t_surf'])['p_opp_aced%_l60_decay'].transform(lambda x: x.rolling(window=10, min_periods = 3).mean().round(2).shift(31))\n",
    "df_player2['p_aced%_SOS_31to40'] = df_player2['p_aced%_SOS_31to40'].fillna(df_player2['p_aced%_SOS_21to30'])\n",
    "\n",
    "df_player2['p_aced%_SOS_41to50'] = df_player2.groupby(['p_id','t_surf'])['p_opp_aced%_l60_decay'].transform(lambda x: x.rolling(window=10, min_periods = 3).mean().round(2).shift(41))\n",
    "df_player2['p_aced%_SOS_41to50'] = df_player2['p_aced%_SOS_41to50'].fillna(df_player2['p_aced%_SOS_31to40'])\n",
    "\n",
    "df_player2['p_aced%_SOS_51to60'] = df_player2.groupby(['p_id','t_surf'])['p_opp_aced%_l60_decay'].transform(lambda x: x.rolling(window=10, min_periods = 3).mean().round(2).shift(51))\n",
    "df_player2['p_aced%_SOS_51to60'] = df_player2['p_aced%_SOS_51to60'].fillna(df_player2['p_aced%_SOS_41to50'])\n",
    "\n",
    "#df_player2['p_aced%_SOS_61to70'] = df_player2.groupby(['p_id','t_surf'])['p_opp_aced%_l60_decay'].transform(lambda x: x.rolling(window=10, min_periods = 3).mean().round(2).shift(61))\n",
    "#df_player2['p_aced%_SOS_61to70'] = df_player2['p_aced%_SOS_61to70'].fillna(df_player2['p_aced%_SOS_51to60'])\n",
    "\n",
    "df_player2 = df_player2.iloc[::-1]\n"
   ]
  },
  {
   "cell_type": "code",
   "execution_count": 101,
   "id": "f4382810",
   "metadata": {},
   "outputs": [],
   "source": [
    "# Decay weights the SOS calculation at each match to be predicted on, and frames as expected ACE% YIELD by player's opponents over the last 60 surface-specific matches (we will contrast directly to the player's ACTUAL performance over the last 60 prior to that match to be predicted on). \n",
    "\n",
    "df_player2[\"p_expected_opp_yield_ace%\"] = (((df_player2['p_aced%_SOS_1to10'] * 14) + (df_player2['p_aced%_SOS_11to20'] * 8) + (df_player2['p_aced%_SOS_21to30'] * 5) \n",
    "+ (df_player2['p_aced%_SOS_31to40'] * 3) + (df_player2['p_aced%_SOS_41to50'] * 2) + (df_player2['p_aced%_SOS_51to60'] * 1))/33).round(2)\n",
    "\n",
    "# Drops transient columns\n",
    "df_player2.drop([\"p_aced%_SOS_11to20\",\"p_aced%_SOS_21to30\",\"p_aced%_SOS_31to40\",\"p_aced%_SOS_41to50\",\"p_aced%_SOS_51to60\"],axis=1, inplace=True)"
   ]
  },
  {
   "cell_type": "code",
   "execution_count": 102,
   "id": "6fff3d6d",
   "metadata": {},
   "outputs": [
    {
     "data": {
      "text/plain": [
       "(nan, 8.55839351510688)"
      ]
     },
     "execution_count": 102,
     "metadata": {},
     "output_type": "execute_result"
    }
   ],
   "source": [
    "# Calculates mean opponent performance per surface. We will use these to factor player l60 performance based on opponent \n",
    "# l60 performance (surface-specific) prior to the match of interest relative to the surface-specific sample mean\n",
    "\n",
    "mean_clay_SOS5 = df_player2.loc[df_player2['t_surf'] == \"Clay\", 'p_opp_aced%_l60_decay'].mean()\n",
    "mean_clay_SOS5 = mean_clay_SOS5 #we want in terms of pct ACES the field ALLOWS on average\n",
    "mean_hard_SOS5 = df_player2.loc[df_player2['t_surf'] == \"Hard\", 'p_opp_aced%_l60_decay'].mean()\n",
    "mean_hard_SOS5 = mean_hard_SOS5 #we want in terms of pct ACES the field ALLOWS on average\n",
    "mean_clay_SOS5, mean_hard_SOS5"
   ]
  },
  {
   "cell_type": "code",
   "execution_count": 103,
   "id": "ddc04c71",
   "metadata": {},
   "outputs": [],
   "source": [
    "# Puts together the above- factors the player's actual performance over the last 60 by schedule of opponents' aggregrate performance over THEIR l60 prior to when they faced the player.\n",
    "# If opponents \n",
    "df_player2.loc[(df_player2[\"t_surf\"] == \"Clay\"), \"p_SOS_adj_ace%_l60_decay\"] = ((df_player2[\"p_ace%_l60_decay\"])*(mean_clay_SOS5/df_player2[\"p_expected_opp_yield_ace%\"])).round(2)\n",
    "                \n",
    "df_player2.loc[(df_player2[\"t_surf\"] == \"Hard\"), \"p_SOS_adj_ace%_l60_decay\"] = ((df_player2[\"p_ace%_l60_decay\"])*(mean_hard_SOS5/df_player2[\"p_expected_opp_yield_ace%\"])).round(2)\n",
    "\n",
    "df_player2[\"p_SOS_adj_ace%_l60_decay\"].replace(np.inf, np.nan, inplace=True) #deals with a few infs in first handful of matches in sample where there is no SOS (divide by zero errors in the above)\n",
    "df_player2.loc[(df_player2[\"p_SOS_adj_ace%_l60_decay\"] > 100), \"p_SOS_adj_ace%_l60_decay\"] = df_player2[\"p_SOS_adj_ace%_l60_decay\"].mean() #deals with a few spuriously high values when there's only one previous match (won't impact modeling at all, as these matches will be filter"
   ]
  },
  {
   "cell_type": "code",
   "execution_count": 104,
   "id": "87006731",
   "metadata": {},
   "outputs": [],
   "source": [
    "# SOS adjustment for serve points% (OPPONENT ACE% YIELD) for just the last 10 matches (recent performance)\n",
    "df_player2[\"p_expected_opp_yield_ace%_l10\"] = df_player2['p_aced%_SOS_1to10']\n",
    "\n",
    "# Calculates mean opponent performance per surface. We will use these to factor player l10 performance based on opponent \n",
    "# l10 performance (surface-specific) prior to the match of interest relative to the surface-specific sample mean\n",
    "mean_clay_SOS5 = df_player2.loc[df_player2['t_surf'] == \"Clay\", 'p_opp_aced%_l10'].mean()\n",
    "mean_clay_SOS5 = mean_clay_SOS5 #we want in terms of pct pts the field ALLOWS on average\n",
    "mean_hard_SOS5 = df_player2.loc[df_player2['t_surf'] == \"Hard\", 'p_opp_aced%_l10'].mean()\n",
    "mean_hard_SOS5 = mean_hard_SOS5 #we want in terms of pct pts the field ALLOWS on average\n",
    "mean_clay_SOS5, mean_hard_SOS5\n",
    "\n",
    "# Puts together the above- factors the player's actual performance over the last 10 by schedule of opponents' aggregrate performance over THEIR l10 prior to when they faced the player.\n",
    "# Adjustment proportional to opponents' deviation from field mean performs better than various boosted or blunted versions attempted \n",
    "df_player2.loc[(df_player2[\"t_surf\"] == \"Clay\"), \"p_SOS_adj_ace%_l10\"] = ((df_player2[\"p_ace%_l10\"])*(mean_clay_SOS5/df_player2[\"p_expected_opp_yield_ace%_l10\"])).round(2)          \n",
    "df_player2.loc[(df_player2[\"t_surf\"] == \"Hard\"), \"p_SOS_adj_ace%_l10\"] = ((df_player2[\"p_ace%_l10\"])*(mean_hard_SOS5/df_player2[\"p_expected_opp_yield_ace%_l10\"])).round(2)\n",
    "\n",
    "df_player2[\"p_SOS_adj_ace%_l10\"].replace(np.inf, np.nan, inplace=True) #deals with a few infs in first handful of matches in sample where there is no SOS (divide by zero errors in the above)\n",
    "df_player2.loc[(df_player2[\"p_SOS_adj_ace%_l10\"] > 100), \"p_SOS_adj_ace%_l10\"] = df_player2[\"p_SOS_adj_ace%_l10\"].mean() #deals with a few spuriously high values when there's only one previous match (won't impact modelling at all, as these matches will be filtered out)\n",
    "\n",
    "df_player2.drop([\"p_aced%_SOS_1to10\"],axis=1, inplace=True)"
   ]
  },
  {
   "cell_type": "code",
   "execution_count": 105,
   "id": "2b4b14f3",
   "metadata": {},
   "outputs": [],
   "source": [
    "#Save to review\n",
    "#df_player2.to_csv('../data/df_player2e.csv', index=False)"
   ]
  },
  {
   "cell_type": "code",
   "execution_count": 106,
   "id": "bbc5af8c",
   "metadata": {},
   "outputs": [],
   "source": [
    "#Calculates break point saved% 'Strength of Schedule' for the past 60 opponents of a given player in a given match\n",
    "#Uses each opponent's (non decay-weighted) last 60 match performance prior to facing the player of interest (surface-specific)\n",
    "#With this, we can obtain the \"expected\" performance over the last 60 matches for the player of interest, then can SOS adjust\n",
    "#that player's performance over their last 60 on the surface to reflect how much above or below an average schedule they faced (see calculations below)\n",
    "\n",
    "df_player2 = df_player2.iloc[::-1]\n",
    "\n",
    "df_player2['p_bp_save%_SOS_1to10'] = df_player2.groupby(['p_id','t_surf'])['p_opp_bp_save%_l60'].transform(lambda x: x.rolling(window=10, min_periods = 1).mean().round(2).shift(1))\n",
    "\n",
    "df_player2['p_bp_save%_SOS_11to20'] = df_player2.groupby(['p_id','t_surf'])['p_opp_bp_save%_l60'].transform(lambda x: x.rolling(window=10, min_periods = 3).mean().round(2).shift(11))\n",
    "df_player2['p_bp_save%_SOS_11to20'] = df_player2['p_bp_save%_SOS_11to20'].fillna(df_player2['p_bp_save%_SOS_1to10'])\n",
    "\n",
    "df_player2['p_bp_save%_SOS_21to30'] = df_player2.groupby(['p_id','t_surf'])['p_opp_bp_save%_l60'].transform(lambda x: x.rolling(window=10, min_periods = 3).mean().round(2).shift(21))\n",
    "df_player2['p_bp_save%_SOS_21to30'] = df_player2['p_bp_save%_SOS_21to30'].fillna(df_player2['p_bp_save%_SOS_11to20'])\n",
    "\n",
    "df_player2['p_bp_save%_SOS_31to40'] = df_player2.groupby(['p_id','t_surf'])['p_opp_bp_save%_l60'].transform(lambda x: x.rolling(window=10, min_periods = 3).mean().round(2).shift(31))\n",
    "df_player2['p_bp_save%_SOS_31to40'] = df_player2['p_bp_save%_SOS_31to40'].fillna(df_player2['p_bp_save%_SOS_21to30'])\n",
    "\n",
    "df_player2['p_bp_save%_SOS_41to50'] = df_player2.groupby(['p_id','t_surf'])['p_opp_bp_save%_l60'].transform(lambda x: x.rolling(window=10, min_periods = 3).mean().round(2).shift(41))\n",
    "df_player2['p_bp_save%_SOS_41to50'] = df_player2['p_bp_save%_SOS_41to50'].fillna(df_player2['p_bp_save%_SOS_31to40'])\n",
    "\n",
    "df_player2['p_bp_save%_SOS_51to60'] = df_player2.groupby(['p_id','t_surf'])['p_opp_bp_save%_l60'].transform(lambda x: x.rolling(window=10, min_periods = 3).mean().round(2).shift(51))\n",
    "df_player2['p_bp_save%_SOS_51to60'] = df_player2['p_bp_save%_SOS_51to60'].fillna(df_player2['p_bp_save%_SOS_41to50'])\n",
    "\n",
    "#df_player2['p_bp_save%_SOS_61to70'] = df_player2.groupby(['p_id','t_surf'])['p_opp_bp_save%_l60'].transform(lambda x: x.rolling(window=10, min_periods = 3).mean().round(2).shift(61))\n",
    "#df_player2['p_bp_save%_SOS_61to70'] = df_player2['p_bp_save%_SOS_61to70'].fillna(df_player2['p_bp_save%_SOS_51to60'])\n",
    "\n",
    "df_player2 = df_player2.iloc[::-1]"
   ]
  },
  {
   "cell_type": "code",
   "execution_count": 107,
   "id": "30b51a08",
   "metadata": {},
   "outputs": [],
   "source": [
    "# Decay weights the SOS calculation at each match to be predicted on, and frames as expected BP CONVERT% YIELD by player's opponents over the last 60 surface-specific matches (we will contrast directly to the player's ACTUAL performance over the last 60 prior to that match to be predicted on). \n",
    "\n",
    "df_player2[\"p_expected_opp_yield_bp_convert%\"] = (100 - (((df_player2['p_bp_save%_SOS_1to10'] * 14) + (df_player2['p_bp_save%_SOS_11to20'] * 8) + (df_player2['p_bp_save%_SOS_21to30'] * 5) \n",
    "+ (df_player2['p_bp_save%_SOS_31to40'] * 3) + (df_player2['p_bp_save%_SOS_41to50'] * 2) + (df_player2['p_bp_save%_SOS_51to60'] * 1))/33)).round(2)\n",
    "\n",
    "# Drops transient columns\n",
    "df_player2.drop([\"p_bp_save%_SOS_11to20\",\"p_bp_save%_SOS_21to30\",\"p_bp_save%_SOS_31to40\",\"p_bp_save%_SOS_41to50\",\"p_bp_save%_SOS_51to60\"],axis=1, inplace=True)"
   ]
  },
  {
   "cell_type": "code",
   "execution_count": 108,
   "id": "35ffa36d",
   "metadata": {},
   "outputs": [
    {
     "data": {
      "text/plain": [
       "(nan, 38.559940612943464)"
      ]
     },
     "execution_count": 108,
     "metadata": {},
     "output_type": "execute_result"
    }
   ],
   "source": [
    "# Calculates mean opponent performance per surface. We will use these to factor player l60 performance based on opponent \n",
    "# l60 performance (surface-specific) prior to the match of interest relative to the surface-specific sample mean\n",
    "\n",
    "mean_clay_SOS6 = df_player2.loc[df_player2['t_surf'] == \"Clay\", 'p_opp_bp_save%_l60'].mean()\n",
    "mean_clay_SOS6 = 100 - mean_clay_SOS6 #we want in terms of pct BREAK CONVERSIONS the field ALLOWS on average\n",
    "mean_hard_SOS6 = df_player2.loc[df_player2['t_surf'] == \"Hard\", 'p_opp_bp_save%_l60'].mean()\n",
    "mean_hard_SOS6 = 100 - mean_hard_SOS6 #we want in terms of pct BREAK CONVERSIONS the field ALLOWS on average\n",
    "mean_clay_SOS6, mean_hard_SOS6"
   ]
  },
  {
   "cell_type": "code",
   "execution_count": 109,
   "id": "d022eff2",
   "metadata": {},
   "outputs": [],
   "source": [
    "# Puts together the above- factors the player's actual performance over the last 60 by schedule of opponents' aggregrate performance over THEIR l60 prior to when they faced the player.\n",
    "\n",
    "df_player2.loc[(df_player2[\"t_surf\"] == \"Clay\"), \"p_SOS_adj_bp_convert%_l60\"] = ((df_player2[\"p_bp_convert%_l60\"])*(mean_clay_SOS6/df_player2[\"p_expected_opp_yield_bp_convert%\"])).round(2)\n",
    "                \n",
    "df_player2.loc[(df_player2[\"t_surf\"] == \"Hard\"), \"p_SOS_adj_bp_convert%_l60\"] = ((df_player2[\"p_bp_convert%_l60\"])*(mean_hard_SOS6/df_player2[\"p_expected_opp_yield_bp_convert%\"])).round(2)\n",
    "\n",
    "df_player2[\"p_SOS_adj_bp_convert%_l60\"].replace(np.inf, np.nan, inplace=True) #deals with a few infs in first handful of matches in sample where there is no SOS (divide by zero errors in the above)\n",
    "df_player2.loc[(df_player2[\"p_SOS_adj_bp_convert%_l60\"] > 100), \"p_SOS_adj_bp_convert%_l60\"] = df_player2[\"p_SOS_adj_bp_convert%_l60\"].mean() #deals with a few spuriously high values when there's only one previous match (won't impact modeling at all, as these matches will be filtered)"
   ]
  },
  {
   "cell_type": "code",
   "execution_count": 110,
   "id": "10890dce",
   "metadata": {},
   "outputs": [],
   "source": [
    "# SOS adjustment for serve points% (OPPONENT BP CONVERT% YIELD) for just the last 10 matches (recent performance)\n",
    "df_player2[\"p_expected_opp_yield_bp_convert%_l10\"] = (100 - df_player2['p_bp_save%_SOS_1to10'])\n",
    "\n",
    "# Calculates mean opponent performance per surface. We will use these to factor player l10 performance based on opponent \n",
    "# l10 performance (surface-specific) prior to the match of interest relative to the surface-specific sample mean\n",
    "mean_clay_SOS6 = df_player2.loc[df_player2['t_surf'] == \"Clay\", 'p_opp_bp_save%_l10'].mean()\n",
    "mean_clay_SOS6 = 100 - mean_clay_SOS6 #we want in terms of pct pts the field ALLOWS on average\n",
    "mean_hard_SOS6 = df_player2.loc[df_player2['t_surf'] == \"Hard\", 'p_opp_bp_save%_l10'].mean()\n",
    "mean_hard_SOS6 = 100 - mean_hard_SOS6 #we want in terms of pct pts the field ALLOWS on average\n",
    "mean_clay_SOS6, mean_hard_SOS6\n",
    "\n",
    "# Puts together the above- factors the player's actual performance over the last 10 by schedule of opponents' aggregrate performance over THEIR l10 prior to when they faced the player.\n",
    "# Adjustment proportional to opponents' deviation from field mean performs better than various boosted or blunted versions attempted \n",
    "df_player2.loc[(df_player2[\"t_surf\"] == \"Clay\"), \"p_SOS_adj_bp_convert%_l10\"] = ((df_player2[\"p_bp_convert%_l10\"])*(mean_clay_SOS6/df_player2[\"p_expected_opp_yield_bp_convert%_l10\"])).round(2)          \n",
    "df_player2.loc[(df_player2[\"t_surf\"] == \"Hard\"), \"p_SOS_adj_bp_convert%_l10\"] = ((df_player2[\"p_bp_convert%_l10\"])*(mean_hard_SOS6/df_player2[\"p_expected_opp_yield_bp_convert%_l10\"])).round(2)\n",
    "\n",
    "df_player2[\"p_SOS_adj_bp_convert%_l10\"].replace(np.inf, np.nan, inplace=True) #deals with a few infs in first handful of matches in sample where there is no SOS (divide by zero errors in the above)\n",
    "df_player2.loc[(df_player2[\"p_SOS_adj_bp_convert%_l10\"] > 100), \"p_SOS_adj_bp_convert%_l10\"] = df_player2[\"p_SOS_adj_bp_convert%_l10\"].mean() #deals with a few spuriously high values when there's only one previous match (won't impact modelling at all, as these matches will be filtered out)\n",
    "\n",
    "df_player2.drop([\"p_bp_save%_SOS_1to10\"],axis=1, inplace=True)"
   ]
  },
  {
   "cell_type": "code",
   "execution_count": 111,
   "id": "0e14f02b",
   "metadata": {},
   "outputs": [],
   "source": [
    "#Save to review\n",
    "#df_player2.to_csv('../data/df_player2f.csv', index=False)"
   ]
  },
  {
   "cell_type": "code",
   "execution_count": 112,
   "id": "ca488d6f",
   "metadata": {},
   "outputs": [],
   "source": [
    "#Calculates break point converted% 'Strength of Schedule' for the past 60 opponents of a given player in a given match\n",
    "#Uses each opponent's (non decay-weighted) last 60 match performance prior to facing the player of interest (surface-specific)\n",
    "#With this, we can obtain the \"expected\" performance over the last 60 matches for the player of interest, then can SOS adjust\n",
    "#that player's performance over their last 60 on the surface to reflect how much above or below an average schedule they faced (see calculations below)\n",
    "\n",
    "df_player2 = df_player2.iloc[::-1]\n",
    "\n",
    "df_player2['p_bp_convert%_SOS_1to10'] = df_player2.groupby(['p_id','t_surf'])['p_opp_bp_convert%_l60'].transform(lambda x: x.rolling(window=10, min_periods = 1).mean().round(2).shift(1))\n",
    "\n",
    "df_player2['p_bp_convert%_SOS_11to20'] = df_player2.groupby(['p_id','t_surf'])['p_opp_bp_convert%_l60'].transform(lambda x: x.rolling(window=10, min_periods = 3).mean().round(2).shift(11))\n",
    "df_player2['p_bp_convert%_SOS_11to20'] = df_player2['p_bp_convert%_SOS_11to20'].fillna(df_player2['p_bp_convert%_SOS_1to10'])\n",
    "\n",
    "df_player2['p_bp_convert%_SOS_21to30'] = df_player2.groupby(['p_id','t_surf'])['p_opp_bp_convert%_l60'].transform(lambda x: x.rolling(window=10, min_periods = 3).mean().round(2).shift(21))\n",
    "df_player2['p_bp_convert%_SOS_21to30'] = df_player2['p_bp_convert%_SOS_21to30'].fillna(df_player2['p_bp_convert%_SOS_11to20'])\n",
    "\n",
    "df_player2['p_bp_convert%_SOS_31to40'] = df_player2.groupby(['p_id','t_surf'])['p_opp_bp_convert%_l60'].transform(lambda x: x.rolling(window=10, min_periods = 3).mean().round(2).shift(31))\n",
    "df_player2['p_bp_convert%_SOS_31to40'] = df_player2['p_bp_convert%_SOS_31to40'].fillna(df_player2['p_bp_convert%_SOS_21to30'])\n",
    "\n",
    "df_player2['p_bp_convert%_SOS_41to50'] = df_player2.groupby(['p_id','t_surf'])['p_opp_bp_convert%_l60'].transform(lambda x: x.rolling(window=10, min_periods = 3).mean().round(2).shift(41))\n",
    "df_player2['p_bp_convert%_SOS_41to50'] = df_player2['p_bp_convert%_SOS_41to50'].fillna(df_player2['p_bp_convert%_SOS_31to40'])\n",
    "\n",
    "df_player2['p_bp_convert%_SOS_51to60'] = df_player2.groupby(['p_id','t_surf'])['p_opp_bp_convert%_l60'].transform(lambda x: x.rolling(window=10, min_periods = 3).mean().round(2).shift(51))\n",
    "df_player2['p_bp_convert%_SOS_51to60'] = df_player2['p_bp_convert%_SOS_51to60'].fillna(df_player2['p_bp_convert%_SOS_41to50'])\n",
    "\n",
    "#df_player2['p_bp_convert%_SOS_61to70'] = df_player2.groupby(['p_id','t_surf'])['p_opp_bp_convert%_l60'].transform(lambda x: x.rolling(window=10, min_periods = 3).mean().round(2).shift(61))\n",
    "#df_player2['p_bp_convert%_SOS_61to70'] = df_player2['p_bp_convert%_SOS_61to70'].fillna(df_player2['p_bp_convert%_SOS_51to60'])\n",
    "\n",
    "df_player2 = df_player2.iloc[::-1]"
   ]
  },
  {
   "cell_type": "code",
   "execution_count": 113,
   "id": "5d680a7c",
   "metadata": {},
   "outputs": [],
   "source": [
    "# Decay weights the SOS calculation at each match to be predicted on, and frames as expected BP SAVE% YIELD by player's opponents over the last 60 surface-specific matches (we will contrast directly to the player's ACTUAL performance over the last 60 prior to that match to be predicted on). \n",
    "\n",
    "df_player2[\"p_expected_opp_yield_bp_save%\"] = (100 - (((df_player2['p_bp_convert%_SOS_1to10'] * 14) + (df_player2['p_bp_convert%_SOS_11to20'] * 8) + (df_player2['p_bp_convert%_SOS_21to30'] * 5) \n",
    "+ (df_player2['p_bp_convert%_SOS_31to40'] * 3) + (df_player2['p_bp_convert%_SOS_41to50'] * 2) + (df_player2['p_bp_convert%_SOS_51to60'] * 1))/33)).round(2)\n",
    "\n",
    "# Drops transient columns\n",
    "df_player2.drop([\"p_bp_convert%_SOS_11to20\",\"p_bp_convert%_SOS_21to30\",\"p_bp_convert%_SOS_31to40\",\"p_bp_convert%_SOS_41to50\",\"p_bp_convert%_SOS_51to60\"],axis=1, inplace=True)"
   ]
  },
  {
   "cell_type": "code",
   "execution_count": 114,
   "id": "509e9593",
   "metadata": {},
   "outputs": [
    {
     "data": {
      "text/plain": [
       "(nan, 61.046563786900144)"
      ]
     },
     "execution_count": 114,
     "metadata": {},
     "output_type": "execute_result"
    }
   ],
   "source": [
    "# Calculates mean opponent performance per surface. We will use these to factor player l60 performance based on opponent \n",
    "# l60 performance (surface-specific) prior to the match of interest relative to the surface-specific sample mean\n",
    "\n",
    "mean_clay_SOS7 = df_player2.loc[df_player2['t_surf'] == \"Clay\", 'p_opp_bp_convert%_l60'].mean()\n",
    "mean_clay_SOS7 = 100 - mean_clay_SOS7 #we want in terms of pct BREAK PTS SAVED the field ALLOWS on average\n",
    "mean_hard_SOS7 = df_player2.loc[df_player2['t_surf'] == \"Hard\", 'p_opp_bp_convert%_l60'].mean()\n",
    "mean_hard_SOS7 = 100 - mean_hard_SOS7 #we want in terms of pct BREAK PTS SAVED the field ALLOWS on average\n",
    "mean_clay_SOS7, mean_hard_SOS7"
   ]
  },
  {
   "cell_type": "code",
   "execution_count": 115,
   "id": "d03edad5",
   "metadata": {},
   "outputs": [],
   "source": [
    "# Puts together the above- factors the player's actual performance over the last 60 by schedule of opponents' aggregrate performance over THEIR l60 prior to when they faced the player.\n",
    "\n",
    "df_player2.loc[(df_player2[\"t_surf\"] == \"Clay\"), \"p_SOS_adj_bp_save%_l60\"] = ((df_player2[\"p_bp_save%_l60\"])*(mean_clay_SOS7/df_player2[\"p_expected_opp_yield_bp_save%\"])).round(2)\n",
    "                \n",
    "df_player2.loc[(df_player2[\"t_surf\"] == \"Hard\"), \"p_SOS_adj_bp_save%_l60\"] = ((df_player2[\"p_bp_save%_l60\"])*(mean_hard_SOS7/df_player2[\"p_expected_opp_yield_bp_save%\"])).round(2)\n",
    "\n",
    "df_player2[\"p_SOS_adj_bp_save%_l60\"].replace(np.inf, np.nan, inplace=True) #deals with a few infs in first handful of matches in sample where there is no SOS (divide by zero errors in the above)\n",
    "df_player2.loc[(df_player2[\"p_SOS_adj_bp_save%_l60\"] > 100), \"p_SOS_adj_bp_save%_l60\"] = df_player2[\"p_SOS_adj_bp_save%_l60\"].mean() #deals with a few spuriously high values when there's only one previous match (won't impact modeling at all, as these matches will be filtered)"
   ]
  },
  {
   "cell_type": "code",
   "execution_count": 116,
   "id": "04a71ce7",
   "metadata": {},
   "outputs": [],
   "source": [
    "# SOS adjustment for serve points% (OPPONENT BP SAVE% YIELD) for just the last 10 matches (recent performance)\n",
    "df_player2[\"p_expected_opp_yield_bp_save%_l10\"] = (100 - df_player2['p_bp_convert%_SOS_1to10'])\n",
    "\n",
    "# Calculates mean opponent performance per surface. We will use these to factor player l10 performance based on opponent \n",
    "# l10 performance (surface-specific) prior to the match of interest relative to the surface-specific sample mean\n",
    "mean_clay_SOS7 = df_player2.loc[df_player2['t_surf'] == \"Clay\", 'p_opp_bp_convert%_l10'].mean()\n",
    "mean_clay_SOS7 = 100 - mean_clay_SOS7 #we want in terms of pct pts the field ALLOWS on average\n",
    "mean_hard_SOS7 = df_player2.loc[df_player2['t_surf'] == \"Hard\", 'p_opp_bp_convert%_l10'].mean()\n",
    "mean_hard_SOS7 = 100 - mean_hard_SOS7 #we want in terms of pct pts the field ALLOWS on average\n",
    "mean_clay_SOS7, mean_hard_SOS7\n",
    "\n",
    "# Puts together the above- factors the player's actual performance over the last 10 by schedule of opponents' aggregrate performance over THEIR l10 prior to when they faced the player.\n",
    "# Adjustment proportional to opponents' deviation from field mean performs better than various boosted or blunted versions attempted \n",
    "df_player2.loc[(df_player2[\"t_surf\"] == \"Clay\"), \"p_SOS_adj_bp_save%_l10\"] = ((df_player2[\"p_bp_save%_l10\"])*(mean_clay_SOS7/df_player2[\"p_expected_opp_yield_bp_save%_l10\"])).round(2)          \n",
    "df_player2.loc[(df_player2[\"t_surf\"] == \"Hard\"), \"p_SOS_adj_bp_save%_l10\"] = ((df_player2[\"p_bp_save%_l10\"])*(mean_hard_SOS7/df_player2[\"p_expected_opp_yield_bp_save%_l10\"])).round(2)\n",
    "\n",
    "df_player2[\"p_SOS_adj_bp_save%_l10\"].replace(np.inf, np.nan, inplace=True) #deals with a few infs in first handful of matches in sample where there is no SOS (divide by zero errors in the above)\n",
    "df_player2.loc[(df_player2[\"p_SOS_adj_bp_save%_l10\"] > 100), \"p_SOS_adj_bp_save%_l10\"] = df_player2[\"p_SOS_adj_bp_save%_l10\"].mean() #deals with a few spuriously high values when there's only one previous match (won't impact modelling at all, as these matches will be filtered out)\n",
    "\n",
    "df_player2.drop([\"p_bp_convert%_SOS_1to10\"],axis=1, inplace=True)"
   ]
  },
  {
   "cell_type": "code",
   "execution_count": 117,
   "id": "31dc2432",
   "metadata": {},
   "outputs": [],
   "source": [
    "#Save to review\n",
    "df_player2.to_csv('../data/df_player2g.csv', index=False)"
   ]
  },
  {
   "cell_type": "code",
   "execution_count": 118,
   "id": "751073ab",
   "metadata": {},
   "outputs": [
    {
     "name": "stdout",
     "output_type": "stream",
     "text": [
      "<class 'pandas.core.frame.DataFrame'>\n",
      "Int64Index: 23608 entries, 22458 to 14336\n",
      "Columns: 113 entries, t_id to p_SOS_adj_bp_save%_l10\n",
      "dtypes: float64(92), int64(11), object(10)\n",
      "memory usage: 20.5+ MB\n"
     ]
    }
   ],
   "source": [
    "df_player2.info()"
   ]
  },
  {
   "cell_type": "code",
   "execution_count": 119,
   "id": "c9b72ac7",
   "metadata": {},
   "outputs": [],
   "source": [
    "#Tidy up latest by-player iteration before converting back to by-match for calculation of within-match to be predicted on player differentials\n",
    "df_player3 = df_player2[[\"t_id\", \"t_date\", \"tour_wk\", \"t_name\", \"t_country\", \"t_surf\", \"t_indoor\", \"t_alt\", \"t_lvl\", \"t_draw_size\", \"t_rd_num\", \"m_num\", \"m_best_of\", \"m_outcome\", \"m_time(m)\", \"m_tot_pts\", \"p_id\", \"p_name\", \"p_H2H_w\", \"p_H2H_pts_won%\", \"p_rank\", \"p_rank_pts\", \"p_country\", \"p_ent\", \"p_hd\", \"p_ht\", \"p_age\", \"p_matches\", \"p_matches_surf\", \"p_pts_won%\", \"p_pts_won%_l60_decay\", \"p_pts_won%_l60_decay_IO\", \"p_pts_won%_l10\", \"p_SOS_adj_pts_won%_l60_decay\", \"p_SOS_adj_pts_won%_l60_decay_IO\", \"p_SOS_adj_pts_won%_l60_decay_IO_weighted\", \"p_SOS_adj_pts_won%_l10\", \"p_sv_pts_won%\", \"p_sv_pts_won%_l60_decay\", \"p_sv_pts_won%_l10\", \"p_SOS_adj_sv_pts_won%_l60_decay\", \"p_SOS_adj_sv_pts_won%_l10\", \"p_ret_pts_won%\", \"p_ret_pts_won%_l60_decay\", \"p_ret_pts_won%_l10\", \"p_SOS_adj_ret_pts_won%_l60_decay\", \"p_SOS_adj_ret_pts_won%_l10\", \"p_ace%\", \"p_ace%_l60_decay\", \"p_ace%_l10\", \"p_SOS_adj_ace%_l60_decay\", \"p_SOS_adj_ace%_l10\", \"p_aced%\", \"p_aced%_l60_decay\", \"p_aced%_l10\", \"p_SOS_adj_aced%_l60_decay\", \"p_SOS_adj_aced%_l10\", \"p_bp_save%\", \"p_bp_save%_l60\", \"p_bp_save%_l10\", \"p_SOS_adj_bp_save%_l60\", \"p_SOS_adj_bp_save%_l10\", \"p_bp_convert%\", \"p_bp_convert%_l60\", \"p_bp_convert%_l10\", \"p_SOS_adj_bp_convert%_l60\", \"p_SOS_adj_bp_convert%_l10\", \"p_pts_won%_std_l60_decay\", \"p_sv_pts_won%_std_l60_decay\", \"p_ret_pts_won%_std_l60_decay\", \"p_m_time_last\", \"p_tot_time_l6\", \"p_tot_time_l6_decay\", \"p_tot_pts_last\", \"p_tot_pts_l6\", \"p_tot_pts_l6_decay\", \"p_stamina_adj_fatigue_decay\", \"p_stamina_adj_fatigue\", \"p_IP_NV\"]]"
   ]
  },
  {
   "cell_type": "code",
   "execution_count": 120,
   "id": "7d37265a",
   "metadata": {},
   "outputs": [
    {
     "name": "stdout",
     "output_type": "stream",
     "text": [
      "<class 'pandas.core.frame.DataFrame'>\n",
      "Int64Index: 23608 entries, 22458 to 14336\n",
      "Data columns (total 79 columns):\n",
      " #   Column                                    Non-Null Count  Dtype  \n",
      "---  ------                                    --------------  -----  \n",
      " 0   t_id                                      23608 non-null  object \n",
      " 1   t_date                                    23608 non-null  int64  \n",
      " 2   tour_wk                                   23608 non-null  object \n",
      " 3   t_name                                    23608 non-null  object \n",
      " 4   t_country                                 23608 non-null  object \n",
      " 5   t_surf                                    23608 non-null  object \n",
      " 6   t_indoor                                  23608 non-null  int64  \n",
      " 7   t_alt                                     23608 non-null  int64  \n",
      " 8   t_lvl                                     23608 non-null  int64  \n",
      " 9   t_draw_size                               23608 non-null  int64  \n",
      " 10  t_rd_num                                  23608 non-null  int64  \n",
      " 11  m_num                                     23608 non-null  int64  \n",
      " 12  m_best_of                                 23608 non-null  int64  \n",
      " 13  m_outcome                                 23608 non-null  int64  \n",
      " 14  m_time(m)                                 23608 non-null  float64\n",
      " 15  m_tot_pts                                 23608 non-null  float64\n",
      " 16  p_id                                      23608 non-null  int64  \n",
      " 17  p_name                                    23608 non-null  object \n",
      " 18  p_H2H_w                                   23608 non-null  float64\n",
      " 19  p_H2H_pts_won%                            7810 non-null   float64\n",
      " 20  p_rank                                    23571 non-null  float64\n",
      " 21  p_rank_pts                                23571 non-null  float64\n",
      " 22  p_country                                 23608 non-null  object \n",
      " 23  p_ent                                     23608 non-null  float64\n",
      " 24  p_hd                                      23608 non-null  object \n",
      " 25  p_ht                                      23608 non-null  float64\n",
      " 26  p_age                                     23608 non-null  float64\n",
      " 27  p_matches                                 23608 non-null  float64\n",
      " 28  p_matches_surf                            23608 non-null  float64\n",
      " 29  p_pts_won%                                23608 non-null  float64\n",
      " 30  p_pts_won%_l60_decay                      23069 non-null  float64\n",
      " 31  p_pts_won%_l60_decay_IO                   22774 non-null  float64\n",
      " 32  p_pts_won%_l10                            23069 non-null  float64\n",
      " 33  p_SOS_adj_pts_won%_l60_decay              22931 non-null  float64\n",
      " 34  p_SOS_adj_pts_won%_l60_decay_IO           22526 non-null  float64\n",
      " 35  p_SOS_adj_pts_won%_l60_decay_IO_weighted  22526 non-null  float64\n",
      " 36  p_SOS_adj_pts_won%_l10                    22931 non-null  float64\n",
      " 37  p_sv_pts_won%                             23608 non-null  float64\n",
      " 38  p_sv_pts_won%_l60_decay                   23069 non-null  float64\n",
      " 39  p_sv_pts_won%_l10                         23069 non-null  float64\n",
      " 40  p_SOS_adj_sv_pts_won%_l60_decay           22931 non-null  float64\n",
      " 41  p_SOS_adj_sv_pts_won%_l10                 22931 non-null  float64\n",
      " 42  p_ret_pts_won%                            23608 non-null  float64\n",
      " 43  p_ret_pts_won%_l60_decay                  23069 non-null  float64\n",
      " 44  p_ret_pts_won%_l10                        23069 non-null  float64\n",
      " 45  p_SOS_adj_ret_pts_won%_l60_decay          22931 non-null  float64\n",
      " 46  p_SOS_adj_ret_pts_won%_l10                22931 non-null  float64\n",
      " 47  p_ace%                                    23608 non-null  float64\n",
      " 48  p_ace%_l60_decay                          23069 non-null  float64\n",
      " 49  p_ace%_l10                                23069 non-null  float64\n",
      " 50  p_SOS_adj_ace%_l60_decay                  22919 non-null  float64\n",
      " 51  p_SOS_adj_ace%_l10                        22919 non-null  float64\n",
      " 52  p_aced%                                   23608 non-null  float64\n",
      " 53  p_aced%_l60_decay                         23069 non-null  float64\n",
      " 54  p_aced%_l10                               23069 non-null  float64\n",
      " 55  p_SOS_adj_aced%_l60_decay                 22921 non-null  float64\n",
      " 56  p_SOS_adj_aced%_l10                       22921 non-null  float64\n",
      " 57  p_bp_save%                                23608 non-null  float64\n",
      " 58  p_bp_save%_l60                            23069 non-null  float64\n",
      " 59  p_bp_save%_l10                            23069 non-null  float64\n",
      " 60  p_SOS_adj_bp_save%_l60                    22927 non-null  float64\n",
      " 61  p_SOS_adj_bp_save%_l10                    22927 non-null  float64\n",
      " 62  p_bp_convert%                             23608 non-null  float64\n",
      " 63  p_bp_convert%_l60                         23069 non-null  float64\n",
      " 64  p_bp_convert%_l10                         23069 non-null  float64\n",
      " 65  p_SOS_adj_bp_convert%_l60                 22914 non-null  float64\n",
      " 66  p_SOS_adj_bp_convert%_l10                 22914 non-null  float64\n",
      " 67  p_pts_won%_std_l60_decay                  22652 non-null  float64\n",
      " 68  p_sv_pts_won%_std_l60_decay               22652 non-null  float64\n",
      " 69  p_ret_pts_won%_std_l60_decay              22652 non-null  float64\n",
      " 70  p_m_time_last                             23608 non-null  float64\n",
      " 71  p_tot_time_l6                             23608 non-null  float64\n",
      " 72  p_tot_time_l6_decay                       23608 non-null  float64\n",
      " 73  p_tot_pts_last                            23608 non-null  float64\n",
      " 74  p_tot_pts_l6                              23608 non-null  float64\n",
      " 75  p_tot_pts_l6_decay                        23608 non-null  float64\n",
      " 76  p_stamina_adj_fatigue_decay               23608 non-null  float64\n",
      " 77  p_stamina_adj_fatigue                     23608 non-null  float64\n",
      " 78  p_IP_NV                                   23506 non-null  float64\n",
      "dtypes: float64(61), int64(10), object(8)\n",
      "memory usage: 14.4+ MB\n"
     ]
    }
   ],
   "source": [
    "df_player3.info()"
   ]
  },
  {
   "cell_type": "code",
   "execution_count": 121,
   "id": "2349802b",
   "metadata": {},
   "outputs": [],
   "source": [
    "#Save prior to conversion back to by-match format for computation of player differential features per match.\n",
    "df_player3.to_csv('../data/df_player3.csv', index=False)"
   ]
  },
  {
   "cell_type": "markdown",
   "id": "bb986aeb",
   "metadata": {},
   "source": [
    "### Player vs Player Differentials in Predictive Features By Match"
   ]
  },
  {
   "cell_type": "markdown",
   "id": "abf1087f",
   "metadata": {},
   "source": [
    "Now will convert dataframe back to by-match format to compute player differentials for predictive features aligned to each match to predict on. A few additional by-player features will be computed in the process as well. After these features are computed, the dataframe will be converted back to a by-player format for output to EDA."
   ]
  },
  {
   "cell_type": "code",
   "execution_count": 122,
   "id": "5fe6f2d6",
   "metadata": {},
   "outputs": [],
   "source": [
    "df_winners3 = df_player3[df_player3['m_outcome'] == 1]\n",
    "df_losers3 = df_player3[df_player3['m_outcome'] == 0]\n",
    "df_match3 = df_winners3.merge(df_losers3, on='m_num', how = 'left')"
   ]
  },
  {
   "cell_type": "code",
   "execution_count": 123,
   "id": "8524c238",
   "metadata": {},
   "outputs": [],
   "source": [
    "df_match3 = df_match3.drop([\"t_id_y\", \"t_date_y\", \"tour_wk_y\", \"t_name_y\", \"t_country_y\", \"t_surf_y\", \"t_indoor_y\", \"t_alt_y\", \"t_lvl_y\", \"t_draw_size_y\", \"t_rd_num_y\", \"m_best_of_y\", \"m_time(m)_y\", \"m_tot_pts_y\"], axis=1)\n",
    "df_match3.rename(columns = {'t_id_x':'t_id', 't_date_x':'t_date', 'tour_wk_x':'tour_wk', 't_name_x':'t_name','t_country_x':'t_country','t_surf_x':'t_surf','t_indoor_x':'t_indoor', 't_alt_x':'t_alt','t_lvl_x':'t_lvl','t_draw_size_x':'t_draw_size', 't_rd_num_x':'t_rd_num', 'm_best_of_x':'m_best_of', 'm_time(m)_x':'m_time(m)','m_tot_pts_x':'m_tot_pts'}, inplace=True)"
   ]
  },
  {
   "cell_type": "code",
   "execution_count": 124,
   "id": "4b0d69c7",
   "metadata": {},
   "outputs": [],
   "source": [
    "#df_match3.to_csv('../data/df_match3.csv', index=False)"
   ]
  },
  {
   "cell_type": "markdown",
   "id": "8315112b",
   "metadata": {},
   "source": [
    "#### Rankings and Entry Type-Related Player Differential Predictive Features By Match"
   ]
  },
  {
   "cell_type": "code",
   "execution_count": 125,
   "id": "52b61ba0",
   "metadata": {},
   "outputs": [],
   "source": [
    "# ATP ranking differential between winner (_x) vs loser (_y) (and loser vs winner) (to be consistent with points diff, positive number = better ranking than opp)\n",
    "max_winners = df_match3['p_rank_x'].max()\n",
    "max_losers = df_match3['p_rank_y'].max()\n",
    "max_sample = max(max_winners, max_losers)\n",
    "#max_sample\n",
    "\n",
    "df_match3['p_rank_x'] = df_match3['p_rank_x'].fillna(max_sample + 1) # if player has no ranking, assign sample max + 1\n",
    "df_match3['p_rank_y'] = df_match3['p_rank_y'].fillna(max_sample + 1) # if player has no ranking, assign sample max + 1\n",
    "df_match3[\"p_rank_diff_x\"] = -(df_match3[\"p_rank_x\"] - df_match3[\"p_rank_y\"])\n",
    "df_match3[\"p_rank_diff_y\"] = -df_match3[\"p_rank_diff_x\"]"
   ]
  },
  {
   "cell_type": "code",
   "execution_count": 126,
   "id": "9c10b10e",
   "metadata": {},
   "outputs": [],
   "source": [
    "# Generate log of ranking for both players and then calculate the difference (assumption that one ranking place separates players more as you get closer to the top of the rankings)\n",
    "df_match3[\"p_log_rank_x\"] = np.log(df_match3[\"p_rank_x\"]).round(2)\n",
    "df_match3[\"p_log_rank_y\"] = np.log(df_match3[\"p_rank_y\"]).round(2)\n",
    "df_match3[\"p_log_rank_diff_x\"] = -(df_match3[\"p_log_rank_x\"] - df_match3[\"p_log_rank_y\"])\n",
    "df_match3[\"p_log_rank_diff_y\"] = -(df_match3[\"p_log_rank_diff_x\"])"
   ]
  },
  {
   "cell_type": "code",
   "execution_count": 127,
   "id": "fc144f1d",
   "metadata": {},
   "outputs": [],
   "source": [
    "# ATP ranking points differential between winner (_x) and loser (_y) (and loser vs winner)\n",
    "df_match3['p_rank_pts_x'] = df_match3['p_rank_pts_x'].fillna(0) # if player has no pts, assign 0\n",
    "df_match3['p_rank_pts_y'] = df_match3['p_rank_pts_y'].fillna(0) # if player has no pts, assign 0\n",
    "df_match3[\"p_rank_pts_diff_x\"] = df_match3[\"p_rank_pts_x\"] - df_match3[\"p_rank_pts_y\"]\n",
    "df_match3[\"p_rank_pts_diff_y\"] = -df_match3[\"p_rank_pts_diff_x\"]"
   ]
  },
  {
   "cell_type": "code",
   "execution_count": 128,
   "id": "a9b87b42",
   "metadata": {},
   "outputs": [],
   "source": [
    "# Entry Type Differential (entry type was encoded in first stage as 3=Ranking-based entry; 2=Qualifier; 1.5=Lucky Loser; 1=Special Entry/non-rankings based entry)\n",
    "df_match3[\"p_ent_diff_x\"] = df_match3[\"p_ent_x\"] - df_match3[\"p_ent_y\"]\n",
    "df_match3[\"p_ent_diff_y\"] = -df_match3[\"p_ent_diff_x\"]"
   ]
  },
  {
   "cell_type": "markdown",
   "id": "4a770854",
   "metadata": {},
   "source": [
    "#### Basic Player Characteristics Differential Predictive Features By Match"
   ]
  },
  {
   "cell_type": "code",
   "execution_count": 129,
   "id": "63325aec",
   "metadata": {},
   "outputs": [],
   "source": [
    "# Height differential between winner (_x) vs loser (_y) (in cm) (and loser vs winner)\n",
    "df_match3[\"p_ht_diff_x\"] = (df_match3[\"p_ht_x\"] - df_match3[\"p_ht_y\"])\n",
    "df_match3[\"p_ht_diff_y\"] = -df_match3[\"p_ht_diff_x\"]"
   ]
  },
  {
   "cell_type": "code",
   "execution_count": 130,
   "id": "04487f41",
   "metadata": {},
   "outputs": [],
   "source": [
    "# Age differential between winner (_x) vs loser (_y) (yrs) (and loser vs winner)\n",
    "df_match3[\"p_age_diff_x\"] = (df_match3[\"p_age_x\"] - df_match3[\"p_age_y\"])\n",
    "df_match3[\"p_age_diff_y\"] = -df_match3[\"p_age_diff_x\"]"
   ]
  },
  {
   "cell_type": "code",
   "execution_count": 131,
   "id": "22452049",
   "metadata": {},
   "outputs": [],
   "source": [
    "# Marker column for if winner was Left-Handed and loser was Right-Handed (and vice versa) (1=T, 0=F)\n",
    "df_match3['p_L_opp_R_x'] = np.where((df_match3['p_hd_x'] == 'L') & (df_match3['p_hd_y'] == 'R'), 1, 0)\n",
    "df_match3['p_L_opp_R_y'] = np.where((df_match3['p_hd_x'] == 'R') & (df_match3['p_hd_y'] == 'L'), 1, 0)\n",
    "\n",
    "# a small number of low-match # players in the sample are unknown (U) for handed, even after investigation on ATP site."
   ]
  },
  {
   "cell_type": "code",
   "execution_count": 132,
   "id": "d2d4d70a",
   "metadata": {},
   "outputs": [],
   "source": [
    "# Convert player handedness itself to numeric encoding\n",
    "df_match3.loc[(df_match3[\"p_hd_x\"] == \"L\"), \"p_hd_x\"] = 2 #Lefties converts to 2\n",
    "df_match3.loc[(df_match3[\"p_hd_y\"] == \"L\"), \"p_hd_y\"] = 2 #Lefties converts to 2\n",
    "df_match3.loc[(df_match3[\"p_hd_x\"] == \"R\"), \"p_hd_x\"] = 1 #Righties converts to 1\n",
    "df_match3.loc[(df_match3[\"p_hd_y\"] == \"R\"), \"p_hd_y\"] = 1 #Righties converts to 1\n",
    "df_match3.loc[(df_match3[\"p_hd_x\"] == \"U\"), \"p_hd_x\"] = 1 #Unknowns convert to 0\n",
    "df_match3.loc[(df_match3[\"p_hd_y\"] == \"U\"), \"p_hd_y\"] = 1 #Unknowns convert to 0\n",
    "\n",
    "df_match3[\"p_hd_x\"] = pd.to_numeric(df_match3[\"p_hd_x\"])\n",
    "df_match3[\"p_hd_y\"] = pd.to_numeric(df_match3[\"p_hd_y\"])"
   ]
  },
  {
   "cell_type": "code",
   "execution_count": 133,
   "id": "7a00a1fd",
   "metadata": {},
   "outputs": [],
   "source": [
    "# Marker column for if winner was from the country where the tourney was held, and opponent was not (and vice versa) (1=T, 0=F)\n",
    "df_match3['p_HCA_opp_N_x'] = np.where((df_match3['t_country'] == df_match3['p_country_x']) & (df_match3['t_country'] != df_match3['p_country_y']), 1, 0)\n",
    "df_match3['p_HCA_opp_N_y'] = np.where((df_match3['t_country'] != df_match3['p_country_x']) & (df_match3['t_country'] == df_match3['p_country_y']), 1, 0)"
   ]
  },
  {
   "cell_type": "markdown",
   "id": "34c7caee",
   "metadata": {},
   "source": [
    "#### Retrospective Player Performance Differential Predictive Features By Match"
   ]
  },
  {
   "cell_type": "code",
   "execution_count": 134,
   "id": "54fd06c6",
   "metadata": {},
   "outputs": [],
   "source": [
    "# % total points won in previous 60 matches (surface-specific; decay-weighted) differential between winner (_x) and loser (_y)\n",
    "#This is the NON-Strength of Schedule Adjusted Version\n",
    "\n",
    "df_match3[\"p_pts_won%_l60_decay_diff_x\"] = df_match3[\"p_pts_won%_l60_decay_x\"] - df_match3[\"p_pts_won%_l60_decay_y\"]\n",
    "df_match3[\"p_pts_won%_l60_decay_diff_y\"] = -(df_match3[\"p_pts_won%_l60_decay_diff_x\"])"
   ]
  },
  {
   "cell_type": "code",
   "execution_count": 135,
   "id": "f84bbd24",
   "metadata": {},
   "outputs": [],
   "source": [
    "# % total points won in previous 60 matches (surface-specific; decay-weighted) differential between winner (_x) and loser (_y)\n",
    "#This is the NON-Strength of Schedule Adjusted Version\n",
    "# This version respects INDOOR vs OUTDOOR SEPARATION\n",
    "\n",
    "df_match3[\"p_pts_won%_l60_decay_IO_diff_x\"] = df_match3[\"p_pts_won%_l60_decay_IO_x\"] - df_match3[\"p_pts_won%_l60_decay_IO_y\"]\n",
    "df_match3[\"p_pts_won%_l60_decay_IO_diff_y\"] = -(df_match3[\"p_pts_won%_l60_decay_IO_diff_x\"])"
   ]
  },
  {
   "cell_type": "code",
   "execution_count": 136,
   "id": "4794c30b",
   "metadata": {},
   "outputs": [],
   "source": [
    "# % total points won in previous 60 matches (surface-specific; decay-weighted) differential between winner (_x) and loser (_y)\n",
    "#This is the Strength of Schedule Adjusted Version\n",
    "\n",
    "df_match3[\"p_SOS_adj_pts_won%_l60_decay_diff_x\"] = df_match3[\"p_SOS_adj_pts_won%_l60_decay_x\"] - df_match3[\"p_SOS_adj_pts_won%_l60_decay_y\"]\n",
    "df_match3[\"p_SOS_adj_pts_won%_l60_decay_diff_y\"] = -(df_match3[\"p_SOS_adj_pts_won%_l60_decay_diff_x\"])"
   ]
  },
  {
   "cell_type": "code",
   "execution_count": 137,
   "id": "0b304079",
   "metadata": {},
   "outputs": [],
   "source": [
    "# % total points won in previous 60 matches (surface-specific; decay-weighted) differential between winner (_x) and loser (_y)\n",
    "#This is the Strength of Schedule Adjusted Version\n",
    "# This version respects INDOOR vs OUTDOOR SEPARATION\n",
    "\n",
    "df_match3[\"p_SOS_adj_pts_won%_l60_decay_IO_diff_x\"] = df_match3[\"p_SOS_adj_pts_won%_l60_decay_IO_x\"] - df_match3[\"p_SOS_adj_pts_won%_l60_decay_IO_y\"]\n",
    "df_match3[\"p_SOS_adj_pts_won%_l60_decay_IO_diff_y\"] = -(df_match3[\"p_SOS_adj_pts_won%_l60_decay_IO_diff_x\"])"
   ]
  },
  {
   "cell_type": "code",
   "execution_count": 138,
   "id": "b5c38f85",
   "metadata": {},
   "outputs": [],
   "source": [
    "# % total points won in previous 60 matches (surface-specific; decay-weighted) differential between winner (_x) and loser (_y)\n",
    "#This is a version of the standard SOS-Adjusted l60 WEIGHTED BY INDOOR/OUTDOOR DISTINCTION\n",
    "\n",
    "df_match3[\"p_SOS_adj_pts_won%_l60_decay_IO_weighted_diff_x\"] = df_match3[\"p_SOS_adj_pts_won%_l60_decay_IO_weighted_x\"] - df_match3[\"p_SOS_adj_pts_won%_l60_decay_IO_weighted_y\"]\n",
    "df_match3[\"p_SOS_adj_pts_won%_l60_decay_IO_weighted_diff_y\"] = -(df_match3[\"p_SOS_adj_pts_won%_l60_decay_IO_weighted_diff_x\"])"
   ]
  },
  {
   "cell_type": "code",
   "execution_count": 139,
   "id": "514d0588",
   "metadata": {},
   "outputs": [],
   "source": [
    "# % total points won in previous 10 matches (surface-specific; NON-decay-weighted) differential between winner (_x) and loser (_y)\n",
    "#This is the NON-Strength of Schedule Adjusted Version\n",
    "\n",
    "df_match3[\"p_pts_won%_l10_diff_x\"] = df_match3[\"p_pts_won%_l10_x\"] - df_match3[\"p_pts_won%_l10_y\"]\n",
    "df_match3[\"p_pts_won%_l10_diff_y\"] = -(df_match3[\"p_pts_won%_l10_diff_x\"])"
   ]
  },
  {
   "cell_type": "code",
   "execution_count": 140,
   "id": "c1d532e1",
   "metadata": {},
   "outputs": [],
   "source": [
    "# % total points won in previous 10 matches (surface-specific; NON-decay-weighted) differential between winner (_x) and loser (_y)\n",
    "#This is the Strength of Schedule Adjusted Version\n",
    "df_match3[\"p_SOS_adj_pts_won%_l10_diff_x\"] = \"\"\n",
    "df_match3[\"p_SOS_adj_pts_won%_l10_diff_y\"] = \"\"\n",
    "\n",
    "df_match3[\"p_SOS_adj_pts_won%_l10_diff_x\"] = df_match3[\"p_SOS_adj_pts_won%_l10_x\"] - df_match3[\"p_SOS_adj_pts_won%_l10_y\"]\n",
    "df_match3[\"p_SOS_adj_pts_won%_l10_diff_y\"] = -(df_match3[\"p_SOS_adj_pts_won%_l10_diff_x\"])"
   ]
  },
  {
   "cell_type": "code",
   "execution_count": 141,
   "id": "960e6327",
   "metadata": {},
   "outputs": [],
   "source": [
    "# \"OFFENSE VS OFFENSE\": % SERVE points won in previous 60 matches (surface-specific; decay-weighted) differential between winner (_x) and loser (_y)\n",
    "#This is the NON-Strength of Schedule Adjusted Version\n",
    "\n",
    "df_match3[\"p_sv_pts_won%_l60_decay_diff_x\"] = df_match3[\"p_sv_pts_won%_l60_decay_x\"] - df_match3[\"p_sv_pts_won%_l60_decay_y\"]\n",
    "df_match3[\"p_sv_pts_won%_l60_decay_diff_y\"] = -(df_match3[\"p_sv_pts_won%_l60_decay_diff_x\"])"
   ]
  },
  {
   "cell_type": "code",
   "execution_count": 142,
   "id": "d0ed2735",
   "metadata": {},
   "outputs": [],
   "source": [
    "# \"OFFENSE VS OFFENSE\": % SERVE points won in previous 60 matches (surface-specific; decay-weighted) differential between winner (_x) and loser (_y)\n",
    "#This is the Strength of Schedule Adjusted Version\n",
    "\n",
    "df_match3[\"p_SOS_adj_sv_pts_won%_l60_decay_diff_x\"] = df_match3[\"p_SOS_adj_sv_pts_won%_l60_decay_x\"] - df_match3[\"p_SOS_adj_sv_pts_won%_l60_decay_y\"]\n",
    "df_match3[\"p_SOS_adj_sv_pts_won%_l60_decay_diff_y\"] = -(df_match3[\"p_SOS_adj_sv_pts_won%_l60_decay_diff_x\"])"
   ]
  },
  {
   "cell_type": "code",
   "execution_count": 143,
   "id": "2ba4fcce",
   "metadata": {},
   "outputs": [],
   "source": [
    "# \"OFFENSE VS OFFENSE\": % SERVE points won in previous 10 matches (surface-specific; NON-decay-weighted) differential between winner (_x) and loser (_y)\n",
    "#This is the NON-Strength of Schedule Adjusted Version\n",
    "\n",
    "df_match3[\"p_sv_pts_won%_l10_diff_x\"] = df_match3[\"p_sv_pts_won%_l10_x\"] - df_match3[\"p_sv_pts_won%_l10_y\"]\n",
    "df_match3[\"p_sv_pts_won%_l10_diff_y\"] = -(df_match3[\"p_sv_pts_won%_l10_diff_x\"])"
   ]
  },
  {
   "cell_type": "code",
   "execution_count": 144,
   "id": "e659baa1",
   "metadata": {},
   "outputs": [],
   "source": [
    "# \"OFFENSE VS OFFENSE\": % SERVE points won in previous 10 matches (surface-specific; NON-decay-weighted) differential between winner (_x) and loser (_y)\n",
    "#This is the Strength of Schedule Adjusted Version\n",
    "\n",
    "df_match3[\"p_SOS_adj_sv_pts_won%_l10_diff_x\"] = df_match3[\"p_SOS_adj_sv_pts_won%_l10_x\"] - df_match3[\"p_SOS_adj_sv_pts_won%_l10_y\"]\n",
    "df_match3[\"p_SOS_adj_sv_pts_won%_l10_diff_y\"] = -(df_match3[\"p_SOS_adj_sv_pts_won%_l10_diff_x\"])"
   ]
  },
  {
   "cell_type": "code",
   "execution_count": 145,
   "id": "ff1796c6",
   "metadata": {},
   "outputs": [],
   "source": [
    "# \"DEFENSE VS DEFENSE\": % RETURN points won in previous 60 matches (surface-specific; decay-weighted) differential between winner (_x) and loser (_y)\n",
    "#This is the NON-Strength of Schedule Adjusted Version\n",
    "\n",
    "df_match3[\"p_ret_pts_won%_l60_decay_diff_x\"] = df_match3[\"p_ret_pts_won%_l60_decay_x\"] - df_match3[\"p_ret_pts_won%_l60_decay_y\"]\n",
    "df_match3[\"p_ret_pts_won%_l60_decay_diff_y\"] = -(df_match3[\"p_ret_pts_won%_l60_decay_diff_x\"])"
   ]
  },
  {
   "cell_type": "code",
   "execution_count": 146,
   "id": "d0c79da5",
   "metadata": {},
   "outputs": [],
   "source": [
    "# \"DEFENSE VS DEFENSE\": % RETURN points won in previous 60 matches (surface-specific; decay-weighted) differential between winner (_x) and loser (_y)\n",
    "#This is the Strength of Schedule Adjusted Version\n",
    "\n",
    "df_match3[\"p_SOS_adj_ret_pts_won%_l60_decay_diff_x\"] = df_match3[\"p_SOS_adj_ret_pts_won%_l60_decay_x\"] - df_match3[\"p_SOS_adj_ret_pts_won%_l60_decay_y\"]\n",
    "df_match3[\"p_SOS_adj_ret_pts_won%_l60_decay_diff_y\"] = -(df_match3[\"p_SOS_adj_ret_pts_won%_l60_decay_diff_x\"])"
   ]
  },
  {
   "cell_type": "code",
   "execution_count": 147,
   "id": "5e7c2661",
   "metadata": {},
   "outputs": [],
   "source": [
    "# \"DEFENSE VS DEFENSE\": % RETURN points won in previous 10 matches (surface-specific; NON-decay-weighted) differential between winner (_x) and loser (_y)\n",
    "#This is the NON-Strength of Schedule Adjusted Version\n",
    "\n",
    "df_match3[\"p_ret_pts_won%_l10_diff_x\"] = df_match3[\"p_ret_pts_won%_l10_x\"] - df_match3[\"p_ret_pts_won%_l10_y\"]\n",
    "df_match3[\"p_ret_pts_won%_l10_diff_y\"] = -(df_match3[\"p_ret_pts_won%_l10_diff_x\"])"
   ]
  },
  {
   "cell_type": "code",
   "execution_count": 148,
   "id": "99f445ce",
   "metadata": {},
   "outputs": [],
   "source": [
    "# \"DEFENSE VS DEFENSE\": % RETURN points won in previous 10 matches (surface-specific; NON-decay-weighted) differential between winner (_x) and loser (_y)\n",
    "#This is the Strength of Schedule Adjusted Version\n",
    "\n",
    "df_match3[\"p_SOS_adj_ret_pts_won%_l10_diff_x\"] = df_match3[\"p_SOS_adj_ret_pts_won%_l10_x\"] - df_match3[\"p_SOS_adj_ret_pts_won%_l10_y\"]\n",
    "df_match3[\"p_SOS_adj_ret_pts_won%_l10_diff_y\"] = -(df_match3[\"p_SOS_adj_ret_pts_won%_l10_diff_x\"])"
   ]
  },
  {
   "cell_type": "code",
   "execution_count": 149,
   "id": "3122dab8",
   "metadata": {},
   "outputs": [],
   "source": [
    "# \"OFFENSE VS DEFENSE\": % SERVE points won VS OPPONENT % RETURN points won in previous 60 matches (surface-specific; decay-weighted) differential between winner (_x) and loser (_y)\n",
    "#This is the NON-Strength of Schedule Adjusted Version\n",
    "\n",
    "df_match3[\"p_sv_opp_ret_pts_won%_l60_decay_diff_x\"] = df_match3[\"p_sv_pts_won%_l60_decay_x\"] - df_match3[\"p_ret_pts_won%_l60_decay_y\"]\n",
    "df_match3[\"p_sv_opp_ret_pts_won%_l60_decay_diff_y\"] = df_match3[\"p_sv_pts_won%_l60_decay_y\"] - df_match3[\"p_ret_pts_won%_l60_decay_x\"]"
   ]
  },
  {
   "cell_type": "code",
   "execution_count": 150,
   "id": "18fe0e2e",
   "metadata": {},
   "outputs": [],
   "source": [
    "# \"OFFENSE VS DEFENSE\": % SERVE points won VS OPPONENT % RETURN points won in previous 60 matches (surface-specific; decay-weighted) differential between winner (_x) and loser (_y)\n",
    "#This is the Strength of Schedule Adjusted Version\n",
    "\n",
    "df_match3[\"p_SOS_adj_sv_opp_ret_pts_won%_l60_decay_diff_x\"] = df_match3[\"p_SOS_adj_sv_pts_won%_l60_decay_x\"] - df_match3[\"p_SOS_adj_ret_pts_won%_l60_decay_y\"]\n",
    "df_match3[\"p_SOS_adj_sv_opp_ret_pts_won%_l60_decay_diff_y\"] = df_match3[\"p_SOS_adj_sv_pts_won%_l60_decay_y\"] - df_match3[\"p_SOS_adj_ret_pts_won%_l60_decay_x\"]"
   ]
  },
  {
   "cell_type": "code",
   "execution_count": 151,
   "id": "5e33e4d2",
   "metadata": {},
   "outputs": [],
   "source": [
    "# \"OFFENSE VS DEFENSE\": % SERVE points won VS OPPONENT % RETURN points won in previous 10 matches (surface-specific; NON-decay-weighted) differential between winner (_x) and loser (_y)\n",
    "#This is the NON-Strength of Schedule Adjusted Version\n",
    "\n",
    "df_match3[\"p_sv_opp_ret_pts_won%_l10_diff_x\"] = df_match3[\"p_sv_pts_won%_l10_x\"] - df_match3[\"p_ret_pts_won%_l10_y\"]\n",
    "df_match3[\"p_sv_opp_ret_pts_won%_l10_diff_y\"] = df_match3[\"p_sv_pts_won%_l10_y\"] - df_match3[\"p_ret_pts_won%_l10_x\"]"
   ]
  },
  {
   "cell_type": "code",
   "execution_count": 152,
   "id": "eb190d2a",
   "metadata": {},
   "outputs": [],
   "source": [
    "# \"OFFENSE VS DEFENSE\": % SERVE points won VS OPPONENT % RETURN points won in previous 10 matches (surface-specific; NON-decay-weighted) differential between winner (_x) and loser (_y)\n",
    "#This is the Strength of Schedule Adjusted Version\n",
    "\n",
    "df_match3[\"p_SOS_adj_sv_opp_ret_pts_won%_l10_diff_x\"] = df_match3[\"p_SOS_adj_sv_pts_won%_l10_x\"] - df_match3[\"p_SOS_adj_ret_pts_won%_l10_y\"]\n",
    "df_match3[\"p_SOS_adj_sv_opp_ret_pts_won%_l10_diff_y\"] = df_match3[\"p_SOS_adj_sv_pts_won%_l10_y\"] - df_match3[\"p_SOS_adj_ret_pts_won%_l10_x\"]"
   ]
  },
  {
   "cell_type": "code",
   "execution_count": 153,
   "id": "b7d9b056",
   "metadata": {},
   "outputs": [],
   "source": [
    "# \"DEFENSE VS OFFENSE\": % RETURN points won VS OPPONENT % SERVE points won in previous 60 matches (surface-specific; decay-weighted) differential between winner (_x) and loser (_y)\n",
    "#This is the NON-Strength of Schedule Adjusted Version\n",
    "\n",
    "df_match3[\"p_ret_opp_sv_pts_won%_l60_decay_diff_x\"] = df_match3[\"p_ret_pts_won%_l60_decay_x\"] - df_match3[\"p_sv_pts_won%_l60_decay_y\"]\n",
    "df_match3[\"p_ret_opp_sv_pts_won%_l60_decay_diff_y\"] = df_match3[\"p_ret_pts_won%_l60_decay_y\"] - df_match3[\"p_sv_pts_won%_l60_decay_x\"]"
   ]
  },
  {
   "cell_type": "code",
   "execution_count": 154,
   "id": "dc3e8d66",
   "metadata": {},
   "outputs": [],
   "source": [
    "# \"DEFENSE VS OFFENSE\": % RETURN points won VS OPPONENT % SERVE points won in previous 60 matches (surface-specific; decay-weighted) differential between winner (_x) and loser (_y)\n",
    "#This is the Strength of Schedule Adjusted Version\n",
    "\n",
    "df_match3[\"p_SOS_adj_ret_opp_sv_pts_won%_l60_decay_diff_x\"] = df_match3[\"p_SOS_adj_ret_pts_won%_l60_decay_x\"] - df_match3[\"p_SOS_adj_sv_pts_won%_l60_decay_y\"]\n",
    "df_match3[\"p_SOS_adj_ret_opp_sv_pts_won%_l60_decay_diff_y\"] = df_match3[\"p_SOS_adj_ret_pts_won%_l60_decay_y\"] - df_match3[\"p_SOS_adj_sv_pts_won%_l60_decay_x\"]"
   ]
  },
  {
   "cell_type": "code",
   "execution_count": 155,
   "id": "87019121",
   "metadata": {},
   "outputs": [],
   "source": [
    "# \"DEFENSE VS OFFENSE\": % RETURN points won VS OPPONENT % SERVE points won in previous 10 matches (surface-specific; NON-decay-weighted) differential between winner (_x) and loser (_y)\n",
    "#This is the NON-Strength of Schedule Adjusted Version\n",
    "\n",
    "df_match3[\"p_ret_opp_sv_pts_won%_l10_diff_x\"] = df_match3[\"p_ret_pts_won%_l10_x\"] - df_match3[\"p_sv_pts_won%_l10_y\"]\n",
    "df_match3[\"p_ret_opp_sv_pts_won%_l10_diff_y\"] = df_match3[\"p_ret_pts_won%_l10_y\"] - df_match3[\"p_sv_pts_won%_l10_x\"]"
   ]
  },
  {
   "cell_type": "code",
   "execution_count": 156,
   "id": "e2f32afe",
   "metadata": {},
   "outputs": [],
   "source": [
    "# \"DEFENSE VS OFFENSE\": % RETURN points won VS OPPONENT % SERVE points won in previous 10 matches (surface-specific; NON-decay-weighted) differential between winner (_x) and loser (_y)\n",
    "#This is the Strength of Schedule Adjusted Version\n",
    "\n",
    "df_match3[\"p_SOS_adj_ret_opp_sv_pts_won%_l10_diff_x\"] = df_match3[\"p_SOS_adj_ret_pts_won%_l10_x\"] - df_match3[\"p_SOS_adj_sv_pts_won%_l10_y\"]\n",
    "df_match3[\"p_SOS_adj_ret_opp_sv_pts_won%_l10_diff_y\"] = df_match3[\"p_SOS_adj_ret_pts_won%_l10_y\"] - df_match3[\"p_SOS_adj_sv_pts_won%_l10_x\"]"
   ]
  },
  {
   "cell_type": "code",
   "execution_count": 157,
   "id": "d71e9042",
   "metadata": {},
   "outputs": [],
   "source": [
    "# \"OFFENSE VS OFFENSE\": player ace% VS OPPONENT ace% in previous 60 matches (surface-specific; decay-weighted) differential between winner (_x) and loser (_y)\n",
    "#This is the NON-Strength of Schedule Adjusted Version\n",
    "\n",
    "df_match3[\"p_ace%_l60_decay_diff_x\"] = df_match3[\"p_ace%_l60_decay_x\"] - df_match3[\"p_ace%_l60_decay_y\"]\n",
    "df_match3[\"p_ace%_l60_decay_diff_y\"] = -(df_match3[\"p_ace%_l60_decay_diff_x\"]) "
   ]
  },
  {
   "cell_type": "code",
   "execution_count": 158,
   "id": "0fc050a5",
   "metadata": {},
   "outputs": [],
   "source": [
    "# \"OFFENSE VS OFFENSE\": player ace% VS OPPONENT ace% in previous 60 matches (surface-specific; decay-weighted) differential between winner (_x) and loser (_y)\n",
    "#This is the Strength of Schedule Adjusted Version\n",
    "\n",
    "df_match3[\"p_SOS_adj_ace%_l60_decay_diff_x\"] = df_match3[\"p_SOS_adj_ace%_l60_decay_x\"] - df_match3[\"p_SOS_adj_ace%_l60_decay_y\"]\n",
    "df_match3[\"p_SOS_adj_ace%_l60_decay_diff_y\"] = -(df_match3[\"p_SOS_adj_ace%_l60_decay_diff_x\"]) "
   ]
  },
  {
   "cell_type": "code",
   "execution_count": 159,
   "id": "8a62e308",
   "metadata": {},
   "outputs": [],
   "source": [
    "# \"OFFENSE VS OFFENSE\": player ace% VS OPPONENT ace% in previous 10 matches (surface-specific; NON-decay-weighted) differential between winner (_x) and loser (_y)\n",
    "#This is the NON-Strength of Schedule Adjusted Version\n",
    "\n",
    "df_match3[\"p_ace%_l10_diff_x\"] = df_match3[\"p_ace%_l10_x\"] - df_match3[\"p_ace%_l10_y\"]\n",
    "df_match3[\"p_ace%_l10_diff_y\"] = -(df_match3[\"p_ace%_l10_diff_x\"]) "
   ]
  },
  {
   "cell_type": "code",
   "execution_count": 160,
   "id": "d2a58ab5",
   "metadata": {},
   "outputs": [],
   "source": [
    "# \"OFFENSE VS OFFENSE\": player ace% VS OPPONENT ace% in previous 60 matches (surface-specific; decay-weighted) differential between winner (_x) and loser (_y)\n",
    "#This is the Strength of Schedule Adjusted Version\n",
    "\n",
    "df_match3[\"p_SOS_adj_ace%_l10_diff_x\"] = df_match3[\"p_SOS_adj_ace%_l10_x\"] - df_match3[\"p_SOS_adj_ace%_l10_y\"]\n",
    "df_match3[\"p_SOS_adj_ace%_l10_diff_y\"] = -(df_match3[\"p_SOS_adj_ace%_l10_diff_x\"]) "
   ]
  },
  {
   "cell_type": "code",
   "execution_count": 161,
   "id": "e1c87517",
   "metadata": {},
   "outputs": [],
   "source": [
    "# \"DEFENSE VS DEFENSE\": player aced% VS OPPONENT aced% in previous 60 matches (surface-specific; decay-weighted) differential between winner (_x) and loser (_y)\n",
    "#This is the NON-Strength of Schedule Adjusted Version\n",
    "\n",
    "df_match3[\"p_aced%_l60_decay_diff_x\"] = df_match3[\"p_aced%_l60_decay_x\"] - df_match3[\"p_aced%_l60_decay_y\"]\n",
    "df_match3[\"p_aced%_l60_decay_diff_y\"] = -(df_match3[\"p_aced%_l60_decay_diff_x\"]) "
   ]
  },
  {
   "cell_type": "code",
   "execution_count": 162,
   "id": "f03502e2",
   "metadata": {},
   "outputs": [],
   "source": [
    "# \"DEFENSE VS DEFENSE\": player aced% VS OPPONENT aced% in previous 60 matches (surface-specific; decay-weighted) differential between winner (_x) and loser (_y)\n",
    "#This is the Strength of Schedule Adjusted Version\n",
    "\n",
    "df_match3[\"p_SOS_adj_aced%_l60_decay_diff_x\"] = df_match3[\"p_SOS_adj_aced%_l60_decay_x\"] - df_match3[\"p_SOS_adj_aced%_l60_decay_y\"]\n",
    "df_match3[\"p_SOS_adj_aced%_l60_decay_diff_y\"] = -(df_match3[\"p_SOS_adj_aced%_l60_decay_diff_x\"])"
   ]
  },
  {
   "cell_type": "code",
   "execution_count": 163,
   "id": "b737c836",
   "metadata": {},
   "outputs": [],
   "source": [
    "# \"DEFENSE VS DEFENSE\": player aced% VS OPPONENT aced% in previous 10 matches (surface-specific; NON-decay-weighted) differential between winner (_x) and loser (_y)\n",
    "#This is the NON-Strength of Schedule Adjusted Version\n",
    "\n",
    "df_match3[\"p_aced%_l10_diff_x\"] = df_match3[\"p_aced%_l10_x\"] - df_match3[\"p_aced%_l10_y\"]\n",
    "df_match3[\"p_aced%_l10_diff_y\"] = -(df_match3[\"p_aced%_l10_diff_x\"]) "
   ]
  },
  {
   "cell_type": "code",
   "execution_count": 164,
   "id": "0e98b104",
   "metadata": {},
   "outputs": [],
   "source": [
    "# \"DEFENSE VS DEFENSE\": player aced% VS OPPONENT aced% in previous 10 matches (surface-specific; NON-decay-weighted) differential between winner (_x) and loser (_y)\n",
    "#This is the NON-Strength of Schedule Adjusted Version\n",
    "\n",
    "df_match3[\"p_SOS_adj_aced%_l10_diff_x\"] = df_match3[\"p_SOS_adj_aced%_l10_x\"] - df_match3[\"p_SOS_adj_aced%_l10_y\"]\n",
    "df_match3[\"p_SOS_adj_aced%_l10_diff_y\"] = -(df_match3[\"p_SOS_adj_aced%_l10_diff_x\"]) "
   ]
  },
  {
   "cell_type": "code",
   "execution_count": 165,
   "id": "15bf726c",
   "metadata": {},
   "outputs": [],
   "source": [
    "# \"OFFENSE VS DEFENSE\": player ace% VS OPPONENT aced% in previous 60 matches (surface-specific; decay-weighted) differential between winner (_x) and loser (_y)\n",
    "#This is the NON-Strength of Schedule Adjusted Version\n",
    "\n",
    "df_match3[\"p_ace%_opp_aced%_l60_decay_diff_x\"] = df_match3[\"p_ace%_l60_decay_x\"] - df_match3[\"p_aced%_l60_decay_y\"]\n",
    "df_match3[\"p_ace%_opp_aced%_l60_decay_diff_y\"] = df_match3[\"p_ace%_l60_decay_y\"] - df_match3[\"p_aced%_l60_decay_x\"]"
   ]
  },
  {
   "cell_type": "code",
   "execution_count": 166,
   "id": "ae3ba21f",
   "metadata": {},
   "outputs": [],
   "source": [
    "# \"OFFENSE VS DEFENSE\": player ace% VS OPPONENT aced% in previous 60 matches (surface-specific;decay-weighted) differential between winner (_x) and loser (_y)\n",
    "#This is the Strength of Schedule Adjusted Version\n",
    "\n",
    "df_match3[\"p_SOS_adj_ace%_opp_aced%_l60_decay_diff_x\"] = df_match3[\"p_SOS_adj_ace%_l60_decay_x\"] - df_match3[\"p_SOS_adj_aced%_l60_decay_y\"]\n",
    "df_match3[\"p_SOS_adj_ace%_opp_aced%_l60_decay_diff_y\"] = df_match3[\"p_SOS_adj_ace%_l60_decay_y\"] - df_match3[\"p_SOS_adj_aced%_l60_decay_x\"]"
   ]
  },
  {
   "cell_type": "code",
   "execution_count": 167,
   "id": "3291e927",
   "metadata": {},
   "outputs": [],
   "source": [
    "# \"OFFENSE VS DEFENSE\": player ace% VS OPPONENT aced% in previous 10 matches (surface-specific; NON-decay-weighted) differential between winner (_x) and loser (_y)\n",
    "#This is the NON-Strength of Schedule Adjusted Version\n",
    "\n",
    "df_match3[\"p_ace%_opp_aced%_l10_diff_x\"] = df_match3[\"p_ace%_l10_x\"] - df_match3[\"p_aced%_l10_y\"]\n",
    "df_match3[\"p_ace%_opp_aced%_l10_diff_y\"] = df_match3[\"p_ace%_l10_y\"] - df_match3[\"p_aced%_l10_x\"]"
   ]
  },
  {
   "cell_type": "code",
   "execution_count": 168,
   "id": "a32d630e",
   "metadata": {},
   "outputs": [],
   "source": [
    "# \"OFFENSE VS DEFENSE\": player ace% VS OPPONENT aced% in previous 10 matches (surface-specific; NON-decay-weighted) differential between winner (_x) and loser (_y)\n",
    "#This is the Strength of Schedule Adjusted Version\n",
    "\n",
    "df_match3[\"p_SOS_adj_ace%_opp_aced%_l10_diff_x\"] = df_match3[\"p_SOS_adj_ace%_l10_x\"] - df_match3[\"p_SOS_adj_aced%_l10_y\"]\n",
    "df_match3[\"p_SOS_adj_ace%_opp_aced%_l10_diff_y\"] = df_match3[\"p_SOS_adj_ace%_l10_y\"] - df_match3[\"p_SOS_adj_aced%_l10_x\"]"
   ]
  },
  {
   "cell_type": "code",
   "execution_count": 169,
   "id": "21a3a1ea",
   "metadata": {},
   "outputs": [],
   "source": [
    "# \"DEFENSE VS OFFENSE\": player aced% VS OPPONENT ace% in previous 60 matches (surface-specific; decay-weighted) differential between winner (_x) and loser (_y)\n",
    "#This is the Non-Strength of Schedule Adjusted Version\n",
    "\n",
    "df_match3[\"p_aced%_opp_ace%_l60_decay_diff_x\"] = df_match3[\"p_aced%_l60_decay_x\"] - df_match3[\"p_ace%_l60_decay_y\"]\n",
    "df_match3[\"p_aced%_opp_ace%_l60_decay_diff_y\"] = df_match3[\"p_aced%_l60_decay_y\"] - df_match3[\"p_ace%_l60_decay_x\"]"
   ]
  },
  {
   "cell_type": "code",
   "execution_count": 170,
   "id": "72bddd41",
   "metadata": {},
   "outputs": [],
   "source": [
    "# \"DEFENSE VS OFFENSE\": player aced% VS OPPONENT ace% in previous 6o matches (surface-specific; decay-weighted) differential between winner (_x) and loser (_y)\n",
    "#This is the Strength of Schedule Adjusted Version\n",
    "\n",
    "df_match3[\"p_SOS_adj_aced%_opp_ace%_l60_decay_diff_x\"] = df_match3[\"p_SOS_adj_aced%_l60_decay_x\"] - df_match3[\"p_SOS_adj_ace%_l60_decay_y\"]\n",
    "df_match3[\"p_SOS_adj_aced%_opp_ace%_l60_decay_diff_y\"] = df_match3[\"p_SOS_adj_aced%_l60_decay_y\"] - df_match3[\"p_SOS_adj_ace%_l60_decay_x\"]"
   ]
  },
  {
   "cell_type": "code",
   "execution_count": 171,
   "id": "fc6e0415",
   "metadata": {},
   "outputs": [],
   "source": [
    "# \"DEFENSE VS OFFENSE\": player aced% VS OPPONENT ace% in previous 10 matches (surface-specific; NON-decay-weighted) differential between winner (_x) and loser (_y)\n",
    "#This is the Non-Strength of Schedule Adjusted Version\n",
    "\n",
    "df_match3[\"p_aced%_opp_ace%_l10_diff_x\"] = df_match3[\"p_aced%_l10_x\"] - df_match3[\"p_ace%_l10_y\"]\n",
    "df_match3[\"p_aced%_opp_ace%_l10_diff_y\"] = df_match3[\"p_aced%_l10_y\"] - df_match3[\"p_ace%_l10_x\"]"
   ]
  },
  {
   "cell_type": "code",
   "execution_count": 172,
   "id": "a0593de7",
   "metadata": {},
   "outputs": [],
   "source": [
    "# \"DEFENSE VS OFFENSE\": player aced% VS OPPONENT ace% in previous 10 matches (surface-specific; NON-decay-weighted) differential between winner (_x) and loser (_y)\n",
    "#This is the Strength of Schedule Adjusted Version\n",
    "\n",
    "df_match3[\"p_SOS_adj_aced%_opp_ace%_l10_diff_x\"] = df_match3[\"p_SOS_adj_aced%_l10_x\"] - df_match3[\"p_SOS_adj_ace%_l10_y\"]\n",
    "df_match3[\"p_SOS_adj_aced%_opp_ace%_l10_diff_y\"] = df_match3[\"p_SOS_adj_aced%_l10_y\"] - df_match3[\"p_SOS_adj_ace%_l10_x\"]"
   ]
  },
  {
   "cell_type": "code",
   "execution_count": 173,
   "id": "3dc72422",
   "metadata": {},
   "outputs": [],
   "source": [
    "# \"DEFENSE VS DEFENSE\": player bp saved% VS OPPONENT bp saved % in previous 60 matches (surface-specific; non-decay weighted) differential between winner (_x) and loser (_y)\n",
    "#This is the NON-Strength of Schedule Adjusted Version\n",
    "\n",
    "df_match3[\"p_bp_save%_l60_diff_x\"] = df_match3[\"p_bp_save%_l60_x\"] - df_match3[\"p_bp_save%_l60_y\"]\n",
    "df_match3[\"p_bp_save%_l60_diff_y\"] = -(df_match3[\"p_bp_save%_l60_diff_x\"]) "
   ]
  },
  {
   "cell_type": "code",
   "execution_count": 174,
   "id": "ae8e3bcb",
   "metadata": {},
   "outputs": [],
   "source": [
    "# \"DEFENSE VS DEFENSE\": player bp saved% VS OPPONENT bp saved % in previous 60 matches (surface-specific; non-decay weighted) differential between winner (_x) and loser (_y)\n",
    "#This is the Strength of Schedule Adjusted Version\n",
    "\n",
    "df_match3[\"p_SOS_adj_bp_save%_l60_diff_x\"] = df_match3[\"p_SOS_adj_bp_save%_l60_x\"] - df_match3[\"p_SOS_adj_bp_save%_l60_y\"]\n",
    "df_match3[\"p_SOS_adj_bp_save%_l60_diff_y\"] = -(df_match3[\"p_SOS_adj_bp_save%_l60_diff_x\"]) "
   ]
  },
  {
   "cell_type": "code",
   "execution_count": 175,
   "id": "9d6e8669",
   "metadata": {},
   "outputs": [],
   "source": [
    "# \"DEFENSE VS DEFENSE\": player bp saved% VS OPPONENT bp saved % in previous 10 matches (surface-specific; NON-decay weighted) differential between winner (_x) and loser (_y)\n",
    "#This is the NON-Strength of Schedule Adjusted Version\n",
    "\n",
    "df_match3[\"p_bp_save%_l10_diff_x\"] = df_match3[\"p_bp_save%_l10_x\"] - df_match3[\"p_bp_save%_l10_y\"]\n",
    "df_match3[\"p_bp_save%_l10_diff_y\"] = -(df_match3[\"p_bp_save%_l10_diff_x\"])"
   ]
  },
  {
   "cell_type": "code",
   "execution_count": 176,
   "id": "43616bf5",
   "metadata": {},
   "outputs": [],
   "source": [
    "# \"DEFENSE VS DEFENSE\": player bp saved% VS OPPONENT bp saved % in previous 10 matches (surface-specific; NON-decay weighted) differential between winner (_x) and loser (_y)\n",
    "#This is the Strength of Schedule Adjusted Version\n",
    "\n",
    "df_match3[\"p_SOS_adj_bp_save%_l10_diff_x\"] = df_match3[\"p_SOS_adj_bp_save%_l10_x\"] - df_match3[\"p_SOS_adj_bp_save%_l10_y\"]\n",
    "df_match3[\"p_SOS_adj_bp_save%_l10_diff_y\"] = -(df_match3[\"p_SOS_adj_bp_save%_l10_diff_x\"])"
   ]
  },
  {
   "cell_type": "code",
   "execution_count": 177,
   "id": "05dc742e",
   "metadata": {},
   "outputs": [],
   "source": [
    "# \"OFFENSE VS OFFENSE\": player bp convert% VS OPPONENT bp convert% in previous 60 matches (surface-specific; NON-decay weighted) differential between winner (_x) and loser (_y)\n",
    "#This is the NON-Strength of Schedule Adjusted Version\n",
    "\n",
    "df_match3[\"p_bp_convert%_l60_diff_x\"] = df_match3[\"p_bp_convert%_l60_x\"] - df_match3[\"p_bp_convert%_l60_y\"]\n",
    "df_match3[\"p_bp_convert%_l60_diff_y\"] = -(df_match3[\"p_bp_convert%_l60_diff_x\"]) "
   ]
  },
  {
   "cell_type": "code",
   "execution_count": 178,
   "id": "def3e019",
   "metadata": {},
   "outputs": [],
   "source": [
    "# \"OFFENSE VS OFFENSE\": player bp convert% VS OPPONENT bp convert% in previous 60 matches (surface-specific; NON-decay weighted) differential between winner (_x) and loser (_y)\n",
    "#This is the Strength of Schedule Adjusted Version\n",
    "\n",
    "df_match3[\"p_SOS_adj_bp_convert%_l60_diff_x\"] = df_match3[\"p_SOS_adj_bp_convert%_l60_x\"] - df_match3[\"p_SOS_adj_bp_convert%_l60_y\"]\n",
    "df_match3[\"p_SOS_adj_bp_convert%_l60_diff_y\"] = -(df_match3[\"p_SOS_adj_bp_convert%_l60_diff_x\"]) "
   ]
  },
  {
   "cell_type": "code",
   "execution_count": 179,
   "id": "f4eeae4e",
   "metadata": {},
   "outputs": [],
   "source": [
    "# \"OFFENSE VS OFFENSE\": player bp convert% VS OPPONENT bp convert% in previous 10 matches (surface-specific; NON-decay weighted) differential between winner (_x) and loser (_y)\n",
    "#This is the NON-Strength of Schedule Adjusted Version\n",
    "\n",
    "df_match3[\"p_bp_convert%_l10_diff_x\"] = df_match3[\"p_bp_convert%_l10_x\"] - df_match3[\"p_bp_convert%_l10_y\"]\n",
    "df_match3[\"p_bp_convert%_l10_diff_y\"] = -(df_match3[\"p_bp_convert%_l10_diff_x\"]) "
   ]
  },
  {
   "cell_type": "code",
   "execution_count": 180,
   "id": "6868cc8e",
   "metadata": {},
   "outputs": [],
   "source": [
    "# \"OFFENSE VS OFFENSE\": player bp convert% VS OPPONENT bp convert% in previous 10 matches (surface-specific; NON-decay weighted) differential between winner (_x) and loser (_y)\n",
    "#This is the Strength of Schedule Adjusted Version\n",
    "\n",
    "df_match3[\"p_SOS_adj_bp_convert%_l10_diff_x\"] = df_match3[\"p_SOS_adj_bp_convert%_l10_x\"] - df_match3[\"p_SOS_adj_bp_convert%_l10_y\"]\n",
    "df_match3[\"p_SOS_adj_bp_convert%_l10_diff_y\"] = -(df_match3[\"p_SOS_adj_bp_convert%_l10_diff_x\"]) "
   ]
  },
  {
   "cell_type": "code",
   "execution_count": 181,
   "id": "82abd891",
   "metadata": {},
   "outputs": [],
   "source": [
    "# \"OFFENSE VS DEFENSE\": player bp convert% VS OPPONENT bp save% in previous 60 matches (surface-specific; NON-decay weighted) differential between winner (_x) and loser (_y)\n",
    "#This is the NON-Strength of Schedule Adjusted Version\n",
    "\n",
    "df_match3[\"p_bp_convert%_opp_bp_save%_l60_diff_x\"] = df_match3[\"p_bp_convert%_l60_x\"] - df_match3[\"p_bp_save%_l60_y\"]\n",
    "df_match3[\"p_bp_convert%_opp_bp_save%_l60_diff_y\"] = df_match3[\"p_bp_convert%_l60_y\"] - df_match3[\"p_bp_save%_l60_x\"]"
   ]
  },
  {
   "cell_type": "code",
   "execution_count": 182,
   "id": "5816cd2c",
   "metadata": {},
   "outputs": [],
   "source": [
    "# \"OFFENSE VS DEFENSE\": player bp convert% VS OPPONENT bp save% in previous 60 matches (surface-specific; NON-decay weighted) differential between winner (_x) and loser (_y)\n",
    "#This is the Strength of Schedule Adjusted Version\n",
    "\n",
    "df_match3[\"p_SOS_adj_bp_convert%_opp_bp_save%_l60_diff_x\"] = df_match3[\"p_bp_convert%_l60_x\"] - df_match3[\"p_bp_save%_l60_y\"]\n",
    "df_match3[\"p_SOS_adj_bp_convert%_opp_bp_save%_l60_diff_y\"] = df_match3[\"p_bp_convert%_l60_y\"] - df_match3[\"p_bp_save%_l60_x\"]"
   ]
  },
  {
   "cell_type": "code",
   "execution_count": 183,
   "id": "75ed2ccd",
   "metadata": {},
   "outputs": [],
   "source": [
    "# \"OFFENSE VS DEFENSE\": player bp convert% VS OPPONENT bp save% in previous 10 matches (surface-specific; NON-decay weighted) differential between winner (_x) and loser (_y)\n",
    "#This is the NON-Strength of Schedule Adjusted Version\n",
    "\n",
    "df_match3[\"p_bp_convert%_opp_bp_save%_l10_diff_x\"] = df_match3[\"p_bp_convert%_l10_x\"] - df_match3[\"p_bp_save%_l10_y\"]\n",
    "df_match3[\"p_bp_convert%_opp_bp_save%_l10_diff_y\"] = df_match3[\"p_bp_convert%_l10_y\"] - df_match3[\"p_bp_save%_l10_x\"]"
   ]
  },
  {
   "cell_type": "code",
   "execution_count": 184,
   "id": "dd106bd0",
   "metadata": {},
   "outputs": [],
   "source": [
    "# \"OFFENSE VS DEFENSE\": player bp convert% VS OPPONENT bp save% in previous 10 matches (surface-specific; NON-decay weighted) differential between winner (_x) and loser (_y)\n",
    "#This is the Strength of Schedule Adjusted Version\n",
    "\n",
    "df_match3[\"p_SOS_adj_bp_convert%_opp_bp_save%_l10_diff_x\"] = df_match3[\"p_bp_convert%_l10_x\"] - df_match3[\"p_bp_save%_l10_y\"]\n",
    "df_match3[\"p_SOS_adj_bp_convert%_opp_bp_save%_l10_diff_y\"] = df_match3[\"p_bp_convert%_l10_y\"] - df_match3[\"p_bp_save%_l10_x\"]"
   ]
  },
  {
   "cell_type": "code",
   "execution_count": 185,
   "id": "d823e71d",
   "metadata": {},
   "outputs": [],
   "source": [
    "# \"DEFENSE VS OFFENSE\": player bp save% VS OPPONENT bp convert% in previous 60 matches (surface-specific; non-decay weighted) differential between winner (_x) and loser (_y)\n",
    "#This is the NON-Strength of Schedule Adjusted Version\n",
    "\n",
    "df_match3[\"p_bp_save%_opp_bp_convert%_l60_diff_x\"] = df_match3[\"p_bp_save%_l60_x\"] - df_match3[\"p_bp_convert%_l60_y\"]\n",
    "df_match3[\"p_bp_save%_opp_bp_convert%_l60_diff_y\"] = df_match3[\"p_bp_save%_l60_y\"] - df_match3[\"p_bp_convert%_l60_x\"]"
   ]
  },
  {
   "cell_type": "code",
   "execution_count": 186,
   "id": "07cdb0b2",
   "metadata": {},
   "outputs": [],
   "source": [
    "# \"DEFENSE VS OFFENSE\": player bp save% VS OPPONENT bp convert% in previous 60 matches (surface-specific; non-decay weighted) differential between winner (_x) and loser (_y)\n",
    "#This is the Strength of Schedule Adjusted Version\n",
    "\n",
    "df_match3[\"p_SOS_adj_bp_save%_opp_bp_convert%_l60_diff_x\"] = df_match3[\"p_SOS_adj_bp_save%_l60_x\"] - df_match3[\"p_SOS_adj_bp_convert%_l60_y\"]\n",
    "df_match3[\"p_SOS_adj_bp_save%_opp_bp_convert%_l60_diff_y\"] = df_match3[\"p_SOS_adj_bp_save%_l60_y\"] - df_match3[\"p_SOS_adj_bp_convert%_l60_x\"]"
   ]
  },
  {
   "cell_type": "code",
   "execution_count": 187,
   "id": "76a7eaa0",
   "metadata": {},
   "outputs": [],
   "source": [
    "# \"DEFENSE VS OFFENSE\": player bp save% VS OPPONENT bp convert% in previous 10 matches (surface-specific; non-decay weighted) differential between winner (_x) and loser (_y)\n",
    "#This is the NON-Strength of Schedule Adjusted Version\n",
    "\n",
    "df_match3[\"p_bp_save%_opp_bp_convert%_l10_diff_x\"] = df_match3[\"p_bp_save%_l10_x\"] - df_match3[\"p_bp_convert%_l10_y\"]\n",
    "df_match3[\"p_bp_save%_opp_bp_convert%_l10_diff_y\"] = df_match3[\"p_bp_save%_l10_y\"] - df_match3[\"p_bp_convert%_l10_x\"]"
   ]
  },
  {
   "cell_type": "code",
   "execution_count": 188,
   "id": "661e3985",
   "metadata": {},
   "outputs": [],
   "source": [
    "# \"DEFENSE VS OFFENSE\": player bp save% VS OPPONENT bp convert% in previous 10 matches (surface-specific; non-decay weighted) differential between winner (_x) and loser (_y)\n",
    "#This is the Strength of Schedule Adjusted Version\n",
    "\n",
    "df_match3[\"p_SOS_adj_bp_save%_opp_bp_convert%_l10_diff_x\"] = df_match3[\"p_SOS_adj_bp_save%_l10_x\"] - df_match3[\"p_SOS_adj_bp_convert%_l10_y\"]\n",
    "df_match3[\"p_SOS_adj_bp_save%_opp_bp_convert%_l10_diff_y\"] = df_match3[\"p_SOS_adj_bp_save%_l10_y\"] - df_match3[\"p_SOS_adj_bp_convert%_l10_x\"]"
   ]
  },
  {
   "cell_type": "code",
   "execution_count": 189,
   "id": "67c2e0b1",
   "metadata": {},
   "outputs": [],
   "source": [
    "# Diff in std for % total points won in previous 60 matches (surface-specific; decay-weighted) differential between winner (_x) and loser (_y)\n",
    "#This is the NON-Strength of Schedule Adjusted Version\n",
    "\n",
    "df_match3[\"p_pts_won%_std_l60_decay_diff_x\"] = df_match3[\"p_pts_won%_std_l60_decay_x\"] - df_match3[\"p_pts_won%_std_l60_decay_y\"]\n",
    "df_match3[\"p_pts_won%_std_l60_decay_diff_y\"] = -(df_match3[\"p_pts_won%_std_l60_decay_diff_x\"])"
   ]
  },
  {
   "cell_type": "code",
   "execution_count": 190,
   "id": "1838a778",
   "metadata": {},
   "outputs": [],
   "source": [
    "# Diff in std for % serve points won in previous 60 matches (surface-specific; decay-weighted) differential between winner (_x) and loser (_y)\n",
    "#This is the NON-Strength of Schedule Adjusted Version\n",
    "\n",
    "df_match3[\"p_sv_pts_won%_std_l60_decay_diff_x\"] = df_match3[\"p_sv_pts_won%_std_l60_decay_x\"] - df_match3[\"p_sv_pts_won%_std_l60_decay_y\"]\n",
    "df_match3[\"p_sv_pts_won%_std_l60_decay_diff_y\"] = -(df_match3[\"p_sv_pts_won%_std_l60_decay_diff_x\"])"
   ]
  },
  {
   "cell_type": "code",
   "execution_count": 191,
   "id": "1e7bd8d4",
   "metadata": {},
   "outputs": [],
   "source": [
    "# Diff in std for % return points won in previous 60 matches (surface-specific; decay-weighted) differential between winner (_x) and loser (_y)\n",
    "#This is the NON-Strength of Schedule Adjusted Version\n",
    "\n",
    "df_match3[\"p_ret_pts_won%_std_l60_decay_diff_x\"] = df_match3[\"p_ret_pts_won%_std_l60_decay_x\"] - df_match3[\"p_ret_pts_won%_std_l60_decay_y\"]\n",
    "df_match3[\"p_ret_pts_won%_std_l60_decay_diff_y\"] = -(df_match3[\"p_ret_pts_won%_std_l60_decay_diff_x\"])"
   ]
  },
  {
   "cell_type": "markdown",
   "id": "d5a184f1",
   "metadata": {},
   "source": [
    "#### Retrospective Stamina and Fatigue Player Performance Differential Predictive Features By Match"
   ]
  },
  {
   "cell_type": "code",
   "execution_count": 192,
   "id": "a5da175f",
   "metadata": {},
   "outputs": [],
   "source": [
    "# Diff in number of minutes played in the immediate previous (within tournament) match between winner (_x) and loser (_y)\n",
    "\n",
    "df_match3[\"p_m_time_last_diff_x\"] = df_match3[\"p_m_time_last_x\"] - df_match3[\"p_m_time_last_y\"]\n",
    "df_match3[\"p_m_time_last_diff_y\"] = -(df_match3[\"p_m_time_last_diff_x\"])"
   ]
  },
  {
   "cell_type": "code",
   "execution_count": 193,
   "id": "01bcbe80",
   "metadata": {},
   "outputs": [],
   "source": [
    "# NON-decay-adjusted number of minutes played over up to the last 6 (within tournament) matches between winner (_x) and loser (_y)\n",
    "\n",
    "df_match3[\"p_tot_time_l6_diff_x\"] = df_match3[\"p_tot_time_l6_x\"] - df_match3[\"p_tot_time_l6_y\"]\n",
    "df_match3[\"p_tot_time_l6_diff_y\"] = -(df_match3[\"p_tot_time_l6_diff_x\"])"
   ]
  },
  {
   "cell_type": "code",
   "execution_count": 194,
   "id": "ee79a586",
   "metadata": {},
   "outputs": [],
   "source": [
    "# Decay-adjusted number of minutes played over up to the last 6 (within tournament) matches between winner (_x) and loser (_y)\n",
    "\n",
    "df_match3[\"p_tot_time_l6_decay_diff_x\"] = df_match3[\"p_tot_time_l6_decay_x\"] - df_match3[\"p_tot_time_l6_decay_y\"]\n",
    "df_match3[\"p_tot_time_l6_decay_diff_y\"] = -(df_match3[\"p_tot_time_l6_decay_diff_x\"]) "
   ]
  },
  {
   "cell_type": "code",
   "execution_count": 195,
   "id": "0ef3191d",
   "metadata": {},
   "outputs": [],
   "source": [
    "# Diff in number of points played in the immediate previous (within tournament) match between winner (_x) and loser (_y)\n",
    "\n",
    "df_match3[\"p_tot_pts_last_diff_x\"] = df_match3[\"p_tot_pts_last_x\"] - df_match3[\"p_tot_pts_last_y\"]\n",
    "df_match3[\"p_tot_pts_last_diff_y\"] = -(df_match3[\"p_tot_pts_last_diff_x\"])"
   ]
  },
  {
   "cell_type": "code",
   "execution_count": 196,
   "id": "043916a7",
   "metadata": {},
   "outputs": [],
   "source": [
    "# NON-decay-adjusted total number of points played over up to the last 6 (within tournament) matches between winner (_x) and loser (_y)\n",
    "\n",
    "df_match3[\"p_tot_pts_l6_diff_x\"] = df_match3[\"p_tot_pts_l6_x\"] - df_match3[\"p_tot_pts_l6_y\"]\n",
    "df_match3[\"p_tot_pts_l6_diff_y\"] = -(df_match3[\"p_tot_pts_l6_diff_x\"]) "
   ]
  },
  {
   "cell_type": "code",
   "execution_count": 197,
   "id": "68448352",
   "metadata": {},
   "outputs": [],
   "source": [
    "# Decay-adjusted total number of points played over up to the last 6 (within tournament) matches between winner (_x) and loser (_y)\n",
    "\n",
    "df_match3[\"p_tot_pts_l6_decay_diff_x\"] = df_match3[\"p_tot_pts_l6_decay_x\"] - df_match3[\"p_tot_pts_l6_decay_y\"]\n",
    "df_match3[\"p_tot_pts_l6_decay_diff_y\"] = -(df_match3[\"p_tot_pts_l6_decay_diff_x\"]) "
   ]
  },
  {
   "cell_type": "code",
   "execution_count": 198,
   "id": "9b030ee7",
   "metadata": {},
   "outputs": [],
   "source": [
    "# Difference in total matches played in the entire sample (non-surface specific) between winner (_x) and loser (_y)\n",
    "\n",
    "df_match3[\"p_matches_diff_x\"] = df_match3[\"p_matches_x\"] - df_match3[\"p_matches_y\"]\n",
    "df_match3[\"p_matches_diff_y\"] = -(df_match3[\"p_matches_diff_x\"]) "
   ]
  },
  {
   "cell_type": "code",
   "execution_count": 199,
   "id": "da4c73bf",
   "metadata": {},
   "outputs": [],
   "source": [
    "# Difference in total matches played in the entire sample (SURFACE-SPECIFIC) between winner (_x) and loser (_y)\n",
    "\n",
    "df_match3[\"p_matches_surf_diff_x\"] = df_match3[\"p_matches_surf_x\"] - df_match3[\"p_matches_surf_y\"]\n",
    "df_match3[\"p_matches_surf_diff_y\"] = -(df_match3[\"p_matches_surf_diff_x\"]) "
   ]
  },
  {
   "cell_type": "code",
   "execution_count": 200,
   "id": "1810e8cd",
   "metadata": {},
   "outputs": [],
   "source": [
    "# Difference in stamina-adjusted fatigue (decay weighted total time played last 6 component) between winner (_x) and loser (_y)\n",
    "\n",
    "df_match3[\"p_stamina_adj_fatigue_decay_diff_x\"] = df_match3[\"p_stamina_adj_fatigue_decay_x\"] - df_match3[\"p_stamina_adj_fatigue_decay_y\"]\n",
    "df_match3[\"p_stamina_adj_fatigue_decay_diff_y\"] = -(df_match3[\"p_stamina_adj_fatigue_decay_diff_x\"]) "
   ]
  },
  {
   "cell_type": "code",
   "execution_count": 201,
   "id": "509b147c",
   "metadata": {},
   "outputs": [],
   "source": [
    "# Difference in stamina-adjusted fatigue (NON-decay weighted total time played last 6 component) between winner (_x) and loser (_y)\n",
    "\n",
    "df_match3[\"p_stamina_adj_fatigue_diff_x\"] = df_match3[\"p_stamina_adj_fatigue_x\"] - df_match3[\"p_stamina_adj_fatigue_y\"]\n",
    "df_match3[\"p_stamina_adj_fatigue_diff_y\"] = -(df_match3[\"p_stamina_adj_fatigue_diff_x\"]) "
   ]
  },
  {
   "cell_type": "code",
   "execution_count": 202,
   "id": "327d3241",
   "metadata": {},
   "outputs": [],
   "source": [
    "# Head-to-Head Matchup Past Differential (surface-specific, but no time constraints) between winner (_x) and loser (_y)\n",
    "\n",
    "df_match3[\"p_H2H_diff_x\"] = df_match3[\"p_H2H_w_x\"] - df_match3[\"p_H2H_w_y\"]\n",
    "df_match3[\"p_H2H_diff_y\"] = -(df_match3[\"p_H2H_diff_x\"])"
   ]
  },
  {
   "cell_type": "code",
   "execution_count": 203,
   "id": "7e3efd55",
   "metadata": {},
   "outputs": [],
   "source": [
    "# Head-to-Head Matchup Past Points Won % Differential (surface-specific, but no time constraints) between winner (_x) and loser (_y)\n",
    "\n",
    "df_match3[\"p_H2H_pts_won%_diff_x\"] = df_match3[\"p_H2H_pts_won%_x\"] - df_match3[\"p_H2H_pts_won%_y\"]\n",
    "df_match3[\"p_H2H_pts_won%_diff_y\"] = -(df_match3[\"p_H2H_pts_won%_diff_x\"])"
   ]
  },
  {
   "cell_type": "markdown",
   "id": "42964194",
   "metadata": {},
   "source": [
    "now back to by-player organization one final time.  A few additional features will be computed in relation to court speed prediction and then data will be prepped for the next stage (exploratory data analysis)"
   ]
  },
  {
   "cell_type": "code",
   "execution_count": 204,
   "id": "5df9599f",
   "metadata": {},
   "outputs": [],
   "source": [
    "df_match3.to_csv('../data/df_match3.csv', index=False)"
   ]
  },
  {
   "cell_type": "code",
   "execution_count": 205,
   "id": "67a326b7",
   "metadata": {},
   "outputs": [],
   "source": [
    "#df_match3.info()"
   ]
  },
  {
   "cell_type": "code",
   "execution_count": 206,
   "id": "b82f95cc",
   "metadata": {},
   "outputs": [],
   "source": [
    "#Dropping loser (_y) columns for remerge by player\n",
    "df_winners4 = df_match3.drop([\"m_outcome_x\", \"m_outcome_y\", \"p_id_y\", \"p_name_y\", \"p_H2H_w_y\", \"p_H2H_pts_won%_y\", \"p_rank_y\", \"p_rank_pts_y\", \"p_country_y\", \"p_ent_y\", \"p_hd_y\", \"p_ht_y\", \"p_age_y\", \"p_matches_y\", \"p_matches_surf_y\", \"p_pts_won%_y\", \"p_pts_won%_l60_decay_y\", \"p_pts_won%_l60_decay_IO_y\", \"p_pts_won%_l10_y\", \"p_SOS_adj_pts_won%_l60_decay_y\", \"p_SOS_adj_pts_won%_l60_decay_IO_y\", \"p_SOS_adj_pts_won%_l60_decay_IO_weighted_y\",\"p_SOS_adj_pts_won%_l10_y\", \"p_sv_pts_won%_y\", \"p_sv_pts_won%_l60_decay_y\", \"p_sv_pts_won%_l10_y\", \"p_SOS_adj_sv_pts_won%_l60_decay_y\", \"p_SOS_adj_sv_pts_won%_l10_y\", \"p_ret_pts_won%_y\", \"p_ret_pts_won%_l60_decay_y\", \"p_ret_pts_won%_l10_y\", \"p_SOS_adj_ret_pts_won%_l60_decay_y\", \"p_SOS_adj_ret_pts_won%_l10_y\", \"p_ace%_y\", \"p_ace%_l60_decay_y\", \"p_ace%_l10_y\", \"p_SOS_adj_ace%_l60_decay_y\", \"p_SOS_adj_ace%_l10_y\", \"p_aced%_y\", \"p_aced%_l60_decay_y\", \"p_aced%_l10_y\", \"p_SOS_adj_aced%_l60_decay_y\", \"p_SOS_adj_aced%_l10_y\", \"p_bp_save%_y\", \"p_bp_save%_l60_y\", \"p_bp_save%_l10_y\", \"p_SOS_adj_bp_save%_l60_y\", \"p_SOS_adj_bp_save%_l10_y\", \"p_bp_convert%_y\", \"p_bp_convert%_l60_y\", \"p_bp_convert%_l10_y\", \"p_SOS_adj_bp_convert%_l60_y\", \"p_SOS_adj_bp_convert%_l10_y\", \"p_pts_won%_std_l60_decay_y\", \"p_sv_pts_won%_std_l60_decay_y\", \"p_ret_pts_won%_std_l60_decay_y\", \"p_m_time_last_y\", \"p_tot_time_l6_y\", \"p_tot_time_l6_decay_y\", \"p_tot_pts_last_y\",  \"p_tot_pts_l6_y\", \"p_tot_pts_l6_decay_y\", \"p_stamina_adj_fatigue_decay_y\", \"p_stamina_adj_fatigue_y\", \"p_IP_NV_y\", \"p_rank_diff_y\", \"p_log_rank_y\", \"p_log_rank_diff_y\", \"p_rank_pts_diff_y\", \"p_ent_diff_y\", \"p_ht_diff_y\", \"p_age_diff_y\", \"p_L_opp_R_y\", \"p_HCA_opp_N_y\", \"p_pts_won%_l60_decay_diff_y\", \"p_pts_won%_l60_decay_IO_diff_y\", \"p_SOS_adj_pts_won%_l60_decay_diff_y\", \"p_SOS_adj_pts_won%_l60_decay_IO_diff_y\", \"p_SOS_adj_pts_won%_l60_decay_IO_weighted_diff_y\", \"p_pts_won%_l10_diff_y\", \"p_SOS_adj_pts_won%_l10_diff_y\", \"p_sv_pts_won%_l60_decay_diff_y\", \"p_SOS_adj_sv_pts_won%_l60_decay_diff_y\", \"p_sv_pts_won%_l10_diff_y\", \"p_SOS_adj_sv_pts_won%_l10_diff_y\", \"p_ret_pts_won%_l60_decay_diff_y\", \"p_SOS_adj_ret_pts_won%_l60_decay_diff_y\", \"p_ret_pts_won%_l10_diff_y\", \"p_SOS_adj_ret_pts_won%_l10_diff_y\", \"p_sv_opp_ret_pts_won%_l60_decay_diff_y\", \"p_SOS_adj_sv_opp_ret_pts_won%_l60_decay_diff_y\", \"p_sv_opp_ret_pts_won%_l10_diff_y\", \"p_SOS_adj_sv_opp_ret_pts_won%_l10_diff_y\", \"p_ret_opp_sv_pts_won%_l60_decay_diff_y\", \"p_SOS_adj_ret_opp_sv_pts_won%_l60_decay_diff_y\", \"p_ret_opp_sv_pts_won%_l10_diff_y\", \"p_SOS_adj_ret_opp_sv_pts_won%_l10_diff_y\", \"p_ace%_l60_decay_diff_y\", \"p_SOS_adj_ace%_l60_decay_diff_y\", \"p_ace%_l10_diff_y\", \"p_SOS_adj_ace%_l10_diff_y\", \"p_aced%_l60_decay_diff_y\", \"p_SOS_adj_aced%_l60_decay_diff_y\", \"p_aced%_l10_diff_y\", \"p_SOS_adj_aced%_l10_diff_y\", \"p_ace%_opp_aced%_l60_decay_diff_y\", \"p_SOS_adj_ace%_opp_aced%_l60_decay_diff_y\", \"p_ace%_opp_aced%_l10_diff_y\", \"p_SOS_adj_ace%_opp_aced%_l10_diff_y\", \"p_aced%_opp_ace%_l60_decay_diff_y\", \"p_SOS_adj_aced%_opp_ace%_l60_decay_diff_y\", \"p_aced%_opp_ace%_l10_diff_y\", \"p_SOS_adj_aced%_opp_ace%_l10_diff_y\", \"p_bp_save%_l60_diff_y\", \"p_SOS_adj_bp_save%_l60_diff_y\", \"p_bp_save%_l10_diff_y\", \"p_SOS_adj_bp_save%_l10_diff_y\", \"p_bp_convert%_l60_diff_y\", \"p_SOS_adj_bp_convert%_l60_diff_y\", \"p_bp_convert%_l10_diff_y\", \"p_SOS_adj_bp_convert%_l10_diff_y\", \"p_bp_convert%_opp_bp_save%_l60_diff_y\", \"p_SOS_adj_bp_convert%_opp_bp_save%_l60_diff_y\", \"p_bp_convert%_opp_bp_save%_l10_diff_y\", \"p_SOS_adj_bp_convert%_opp_bp_save%_l10_diff_y\", \"p_bp_save%_opp_bp_convert%_l60_diff_y\", \"p_SOS_adj_bp_save%_opp_bp_convert%_l60_diff_y\", \"p_bp_save%_opp_bp_convert%_l10_diff_y\", \"p_SOS_adj_bp_save%_opp_bp_convert%_l10_diff_y\", \"p_pts_won%_std_l60_decay_diff_y\", \"p_sv_pts_won%_std_l60_decay_diff_y\", \"p_ret_pts_won%_std_l60_decay_diff_y\", \"p_m_time_last_diff_y\", \"p_tot_time_l6_diff_y\", \"p_tot_time_l6_decay_diff_y\", \"p_tot_pts_last_diff_y\", \"p_tot_pts_l6_diff_y\", \"p_tot_pts_l6_decay_diff_y\", \"p_matches_diff_y\", \"p_matches_surf_diff_y\", \"p_stamina_adj_fatigue_decay_diff_y\", \"p_stamina_adj_fatigue_diff_y\", \"p_H2H_diff_y\", \"p_H2H_pts_won%_diff_y\"], axis=1)\n",
    "df_winners4[\"m_outcome\"] = 1"
   ]
  },
  {
   "cell_type": "code",
   "execution_count": 207,
   "id": "f95b11c9",
   "metadata": {},
   "outputs": [],
   "source": [
    "df_winners4.to_csv('../data/df_winners4.csv', index=False)"
   ]
  },
  {
   "cell_type": "code",
   "execution_count": 208,
   "id": "46324340",
   "metadata": {},
   "outputs": [],
   "source": [
    "#Renaming columns to remove winner-loser descriptions so we can re-concatenate winners and losers\n",
    "df_winners4 = df_winners4.set_axis([\"t_id\", \"t_date\", \"tour_wk\", \"t_name\", \"t_country\", \"t_surf\", \"t_indoor\", \"t_alt\", \"t_lvl\", \"t_draw_size\", \"t_rd_num\", \"m_num\", \"m_best_of\", \"m_time(m)\", \"m_tot_pts\", \"p_id\", \"p_name\", \"p_H2H_w\", \"p_H2H_pts_won%\", \"p_rank\", \"p_rank_pts\", \"p_country\", \"p_ent\", \"p_hd\", \"p_ht\", \"p_age\", \"p_matches\", \"p_matches_surf\", \"p_pts_won%\", \"p_pts_won%_l60_decay\", \"p_pts_won%_l60_decay_IO\", \"p_pts_won%_l10\", \"p_SOS_adj_pts_won%_l60_decay\", \"p_SOS_adj_pts_won%_l60_decay_IO\", \"p_SOS_adj_pts_won%_l60_decay_IO_weighted\", \"p_SOS_adj_pts_won%_l10\", \"p_sv_pts_won%\", \"p_sv_pts_won%_l60_decay\", \"p_sv_pts_won%_l10\", \"p_SOS_adj_sv_pts_won%_l60_decay\", \"p_SOS_adj_sv_pts_won%_l10\", \"p_ret_pts_won%\", \"p_ret_pts_won%_l60_decay\", \"p_ret_pts_won%_l10\", \"p_SOS_adj_ret_pts_won%_l60_decay\", \"p_SOS_adj_ret_pts_won%_l10\", \"p_ace%\", \"p_ace%_l60_decay\", \"p_ace%_l10\", \"p_SOS_adj_ace%_l60_decay\", \"p_SOS_adj_ace%_l10\", \"p_aced%\", \"p_aced%_l60_decay\", \"p_aced%_l10\", \"p_SOS_adj_aced%_l60_decay\", \"p_SOS_adj_aced%_l10\", \"p_bp_save%\", \"p_bp_save%_l60\", \"p_bp_save%_l10\", \"p_SOS_adj_bp_save%_l60\", \"p_SOS_adj_bp_save%_l10\", \"p_bp_convert%\", \"p_bp_convert%_l60\", \"p_bp_convert%_l10\", \"p_SOS_adj_bp_convert%_l60\", \"p_SOS_adj_bp_convert%_l10\", \"p_pts_won%_std_l60_decay\",'p_sv_pts_won%_std_l60_decay','p_ret_pts_won%_std_l60_decay', \"p_m_time_last\", \"p_tot_time_l6\", \"p_tot_time_l6_decay\", \"p_tot_pts_last\", \"p_tot_pts_l6\", \"p_tot_pts_l6_decay\", \"p_stamina_adj_fatigue_decay\", \"p_stamina_adj_fatigue\", \"p_IP_NV\", \"p_opp_rank_diff\", \"p_log_rank\", \"p_opp_log_rank_diff\", \"p_opp_rank_pts_diff\", \"p_ent_diff\", \"p_opp_ht_diff\",\"p_opp_age_diff\",\"p_L_opp_R\",\"p_HCA_opp_N\", \"p_pts_won%_l60_decay_diff\", \"p_pts_won%_l60_decay_IO_diff\", \"p_SOS_adj_pts_won%_l60_decay_diff\", \"p_SOS_adj_pts_won%_l60_decay_IO_diff\", \"p_SOS_adj_pts_won%_l60_decay_IO_weighted_diff\", \"p_pts_won%_l10_diff\", \"p_SOS_adj_pts_won%_l10_diff\", \"p_sv_pts_won%_l60_decay_diff\", \"p_SOS_adj_sv_pts_won%_l60_decay_diff\", \"p_sv_pts_won%_l10_diff\", \"p_SOS_adj_sv_pts_won%_l10_diff\", \"p_ret_pts_won%_l60_decay_diff\", \"p_SOS_adj_ret_pts_won%_l60_decay_diff\", \"p_ret_pts_won%_l10_diff\", \"p_SOS_adj_ret_pts_won%_l10_diff\", \"p_sv_opp_ret_pts_won%_l60_decay_diff\", \"p_SOS_adj_sv_opp_ret_pts_won%_l60_decay_diff\", \"p_sv_opp_ret_pts_won%_l10_diff\", \"p_SOS_adj_sv_opp_ret_pts_won%_l10_diff\", \"p_ret_opp_sv_pts_won%_l60_decay_diff\", \"p_SOS_adj_ret_opp_sv_pts_won%_l60_decay_diff\", \"p_ret_opp_sv_pts_won%_l10_diff\", \"p_SOS_adj_ret_opp_sv_pts_won%_l10_diff\", \"p_ace%_l60_decay_diff\", \"p_SOS_adj_ace%_l60_decay_diff\", \"p_ace%_l10_diff\", \"p_SOS_adj_ace%_l10_diff\", \"p_aced%_l60_decay_diff\", \"p_SOS_adj_aced%_l60_decay_diff\", \"p_aced%_l10_diff\", \"p_SOS_adj_aced%_l10_diff\", \"p_ace%_opp_aced%_l60_decay_diff\", \"p_SOS_adj_ace%_opp_aced%_l60_decay_diff\", \"p_ace%_opp_aced%_l10_diff\", \"p_SOS_adj_ace%_opp_aced%_l10_diff\", \"p_aced%_opp_ace%_l60_decay_diff\", \"p_SOS_adj_aced%_opp_ace%_l60_decay_diff\", \"p_aced%_opp_ace%_l10_diff\", \"p_SOS_adj_aced%_opp_ace%_l10_diff\", \"p_bp_save%_l60_diff\", \"p_SOS_adj_bp_save%_l60_diff\", \"p_bp_save%_l10_diff\", \"p_SOS_adj_bp_save%_l10_diff\", \"p_bp_convert%_l60_diff\", \"p_SOS_adj_bp_convert%_l60_diff\", \"p_bp_convert%_l10_diff\", \"p_SOS_adj_bp_convert%_l10_diff\", \"p_bp_convert%_opp_bp_save%_l60_diff\", \"p_SOS_adj_bp_convert%_opp_bp_save%_l60_diff\", \"p_bp_convert%_opp_bp_save%_l10_diff\", \"p_SOS_adj_bp_convert%_opp_bp_save%_l10_diff\", \"p_bp_save%_opp_bp_convert%_l60_diff\", \"p_SOS_adj_bp_save%_opp_bp_convert%_l60_diff\", \"p_bp_save%_opp_bp_convert%_l10_diff\", \"p_SOS_adj_bp_save%_opp_bp_convert%_l10_diff\", \"p_pts_won%_std_l60_decay_diff\", \"p_sv_pts_won%_std_l60_decay_diff\", \"p_ret_pts_won%_std_l60_decay_diff\", \"p_m_time_last_diff\", \"p_tot_time_l6_diff\", \"p_tot_time_l6_decay_diff\", \"p_tot_pts_last_diff\", \"p_tot_pts_l6_diff\", \"p_tot_pts_l6_decay_diff\", \"p_matches_diff\", \"p_matches_surf_diff\", \"p_stam_adj_fatigue_decay_diff\", \"p_stam_adj_fatigue_diff\", \"p_H2H_diff\", \"p_H2H_pts_won%_diff\", \"m_outcome\"], axis=1)"
   ]
  },
  {
   "cell_type": "code",
   "execution_count": 209,
   "id": "49eeeb3f",
   "metadata": {},
   "outputs": [],
   "source": [
    "#Dropping winner (_x) columns for remerge by player\n",
    "df_losers4 = df_match3.drop([\"m_outcome_x\", \"m_outcome_y\", \"p_id_x\", \"p_name_x\", \"p_H2H_w_x\", \"p_H2H_pts_won%_x\", \"p_rank_x\", \"p_rank_pts_x\", \"p_country_x\", \"p_ent_x\", \"p_hd_x\", \"p_ht_x\", \"p_age_x\", \"p_matches_x\", \"p_matches_surf_x\", \"p_pts_won%_x\", \"p_pts_won%_l60_decay_x\", \"p_pts_won%_l60_decay_IO_x\", \"p_pts_won%_l10_x\", \"p_SOS_adj_pts_won%_l60_decay_x\", \"p_SOS_adj_pts_won%_l60_decay_IO_x\", \"p_SOS_adj_pts_won%_l60_decay_IO_weighted_x\", \"p_SOS_adj_pts_won%_l10_x\", \"p_sv_pts_won%_x\", \"p_sv_pts_won%_l60_decay_x\", \"p_sv_pts_won%_l10_x\", \"p_SOS_adj_sv_pts_won%_l60_decay_x\", \"p_SOS_adj_sv_pts_won%_l10_x\", \"p_ret_pts_won%_x\", \"p_ret_pts_won%_l60_decay_x\", \"p_ret_pts_won%_l10_x\", \"p_SOS_adj_ret_pts_won%_l60_decay_x\", \"p_SOS_adj_ret_pts_won%_l10_x\", \"p_ace%_x\", \"p_ace%_l60_decay_x\", \"p_ace%_l10_x\", \"p_SOS_adj_ace%_l60_decay_x\", \"p_SOS_adj_ace%_l10_x\", \"p_aced%_x\", \"p_aced%_l60_decay_x\", \"p_aced%_l10_x\", \"p_SOS_adj_aced%_l60_decay_x\", \"p_SOS_adj_aced%_l10_x\", \"p_bp_save%_x\", \"p_bp_save%_l60_x\", \"p_bp_save%_l10_x\", \"p_SOS_adj_bp_save%_l60_x\", \"p_SOS_adj_bp_save%_l10_x\", \"p_bp_convert%_x\", \"p_bp_convert%_l60_x\", \"p_bp_convert%_l10_x\", \"p_SOS_adj_bp_convert%_l60_x\", \"p_SOS_adj_bp_convert%_l10_x\", \"p_pts_won%_std_l60_decay_x\", \"p_sv_pts_won%_std_l60_decay_x\", \"p_ret_pts_won%_std_l60_decay_x\", \"p_m_time_last_x\", \"p_tot_time_l6_x\", \"p_tot_time_l6_decay_x\", \"p_tot_pts_last_x\", \"p_tot_pts_l6_x\", \"p_tot_pts_l6_decay_x\", \"p_stamina_adj_fatigue_decay_x\", \"p_stamina_adj_fatigue_x\",\"p_IP_NV_x\", \"p_rank_diff_x\", \"p_log_rank_x\", \"p_log_rank_diff_x\", \"p_rank_pts_diff_x\", \"p_ent_diff_x\", \"p_ht_diff_x\", \"p_age_diff_x\", \"p_L_opp_R_x\", \"p_HCA_opp_N_x\", \"p_pts_won%_l60_decay_diff_x\", \"p_pts_won%_l60_decay_IO_diff_x\", \"p_SOS_adj_pts_won%_l60_decay_diff_x\", \"p_SOS_adj_pts_won%_l60_decay_IO_diff_x\", \"p_SOS_adj_pts_won%_l60_decay_IO_weighted_diff_x\", \"p_pts_won%_l10_diff_x\", \"p_SOS_adj_pts_won%_l10_diff_x\", \"p_sv_pts_won%_l60_decay_diff_x\", \"p_SOS_adj_sv_pts_won%_l60_decay_diff_x\", \"p_sv_pts_won%_l10_diff_x\", \"p_SOS_adj_sv_pts_won%_l10_diff_x\", \"p_ret_pts_won%_l60_decay_diff_x\", \"p_SOS_adj_ret_pts_won%_l60_decay_diff_x\", \"p_ret_pts_won%_l10_diff_x\", \"p_SOS_adj_ret_pts_won%_l10_diff_x\", \"p_sv_opp_ret_pts_won%_l60_decay_diff_x\", \"p_SOS_adj_sv_opp_ret_pts_won%_l60_decay_diff_x\", \"p_sv_opp_ret_pts_won%_l10_diff_x\", \"p_SOS_adj_sv_opp_ret_pts_won%_l10_diff_x\", \"p_ret_opp_sv_pts_won%_l60_decay_diff_x\", \"p_SOS_adj_ret_opp_sv_pts_won%_l60_decay_diff_x\", \"p_ret_opp_sv_pts_won%_l10_diff_x\", \"p_SOS_adj_ret_opp_sv_pts_won%_l10_diff_x\", \"p_ace%_l60_decay_diff_x\", \"p_SOS_adj_ace%_l60_decay_diff_x\", \"p_ace%_l10_diff_x\", \"p_SOS_adj_ace%_l10_diff_x\", \"p_aced%_l60_decay_diff_x\", \"p_SOS_adj_aced%_l60_decay_diff_x\", \"p_aced%_l10_diff_x\", \"p_SOS_adj_aced%_l10_diff_x\", \"p_ace%_opp_aced%_l60_decay_diff_x\", \"p_SOS_adj_ace%_opp_aced%_l60_decay_diff_x\", \"p_ace%_opp_aced%_l10_diff_x\", \"p_SOS_adj_ace%_opp_aced%_l10_diff_x\", \"p_aced%_opp_ace%_l60_decay_diff_x\", \"p_SOS_adj_aced%_opp_ace%_l60_decay_diff_x\", \"p_aced%_opp_ace%_l10_diff_x\", \"p_SOS_adj_aced%_opp_ace%_l10_diff_x\", \"p_bp_save%_l60_diff_x\", \"p_SOS_adj_bp_save%_l60_diff_x\", \"p_bp_save%_l10_diff_x\", \"p_SOS_adj_bp_save%_l10_diff_x\", \"p_bp_convert%_l60_diff_x\", \"p_SOS_adj_bp_convert%_l60_diff_x\", \"p_bp_convert%_l10_diff_x\", \"p_SOS_adj_bp_convert%_l10_diff_x\", \"p_bp_convert%_opp_bp_save%_l60_diff_x\", \"p_SOS_adj_bp_convert%_opp_bp_save%_l60_diff_x\", \"p_bp_convert%_opp_bp_save%_l10_diff_x\", \"p_SOS_adj_bp_convert%_opp_bp_save%_l10_diff_x\", \"p_bp_save%_opp_bp_convert%_l60_diff_x\", \"p_SOS_adj_bp_save%_opp_bp_convert%_l60_diff_x\", \"p_bp_save%_opp_bp_convert%_l10_diff_x\", \"p_SOS_adj_bp_save%_opp_bp_convert%_l10_diff_x\", \"p_pts_won%_std_l60_decay_diff_x\", \"p_sv_pts_won%_std_l60_decay_diff_x\", \"p_ret_pts_won%_std_l60_decay_diff_x\", \"p_m_time_last_diff_x\", \"p_tot_time_l6_diff_x\", \"p_tot_time_l6_decay_diff_x\", \"p_tot_pts_last_diff_x\", \"p_tot_pts_l6_diff_x\", \"p_tot_pts_l6_decay_diff_x\", \"p_matches_diff_x\", \"p_matches_surf_diff_x\", \"p_stamina_adj_fatigue_decay_diff_x\", \"p_stamina_adj_fatigue_diff_x\", \"p_H2H_diff_x\", \"p_H2H_pts_won%_diff_x\"], axis=1)\n",
    "df_losers4[\"m_outcome\"] = 0"
   ]
  },
  {
   "cell_type": "code",
   "execution_count": 210,
   "id": "295a9aa9",
   "metadata": {},
   "outputs": [],
   "source": [
    "df_losers4.to_csv('../data/df_losers4.csv', index=False)"
   ]
  },
  {
   "cell_type": "code",
   "execution_count": 211,
   "id": "6bc23b14",
   "metadata": {},
   "outputs": [],
   "source": [
    "#Renaming columns to remove winner-loser descriptions so we can re-concatenate winners and losers\n",
    "df_losers4 = df_losers4.set_axis([\"t_id\", \"t_date\", \"tour_wk\", \"t_name\", \"t_country\", \"t_surf\", \"t_indoor\", \"t_alt\", \"t_lvl\", \"t_draw_size\", \"t_rd_num\", \"m_num\", \"m_best_of\", \"m_time(m)\", \"m_tot_pts\", \"p_id\", \"p_name\", \"p_H2H_w\", \"p_H2H_pts_won%\", \"p_rank\", \"p_rank_pts\", \"p_country\", \"p_ent\", \"p_hd\", \"p_ht\", \"p_age\", \"p_matches\", \"p_matches_surf\", \"p_pts_won%\", \"p_pts_won%_l60_decay\", \"p_pts_won%_l60_decay_IO\", \"p_pts_won%_l10\", \"p_SOS_adj_pts_won%_l60_decay\", \"p_SOS_adj_pts_won%_l60_decay_IO\", \"p_SOS_adj_pts_won%_l60_decay_IO_weighted\", \"p_SOS_adj_pts_won%_l10\", \"p_sv_pts_won%\", \"p_sv_pts_won%_l60_decay\", \"p_sv_pts_won%_l10\", \"p_SOS_adj_sv_pts_won%_l60_decay\", \"p_SOS_adj_sv_pts_won%_l10\", \"p_ret_pts_won%\", \"p_ret_pts_won%_l60_decay\", \"p_ret_pts_won%_l10\", \"p_SOS_adj_ret_pts_won%_l60_decay\", \"p_SOS_adj_ret_pts_won%_l10\", \"p_ace%\", \"p_ace%_l60_decay\", \"p_ace%_l10\", \"p_SOS_adj_ace%_l60_decay\", \"p_SOS_adj_ace%_l10\", \"p_aced%\", \"p_aced%_l60_decay\", \"p_aced%_l10\", \"p_SOS_adj_aced%_l60_decay\", \"p_SOS_adj_aced%_l10\", \"p_bp_save%\", \"p_bp_save%_l60\", \"p_bp_save%_l10\", \"p_SOS_adj_bp_save%_l60\", \"p_SOS_adj_bp_save%_l10\", \"p_bp_convert%\", \"p_bp_convert%_l60\", \"p_bp_convert%_l10\", \"p_SOS_adj_bp_convert%_l60\", \"p_SOS_adj_bp_convert%_l10\", \"p_pts_won%_std_l60_decay\",'p_sv_pts_won%_std_l60_decay','p_ret_pts_won%_std_l60_decay', \"p_m_time_last\", \"p_tot_time_l6\", \"p_tot_time_l6_decay\", \"p_tot_pts_last\", \"p_tot_pts_l6\", \"p_tot_pts_l6_decay\", \"p_stamina_adj_fatigue_decay\", \"p_stamina_adj_fatigue\", \"p_IP_NV\", \"p_opp_rank_diff\", \"p_log_rank\", \"p_opp_log_rank_diff\", \"p_opp_rank_pts_diff\", \"p_ent_diff\", \"p_opp_ht_diff\",\"p_opp_age_diff\",\"p_L_opp_R\",\"p_HCA_opp_N\", \"p_pts_won%_l60_decay_diff\", \"p_pts_won%_l60_decay_IO_diff\", \"p_SOS_adj_pts_won%_l60_decay_diff\", \"p_SOS_adj_pts_won%_l60_decay_IO_diff\", \"p_SOS_adj_pts_won%_l60_decay_IO_weighted_diff\", \"p_pts_won%_l10_diff\", \"p_SOS_adj_pts_won%_l10_diff\", \"p_sv_pts_won%_l60_decay_diff\", \"p_SOS_adj_sv_pts_won%_l60_decay_diff\", \"p_sv_pts_won%_l10_diff\", \"p_SOS_adj_sv_pts_won%_l10_diff\", \"p_ret_pts_won%_l60_decay_diff\", \"p_SOS_adj_ret_pts_won%_l60_decay_diff\", \"p_ret_pts_won%_l10_diff\", \"p_SOS_adj_ret_pts_won%_l10_diff\", \"p_sv_opp_ret_pts_won%_l60_decay_diff\", \"p_SOS_adj_sv_opp_ret_pts_won%_l60_decay_diff\", \"p_sv_opp_ret_pts_won%_l10_diff\", \"p_SOS_adj_sv_opp_ret_pts_won%_l10_diff\", \"p_ret_opp_sv_pts_won%_l60_decay_diff\", \"p_SOS_adj_ret_opp_sv_pts_won%_l60_decay_diff\", \"p_ret_opp_sv_pts_won%_l10_diff\", \"p_SOS_adj_ret_opp_sv_pts_won%_l10_diff\", \"p_ace%_l60_decay_diff\", \"p_SOS_adj_ace%_l60_decay_diff\", \"p_ace%_l10_diff\", \"p_SOS_adj_ace%_l10_diff\", \"p_aced%_l60_decay_diff\", \"p_SOS_adj_aced%_l60_decay_diff\", \"p_aced%_l10_diff\", \"p_SOS_adj_aced%_l10_diff\", \"p_ace%_opp_aced%_l60_decay_diff\", \"p_SOS_adj_ace%_opp_aced%_l60_decay_diff\", \"p_ace%_opp_aced%_l10_diff\", \"p_SOS_adj_ace%_opp_aced%_l10_diff\", \"p_aced%_opp_ace%_l60_decay_diff\", \"p_SOS_adj_aced%_opp_ace%_l60_decay_diff\", \"p_aced%_opp_ace%_l10_diff\", \"p_SOS_adj_aced%_opp_ace%_l10_diff\", \"p_bp_save%_l60_diff\", \"p_SOS_adj_bp_save%_l60_diff\", \"p_bp_save%_l10_diff\", \"p_SOS_adj_bp_save%_l10_diff\", \"p_bp_convert%_l60_diff\", \"p_SOS_adj_bp_convert%_l60_diff\", \"p_bp_convert%_l10_diff\", \"p_SOS_adj_bp_convert%_l10_diff\", \"p_bp_convert%_opp_bp_save%_l60_diff\", \"p_SOS_adj_bp_convert%_opp_bp_save%_l60_diff\", \"p_bp_convert%_opp_bp_save%_l10_diff\",  \"p_SOS_adj_bp_convert%_opp_bp_save%_l10_diff\", \"p_bp_save%_opp_bp_convert%_l60_diff\", \"p_SOS_adj_bp_save%_opp_bp_convert%_l60_diff\", \"p_bp_save%_opp_bp_convert%_l10_diff\", \"p_SOS_adj_bp_save%_opp_bp_convert%_l10_diff\", \"p_pts_won%_std_l60_decay_diff\", \"p_sv_pts_won%_std_l60_decay_diff\", \"p_ret_pts_won%_std_l60_decay_diff\", \"p_m_time_last_diff\", \"p_tot_time_l6_diff\", \"p_tot_time_l6_decay_diff\", \"p_tot_pts_last_diff\", \"p_tot_pts_l6_diff\", \"p_tot_pts_l6_decay_diff\", \"p_matches_diff\", \"p_matches_surf_diff\", \"p_stam_adj_fatigue_decay_diff\", \"p_stam_adj_fatigue_diff\", \"p_H2H_diff\", \"p_H2H_pts_won%_diff\", \"m_outcome\"], axis=1)"
   ]
  },
  {
   "cell_type": "code",
   "execution_count": 212,
   "id": "1537de93",
   "metadata": {},
   "outputs": [],
   "source": [
    "#Re-merge data, but now with no separate columns for winners and losers \n",
    "df_player4 = pd.concat([df_winners4, df_losers4], ignore_index=True)\n",
    "#df_player4.info()"
   ]
  },
  {
   "cell_type": "code",
   "execution_count": 213,
   "id": "858276c3",
   "metadata": {},
   "outputs": [],
   "source": [
    "#df_player4.head(30)"
   ]
  },
  {
   "cell_type": "code",
   "execution_count": 214,
   "id": "1bad60b4",
   "metadata": {},
   "outputs": [],
   "source": [
    "df_player5 = df_player4[[\"t_id\", \"t_date\", \"tour_wk\", \"t_name\", \"t_country\", \"t_surf\",\"t_indoor\", \"t_alt\", \"t_lvl\", \"t_draw_size\", \"t_rd_num\", \"m_num\", \"m_best_of\", \"m_time(m)\", \"m_tot_pts\", \"p_id\", \"p_name\", \"p_rank\", \"p_log_rank\", \"p_rank_pts\", \"p_country\", \"p_ent\", \"p_hd\", \"p_ht\", \"p_age\", \"p_matches\", \"p_matches_surf\", \"p_H2H_w\", \"p_H2H_pts_won%\", \"p_pts_won%\", \"p_pts_won%_l60_decay\", \"p_pts_won%_l60_decay_IO\", \"p_pts_won%_l10\", \"p_SOS_adj_pts_won%_l60_decay\", \"p_SOS_adj_pts_won%_l60_decay_IO\", \"p_SOS_adj_pts_won%_l60_decay_IO_weighted\", \"p_SOS_adj_pts_won%_l10\", \"p_sv_pts_won%\", \"p_sv_pts_won%_l60_decay\", \"p_sv_pts_won%_l10\", \"p_SOS_adj_sv_pts_won%_l60_decay\", \"p_SOS_adj_sv_pts_won%_l10\", \"p_ret_pts_won%\", \"p_ret_pts_won%_l60_decay\", \"p_ret_pts_won%_l10\", \"p_SOS_adj_ret_pts_won%_l60_decay\", \"p_SOS_adj_ret_pts_won%_l10\", \"p_ace%\", \"p_ace%_l60_decay\", \"p_ace%_l10\", \"p_SOS_adj_ace%_l60_decay\", \"p_SOS_adj_ace%_l10\", \"p_aced%\", \"p_aced%_l60_decay\", \"p_aced%_l10\", \"p_SOS_adj_aced%_l60_decay\", \"p_SOS_adj_aced%_l10\", \"p_bp_save%\", \"p_bp_save%_l60\", \"p_bp_save%_l10\", \"p_SOS_adj_bp_save%_l60\", \"p_SOS_adj_bp_save%_l10\", \"p_bp_convert%\", \"p_bp_convert%_l60\", \"p_bp_convert%_l10\", \"p_SOS_adj_bp_convert%_l60\", \"p_SOS_adj_bp_convert%_l10\", \"p_pts_won%_std_l60_decay\",'p_sv_pts_won%_std_l60_decay','p_ret_pts_won%_std_l60_decay', \"p_m_time_last\", \"p_tot_time_l6\", \"p_tot_time_l6_decay\", \"p_tot_pts_last\", \"p_tot_pts_l6\", \"p_tot_pts_l6_decay\", \"p_stamina_adj_fatigue\", \"p_stamina_adj_fatigue_decay\", \"p_opp_rank_diff\", \"p_opp_log_rank_diff\", \"p_opp_rank_pts_diff\", \"p_ent_diff\", \"p_opp_ht_diff\", \"p_opp_age_diff\", \"p_L_opp_R\", \"p_HCA_opp_N\", \"p_pts_won%_l60_decay_diff\", \"p_pts_won%_l60_decay_IO_diff\", \"p_SOS_adj_pts_won%_l60_decay_diff\", \"p_SOS_adj_pts_won%_l60_decay_IO_diff\", \"p_SOS_adj_pts_won%_l60_decay_IO_weighted_diff\", \"p_pts_won%_l10_diff\", \"p_SOS_adj_pts_won%_l10_diff\", \"p_sv_pts_won%_l60_decay_diff\", \"p_SOS_adj_sv_pts_won%_l60_decay_diff\", \"p_sv_pts_won%_l10_diff\", \"p_SOS_adj_sv_pts_won%_l10_diff\", \"p_ret_pts_won%_l60_decay_diff\", \"p_SOS_adj_ret_pts_won%_l60_decay_diff\", \"p_ret_pts_won%_l10_diff\", \"p_SOS_adj_ret_pts_won%_l10_diff\", \"p_sv_opp_ret_pts_won%_l60_decay_diff\", \"p_SOS_adj_sv_opp_ret_pts_won%_l60_decay_diff\", \"p_sv_opp_ret_pts_won%_l10_diff\", \"p_SOS_adj_sv_opp_ret_pts_won%_l10_diff\", \"p_ret_opp_sv_pts_won%_l60_decay_diff\", \"p_SOS_adj_ret_opp_sv_pts_won%_l60_decay_diff\", \"p_ret_opp_sv_pts_won%_l10_diff\", \"p_SOS_adj_ret_opp_sv_pts_won%_l10_diff\", \"p_ace%_l60_decay_diff\", \"p_SOS_adj_ace%_l60_decay_diff\", \"p_ace%_l10_diff\", \"p_SOS_adj_ace%_l10_diff\", \"p_aced%_l60_decay_diff\", \"p_SOS_adj_aced%_l60_decay_diff\", \"p_aced%_l10_diff\", \"p_SOS_adj_aced%_l10_diff\", \"p_ace%_opp_aced%_l60_decay_diff\", \"p_SOS_adj_ace%_opp_aced%_l60_decay_diff\", \"p_ace%_opp_aced%_l10_diff\", \"p_SOS_adj_ace%_opp_aced%_l10_diff\", \"p_aced%_opp_ace%_l60_decay_diff\", \"p_SOS_adj_aced%_opp_ace%_l60_decay_diff\", \"p_aced%_opp_ace%_l10_diff\", \"p_SOS_adj_aced%_opp_ace%_l10_diff\", \"p_bp_save%_l60_diff\", \"p_SOS_adj_bp_save%_l60_diff\", \"p_bp_save%_l10_diff\", \"p_SOS_adj_bp_save%_l10_diff\", \"p_bp_convert%_l60_diff\", \"p_SOS_adj_bp_convert%_l60_diff\", \"p_bp_convert%_l10_diff\", \"p_SOS_adj_bp_convert%_l10_diff\", \"p_bp_convert%_opp_bp_save%_l60_diff\", \"p_SOS_adj_bp_convert%_opp_bp_save%_l60_diff\", \"p_bp_convert%_opp_bp_save%_l10_diff\", \"p_SOS_adj_bp_convert%_opp_bp_save%_l10_diff\", \"p_bp_save%_opp_bp_convert%_l60_diff\", \"p_SOS_adj_bp_save%_opp_bp_convert%_l60_diff\", \"p_bp_save%_opp_bp_convert%_l10_diff\", \"p_SOS_adj_bp_save%_opp_bp_convert%_l10_diff\", \"p_pts_won%_std_l60_decay_diff\", \"p_sv_pts_won%_std_l60_decay_diff\", \"p_ret_pts_won%_std_l60_decay_diff\", \"p_m_time_last_diff\", \"p_tot_time_l6_diff\", \"p_tot_time_l6_decay_diff\", \"p_tot_pts_last_diff\", \"p_tot_pts_l6_diff\", \"p_tot_pts_l6_decay_diff\", \"p_matches_diff\", \"p_matches_surf_diff\", \"p_stam_adj_fatigue_diff\", \"p_stam_adj_fatigue_decay_diff\",  \"p_H2H_diff\", \"p_H2H_pts_won%_diff\", \"p_IP_NV\", \"m_outcome\"]]"
   ]
  },
  {
   "cell_type": "code",
   "execution_count": 215,
   "id": "47e9cd74",
   "metadata": {},
   "outputs": [],
   "source": [
    "#Sorting as such helps visually verify the complicated, backward-looking stat accrual calculations we will make below\n",
    "df_player5 = df_player5.sort_values(by=['p_id','tour_wk','t_rd_num'], ascending = False)"
   ]
  },
  {
   "cell_type": "code",
   "execution_count": 216,
   "id": "fd9b33a0",
   "metadata": {},
   "outputs": [],
   "source": [
    "#df_player5.info()"
   ]
  },
  {
   "cell_type": "code",
   "execution_count": 217,
   "id": "c90885ea",
   "metadata": {},
   "outputs": [],
   "source": [
    "#df_player5.to_csv('../data/df_player5.csv', index=False)"
   ]
  },
  {
   "cell_type": "markdown",
   "id": "8852a906",
   "metadata": {},
   "source": [
    "Ideally, as close to real time a model of conditions before a given match we want to predict can be generated. Once a sufficient number of matches have been played in a given tournament, priors on court speed can be updated as well. \n",
    "\n",
    "For now, we will use ace% per given tournament from the previous year (when available) as a proxy for court speed. Conditions, of course, are dictated by a number of factors, including the balls, altitude, watering frequency (clay) and sand incorporation in the mix for hard courts. Also, indoor conditions tend to be faster than outdoor. This is challenging to model because all conditions variables are seldom the same from year to year at a given venue. Plus, even the weather at the time of a match will make a considerable difference in court conditions, possibly even greater than the underlying \"weather neutral\" conditions. "
   ]
  },
  {
   "cell_type": "code",
   "execution_count": 218,
   "id": "a340aaf3",
   "metadata": {},
   "outputs": [
    {
     "data": {
      "text/html": [
       "<div>\n",
       "<style scoped>\n",
       "    .dataframe tbody tr th:only-of-type {\n",
       "        vertical-align: middle;\n",
       "    }\n",
       "\n",
       "    .dataframe tbody tr th {\n",
       "        vertical-align: top;\n",
       "    }\n",
       "\n",
       "    .dataframe thead th {\n",
       "        text-align: right;\n",
       "    }\n",
       "</style>\n",
       "<table border=\"1\" class=\"dataframe\">\n",
       "  <thead>\n",
       "    <tr style=\"text-align: right;\">\n",
       "      <th></th>\n",
       "      <th>p_name</th>\n",
       "      <th>t_name</th>\n",
       "      <th>t_id</th>\n",
       "      <th>p_ace%</th>\n",
       "    </tr>\n",
       "  </thead>\n",
       "  <tbody>\n",
       "    <tr>\n",
       "      <th>22458</th>\n",
       "      <td>Zachary Svajda</td>\n",
       "      <td>US Open</td>\n",
       "      <td>2019-560</td>\n",
       "      <td>1.09</td>\n",
       "    </tr>\n",
       "    <tr>\n",
       "      <th>11823</th>\n",
       "      <td>Alibek Kachmazov</td>\n",
       "      <td>Moscow</td>\n",
       "      <td>2019-M014</td>\n",
       "      <td>4.82</td>\n",
       "    </tr>\n",
       "    <tr>\n",
       "      <th>12571</th>\n",
       "      <td>Emilio Nava</td>\n",
       "      <td>Acapulco</td>\n",
       "      <td>2019-M004</td>\n",
       "      <td>3.70</td>\n",
       "    </tr>\n",
       "    <tr>\n",
       "      <th>0</th>\n",
       "      <td>Jannik Sinner</td>\n",
       "      <td>NextGen Finals</td>\n",
       "      <td>2019-7696</td>\n",
       "      <td>3.85</td>\n",
       "    </tr>\n",
       "    <tr>\n",
       "      <th>1</th>\n",
       "      <td>Jannik Sinner</td>\n",
       "      <td>NextGen Finals</td>\n",
       "      <td>2019-7696</td>\n",
       "      <td>7.69</td>\n",
       "    </tr>\n",
       "  </tbody>\n",
       "</table>\n",
       "</div>"
      ],
      "text/plain": [
       "                 p_name          t_name       t_id  p_ace%\n",
       "22458    Zachary Svajda         US Open   2019-560    1.09\n",
       "11823  Alibek Kachmazov          Moscow  2019-M014    4.82\n",
       "12571       Emilio Nava        Acapulco  2019-M004    3.70\n",
       "0         Jannik Sinner  NextGen Finals  2019-7696    3.85\n",
       "1         Jannik Sinner  NextGen Finals  2019-7696    7.69"
      ]
     },
     "execution_count": 218,
     "metadata": {},
     "output_type": "execute_result"
    }
   ],
   "source": [
    "# First, generate by-tournament ace%\n",
    "t_ace_perc = df_player5[[\"p_name\",\"t_name\",\"t_id\",\"p_ace%\"]]\n",
    "t_ace_perc.head()"
   ]
  },
  {
   "cell_type": "code",
   "execution_count": 219,
   "id": "41ca4dc6",
   "metadata": {},
   "outputs": [
    {
     "name": "stdout",
     "output_type": "stream",
     "text": [
      "<class 'pandas.core.frame.DataFrame'>\n",
      "Int64Index: 23028 entries, 22458 to 14336\n",
      "Data columns (total 4 columns):\n",
      " #   Column  Non-Null Count  Dtype  \n",
      "---  ------  --------------  -----  \n",
      " 0   p_name  23028 non-null  object \n",
      " 1   t_name  23028 non-null  object \n",
      " 2   t_id    23028 non-null  object \n",
      " 3   p_ace%  23028 non-null  float64\n",
      "dtypes: float64(1), object(3)\n",
      "memory usage: 899.5+ KB\n"
     ]
    }
   ],
   "source": [
    "# Before computing by-tourny, by-year means, removing data from the three largest ace outliers in tennis history (apologies to Andy Roddick and Milos Raonic).\n",
    "# Their absense or presence, esecially if they go very deep in the tourny, really does make a big difference at the individual tourny level as far as ace stats.\n",
    "t_ace_perc = t_ace_perc[~t_ace_perc['p_name'].str.contains(\"Karlovic\")]\n",
    "t_ace_perc = t_ace_perc[~t_ace_perc['p_name'].str.contains(\"Isner\")]\n",
    "t_ace_perc = t_ace_perc[~t_ace_perc['p_name'].str.contains(\"Opelka\")]\n",
    "t_ace_perc.info()"
   ]
  },
  {
   "cell_type": "code",
   "execution_count": 220,
   "id": "a9aebdae",
   "metadata": {},
   "outputs": [
    {
     "data": {
      "text/html": [
       "<div>\n",
       "<style scoped>\n",
       "    .dataframe tbody tr th:only-of-type {\n",
       "        vertical-align: middle;\n",
       "    }\n",
       "\n",
       "    .dataframe tbody tr th {\n",
       "        vertical-align: top;\n",
       "    }\n",
       "\n",
       "    .dataframe thead th {\n",
       "        text-align: right;\n",
       "    }\n",
       "</style>\n",
       "<table border=\"1\" class=\"dataframe\">\n",
       "  <thead>\n",
       "    <tr style=\"text-align: right;\">\n",
       "      <th></th>\n",
       "      <th></th>\n",
       "      <th>p_ace%</th>\n",
       "    </tr>\n",
       "    <tr>\n",
       "      <th>t_id</th>\n",
       "      <th>t_name</th>\n",
       "      <th></th>\n",
       "    </tr>\n",
       "  </thead>\n",
       "  <tbody>\n",
       "    <tr>\n",
       "      <th>2012-1720</th>\n",
       "      <th>Bangkok</th>\n",
       "      <td>5.26</td>\n",
       "    </tr>\n",
       "    <tr>\n",
       "      <th>2012-2276</th>\n",
       "      <th>Zagreb</th>\n",
       "      <td>8.24</td>\n",
       "    </tr>\n",
       "    <tr>\n",
       "      <th>2012-301</th>\n",
       "      <th>Auckland</th>\n",
       "      <td>6.72</td>\n",
       "    </tr>\n",
       "    <tr>\n",
       "      <th>2012-328</th>\n",
       "      <th>Basel</th>\n",
       "      <td>9.18</td>\n",
       "    </tr>\n",
       "    <tr>\n",
       "      <th>2012-329</th>\n",
       "      <th>Tokyo</th>\n",
       "      <td>8.14</td>\n",
       "    </tr>\n",
       "    <tr>\n",
       "      <th>2012-337</th>\n",
       "      <th>Vienna</th>\n",
       "      <td>10.23</td>\n",
       "    </tr>\n",
       "    <tr>\n",
       "      <th>2012-338</th>\n",
       "      <th>Sydney</th>\n",
       "      <td>7.41</td>\n",
       "    </tr>\n",
       "    <tr>\n",
       "      <th>2012-339</th>\n",
       "      <th>Brisbane</th>\n",
       "      <td>8.77</td>\n",
       "    </tr>\n",
       "    <tr>\n",
       "      <th>2012-341</th>\n",
       "      <th>Metz</th>\n",
       "      <td>9.62</td>\n",
       "    </tr>\n",
       "    <tr>\n",
       "      <th>2012-352</th>\n",
       "      <th>Paris Masters</th>\n",
       "      <td>9.62</td>\n",
       "    </tr>\n",
       "    <tr>\n",
       "      <th>2012-375</th>\n",
       "      <th>Montpellier</th>\n",
       "      <td>10.46</td>\n",
       "    </tr>\n",
       "    <tr>\n",
       "      <th>2012-402</th>\n",
       "      <th>Memphis</th>\n",
       "      <td>9.87</td>\n",
       "    </tr>\n",
       "    <tr>\n",
       "      <th>2012-403</th>\n",
       "      <th>Miami Masters</th>\n",
       "      <td>6.71</td>\n",
       "    </tr>\n",
       "    <tr>\n",
       "      <th>2012-404</th>\n",
       "      <th>Indian Wells Masters</th>\n",
       "      <td>6.19</td>\n",
       "    </tr>\n",
       "    <tr>\n",
       "      <th>2012-407</th>\n",
       "      <th>Rotterdam</th>\n",
       "      <td>7.32</td>\n",
       "    </tr>\n",
       "    <tr>\n",
       "      <th>2012-418</th>\n",
       "      <th>Washington</th>\n",
       "      <td>10.79</td>\n",
       "    </tr>\n",
       "    <tr>\n",
       "      <th>2012-421</th>\n",
       "      <th>Canada Masters</th>\n",
       "      <td>7.49</td>\n",
       "    </tr>\n",
       "    <tr>\n",
       "      <th>2012-422</th>\n",
       "      <th>Cincinnati Masters</th>\n",
       "      <td>8.43</td>\n",
       "    </tr>\n",
       "    <tr>\n",
       "      <th>2012-423</th>\n",
       "      <th>Los Angeles</th>\n",
       "      <td>6.74</td>\n",
       "    </tr>\n",
       "    <tr>\n",
       "      <th>2012-424</th>\n",
       "      <th>San Jose</th>\n",
       "      <td>9.24</td>\n",
       "    </tr>\n",
       "  </tbody>\n",
       "</table>\n",
       "</div>"
      ],
      "text/plain": [
       "                                p_ace%\n",
       "t_id      t_name                      \n",
       "2012-1720 Bangkok                 5.26\n",
       "2012-2276 Zagreb                  8.24\n",
       "2012-301  Auckland                6.72\n",
       "2012-328  Basel                   9.18\n",
       "2012-329  Tokyo                   8.14\n",
       "2012-337  Vienna                 10.23\n",
       "2012-338  Sydney                  7.41\n",
       "2012-339  Brisbane                8.77\n",
       "2012-341  Metz                    9.62\n",
       "2012-352  Paris Masters           9.62\n",
       "2012-375  Montpellier            10.46\n",
       "2012-402  Memphis                 9.87\n",
       "2012-403  Miami Masters           6.71\n",
       "2012-404  Indian Wells Masters    6.19\n",
       "2012-407  Rotterdam               7.32\n",
       "2012-418  Washington             10.79\n",
       "2012-421  Canada Masters          7.49\n",
       "2012-422  Cincinnati Masters      8.43\n",
       "2012-423  Los Angeles             6.74\n",
       "2012-424  San Jose                9.24"
      ]
     },
     "execution_count": 220,
     "metadata": {},
     "output_type": "execute_result"
    }
   ],
   "source": [
    "# computes mean ace % per tourny per year (minus the 6'7\" and above outliers removed above)\n",
    "t_ace_perc = t_ace_perc.groupby(['t_id','t_name']).mean().round(2)\n",
    "t_ace_perc.head(20)"
   ]
  },
  {
   "cell_type": "code",
   "execution_count": 221,
   "id": "d4a6de44",
   "metadata": {},
   "outputs": [
    {
     "data": {
      "text/html": [
       "<div>\n",
       "<style scoped>\n",
       "    .dataframe tbody tr th:only-of-type {\n",
       "        vertical-align: middle;\n",
       "    }\n",
       "\n",
       "    .dataframe tbody tr th {\n",
       "        vertical-align: top;\n",
       "    }\n",
       "\n",
       "    .dataframe thead th {\n",
       "        text-align: right;\n",
       "    }\n",
       "</style>\n",
       "<table border=\"1\" class=\"dataframe\">\n",
       "  <thead>\n",
       "    <tr style=\"text-align: right;\">\n",
       "      <th></th>\n",
       "      <th></th>\n",
       "      <th>p_ace%</th>\n",
       "    </tr>\n",
       "    <tr>\n",
       "      <th>t_id</th>\n",
       "      <th>t_name</th>\n",
       "      <th></th>\n",
       "    </tr>\n",
       "  </thead>\n",
       "  <tbody>\n",
       "    <tr>\n",
       "      <th>2019-9164</th>\n",
       "      <th>Zhuhai</th>\n",
       "      <td>6.46</td>\n",
       "    </tr>\n",
       "    <tr>\n",
       "      <th>2015-2276</th>\n",
       "      <th>Zagreb</th>\n",
       "      <td>7.94</td>\n",
       "    </tr>\n",
       "    <tr>\n",
       "      <th>2014-2276</th>\n",
       "      <th>Zagreb</th>\n",
       "      <td>8.76</td>\n",
       "    </tr>\n",
       "    <tr>\n",
       "      <th>2013-2276</th>\n",
       "      <th>Zagreb</th>\n",
       "      <td>8.28</td>\n",
       "    </tr>\n",
       "    <tr>\n",
       "      <th>2012-2276</th>\n",
       "      <th>Zagreb</th>\n",
       "      <td>8.24</td>\n",
       "    </tr>\n",
       "    <tr>\n",
       "      <th>...</th>\n",
       "      <th>...</th>\n",
       "      <td>...</td>\n",
       "    </tr>\n",
       "    <tr>\n",
       "      <th>2018-M004</th>\n",
       "      <th>Acapulco</th>\n",
       "      <td>9.70</td>\n",
       "    </tr>\n",
       "    <tr>\n",
       "      <th>2017-M004</th>\n",
       "      <th>Acapulco</th>\n",
       "      <td>8.17</td>\n",
       "    </tr>\n",
       "    <tr>\n",
       "      <th>2016-M004</th>\n",
       "      <th>Acapulco</th>\n",
       "      <td>8.10</td>\n",
       "    </tr>\n",
       "    <tr>\n",
       "      <th>2015-807</th>\n",
       "      <th>Acapulco</th>\n",
       "      <td>5.89</td>\n",
       "    </tr>\n",
       "    <tr>\n",
       "      <th>2014-807</th>\n",
       "      <th>Acapulco</th>\n",
       "      <td>7.50</td>\n",
       "    </tr>\n",
       "  </tbody>\n",
       "</table>\n",
       "<p>298 rows × 1 columns</p>\n",
       "</div>"
      ],
      "text/plain": [
       "                    p_ace%\n",
       "t_id      t_name          \n",
       "2019-9164 Zhuhai      6.46\n",
       "2015-2276 Zagreb      7.94\n",
       "2014-2276 Zagreb      8.76\n",
       "2013-2276 Zagreb      8.28\n",
       "2012-2276 Zagreb      8.24\n",
       "...                    ...\n",
       "2018-M004 Acapulco    9.70\n",
       "2017-M004 Acapulco    8.17\n",
       "2016-M004 Acapulco    8.10\n",
       "2015-807  Acapulco    5.89\n",
       "2014-807  Acapulco    7.50\n",
       "\n",
       "[298 rows x 1 columns]"
      ]
     },
     "execution_count": 221,
     "metadata": {},
     "output_type": "execute_result"
    }
   ],
   "source": [
    "t_ace_perc = t_ace_perc.sort_values(by=['t_name','t_id'], ascending = False)\n",
    "t_ace_perc"
   ]
  },
  {
   "cell_type": "code",
   "execution_count": 222,
   "id": "3ccdf655",
   "metadata": {},
   "outputs": [],
   "source": [
    "t_ace_perc.rename(columns = {'p_ace%':'t_ace%'}, inplace=True)"
   ]
  },
  {
   "cell_type": "code",
   "execution_count": 223,
   "id": "15dca176",
   "metadata": {},
   "outputs": [],
   "source": [
    "#t_ace_perc.info()"
   ]
  },
  {
   "cell_type": "code",
   "execution_count": 224,
   "id": "18871119",
   "metadata": {},
   "outputs": [],
   "source": [
    "#t_ace_perc.to_csv('../data/t_ace_perc.csv', index=True)"
   ]
  },
  {
   "cell_type": "code",
   "execution_count": 225,
   "id": "b1554d11",
   "metadata": {},
   "outputs": [
    {
     "data": {
      "text/html": [
       "<div>\n",
       "<style scoped>\n",
       "    .dataframe tbody tr th:only-of-type {\n",
       "        vertical-align: middle;\n",
       "    }\n",
       "\n",
       "    .dataframe tbody tr th {\n",
       "        vertical-align: top;\n",
       "    }\n",
       "\n",
       "    .dataframe thead th {\n",
       "        text-align: right;\n",
       "    }\n",
       "</style>\n",
       "<table border=\"1\" class=\"dataframe\">\n",
       "  <thead>\n",
       "    <tr style=\"text-align: right;\">\n",
       "      <th></th>\n",
       "      <th></th>\n",
       "      <th>t_ace%</th>\n",
       "      <th>t_ace%_last</th>\n",
       "    </tr>\n",
       "    <tr>\n",
       "      <th>t_id</th>\n",
       "      <th>t_name</th>\n",
       "      <th></th>\n",
       "      <th></th>\n",
       "    </tr>\n",
       "  </thead>\n",
       "  <tbody>\n",
       "    <tr>\n",
       "      <th>2019-9164</th>\n",
       "      <th>Zhuhai</th>\n",
       "      <td>6.46</td>\n",
       "      <td>NaN</td>\n",
       "    </tr>\n",
       "    <tr>\n",
       "      <th>2015-2276</th>\n",
       "      <th>Zagreb</th>\n",
       "      <td>7.94</td>\n",
       "      <td>8.76</td>\n",
       "    </tr>\n",
       "    <tr>\n",
       "      <th>2014-2276</th>\n",
       "      <th>Zagreb</th>\n",
       "      <td>8.76</td>\n",
       "      <td>8.28</td>\n",
       "    </tr>\n",
       "    <tr>\n",
       "      <th>2013-2276</th>\n",
       "      <th>Zagreb</th>\n",
       "      <td>8.28</td>\n",
       "      <td>8.24</td>\n",
       "    </tr>\n",
       "    <tr>\n",
       "      <th>2012-2276</th>\n",
       "      <th>Zagreb</th>\n",
       "      <td>8.24</td>\n",
       "      <td>NaN</td>\n",
       "    </tr>\n",
       "    <tr>\n",
       "      <th>...</th>\n",
       "      <th>...</th>\n",
       "      <td>...</td>\n",
       "      <td>...</td>\n",
       "    </tr>\n",
       "    <tr>\n",
       "      <th>2018-M004</th>\n",
       "      <th>Acapulco</th>\n",
       "      <td>9.70</td>\n",
       "      <td>8.17</td>\n",
       "    </tr>\n",
       "    <tr>\n",
       "      <th>2017-M004</th>\n",
       "      <th>Acapulco</th>\n",
       "      <td>8.17</td>\n",
       "      <td>8.10</td>\n",
       "    </tr>\n",
       "    <tr>\n",
       "      <th>2016-M004</th>\n",
       "      <th>Acapulco</th>\n",
       "      <td>8.10</td>\n",
       "      <td>5.89</td>\n",
       "    </tr>\n",
       "    <tr>\n",
       "      <th>2015-807</th>\n",
       "      <th>Acapulco</th>\n",
       "      <td>5.89</td>\n",
       "      <td>7.50</td>\n",
       "    </tr>\n",
       "    <tr>\n",
       "      <th>2014-807</th>\n",
       "      <th>Acapulco</th>\n",
       "      <td>7.50</td>\n",
       "      <td>NaN</td>\n",
       "    </tr>\n",
       "  </tbody>\n",
       "</table>\n",
       "<p>298 rows × 2 columns</p>\n",
       "</div>"
      ],
      "text/plain": [
       "                    t_ace%  t_ace%_last\n",
       "t_id      t_name                       \n",
       "2019-9164 Zhuhai      6.46          NaN\n",
       "2015-2276 Zagreb      7.94         8.76\n",
       "2014-2276 Zagreb      8.76         8.28\n",
       "2013-2276 Zagreb      8.28         8.24\n",
       "2012-2276 Zagreb      8.24          NaN\n",
       "...                    ...          ...\n",
       "2018-M004 Acapulco    9.70         8.17\n",
       "2017-M004 Acapulco    8.17         8.10\n",
       "2016-M004 Acapulco    8.10         5.89\n",
       "2015-807  Acapulco    5.89         7.50\n",
       "2014-807  Acapulco    7.50          NaN\n",
       "\n",
       "[298 rows x 2 columns]"
      ]
     },
     "execution_count": 225,
     "metadata": {},
     "output_type": "execute_result"
    }
   ],
   "source": [
    "# For each tourny in the sample, applies the previous year's ace% from the same tourney (where available) as the speed conditions proxy\n",
    "t_ace_perc[\"t_ace%_last\"] = t_ace_perc.groupby('t_name')['t_ace%'].shift(-1)\n",
    "t_ace_perc"
   ]
  },
  {
   "cell_type": "code",
   "execution_count": 226,
   "id": "f7e2b910",
   "metadata": {},
   "outputs": [],
   "source": [
    "# Now we can just do a left join with the main dataframe on t_id to fill in the proper last year's value for each player/match\n",
    "df_player6 = df_player5.merge(t_ace_perc['t_ace%_last'], on='t_id', how = 'left')"
   ]
  },
  {
   "cell_type": "code",
   "execution_count": 227,
   "id": "b2789cf0",
   "metadata": {},
   "outputs": [],
   "source": [
    "#df_player6.info()"
   ]
  },
  {
   "cell_type": "markdown",
   "id": "8c30e545",
   "metadata": {},
   "source": [
    "For tournaments without a prior year to assess conditions from (mostly tournies from the first year of the sample (2012) that we won't actually make predictions on, we will just use the overall sample mean for its' surface (hard or clay) and indoor or outdoor status. "
   ]
  },
  {
   "cell_type": "code",
   "execution_count": 228,
   "id": "70fedfb4",
   "metadata": {},
   "outputs": [
    {
     "name": "stdout",
     "output_type": "stream",
     "text": [
      "<class 'pandas.core.frame.DataFrame'>\n",
      "Int64Index: 23608 entries, 22458 to 14336\n",
      "Data columns (total 7 columns):\n",
      " #   Column    Non-Null Count  Dtype  \n",
      "---  ------    --------------  -----  \n",
      " 0   p_name    23608 non-null  object \n",
      " 1   t_name    23608 non-null  object \n",
      " 2   t_id      23608 non-null  object \n",
      " 3   t_surf    23608 non-null  object \n",
      " 4   t_indoor  23608 non-null  int64  \n",
      " 5   t_alt     23608 non-null  int64  \n",
      " 6   p_ace%    23608 non-null  float64\n",
      "dtypes: float64(1), int64(2), object(4)\n",
      "memory usage: 1.4+ MB\n"
     ]
    }
   ],
   "source": [
    "surface_ace_perc_means = df_player5[[\"p_name\", \"t_name\",\"t_id\",\"t_surf\",\"t_indoor\",\"t_alt\",\"p_ace%\"]]\n",
    "surface_ace_perc_means.info()"
   ]
  },
  {
   "cell_type": "code",
   "execution_count": 229,
   "id": "557d5a39",
   "metadata": {},
   "outputs": [
    {
     "name": "stdout",
     "output_type": "stream",
     "text": [
      "<class 'pandas.core.frame.DataFrame'>\n",
      "Int64Index: 23028 entries, 22458 to 14336\n",
      "Data columns (total 7 columns):\n",
      " #   Column    Non-Null Count  Dtype  \n",
      "---  ------    --------------  -----  \n",
      " 0   p_name    23028 non-null  object \n",
      " 1   t_name    23028 non-null  object \n",
      " 2   t_id      23028 non-null  object \n",
      " 3   t_surf    23028 non-null  object \n",
      " 4   t_indoor  23028 non-null  int64  \n",
      " 5   t_alt     23028 non-null  int64  \n",
      " 6   p_ace%    23028 non-null  float64\n",
      "dtypes: float64(1), int64(2), object(4)\n",
      "memory usage: 1.4+ MB\n"
     ]
    }
   ],
   "source": [
    "# as with the by-tourny means above, removing the extreme ace outliers before computing the by surface averages for filling in the NaNs\n",
    "surface_ace_perc_means = surface_ace_perc_means[~surface_ace_perc_means['p_name'].str.contains(\"Karlovic\")]\n",
    "surface_ace_perc_means = surface_ace_perc_means[~surface_ace_perc_means['p_name'].str.contains(\"Isner\")]\n",
    "surface_ace_perc_means = surface_ace_perc_means[~surface_ace_perc_means['p_name'].str.contains(\"Opelka\")]\n",
    "surface_ace_perc_means.info()"
   ]
  },
  {
   "cell_type": "code",
   "execution_count": 230,
   "id": "726ccc2e",
   "metadata": {},
   "outputs": [
    {
     "data": {
      "text/html": [
       "<div>\n",
       "<style scoped>\n",
       "    .dataframe tbody tr th:only-of-type {\n",
       "        vertical-align: middle;\n",
       "    }\n",
       "\n",
       "    .dataframe tbody tr th {\n",
       "        vertical-align: top;\n",
       "    }\n",
       "\n",
       "    .dataframe thead th {\n",
       "        text-align: right;\n",
       "    }\n",
       "</style>\n",
       "<table border=\"1\" class=\"dataframe\">\n",
       "  <thead>\n",
       "    <tr style=\"text-align: right;\">\n",
       "      <th></th>\n",
       "      <th></th>\n",
       "      <th>t_alt</th>\n",
       "      <th>t_ace%</th>\n",
       "    </tr>\n",
       "    <tr>\n",
       "      <th>t_surf</th>\n",
       "      <th>t_indoor</th>\n",
       "      <th></th>\n",
       "      <th></th>\n",
       "    </tr>\n",
       "  </thead>\n",
       "  <tbody>\n",
       "    <tr>\n",
       "      <th rowspan=\"2\" valign=\"top\">Hard</th>\n",
       "      <th>0</th>\n",
       "      <td>0.01</td>\n",
       "      <td>8.35</td>\n",
       "    </tr>\n",
       "    <tr>\n",
       "      <th>1</th>\n",
       "      <td>0.00</td>\n",
       "      <td>8.78</td>\n",
       "    </tr>\n",
       "  </tbody>\n",
       "</table>\n",
       "</div>"
      ],
      "text/plain": [
       "                 t_alt  t_ace%\n",
       "t_surf t_indoor               \n",
       "Hard   0          0.01    8.35\n",
       "       1          0.00    8.78"
      ]
     },
     "execution_count": 230,
     "metadata": {},
     "output_type": "execute_result"
    }
   ],
   "source": [
    "# computes mean across all matches played on one surface in the sample (clay or hard court). Used to fill in NaNs with surface=specificity\n",
    "surface_ace_perc_means = surface_ace_perc_means.groupby(['t_surf','t_indoor']).mean().round(2)\n",
    "surface_ace_perc_means.rename(columns = {'p_ace%':'t_ace%'}, inplace=True)\n",
    "surface_ace_perc_means"
   ]
  },
  {
   "cell_type": "code",
   "execution_count": 231,
   "id": "c21bd599",
   "metadata": {},
   "outputs": [
    {
     "data": {
      "text/plain": [
       "(8.35, 8.78)"
      ]
     },
     "execution_count": 231,
     "metadata": {},
     "output_type": "execute_result"
    }
   ],
   "source": [
    "surface_ace_perc_means[\"t_ace%\"][0], surface_ace_perc_means[\"t_ace%\"][1] "
   ]
  },
  {
   "cell_type": "code",
   "execution_count": 232,
   "id": "01cf8b29",
   "metadata": {},
   "outputs": [],
   "source": [
    "# Assigns overall sample means per surface, per indoor-outdoor status to matches with no previous year value\n",
    "# Additionally, a few tournaments (Quito and Gstaad on outdoor clay, Bogota on outdoor hard) at extreme altitude \n",
    "# get a little boost (1.5%) over the above mean given known effects above around 3,000 ft\n",
    "\n",
    "#df_player6.loc[(df_player6[\"t_ace%_last\"].isnull()) & (df_player6[\"t_surf\"] == \"Clay\") & (df_player6[\"t_indoor\"] == 0) & (df_player6[\"t_alt\"] == 0), \"t_ace%_last\"] = surface_ace_perc_means[\"t_ace%\"][0] \n",
    "#df_player6.loc[(df_player6[\"t_ace%_last\"].isnull()) & (df_player6[\"t_surf\"] == \"Clay\") & (df_player6[\"t_indoor\"] == 0) & (df_player6[\"t_alt\"] == 1), \"t_ace%_last\"] = (surface_ace_perc_means[\"t_ace%\"][0]) + 1.5 \n",
    "\n",
    "#df_player6.loc[(df_player6[\"t_ace%_last\"].isnull()) & (df_player6[\"t_surf\"] == \"Clay\") & (df_player6[\"t_indoor\"] == 1), \"t_ace%_last\"] = surface_ace_perc_means[\"t_ace%\"][1] \n",
    "\n",
    "df_player6.loc[(df_player6[\"t_ace%_last\"].isnull()) & (df_player6[\"t_surf\"] == \"Hard\") & (df_player6[\"t_indoor\"] == 0) & (df_player6[\"t_alt\"] == 0), \"t_ace%_last\"] = surface_ace_perc_means[\"t_ace%\"][0]\n",
    "df_player6.loc[(df_player6[\"t_ace%_last\"].isnull()) & (df_player6[\"t_surf\"] == \"Hard\") & (df_player6[\"t_indoor\"] == 0) & (df_player6[\"t_alt\"] == 1), \"t_ace%_last\"] = (surface_ace_perc_means[\"t_ace%\"][0]) + 1.5\n",
    "\n",
    "df_player6.loc[(df_player6[\"t_ace%_last\"].isnull()) & (df_player6[\"t_surf\"] == \"Hard\") & (df_player6[\"t_indoor\"] == 1), \"t_ace%_last\"] = surface_ace_perc_means[\"t_ace%\"][1]"
   ]
  },
  {
   "cell_type": "markdown",
   "id": "4abfd0c3",
   "metadata": {},
   "source": [
    "This historic court speed proxy data is potentially useful to put player characteristics in context of the court speed at the tournment in which the match being predicted on is played. To this end, below are created two marker columns per player per match to be predicted on. The first column indicates whether the tournament at hand has an ace rate > 1 std higher than the surface average AND the PLAYER also has an ace rate > 1 std than the surface average. The second column indicates whether the tournament at hand has an ace rate > 1 std higher than the surface average AND the PLAYER also has an ACED rate > 1 std above the surface average ace rate.  "
   ]
  },
  {
   "cell_type": "code",
   "execution_count": 233,
   "id": "3b4a9fe1",
   "metadata": {},
   "outputs": [
    {
     "data": {
      "text/html": [
       "<div>\n",
       "<style scoped>\n",
       "    .dataframe tbody tr th:only-of-type {\n",
       "        vertical-align: middle;\n",
       "    }\n",
       "\n",
       "    .dataframe tbody tr th {\n",
       "        vertical-align: top;\n",
       "    }\n",
       "\n",
       "    .dataframe thead th {\n",
       "        text-align: right;\n",
       "    }\n",
       "</style>\n",
       "<table border=\"1\" class=\"dataframe\">\n",
       "  <thead>\n",
       "    <tr style=\"text-align: right;\">\n",
       "      <th></th>\n",
       "      <th></th>\n",
       "      <th>p_ace%</th>\n",
       "    </tr>\n",
       "    <tr>\n",
       "      <th>t_surf</th>\n",
       "      <th>t_id</th>\n",
       "      <th></th>\n",
       "    </tr>\n",
       "  </thead>\n",
       "  <tbody>\n",
       "    <tr>\n",
       "      <th rowspan=\"11\" valign=\"top\">Hard</th>\n",
       "      <th>2012-1720</th>\n",
       "      <td>5.26</td>\n",
       "    </tr>\n",
       "    <tr>\n",
       "      <th>2012-2276</th>\n",
       "      <td>8.24</td>\n",
       "    </tr>\n",
       "    <tr>\n",
       "      <th>2012-301</th>\n",
       "      <td>6.72</td>\n",
       "    </tr>\n",
       "    <tr>\n",
       "      <th>2012-328</th>\n",
       "      <td>9.18</td>\n",
       "    </tr>\n",
       "    <tr>\n",
       "      <th>2012-329</th>\n",
       "      <td>8.14</td>\n",
       "    </tr>\n",
       "    <tr>\n",
       "      <th>...</th>\n",
       "      <td>...</td>\n",
       "    </tr>\n",
       "    <tr>\n",
       "      <th>2019-M014</th>\n",
       "      <td>8.98</td>\n",
       "    </tr>\n",
       "    <tr>\n",
       "      <th>2019-M015</th>\n",
       "      <td>9.21</td>\n",
       "    </tr>\n",
       "    <tr>\n",
       "      <th>2019-M020</th>\n",
       "      <td>13.11</td>\n",
       "    </tr>\n",
       "    <tr>\n",
       "      <th>2019-M024</th>\n",
       "      <td>8.73</td>\n",
       "    </tr>\n",
       "    <tr>\n",
       "      <th>2019-M035</th>\n",
       "      <td>11.29</td>\n",
       "    </tr>\n",
       "  </tbody>\n",
       "</table>\n",
       "<p>298 rows × 1 columns</p>\n",
       "</div>"
      ],
      "text/plain": [
       "                  p_ace%\n",
       "t_surf t_id             \n",
       "Hard   2012-1720    5.26\n",
       "       2012-2276    8.24\n",
       "       2012-301     6.72\n",
       "       2012-328     9.18\n",
       "       2012-329     8.14\n",
       "...                  ...\n",
       "       2019-M014    8.98\n",
       "       2019-M015    9.21\n",
       "       2019-M020   13.11\n",
       "       2019-M024    8.73\n",
       "       2019-M035   11.29\n",
       "\n",
       "[298 rows x 1 columns]"
      ]
     },
     "execution_count": 233,
     "metadata": {},
     "output_type": "execute_result"
    }
   ],
   "source": [
    "# Surface ace rate per tourney, per surface (collapsed across indoor and outdoor per surface; ace outliers still removed)\n",
    "surface_ace_perc_means2 = df_player5[[\"p_name\", \"t_name\",\"t_id\",\"t_surf\",\"p_ace%\"]]\n",
    "surface_ace_perc_means2 = surface_ace_perc_means2[~surface_ace_perc_means2['p_name'].str.contains(\"Karlovic\")]\n",
    "surface_ace_perc_means2 = surface_ace_perc_means2[~surface_ace_perc_means2['p_name'].str.contains(\"Isner\")]\n",
    "surface_ace_perc_means2 = surface_ace_perc_means2[~surface_ace_perc_means2['p_name'].str.contains(\"Opelka\")]\n",
    "surface_ace_perc_means2 = surface_ace_perc_means2.groupby(['t_surf','t_id']).mean().round(2)\n",
    "#surface_ace_perc_means2.rename(columns = {'p_ace%':'t_ace%'}, inplace=True)\n",
    "surface_ace_perc_means2"
   ]
  },
  {
   "cell_type": "code",
   "execution_count": 234,
   "id": "714d2c2c",
   "metadata": {},
   "outputs": [],
   "source": [
    "#surface_ace_perc_means2.to_csv('../data/surface_ace_perc_means2.csv', index=True)"
   ]
  },
  {
   "cell_type": "code",
   "execution_count": 235,
   "id": "4bc196ba",
   "metadata": {},
   "outputs": [],
   "source": [
    "# Mean ace rate per surface (using means at BY TOURNAMENT LEVEL generated above)\n",
    "surface_ace_perc_means3 = surface_ace_perc_means2.groupby(['t_surf']).mean().round(2)\n",
    "surface_ace_perc_means3.rename(columns = {'p_ace%':'t_ace%'}, inplace=True)\n",
    "#surface_ace_perc_means3\n",
    "\n",
    "# Ace rate stdev (using stdev at BY TOURNAMENT LEVEL generated above)\n",
    "surface_ace_perc_std = surface_ace_perc_means2.groupby(['t_surf']).std().round(2)\n",
    "surface_ace_perc_std.rename(columns = {'p_ace%':'t_ace%'}, inplace=True)\n",
    "#surface_ace_perc_std"
   ]
  },
  {
   "cell_type": "code",
   "execution_count": 236,
   "id": "2347dd7d",
   "metadata": {},
   "outputs": [
    {
     "data": {
      "text/plain": [
       "8.59"
      ]
     },
     "execution_count": 236,
     "metadata": {},
     "output_type": "execute_result"
    }
   ],
   "source": [
    "surface_ace_perc_means3[\"t_ace%\"][0]"
   ]
  },
  {
   "cell_type": "code",
   "execution_count": 237,
   "id": "20470468",
   "metadata": {},
   "outputs": [
    {
     "data": {
      "text/plain": [
       "1.55"
      ]
     },
     "execution_count": 237,
     "metadata": {},
     "output_type": "execute_result"
    }
   ],
   "source": [
    "surface_ace_perc_std[\"t_ace%\"][0]"
   ]
  },
  {
   "cell_type": "code",
   "execution_count": 238,
   "id": "3353c9cc",
   "metadata": {},
   "outputs": [],
   "source": [
    "# Now we want to assess mean and std for SOS_adjusted ace and aced% over the last l60, on a surface-specific basis "
   ]
  },
  {
   "cell_type": "code",
   "execution_count": 239,
   "id": "4239609a",
   "metadata": {},
   "outputs": [
    {
     "data": {
      "text/html": [
       "<div>\n",
       "<style scoped>\n",
       "    .dataframe tbody tr th:only-of-type {\n",
       "        vertical-align: middle;\n",
       "    }\n",
       "\n",
       "    .dataframe tbody tr th {\n",
       "        vertical-align: top;\n",
       "    }\n",
       "\n",
       "    .dataframe thead th {\n",
       "        text-align: right;\n",
       "    }\n",
       "</style>\n",
       "<table border=\"1\" class=\"dataframe\">\n",
       "  <thead>\n",
       "    <tr style=\"text-align: right;\">\n",
       "      <th></th>\n",
       "      <th>p_SOS_adj_ace%_l60_decay</th>\n",
       "    </tr>\n",
       "    <tr>\n",
       "      <th>t_surf</th>\n",
       "      <th></th>\n",
       "    </tr>\n",
       "  </thead>\n",
       "  <tbody>\n",
       "    <tr>\n",
       "      <th>Hard</th>\n",
       "      <td>8.67</td>\n",
       "    </tr>\n",
       "  </tbody>\n",
       "</table>\n",
       "</div>"
      ],
      "text/plain": [
       "        p_SOS_adj_ace%_l60_decay\n",
       "t_surf                          \n",
       "Hard                        8.67"
      ]
     },
     "execution_count": 239,
     "metadata": {},
     "output_type": "execute_result"
    }
   ],
   "source": [
    "player_ace_l60_perc_means = df_player5[[\"p_name\", \"t_surf\",\"p_SOS_adj_ace%_l60_decay\"]]\n",
    "player_ace_l60_perc_means = player_ace_l60_perc_means[~player_ace_l60_perc_means['p_name'].str.contains(\"Karlovic\")]\n",
    "player_ace_l60_perc_means = player_ace_l60_perc_means[~player_ace_l60_perc_means['p_name'].str.contains(\"Isner\")]\n",
    "player_ace_l60_perc_means = player_ace_l60_perc_means[~player_ace_l60_perc_means['p_name'].str.contains(\"Opelka\")]\n",
    "player_ace_l60_perc_means = player_ace_l60_perc_means.groupby(['t_surf']).mean().round(2)\n",
    "player_ace_l60_perc_means"
   ]
  },
  {
   "cell_type": "code",
   "execution_count": 240,
   "id": "f72baaad",
   "metadata": {},
   "outputs": [
    {
     "data": {
      "text/plain": [
       "8.67"
      ]
     },
     "execution_count": 240,
     "metadata": {},
     "output_type": "execute_result"
    }
   ],
   "source": [
    "player_ace_l60_perc_means[\"p_SOS_adj_ace%_l60_decay\"][0]"
   ]
  },
  {
   "cell_type": "code",
   "execution_count": 241,
   "id": "5cfbefc2",
   "metadata": {},
   "outputs": [
    {
     "data": {
      "text/html": [
       "<div>\n",
       "<style scoped>\n",
       "    .dataframe tbody tr th:only-of-type {\n",
       "        vertical-align: middle;\n",
       "    }\n",
       "\n",
       "    .dataframe tbody tr th {\n",
       "        vertical-align: top;\n",
       "    }\n",
       "\n",
       "    .dataframe thead th {\n",
       "        text-align: right;\n",
       "    }\n",
       "</style>\n",
       "<table border=\"1\" class=\"dataframe\">\n",
       "  <thead>\n",
       "    <tr style=\"text-align: right;\">\n",
       "      <th></th>\n",
       "      <th>p_SOS_adj_ace%_l60_decay</th>\n",
       "    </tr>\n",
       "    <tr>\n",
       "      <th>t_surf</th>\n",
       "      <th></th>\n",
       "    </tr>\n",
       "  </thead>\n",
       "  <tbody>\n",
       "    <tr>\n",
       "      <th>Hard</th>\n",
       "      <td>4.23</td>\n",
       "    </tr>\n",
       "  </tbody>\n",
       "</table>\n",
       "</div>"
      ],
      "text/plain": [
       "        p_SOS_adj_ace%_l60_decay\n",
       "t_surf                          \n",
       "Hard                        4.23"
      ]
     },
     "execution_count": 241,
     "metadata": {},
     "output_type": "execute_result"
    }
   ],
   "source": [
    "player_ace_l60_perc_std = df_player5[[\"p_name\", \"t_surf\",\"p_SOS_adj_ace%_l60_decay\"]]\n",
    "player_ace_l60_perc_std = player_ace_l60_perc_std[~player_ace_l60_perc_std['p_name'].str.contains(\"Karlovic\")]\n",
    "player_ace_l60_perc_std = player_ace_l60_perc_std[~player_ace_l60_perc_std['p_name'].str.contains(\"Isner\")]\n",
    "player_ace_l60_perc_std = player_ace_l60_perc_std[~player_ace_l60_perc_std['p_name'].str.contains(\"Opelka\")]\n",
    "player_ace_l60_perc_std = player_ace_l60_perc_std.groupby(['t_surf']).std().round(2)\n",
    "player_ace_l60_perc_std"
   ]
  },
  {
   "cell_type": "code",
   "execution_count": 242,
   "id": "45f12f94",
   "metadata": {},
   "outputs": [
    {
     "data": {
      "text/plain": [
       "4.23"
      ]
     },
     "execution_count": 242,
     "metadata": {},
     "output_type": "execute_result"
    }
   ],
   "source": [
    "player_ace_l60_perc_std[\"p_SOS_adj_ace%_l60_decay\"][0]"
   ]
  },
  {
   "cell_type": "code",
   "execution_count": 243,
   "id": "c77ed0ee",
   "metadata": {},
   "outputs": [],
   "source": [
    "# Marker column for tournament high court speed proxy AND player high ace rate\n",
    "# Plus or minus fractional standard deviation thresholds for tourney and player calibrated in univariate linear modeling\n",
    "df_player6[\"high_t_ace_p_ace\"] = \"\"\n",
    "#df_player6.loc[(df_player6[\"t_surf\"] == \"Clay\") & (df_player6[\"t_ace%_last\"] > (surface_ace_perc_means3[\"t_ace%\"][0] + (0.35*surface_ace_perc_std[\"t_ace%\"][0]))) & (df_player6[\"p_SOS_adj_ace%_l60_decay\"] > (player_ace_l60_perc_means[\"p_SOS_adj_ace%_l60_decay\"][0] + (0.4*player_ace_l60_perc_std[\"p_SOS_adj_ace%_l60_decay\"][0]))), \"high_t_ace_p_ace\"] = 1\n",
    "df_player6.loc[(df_player6[\"t_surf\"] == \"Hard\") & (df_player6[\"t_ace%_last\"] > (surface_ace_perc_means3[\"t_ace%\"][0] + (0.35*surface_ace_perc_std[\"t_ace%\"][0]))) & (df_player6[\"p_SOS_adj_ace%_l60_decay\"] > (player_ace_l60_perc_means[\"p_SOS_adj_ace%_l60_decay\"][0] + (0.4*player_ace_l60_perc_std[\"p_SOS_adj_ace%_l60_decay\"][0]))), \"high_t_ace_p_ace\"] = 1\n",
    "df_player6.loc[(df_player6[\"high_t_ace_p_ace\"] != 1), \"high_t_ace_p_ace\"] = 0"
   ]
  },
  {
   "cell_type": "code",
   "execution_count": 244,
   "id": "fe87c26b",
   "metadata": {},
   "outputs": [
    {
     "data": {
      "text/plain": [
       "0    21791\n",
       "1     1817\n",
       "Name: high_t_ace_p_ace, dtype: int64"
      ]
     },
     "execution_count": 244,
     "metadata": {},
     "output_type": "execute_result"
    }
   ],
   "source": [
    "df_player6[\"high_t_ace_p_ace\"].value_counts()"
   ]
  },
  {
   "cell_type": "code",
   "execution_count": 245,
   "id": "2b8be9e1",
   "metadata": {},
   "outputs": [],
   "source": [
    "# Marker column for tournament high court speed proxy AND player high ACED rate\n",
    "# Plus or minus fractional standard deviation thresholds for tourney and player calibrated in univariate linear modeling\n",
    "df_player6[\"high_t_ace_p_aced\"] = \"\"\n",
    "#df_player6.loc[(df_player6[\"t_surf\"] == \"Clay\") & (df_player6[\"t_ace%_last\"] > (surface_ace_perc_means3[\"t_ace%\"][0] + (0.3*surface_ace_perc_std[\"t_ace%\"][0]))) & (df_player6[\"p_SOS_adj_aced%_l60_decay\"] > (player_ace_l60_perc_means[\"p_SOS_adj_ace%_l60_decay\"][0] + (0.3*player_ace_l60_perc_std[\"p_SOS_adj_ace%_l60_decay\"][0]))), \"high_t_ace_p_aced\"] = 1\n",
    "df_player6.loc[(df_player6[\"t_surf\"] == \"Hard\") & (df_player6[\"t_ace%_last\"] > (surface_ace_perc_means3[\"t_ace%\"][0] + (0.3*surface_ace_perc_std[\"t_ace%\"][0]))) & (df_player6[\"p_SOS_adj_aced%_l60_decay\"] > (player_ace_l60_perc_means[\"p_SOS_adj_ace%_l60_decay\"][0] + (0.3*player_ace_l60_perc_std[\"p_SOS_adj_ace%_l60_decay\"][0]))), \"high_t_ace_p_aced\"] = 1\n",
    "df_player6.loc[(df_player6[\"high_t_ace_p_aced\"] != 1), \"high_t_ace_p_aced\"] = 0"
   ]
  },
  {
   "cell_type": "code",
   "execution_count": 246,
   "id": "46714dbc",
   "metadata": {},
   "outputs": [
    {
     "data": {
      "text/plain": [
       "0    21878\n",
       "1     1730\n",
       "Name: high_t_ace_p_aced, dtype: int64"
      ]
     },
     "execution_count": 246,
     "metadata": {},
     "output_type": "execute_result"
    }
   ],
   "source": [
    "df_player6[\"high_t_ace_p_aced\"].value_counts()"
   ]
  },
  {
   "cell_type": "code",
   "execution_count": 247,
   "id": "ff510e2d",
   "metadata": {},
   "outputs": [],
   "source": [
    "#df_player6.to_csv('../data/df_player6.csv', index=False)"
   ]
  },
  {
   "cell_type": "code",
   "execution_count": 248,
   "id": "2608c030",
   "metadata": {},
   "outputs": [],
   "source": [
    "# Numerically encode surface (and handedness, which should have been converted earlier) moving forward\n",
    "df_player6.loc[(df_player6[\"t_surf\"] == \"Hard\"), \"t_surf\"] = 2 #Hard Court\n",
    "df_player6.loc[(df_player6[\"t_surf\"] == \"Clay\"), \"t_surf\"] = 1 #Clay Court\n",
    "df_player6.loc[(df_player6[\"t_surf\"] == \"Carpet\"), \"t_surf\"] = 2 #Hard Court\n",
    "\n",
    "df_player6[\"t_surf\"] = pd.to_numeric(df_player6[\"t_surf\"])"
   ]
  },
  {
   "cell_type": "code",
   "execution_count": 249,
   "id": "b782517d",
   "metadata": {},
   "outputs": [],
   "source": [
    "# Now just drop player ace% per match column so we don't accidentally include in predictions\n",
    "#df_player6 = df_player6.drop([\"p_ace%\"], axis=1)"
   ]
  },
  {
   "cell_type": "code",
   "execution_count": 250,
   "id": "8d54fdf2",
   "metadata": {},
   "outputs": [],
   "source": [
    "#df_player6.info()"
   ]
  },
  {
   "cell_type": "code",
   "execution_count": 255,
   "id": "1b2f1394",
   "metadata": {},
   "outputs": [],
   "source": [
    "# One last thing to sneak in-let's make a Differential version of the implied odds derived from the average closing wagering line (vig-removed)\n",
    "df_player6[\"p_IP_NV_opp\"] = \"\"\n",
    "df_player6[\"p_IP_NV_opp\"] = 100 - df_player6[\"p_IP_NV\"]\n",
    "\n",
    "df_player6[\"p_IP_NV_diff\"] = \"\"\n",
    "df_player6[\"p_IP_NV_diff\"] = df_player6[\"p_IP_NV\"] - df_player6[\"p_IP_NV_opp\"]"
   ]
  },
  {
   "cell_type": "markdown",
   "id": "191769e6",
   "metadata": {},
   "source": [
    "### Save Data for EDA Stage"
   ]
  },
  {
   "cell_type": "code",
   "execution_count": 251,
   "id": "a76ed0c2",
   "metadata": {},
   "outputs": [],
   "source": [
    "# Creates a dataframe containing ranking-related features (and target feature) for dummy and benchmrk model testing.\n",
    "# also contains features necessary for thresholding minimum number of matches played by a player prior to match being predicted on, and \n",
    "# for restricting modeling to 2015 and onward (2012-2014 used to accrue retrospective stats/features)\n",
    "df_player_benchmark = df_player6[[\"p_pts_won%\", \"p_rank\", \"p_log_rank\", \"p_rank_pts\", \"p_opp_rank_diff\", \"p_opp_log_rank_diff\",\"p_opp_rank_pts_diff\", \"p_matches_surf\", \"t_indoor\", \"m_num\", \"tour_wk\"]]"
   ]
  },
  {
   "cell_type": "code",
   "execution_count": 252,
   "id": "9cafdb93",
   "metadata": {},
   "outputs": [],
   "source": [
    "# Saves ranking-related player features (for dummy and benchmark model testing)\n",
    "df_player_benchmark.to_csv('../data/df_player_benchmark_hard.csv', index=False)"
   ]
  },
  {
   "cell_type": "code",
   "execution_count": 256,
   "id": "4d07ece6",
   "metadata": {},
   "outputs": [],
   "source": [
    "# Creates dataframe with all predictive features (and target, plus more granular targets might use later)\n",
    "df_player_all = df_player6[[\"p_pts_won%\", \"p_sv_pts_won%\", \"p_ret_pts_won%\", \"p_ace%\", \"p_aced%\", \"p_bp_save%\", \"p_bp_convert%\", \"t_id\", \"t_date\", \"tour_wk\", \"t_name\", \"t_country\", \"t_indoor\", \"t_alt\", \"t_ace%_last\", \"t_lvl\", \"t_draw_size\", \"t_rd_num\", \"m_num\", \"m_best_of\", \"m_time(m)\", \"m_tot_pts\", \"p_id\", \"p_name\", \"p_rank\", \"p_log_rank\", \"p_rank_pts\", \"p_country\", \"p_ent\", \"p_hd\", \"p_ht\", \"p_age\", \"p_matches_surf\", \"p_H2H_w\", \"p_H2H_pts_won%\", \"p_pts_won%_l60_decay\", \"p_pts_won%_l60_decay_IO\", \"p_pts_won%_l10\", \"p_SOS_adj_pts_won%_l60_decay\", \"p_SOS_adj_pts_won%_l60_decay_IO\", \"p_SOS_adj_pts_won%_l60_decay_IO_weighted\", \"p_SOS_adj_pts_won%_l10\", \"p_sv_pts_won%_l60_decay\", \"p_sv_pts_won%_l10\", \"p_SOS_adj_sv_pts_won%_l60_decay\", \"p_SOS_adj_sv_pts_won%_l10\", \"p_ret_pts_won%_l60_decay\", \"p_ret_pts_won%_l10\", \"p_SOS_adj_ret_pts_won%_l60_decay\", \"p_SOS_adj_ret_pts_won%_l10\", \"p_ace%_l60_decay\", \"p_ace%_l10\", \"p_SOS_adj_ace%_l60_decay\", \"p_SOS_adj_ace%_l10\", \"p_aced%_l60_decay\", \"p_aced%_l10\", \"p_SOS_adj_aced%_l60_decay\", \"p_SOS_adj_aced%_l10\", \"p_bp_save%_l60\", \"p_bp_save%_l10\", \"p_SOS_adj_bp_save%_l60\", \"p_SOS_adj_bp_save%_l10\", \"p_bp_convert%_l60\", \"p_bp_convert%_l10\", \"p_SOS_adj_bp_convert%_l60\", \"p_SOS_adj_bp_convert%_l10\", \"p_pts_won%_std_l60_decay\",'p_sv_pts_won%_std_l60_decay','p_ret_pts_won%_std_l60_decay', \"p_m_time_last\", \"p_tot_time_l6\", \"p_tot_time_l6_decay\", \"p_tot_pts_last\", \"p_tot_pts_l6\", \"p_tot_pts_l6_decay\", \"p_stamina_adj_fatigue\", \"p_stamina_adj_fatigue_decay\", \"high_t_ace_p_ace\", \"high_t_ace_p_aced\", \"p_opp_rank_diff\", \"p_opp_log_rank_diff\", \"p_opp_rank_pts_diff\", \"p_ent_diff\", \"p_opp_ht_diff\", \"p_opp_age_diff\", \"p_L_opp_R\", \"p_HCA_opp_N\", \"p_pts_won%_l60_decay_diff\", \"p_pts_won%_l60_decay_IO_diff\", \"p_SOS_adj_pts_won%_l60_decay_diff\", \"p_SOS_adj_pts_won%_l60_decay_IO_diff\", \"p_SOS_adj_pts_won%_l60_decay_IO_weighted_diff\", \"p_pts_won%_l10_diff\", \"p_SOS_adj_pts_won%_l10_diff\", \"p_sv_pts_won%_l60_decay_diff\", \"p_SOS_adj_sv_pts_won%_l60_decay_diff\", \"p_sv_pts_won%_l10_diff\", \"p_SOS_adj_sv_pts_won%_l10_diff\", \"p_ret_pts_won%_l60_decay_diff\", \"p_SOS_adj_ret_pts_won%_l60_decay_diff\", \"p_ret_pts_won%_l10_diff\", \"p_SOS_adj_ret_pts_won%_l10_diff\", \"p_sv_opp_ret_pts_won%_l60_decay_diff\", \"p_SOS_adj_sv_opp_ret_pts_won%_l60_decay_diff\", \"p_sv_opp_ret_pts_won%_l10_diff\", \"p_SOS_adj_sv_opp_ret_pts_won%_l10_diff\", \"p_ret_opp_sv_pts_won%_l60_decay_diff\", \"p_SOS_adj_ret_opp_sv_pts_won%_l60_decay_diff\", \"p_ret_opp_sv_pts_won%_l10_diff\", \"p_SOS_adj_ret_opp_sv_pts_won%_l10_diff\", \"p_ace%_l60_decay_diff\", \"p_SOS_adj_ace%_l60_decay_diff\", \"p_ace%_l10_diff\", \"p_SOS_adj_ace%_l10_diff\", \"p_aced%_l60_decay_diff\", \"p_SOS_adj_aced%_l60_decay_diff\", \"p_aced%_l10_diff\", \"p_SOS_adj_aced%_l10_diff\", \"p_ace%_opp_aced%_l60_decay_diff\", \"p_SOS_adj_ace%_opp_aced%_l60_decay_diff\", \"p_ace%_opp_aced%_l10_diff\", \"p_SOS_adj_ace%_opp_aced%_l10_diff\", \"p_aced%_opp_ace%_l60_decay_diff\", \"p_SOS_adj_aced%_opp_ace%_l60_decay_diff\", \"p_aced%_opp_ace%_l10_diff\", \"p_SOS_adj_aced%_opp_ace%_l10_diff\", \"p_bp_save%_l60_diff\", \"p_SOS_adj_bp_save%_l60_diff\", \"p_bp_save%_l10_diff\", \"p_SOS_adj_bp_save%_l10_diff\", \"p_bp_convert%_l60_diff\", \"p_SOS_adj_bp_convert%_l60_diff\", \"p_bp_convert%_l10_diff\", \"p_SOS_adj_bp_convert%_l10_diff\", \"p_bp_convert%_opp_bp_save%_l60_diff\", \"p_SOS_adj_bp_convert%_opp_bp_save%_l60_diff\", \"p_bp_convert%_opp_bp_save%_l10_diff\", \"p_SOS_adj_bp_convert%_opp_bp_save%_l10_diff\", \"p_bp_save%_opp_bp_convert%_l60_diff\", \"p_SOS_adj_bp_save%_opp_bp_convert%_l60_diff\", \"p_bp_save%_opp_bp_convert%_l10_diff\", \"p_SOS_adj_bp_save%_opp_bp_convert%_l10_diff\", \"p_pts_won%_std_l60_decay_diff\", \"p_sv_pts_won%_std_l60_decay_diff\", \"p_ret_pts_won%_std_l60_decay_diff\", \"p_m_time_last_diff\", \"p_tot_time_l6_diff\", \"p_tot_time_l6_decay_diff\", \"p_tot_pts_last_diff\", \"p_tot_pts_l6_diff\", \"p_tot_pts_l6_decay_diff\", \"p_matches_surf_diff\", \"p_stam_adj_fatigue_diff\", \"p_stam_adj_fatigue_decay_diff\",  \"p_H2H_diff\", \"p_H2H_pts_won%_diff\", \"p_IP_NV\", \"p_IP_NV_diff\", \"m_outcome\"]]"
   ]
  },
  {
   "cell_type": "code",
   "execution_count": 257,
   "id": "acda3e77",
   "metadata": {},
   "outputs": [],
   "source": [
    "# Saves dataframe with all predictive features - clay court time range\n",
    "df_player_all.to_csv('../data/df_player_all_hard.csv', index=False)"
   ]
  },
  {
   "cell_type": "code",
   "execution_count": null,
   "id": "b0b2d418",
   "metadata": {},
   "outputs": [],
   "source": []
  }
 ],
 "metadata": {
  "kernelspec": {
   "display_name": "Python 3",
   "language": "python",
   "name": "python3"
  },
  "language_info": {
   "codemirror_mode": {
    "name": "ipython",
    "version": 3
   },
   "file_extension": ".py",
   "mimetype": "text/x-python",
   "name": "python",
   "nbconvert_exporter": "python",
   "pygments_lexer": "ipython3",
   "version": "3.8.8"
  }
 },
 "nbformat": 4,
 "nbformat_minor": 5
}
