{
 "cells": [
  {
   "cell_type": "markdown",
   "id": "364156ba",
   "metadata": {},
   "source": [
    "## Introduction to Detailed Modeling Analyses For Reporting - Including Implied Probability"
   ]
  },
  {
   "cell_type": "markdown",
   "id": "10ac0ff6",
   "metadata": {},
   "source": [
    "In this workbook, the figures for the Final Report were generated. For some of these figures, the best model (workbook 5 versions, per surface) was iterated with systematic parameter tweaks as needed for these figures and the results were manually imported to this notebook. When these analyses were conducted in notebooks other than workbook 5, this is noted in the text fields containing the manually inputed data. These analyses are:\n",
    "* Analysis of Prediction Error (RMSE) by Previous Matches Threshold (Hard Courts)\n",
    "* Analysis of Prediction Error (RMSE) by Previous Matches Threshold (Clay Courts)\n",
    "* Analysis of Prediction Error (RMSE) by Range of Years Inclusion in Model (Hard Courts)\n",
    "* Analysis of Prediction Error (RMSE) by Range of Years Inclusion in Model (Clay Courts)\n",
    "* Feature and Adjustment Type Subtraction from Best Model Analysis (Hard Court)\n",
    "* Hard Court Sample Number Randomly Reduced to Same Number as Clay Court Samples\n",
    "* Impact of Adding Implied Odds derived from Wagering Lines as Feature(s) (Vig Removed)"
   ]
  },
  {
   "cell_type": "code",
   "execution_count": 1,
   "id": "c6da232d",
   "metadata": {},
   "outputs": [],
   "source": [
    "import pandas as pd\n",
    "import numpy as np\n",
    "import os\n",
    "import matplotlib.pyplot as plt\n",
    "import seaborn as sns\n"
   ]
  },
  {
   "cell_type": "code",
   "execution_count": null,
   "id": "719e3bc1",
   "metadata": {},
   "outputs": [],
   "source": [
    "df = pd.read_csv('../data/df_player_all_2012to2019.csv')\n",
    "df.head()"
   ]
  },
  {
   "cell_type": "code",
   "execution_count": null,
   "id": "af7613ef",
   "metadata": {},
   "outputs": [],
   "source": [
    "df.info()"
   ]
  },
  {
   "cell_type": "code",
   "execution_count": null,
   "id": "5a32f702",
   "metadata": {},
   "outputs": [],
   "source": [
    "#df_filter = df[~df['tour_wk'].str.contains(\"2012\")] \n",
    "#df_filter = df_filter[~df_filter['tour_wk'].str.contains(\"2013\")]\n",
    "#df_filter = df_filter[~df_filter['tour_wk'].str.contains(\"2014\")]\n",
    "#df_filter = df_filter[~df_filter['tour_wk'].str.contains(\"2015\")]\n",
    "#df_filter = df_filter[~df_filter['tour_wk'].str.contains(\"2016\")]\n",
    "#df_filter = df_filter[~df_filter['tour_wk'].str.contains(\"2017\")]\n",
    "#df_filter = df_filter[~df_filter['tour_wk'].str.contains(\"2018\")]\n",
    "#df_filter = df_filter[~df_filter['tour_wk'].str.contains(\"2019\")]"
   ]
  },
  {
   "cell_type": "code",
   "execution_count": null,
   "id": "af0aeff6",
   "metadata": {},
   "outputs": [],
   "source": [
    "# Filter down to only matches played on hard courts\n",
    "#df_filter2 = df_filter.loc[(df_filter[\"t_surf\"] == 2)]\n",
    "#df_filter2 = df_filter.loc[(df_filter[\"t_surf\"] == 2) & (df_filter[\"p_matches_surf\"] > 50)]"
   ]
  },
  {
   "cell_type": "code",
   "execution_count": null,
   "id": "69964ce8",
   "metadata": {},
   "outputs": [],
   "source": [
    "# Now also will remove BOTH players from individual matches remaining in the surface-specific sample already filtered by year range\n",
    "# where one or both players has played N or fewer matches prior to the one to be predicted on. \n",
    "df_low = df.loc[df['p_matches_surf'] <= 20, 'm_num']\n",
    "df_filter = df[~df['m_num'].isin(df_low)]"
   ]
  },
  {
   "cell_type": "code",
   "execution_count": null,
   "id": "50ebdde8",
   "metadata": {},
   "outputs": [],
   "source": [
    "ace_pct_by_surf = df_filter.groupby(['t_surf','t_id'], as_index=False)['p_ace%'].mean()\n",
    "ace_pct_by_surf"
   ]
  },
  {
   "cell_type": "code",
   "execution_count": null,
   "id": "d9782a29",
   "metadata": {},
   "outputs": [],
   "source": [
    "g = sns.barplot(x=\"t_surf\",y=\"p_ace%\",data=ace_pct_by_surf, palette = [\"red\", \"blue\"])\n",
    "g.set_ylabel(\"ace % by tournament (mean + se)\")\n",
    "g.set(xticklabels=[\"Clay\", \"Hard\"])\n",
    "g.set_xlabel(\"Surface\")"
   ]
  },
  {
   "cell_type": "code",
   "execution_count": null,
   "id": "4736061c",
   "metadata": {},
   "outputs": [],
   "source": [
    "aced_pct_by_surf = df_filter.groupby(['t_surf','t_id'], as_index=False)['p_aced%'].mean()\n",
    "aced_pct_by_surf"
   ]
  },
  {
   "cell_type": "code",
   "execution_count": null,
   "id": "4a2e072c",
   "metadata": {},
   "outputs": [],
   "source": [
    "g = sns.barplot(x=\"t_surf\",y=\"p_aced%\",data=aced_pct_by_surf, palette = [\"red\", \"blue\"])\n",
    "g.set_ylabel(\"aced % by tournament (mean + se)\")\n",
    "g.set(xticklabels=[\"Clay\", \"Hard\"])\n",
    "g.set_xlabel(\"Surface\")"
   ]
  },
  {
   "cell_type": "code",
   "execution_count": null,
   "id": "73075746",
   "metadata": {},
   "outputs": [],
   "source": [
    "svpts_won_pct_by_surf = df_filter.groupby(['t_surf','t_id'], as_index=False)['p_sv_pts_won%'].mean()\n",
    "svpts_won_pct_by_surf"
   ]
  },
  {
   "cell_type": "code",
   "execution_count": null,
   "id": "7f71a607",
   "metadata": {},
   "outputs": [],
   "source": [
    "g = sns.barplot(x=\"t_surf\",y=\"p_sv_pts_won%\",data=svpts_won_pct_by_surf, palette = [\"red\", \"blue\"])\n",
    "g.set_ylabel(\"serve pts won % by tournament (mean + se)\")\n",
    "g.set(xticklabels=[\"Clay\", \"Hard\"])\n",
    "g.set_xlabel(\"Surface\")\n",
    "g.set_ylim(50,70)\n",
    "#g.set_xlimit([30, 70])"
   ]
  },
  {
   "cell_type": "code",
   "execution_count": null,
   "id": "b43c35ce",
   "metadata": {},
   "outputs": [],
   "source": [
    "retpts_won_pct_by_surf = df_filter.groupby(['t_surf','t_id'], as_index=False)['p_ret_pts_won%'].mean()\n",
    "retpts_won_pct_by_surf"
   ]
  },
  {
   "cell_type": "code",
   "execution_count": null,
   "id": "07cfa184",
   "metadata": {},
   "outputs": [],
   "source": [
    "g = sns.barplot(x=\"t_surf\",y=\"p_ret_pts_won%\",data=retpts_won_pct_by_surf, palette = [\"red\", \"blue\"])\n",
    "g.set_ylabel(\"return pts won % by tournament (mean + se)\")\n",
    "g.set(xticklabels=[\"Clay\", \"Hard\"])\n",
    "g.set_xlabel(\"Surface\")\n",
    "g.set_ylim(30,40)\n",
    "#g.set_xlimit([30, 70])"
   ]
  },
  {
   "cell_type": "code",
   "execution_count": null,
   "id": "36fbcee8",
   "metadata": {},
   "outputs": [],
   "source": [
    "bpconvert_pct_by_surf = df_filter.groupby(['t_surf','t_id'], as_index=False)['p_bp_convert%'].mean()\n",
    "bpconvert_pct_by_surf"
   ]
  },
  {
   "cell_type": "code",
   "execution_count": null,
   "id": "91c318a6",
   "metadata": {},
   "outputs": [],
   "source": [
    "g = sns.barplot(x=\"t_surf\",y=\"p_bp_convert%\",data=bpconvert_pct_by_surf, palette = [\"red\", \"blue\"])\n",
    "g.set_ylabel(\"break point convert % by tournament (mean + se)\")\n",
    "g.set(xticklabels=[\"Clay\", \"Hard\"])\n",
    "g.set_xlabel(\"Surface\")\n",
    "g.set_ylim(20,45)\n",
    "#g.set_xlimit([30, 70])"
   ]
  },
  {
   "cell_type": "code",
   "execution_count": null,
   "id": "a216a637",
   "metadata": {},
   "outputs": [],
   "source": [
    "df_filter2 = df_filter[df_filter['t_lvl'] == 4]"
   ]
  },
  {
   "cell_type": "code",
   "execution_count": null,
   "id": "064e90e9",
   "metadata": {},
   "outputs": [],
   "source": [
    "match_length_by_surf = df_filter2.groupby(['t_surf','t_id'], as_index=False)['m_time(m)'].mean()\n",
    "match_length_by_surf"
   ]
  },
  {
   "cell_type": "code",
   "execution_count": null,
   "id": "943ffd6a",
   "metadata": {},
   "outputs": [],
   "source": [
    "g = sns.barplot(x=\"t_surf\",y=\"m_time(m)\",data=match_length_by_surf, palette = [\"red\", \"blue\"])\n",
    "g.set_ylabel(\"match length in min (mean + se)\")\n",
    "g.set(xticklabels=[\"Clay\", \"Hard\"])\n",
    "g.set_xlabel(\"Surface\")\n",
    "g.set_ylim(140,170)\n",
    "#g.set_xlimit([30, 70])"
   ]
  },
  {
   "cell_type": "code",
   "execution_count": null,
   "id": "f801731c",
   "metadata": {},
   "outputs": [],
   "source": [
    "df_filter3 = df_filter[df_filter['t_lvl'] != 4]"
   ]
  },
  {
   "cell_type": "code",
   "execution_count": null,
   "id": "ea3cdc4c",
   "metadata": {},
   "outputs": [],
   "source": [
    "match_length_by_surf = df_filter3.groupby(['t_surf','t_id'], as_index=False)['m_time(m)'].mean()\n",
    "match_length_by_surf"
   ]
  },
  {
   "cell_type": "code",
   "execution_count": null,
   "id": "ed90e936",
   "metadata": {},
   "outputs": [],
   "source": [
    "g = sns.barplot(x=\"t_surf\",y=\"m_time(m)\",data=match_length_by_surf, palette = [\"red\", \"blue\"])\n",
    "g.set_ylabel(\"match length in min (mean + se)\")\n",
    "g.set(xticklabels=[\"Clay\", \"Hard\"])\n",
    "g.set_xlabel(\"Surface\")\n",
    "g.set_ylim(80,110)\n",
    "#g.set_xlimit([30, 70])"
   ]
  },
  {
   "cell_type": "markdown",
   "id": "88a3c2ad",
   "metadata": {},
   "source": [
    "### Heatmapping for Hard Court"
   ]
  },
  {
   "cell_type": "code",
   "execution_count": null,
   "id": "436d4bf2",
   "metadata": {},
   "outputs": [],
   "source": [
    "df_filter_hard = df_filter.loc[(df_filter[\"t_surf\"] == 2)]"
   ]
  },
  {
   "cell_type": "code",
   "execution_count": null,
   "id": "fef98b64",
   "metadata": {},
   "outputs": [],
   "source": [
    "df_filter_diff1_hard = df_filter_hard[[\"p_pts_won%\", \"p_SOS_adj_pts_won%_l60_decay_diff\", \"p_SOS_adj_pts_won%_l10_diff\", \"p_opp_log_rank_diff\", \"p_opp_rank_pts_diff\", \"p_SOS_adj_sv_pts_won%_l60_decay_diff\", \"p_SOS_adj_sv_opp_ret_pts_won%_l60_decay_diff\", \"p_SOS_adj_ret_opp_sv_pts_won%_l60_decay_diff\", \"p_SOS_adj_ret_pts_won%_l60_decay_diff\", \"p_H2H_pts_won%_diff\", \"p_SOS_adj_bp_convert%_l60_diff\", \"p_matches_diff\", \"p_stam_adj_fatigue_decay_diff\", \"p_SOS_adj_aced%_l60_decay_diff\"]]"
   ]
  },
  {
   "cell_type": "code",
   "execution_count": null,
   "id": "7c8993a4",
   "metadata": {},
   "outputs": [],
   "source": [
    "#Heatmap of correlations for pts_won% vs \"differential features\"\n",
    "plt.subplots(figsize=(20,16))\n",
    "sns.heatmap(df_filter_diff1_hard.corr(), annot = True);"
   ]
  },
  {
   "cell_type": "markdown",
   "id": "661002ee",
   "metadata": {},
   "source": [
    "### Heatmapping For Same Set of Features on Clay Courts"
   ]
  },
  {
   "cell_type": "code",
   "execution_count": null,
   "id": "6ed60a2b",
   "metadata": {},
   "outputs": [],
   "source": [
    "df_filter_clay = df_filter.loc[(df_filter[\"t_surf\"] == 1)]"
   ]
  },
  {
   "cell_type": "code",
   "execution_count": null,
   "id": "0596e78b",
   "metadata": {},
   "outputs": [],
   "source": [
    "df_filter_diff1_clay = df_filter_clay[[\"p_pts_won%\", \"p_SOS_adj_pts_won%_l60_decay_diff\", \"p_SOS_adj_pts_won%_l10_diff\", \"p_opp_log_rank_diff\", \"p_opp_rank_pts_diff\", \"p_SOS_adj_sv_pts_won%_l60_decay_diff\", \"p_SOS_adj_sv_opp_ret_pts_won%_l60_decay_diff\", \"p_SOS_adj_ret_opp_sv_pts_won%_l60_decay_diff\", \"p_SOS_adj_ret_pts_won%_l60_decay_diff\", \"p_H2H_pts_won%_diff\", \"p_SOS_adj_bp_convert%_l60_diff\", \"p_matches_diff\", \"p_stam_adj_fatigue_decay_diff\", \"p_SOS_adj_aced%_l60_decay_diff\"]]"
   ]
  },
  {
   "cell_type": "code",
   "execution_count": null,
   "id": "ab519ffd",
   "metadata": {},
   "outputs": [],
   "source": [
    "#Heatmap of correlations for pts_won% vs \"differential features\"\n",
    "plt.subplots(figsize=(20,16))\n",
    "sns.heatmap(df_filter_diff1_clay.corr(), annot = True);"
   ]
  },
  {
   "cell_type": "markdown",
   "id": "b8afb2e0",
   "metadata": {},
   "source": [
    "### Analysis of Prediction Error (RMSE) by Previous Matches Threshold (Hard Courts)"
   ]
  },
  {
   "cell_type": "markdown",
   "id": "94e6f525",
   "metadata": {},
   "source": [
    "Previous Matches Threshold For Both Players in a Given Match/RMSE (Training w SD, Testing) with Best Model (Gradient Boosting and Tuned Hyperparameters) (2015-2019 included in modeling; 2012-2014 additionaly included for stats accrual/feature generation in steps previous to modeling)\n",
    "\n",
    "0/(5.572896995199211, 0.07537191042172763), 5.503564617566578 ((11148, 140), (3716, 140))\n",
    "10/ (5.47066268667632, 0.0903831144314058), 5.425121843241944 ((9264, 140), (3088, 140))\n",
    "20/(5.401037506296505, 0.03880163243608201), 5.384631822640838 ((8038, 140), (2680, 140))\n",
    "30/ (5.412482602285327, 0.11308172803648327), 5.381469528960361 ((7021, 140), (2341, 140))\n",
    "40/ (5.337788420713629, 0.09529479788248582), 5.453658635178221  ((6217, 140), (2073, 140))\n",
    "50/ (5.342236227645345, 0.12949718655406361), 5.302758933464151  ((5463, 140), (1821, 140))\n",
    "75/ (5.382579604913876, 0.0653760495177962), 5.284068249654131 ((3774, 140), (1258, 140))\n",
    "100/ (5.171615391573394, 0.08894540982934554), 5.603784039344987 ((2362, 140), (788, 140))\n",
    "150/ (5.46793550776071, 0.13573433281558558), 5.421014352141682 ((874, 140), (292, 140))\n",
    "200/ (5.407548339971759, 0.5205818716235097), 5.523226209632757 ((255, 140), (85, 140))\n",
    "\n",
    "Hyperparameters at threshold of 20 prior matches per player (selected as best threshold based on balance of prediction quality and generalizability)\n",
    "\n",
    "{'gradientboostingregressor__learning_rate': 0.06,\n",
    " 'gradientboostingregressor__max_depth': 3,\n",
    " 'gradientboostingregressor__max_features': 6,\n",
    " 'gradientboostingregressor__n_estimators': 100,\n",
    " 'simpleimputer__strategy': 'median',\n",
    " 'standardscaler': StandardScaler()}"
   ]
  },
  {
   "cell_type": "code",
   "execution_count": null,
   "id": "f809ed73",
   "metadata": {},
   "outputs": [],
   "source": [
    "data = [[0, 5.572896995199211, 0.07537191042172763, 5.503564617566578], [10, 5.47066268667632, 0.0903831144314058, 5.425121843241944], [20, 5.401037506296505, 0.03880163243608201, 5.384631822640838], [30, 5.412482602285327, 0.11308172803648327, 5.381469528960361], [40, 5.337788420713629, 0.09529479788248582, 5.453658635178221], [50, 5.342236227645345, 0.12949718655406361, 5.302758933464151], [75, 5.382579604913876, 0.0653760495177962, 5.284068249654131], [100, 5.171615391573394, 0.08894540982934554, 5.603784039344987], [150, 5.46793550776071, 0.13573433281558558, 5.421014352141682]]\n",
    "df = pd.DataFrame(data, columns=[\"Match_Threshold\", \"Training_Error\", \"Training_SD\", \"Testing_Error\"])"
   ]
  },
  {
   "cell_type": "code",
   "execution_count": null,
   "id": "2a0e9742",
   "metadata": {},
   "outputs": [],
   "source": [
    "df"
   ]
  },
  {
   "cell_type": "code",
   "execution_count": null,
   "id": "9effadfd",
   "metadata": {},
   "outputs": [],
   "source": [
    "g = plt.errorbar(df[\"Match_Threshold\"], df[\"Training_Error\"], yerr= df[\"Training_SD\"], marker='o', color='b')\n",
    "plt.ylim([5,6.2])\n",
    "plt.show"
   ]
  },
  {
   "cell_type": "markdown",
   "id": "49f8be5d",
   "metadata": {},
   "source": [
    "### Analysis of Prediction Error (RMSE) by Previous Matches Threshold (Clay Courts)"
   ]
  },
  {
   "cell_type": "markdown",
   "id": "005b15c8",
   "metadata": {},
   "source": [
    "Previous Matches Threshold For Both Players in a Given Match/RMSE (Training w SD, Testing) with Best Model (Gradient Boosting and Tuned Hyperparameters)\n",
    "\n",
    "0/  (5.875794723082476, 0.0692377983060058), 6.043650635495902  ((9546, 140), (3182, 140))\n",
    "10/  (5.95827843527254, 0.031871500152123464), 5.699394875875272  ((6949, 140), (2317, 140))\n",
    "20/  (5.835905096159198, 0.08854267065367404), 5.871285620416703 (5410, 140), (1804, 140))\n",
    "30/  (5.878805630700143, 0.12300650916065811), 5.764987624738221  ((4225, 140), (1409, 140))\n",
    "40/  (5.827961300073005, 0.19734559349345215), 5.811778965218358  ((3348, 140), (1116, 140))\n",
    "50/  (5.666070865533416, 0.1400000975592523), 5.913650163618706  ((2676, 140), (892, 140))\n",
    "75/  (5.86220185933426, 0.23704178892927), 5.506725983480005  ((1485, 140), (495, 140))\n",
    "100/ (5.874200166450832, 0.2776115828277767), 6.146239026275799  ((739, 140), (247, 140))\n",
    "150/ (5.746233157233696, 1.0435113860177314), 5.672551760231102  ((144, 140), (48, 140))\n",
    "200/ (3.9539313405710304, 0.9829262221038189), 8.545000409681483  ((16, 140), (6, 140))"
   ]
  },
  {
   "cell_type": "code",
   "execution_count": null,
   "id": "5c55a679",
   "metadata": {},
   "outputs": [],
   "source": [
    "data = [[0, 5.875794723082476, 0.0692377983060058, 6.043650635495902], [10, 5.95827843527254, 0.031871500152123464, 5.699394875875272], [20, 5.835905096159198, 0.08854267065367404, 5.871285620416703], [30, 5.878805630700143, 0.12300650916065811, 5.764987624738221], [40, 5.827961300073005, 0.19734559349345215, 5.811778965218358], [50, 5.666070865533416, 0.1400000975592523, 5.913650163618706], [75, 5.86220185933426, 0.23704178892927, 5.506725983480005], [100, 5.874200166450832, 0.2776115828277767, 6.146239026275799], [150, 5.746233157233696, 1.0435113860177314, 5.672551760231102]]\n",
    "df = pd.DataFrame(data, columns=[\"Match_Threshold\", \"Training_Error\", \"Training_SD\", \"Testing_Error\"])"
   ]
  },
  {
   "cell_type": "code",
   "execution_count": null,
   "id": "3e6502e6",
   "metadata": {},
   "outputs": [],
   "source": [
    "g = plt.errorbar(df[\"Match_Threshold\"], df[\"Training_Error\"], yerr= df[\"Training_SD\"], marker='o', color='maroon')\n",
    "plt.ylim([5,6.2])\n",
    "plt.show"
   ]
  },
  {
   "cell_type": "markdown",
   "id": "3e90d649",
   "metadata": {},
   "source": [
    "### Analysis of Prediction Error (RMSE) by Range of Years Inclusion in Model (Hard Courts)"
   ]
  },
  {
   "cell_type": "markdown",
   "id": "b980dae9",
   "metadata": {},
   "source": [
    "2010-2019: (5.5399418465633605, 0.09542793674854452), 5.5062585349445845 ((16222, 140), (5408, 140))\n",
    "2011-2019: (5.481950008565629, 0.07106487125501883), 5.540773335445054  ((14752, 140), (4918, 140))\n",
    "2012-2019: (5.482158123251954, 0.05099548007800321), 5.392225172616607  ((13174, 140), (4392, 140))\n",
    "2013-2019: (5.446778817455109, 0.06465423122296349), 5.460722799545343  ((11557, 140), (3853,140))\n",
    "2014-2019: (5.442427895299181, 0.09079914217616633), 5.48688470608975  ((9445, 140), (3149, 140))\n",
    "2015-2019: (5.401037506296505, 0.03880163243608201), 5.384631822640838  ((8038, 140), (2680, 140))\n",
    "2016-2019: (5.463997133309649, 0.1430285550963232), 5.411374850126342   ((6436, 140), (2146, 140))\n",
    "2017-2019: (5.505129081148657, 0.11182200560980689), 5.408859497025746   ((4825, 140), (1609, 140))\n",
    "2018-2019: (5.513772649908174, 0.23298634414301556), 5.403231367052022   ((3196, 140), (1066, 140))\n",
    "2019-2019: (5.449378124433827, 0.1618681215191537), 5.608999830650029   ((1605, 140), (535, 140))\n",
    "*Note: all model inclusion year ranges had at least 2 years of runway. To accomplish, for 2010, 2011, 2012 and 2013, the 2008-2019 data set was used. The main analysis dat set (2012-2019) was used for years 2015 and beyond. \n",
    "\n",
    "Best Hyperparameters at threshold of 20 prior matches for 2015-2019:\n",
    "\n",
    "{'gradientboostingregressor__learning_rate': 0.06,\n",
    " 'gradientboostingregressor__max_depth': 3,\n",
    " 'gradientboostingregressor__max_features': 6,\n",
    " 'gradientboostingregressor__n_estimators': 100,\n",
    " 'simpleimputer__strategy': 'median',\n",
    " 'standardscaler': StandardScaler()}"
   ]
  },
  {
   "cell_type": "code",
   "execution_count": null,
   "id": "233dc74c",
   "metadata": {},
   "outputs": [],
   "source": [
    "data = [['2010', 5.5399418465633605, 0.09542793674854452, 5.5062585349445845], ['2011', 5.481950008565629, 0.07106487125501883, 5.540773335445054], ['2012', 5.482158123251954, 0.05099548007800321, 5.392225172616607], ['2013', 5.446778817455109, 0.06465423122296349, 5.460722799545343], ['2014', 5.442427895299181, 0.09079914217616633, 5.48688470608975], ['2015', 5.401037506296505, 0.03880163243608201, 5.384631822640838], ['2016', 5.463997133309649, 0.1430285550963232, 5.411374850126342], ['2017', 5.505129081148657, 0.11182200560980689, 5.408859497025746], ['2018', 5.513772649908174, 0.23298634414301556, 5.403231367052022], ['2019', 5.449378124433827, 0.1618681215191537, 5.608999830650029]]\n",
    "df = pd.DataFrame(data, columns=[\"First_Year_In_Model\", \"Training_Error\", \"Training_SD\", \"Testing_Error\"])"
   ]
  },
  {
   "cell_type": "code",
   "execution_count": null,
   "id": "fbd53b7f",
   "metadata": {},
   "outputs": [],
   "source": [
    "g = plt.errorbar(df[\"First_Year_In_Model\"], df[\"Training_Error\"], yerr= df[\"Training_SD\"], marker='o', color='b')\n",
    "plt.ylim([5,6.2])\n",
    "plt.show"
   ]
  },
  {
   "cell_type": "markdown",
   "id": "95cc2577",
   "metadata": {},
   "source": [
    "### Analysis of Prediction Error (RMSE) by Range of Years Inclusion in Model (Clay Courts)"
   ]
  },
  {
   "cell_type": "markdown",
   "id": "3e6042eb",
   "metadata": {},
   "source": [
    "2010-2019: (5.886189482298855, 0.05487319429139568), 5.923532513789704 ((6684, 140), (2228, 140))\n",
    "2011-2019: (5.814837800664519, 0.07960850082850286), 5.922373049235395  ((5926, 140), (1976, 140))\n",
    "2012-2019: (5.835905096159198, 0.08854267065367404), 5.871285620416703  ((5410, 140), (1804, 140))\n",
    "2013-2019: (5.794927364665647, 0.10188077435587468), 5.959330006259688  ((4836, 140), (161,140))\n",
    "2014-2019: (5.718860274150364, 0.151110269787904), 6.066689313607095 ((4104, 140), (1368, 140))\n",
    "2015-2019: (5.792593702655457, 0.14580019024856253), 5.704183911110822  ((3397, 140), (1133, 140))\n",
    "2016-2019: (5.747128234471912, 0.13755983523484003), 5.883956258018099  ((2680, 140), (894, 140))\n",
    "2017-2019: (5.830578327819189, 0.21410670705543533), 5.898881992618616  ((1993, 140), (665, 140))\n",
    "2018-2019: (5.787422869642126, 0.2257257103340767), 5.89567784130937  ((1269, 140), (423, 140))\n",
    "2019-2019: (5.9015331073665465, 0.17767815600716416), 5.630489288814199  ((642, 140), (214, 140))\n",
    "*Note: all model inclusion year ranges had at least 2 years of runway. To accomplish, for 2010-2019, the 2008-2019 data set was used. "
   ]
  },
  {
   "cell_type": "code",
   "execution_count": null,
   "id": "263cee53",
   "metadata": {},
   "outputs": [],
   "source": [
    "data = [['2010', 5.886189482298855, 0.05487319429139568, 5.923532513789704], ['2011',5.814837800664519, 0.07960850082850286, 5.922373049235395], ['2012', 5.835905096159198, 0.08854267065367404, 5.871285620416703], ['2013', 5.794927364665647, 0.10188077435587468, 5.959330006259688], ['2014', 5.718860274150364, 0.151110269787904, 6.066689313607095], ['2015', 5.792593702655457, 0.14580019024856253, 5.704183911110822], ['2016', 5.747128234471912, 0.13755983523484003, 5.883956258018099], ['2017', 5.830578327819189, 0.21410670705543533, 5.898881992618616], ['2018', 5.787422869642126, 0.2257257103340767, 5.89567784130937], ['2019', 5.9015331073665465, 0.17767815600716416, 5.630489288814199]]\n",
    "df = pd.DataFrame(data, columns=[\"First_Year_In_Model\", \"Training_Error\", \"Training_SD\", \"Testing_Error\"])"
   ]
  },
  {
   "cell_type": "code",
   "execution_count": null,
   "id": "71c4aa04",
   "metadata": {},
   "outputs": [],
   "source": [
    "g = plt.errorbar(df[\"First_Year_In_Model\"], df[\"Training_Error\"], yerr= df[\"Training_SD\"], marker='o', color='maroon')\n",
    "plt.ylim([5,6.2])\n",
    "plt.show"
   ]
  },
  {
   "cell_type": "markdown",
   "id": "4dfc7b9c",
   "metadata": {},
   "source": [
    "### Feature and Adjustment Type Subtraction from Best Model Analysis (Hard Court)\n",
    "Idea here is to subtract out a subset of features and techniques included in the overall model and evaluate the impact on prediction quality. To start, we will do this just for hard court matches. This analysis was conducted in the notebook 07_ModelingHardSurface-FeatureSubstractionAnalysisForReporting"
   ]
  },
  {
   "cell_type": "markdown",
   "id": "2e4189d8",
   "metadata": {},
   "source": [
    "Feature or Class of Features Removed from Overall Best Model/Training Set Error(SD)/Test Set Error\n",
    "Hyperparameter-Optimizied Gradient Boosting Model, 2015-2019 included in model (2012-2014 data runway), 20 match threshold per player in a given match\n",
    "\n",
    "Full model: (5.401037506296505, 0.03880163243608201), 5.384631822640838\n",
    "No Short-Term Performance Features: (5.407210049694717, 0.04202916314204297), 5.377417973953793\n",
    "No Player Head-to-Head Past Results Features: (5.408339774982705, 0.04252139807636457), 5.377529968895667 \n",
    "\n",
    "No Court Speed Proxy Features: (5.4110149902004885, 0.03671822782926413), 5.37771484194196\n",
    "No Stamina & Fatigue-Related Features: (5.41319234692173, 0.03718808060024765), 5.377951070254706\n",
    "No SOS Adjustment to Performance Features: (5.428369874780837, 0.039469181678415836), 5.386490495568488\n",
    "\n",
    "\n",
    "No Rankings-Related Features: (5.435674819791214, 0.04138319111070031), 5.40633748879065\n",
    "No Long-Term Performance Features: (5.443737627940729, 0.03900717458515713), 5.392688873134082\n",
    "Rankings-Derived Features Only for Past Player Performance: (5.580519356942332, 0.058416202396981795), 5.557887619412346\n",
    "No Player Differential Features: (5.726166645451683, 0.06978226294366076), 5.687397468975097\n",
    "No Decay Weighted Features: (5.414731470033668, 0.04422300680397044), 5.3728295017716805\n",
    "\n",
    "No Time-Decay Weighting OR SOS Adjustment: (5.434646241989665, 0.03725483869464828), 5.391483007388304\n",
    "\n",
    "\n",
    "Best Hyperparameters for Full Model at threshold of 20 prior matches for 2015-2019:\n",
    "{'gradientboostingregressor__learning_rate': 0.06,\n",
    " 'gradientboostingregressor__max_depth': 3,\n",
    " 'gradientboostingregressor__max_features': 6,\n",
    " 'gradientboostingregressor__n_estimators': 100,\n",
    " 'simpleimputer__strategy': 'median',\n",
    " 'standardscaler': StandardScaler()}"
   ]
  },
  {
   "cell_type": "code",
   "execution_count": null,
   "id": "fef1d0cb",
   "metadata": {},
   "outputs": [],
   "source": [
    "#Player Performance Features\n",
    "data = [[\"Full_Model\", 5.401037506296505, 0.03880163243608201, 5.384631822640838], [\"No_Short_Term_Performance_Features\", 5.407210049694717, 0.04202916314204297, 5.377417973953793], [\"No_Player_H2H\", 5.408339774982705, 0.04252139807636457, 5.377529968895667], [\"No_Court_Speed_Proxy\", 5.4110149902004885, 0.03671822782926413, 5.37771484194196], [\"No_Stamina_Fatigue_Features\", 5.41319234692173, 0.03718808060024765, 5.377951070254706], [\"No_TimeDecay_No_SOS\", 5.434646241989665, 0.03725483869464828, 5.391483007388304], [\"No_Long_Term_Performance_Features\", 5.443737627940729, 0.03900717458515713, 5.392688873134082], [\"Only_Rankings_For_Past_Performance\", 5.580519356942332, 0.058416202396981795, 5.557887619412346], [\"No_Differential_Performance_Features\", 5.726166645451683, 0.06978226294366076, 5.687397468975097]]\n",
    "df = pd.DataFrame(data, columns=[\"Model_Inclusion\", \"Training_Error\", \"Training_SD\", \"Testing_Error\"])\n",
    "df"
   ]
  },
  {
   "cell_type": "code",
   "execution_count": null,
   "id": "843ee11d",
   "metadata": {},
   "outputs": [],
   "source": [
    "g = sns.barplot(x=\"Model_Inclusion\",y=\"Training_Error\",data=df, palette = [\"black\",\"green\",\"red\",\"blue\",\"purple\",\"green\",\"green\",\"red\",\"green\"], yerr=df[\"Training_SD\"]*1)\n",
    "g.set_ylabel(\"training_error (mean + se)\")\n",
    "#g.set(xticklabels=[\"\", \"\"])\n",
    "g.set_xlabel(\"Change From Full Model\")\n",
    "g.set_ylim(5.35,5.75)"
   ]
  },
  {
   "cell_type": "code",
   "execution_count": null,
   "id": "5f064d30",
   "metadata": {},
   "outputs": [],
   "source": [
    "#Player Performance Features (including bar or dummy model - used in Github Readme)\n",
    "data = [[\"Full_Model\", 5.401037506296505, 0.03880163243608201, 5.384631822640838], [\"No_Short_Term_Performance_Features\", 5.407210049694717, 0.04202916314204297, 5.377417973953793], [\"No_Player_H2H\", 5.408339774982705, 0.04252139807636457, 5.377529968895667], [\"No_Court_Speed_Proxy\", 5.4110149902004885, 0.03671822782926413, 5.37771484194196], [\"No_Stamina_Fatigue_Features\", 5.41319234692173, 0.03718808060024765, 5.377951070254706], [\"No_TimeDecay_No_SOS\", 5.434646241989665, 0.03725483869464828, 5.391483007388304], [\"No_Long_Term_Performance_Features\", 5.443737627940729, 0.03900717458515713, 5.392688873134082], [\"Only_Rankings_For_Past_Performance\", 5.580519356942332, 0.058416202396981795, 5.557887619412346], [\"No_Differential_Performance_Features\", 5.726166645451683, 0.06978226294366076, 5.687397468975097], [\"Dummy Model\", 6.16, 0, 6.18]]\n",
    "df = pd.DataFrame(data, columns=[\"Model_Inclusion\", \"Training_Error\", \"Training_SD\", \"Testing_Error\"])\n",
    "df"
   ]
  },
  {
   "cell_type": "code",
   "execution_count": null,
   "id": "3397fc96",
   "metadata": {},
   "outputs": [],
   "source": [
    "# plot including Dummy model (included in Github Readme)\n",
    "g = sns.barplot(x=\"Model_Inclusion\",y=\"Training_Error\",data=df, palette = [\"black\",\"green\",\"red\",\"blue\",\"purple\",\"green\",\"green\",\"red\",\"green\",\"grey\"], yerr=df[\"Training_SD\"]*1)\n",
    "g.set_ylabel(\"training_error (mean + se)\")\n",
    "#g.set(xticklabels=[\"\", \"\"])\n",
    "g.set_xlabel(\"Change From Full Model\")\n",
    "g.set_ylim(5.35,6.25)"
   ]
  },
  {
   "cell_type": "markdown",
   "id": "d31d14a5",
   "metadata": {},
   "source": [
    "### Model Quality For Clay, Hard, and Combined Figure"
   ]
  },
  {
   "cell_type": "markdown",
   "id": "e0f99fdd",
   "metadata": {},
   "source": [
    "2015-2019 data used fo each of the 3 models (2012-2014 for stats accrual \"runway\")\n",
    "\n",
    "NOTE: Clay, Hard, and Combined Gradient Boosting Models were run with Hyperparameter Optimization separately done for each of the three versions.  \n",
    "\n",
    "Hard: 2015-2019: (5.401037506296505, 0.03880163243608201), 5.384631822640838  ((8038, 140), (2680, 140))\n",
    "Clay: 2015-2019: (5.712890241264851, 0.2327351117042826), 5.9277145808954295  ((3189, 140), (1063, 140))\n",
    "Combined: 2015-2019: (5.514314950458987, 0.11479205205642107), 5.430222658922351 ((11227, 141), (3743, 141)) t_surf added as a feature for combined analysis\n",
    "\n",
    "#Best hyperparams for  Hard{'gradientboostingregressor__learning_rate': 0.06,\n",
    " 'gradientboostingregressor__max_depth': 3,\n",
    " 'gradientboostingregressor__max_features': 9,\n",
    " 'gradientboostingregressor__n_estimators': 100,\n",
    " 'simpleimputer__strategy': 'median',\n",
    " 'standardscaler': StandardScaler()}\n",
    "\n",
    "#Best hyperparams for Clay: \n",
    "#{'gradientboostingregressor__learning_rate': 0.05,\n",
    " #'gradientboostingregressor__max_depth': 3,\n",
    " #'gradientboostingregressor__max_features': 11,\n",
    " #'gradientboostingregressor__n_estimators': 100,\n",
    " #'simpleimputer__strategy': 'median',\n",
    " #'standardscaler': StandardScaler()}\n",
    "\n",
    "Best hyperparams for Combined model: {'gradientboostingregressor__learning_rate': 0.05,\n",
    " 'gradientboostingregressor__max_depth': 3,\n",
    " 'gradientboostingregressor__max_features': 10,\n",
    " 'gradientboostingregressor__n_estimators': 120,\n",
    " 'simpleimputer__strategy': 'median',\n",
    " 'standardscaler': StandardScaler()}"
   ]
  },
  {
   "cell_type": "code",
   "execution_count": null,
   "id": "d06f9dbf",
   "metadata": {},
   "outputs": [],
   "source": [
    "data = [[\"Hard_Court\", 5.401037506296505, 0.03880163243608201, 5.384631822640838], [\"Clay_Court\", 5.712890241264851, 0.2327351117042826, 5.9277145808954295], [\"All_Surface\", 5.514314950458987, 0.11479205205642107, 5.430222658922351]]\n",
    "df = pd.DataFrame(data, columns=[\"Model_Surface_Inclusion\", \"Training_Error\", \"Training_SD\", \"Testing_Error\"])\n",
    "df"
   ]
  },
  {
   "cell_type": "code",
   "execution_count": null,
   "id": "a17fa087",
   "metadata": {},
   "outputs": [],
   "source": [
    "g = sns.barplot(x=\"Model_Surface_Inclusion\",y=\"Training_Error\",data=df, palette = [\"blue\",\"maroon\",\"purple\"], yerr=df[\"Training_SD\"]*1)\n",
    "g.set_ylabel(\"training_error (mean + se)\")\n",
    "#g.set(xticklabels=[\"\", \"\"])\n",
    "g.set_xlabel(\"Model_Error\")\n",
    "g.set_ylim(5.2,6)"
   ]
  },
  {
   "cell_type": "markdown",
   "id": "99c768dd",
   "metadata": {},
   "source": [
    "### Hard Court Sample Number Randomly Reduced to Same Number as Clay Court Samples\n",
    "Companion to previous figure, controlling for sample number as an explanation for clay-hard model prediction disparity."
   ]
  },
  {
   "cell_type": "markdown",
   "id": "b8a22f22",
   "metadata": {},
   "source": [
    "The analysis for this figure was conducted in the workbook \"07a_SurfaceEquivalenceModeling\"\n",
    "\n",
    "Best Hyperparameters were searched for again for the (randomly) reduced sample size Hard Court-only model, as well as for the new combined model with equal data across the two surfaces. The clay court hyperparameters are the same as in the analysis for the figure above, as it's the same exact sample.   \n",
    "\n",
    "Hard: 2015-2019: (5.418374449029615, 0.04304493926167511), 5.588966667384873 ((3189, 140), (1063, 140))\n",
    "Clay: 2015-2019: (5.712890241264851, 0.2327351117042826), 5.9277145808954295  ((3189, 140), (1063, 140))\n",
    "Combined: 2015-2019: (5.523644645591408, 0.15858898246215716), 5.674027187314122 ((6378, 141), (2126, 141))\n",
    "\n",
    "Best hyperparams for sample-reduced Hard model:{'gradientboostingregressor__learning_rate': 0.04,\n",
    " 'gradientboostingregressor__max_depth': 3,\n",
    " 'gradientboostingregressor__max_features': 10,\n",
    " 'gradientboostingregressor__n_estimators': 90,\n",
    " 'simpleimputer__strategy': 'median',\n",
    " 'standardscaler': StandardScaler()}\n",
    "\n",
    "#Best hyperparams for Clay model: \n",
    "#{'gradientboostingregressor__learning_rate': 0.05,\n",
    " #'gradientboostingregressor__max_depth': 3,\n",
    " #'gradientboostingregressor__max_features': 11,\n",
    " #'gradientboostingregressor__n_estimators': 100,\n",
    " #'simpleimputer__strategy': 'median',\n",
    " #'standardscaler': StandardScaler()}\n",
    "\n",
    "Best hyperparams for Combined Model: {'gradientboostingregressor__learning_rate': 0.04,\n",
    " 'gradientboostingregressor__max_depth': 3,\n",
    " 'gradientboostingregressor__max_features': 11,\n",
    " 'gradientboostingregressor__n_estimators': 120,\n",
    " 'simpleimputer__strategy': 'median',\n",
    " 'standardscaler': StandardScaler()}"
   ]
  },
  {
   "cell_type": "code",
   "execution_count": 3,
   "id": "6ca424b9",
   "metadata": {},
   "outputs": [
    {
     "data": {
      "text/html": [
       "<div>\n",
       "<style scoped>\n",
       "    .dataframe tbody tr th:only-of-type {\n",
       "        vertical-align: middle;\n",
       "    }\n",
       "\n",
       "    .dataframe tbody tr th {\n",
       "        vertical-align: top;\n",
       "    }\n",
       "\n",
       "    .dataframe thead th {\n",
       "        text-align: right;\n",
       "    }\n",
       "</style>\n",
       "<table border=\"1\" class=\"dataframe\">\n",
       "  <thead>\n",
       "    <tr style=\"text-align: right;\">\n",
       "      <th></th>\n",
       "      <th>Model_Surface_Inclusion</th>\n",
       "      <th>Training_Error</th>\n",
       "      <th>Training_SD</th>\n",
       "      <th>Testing_Error</th>\n",
       "    </tr>\n",
       "  </thead>\n",
       "  <tbody>\n",
       "    <tr>\n",
       "      <th>0</th>\n",
       "      <td>Hard_Court</td>\n",
       "      <td>5.418374</td>\n",
       "      <td>0.043045</td>\n",
       "      <td>5.588967</td>\n",
       "    </tr>\n",
       "    <tr>\n",
       "      <th>1</th>\n",
       "      <td>Clay_Court</td>\n",
       "      <td>5.712890</td>\n",
       "      <td>0.232735</td>\n",
       "      <td>5.927715</td>\n",
       "    </tr>\n",
       "    <tr>\n",
       "      <th>2</th>\n",
       "      <td>All_Surface</td>\n",
       "      <td>5.523645</td>\n",
       "      <td>0.158589</td>\n",
       "      <td>5.674027</td>\n",
       "    </tr>\n",
       "  </tbody>\n",
       "</table>\n",
       "</div>"
      ],
      "text/plain": [
       "  Model_Surface_Inclusion  Training_Error  Training_SD  Testing_Error\n",
       "0              Hard_Court        5.418374     0.043045       5.588967\n",
       "1              Clay_Court        5.712890     0.232735       5.927715\n",
       "2             All_Surface        5.523645     0.158589       5.674027"
      ]
     },
     "execution_count": 3,
     "metadata": {},
     "output_type": "execute_result"
    }
   ],
   "source": [
    "data = [[\"Hard_Court\", 5.418374449029615, 0.04304493926167511, 5.588966667384873 ], [\"Clay_Court\", 5.712890241264851, 0.2327351117042826, 5.9277145808954295], [\"All_Surface\", 5.523644645591408, 0.15858898246215716, 5.674027187314122]]\n",
    "df = pd.DataFrame(data, columns=[\"Model_Surface_Inclusion\", \"Training_Error\", \"Training_SD\", \"Testing_Error\"])\n",
    "df"
   ]
  },
  {
   "cell_type": "code",
   "execution_count": 4,
   "id": "3fefc248",
   "metadata": {},
   "outputs": [
    {
     "data": {
      "text/plain": [
       "(5.2, 6.0)"
      ]
     },
     "execution_count": 4,
     "metadata": {},
     "output_type": "execute_result"
    },
    {
     "data": {
      "image/png": "[encoded data removed]",
      "text/plain": [
       "<Figure size 432x288 with 1 Axes>"
      ]
     },
     "metadata": {
      "needs_background": "light"
     },
     "output_type": "display_data"
    }
   ],
   "source": [
    "g = sns.barplot(x=\"Model_Surface_Inclusion\",y=\"Training_Error\",data=df, palette = [\"blue\",\"maroon\",\"purple\"], yerr=df[\"Training_SD\"]*1)\n",
    "g.set_ylabel(\"training_error (mean + se)\")\n",
    "#g.set(xticklabels=[\"\", \"\"])\n",
    "g.set_xlabel(\"Model_Error\")\n",
    "g.set_ylim(5.2,6)"
   ]
  },
  {
   "cell_type": "markdown",
   "id": "c5a2ef19",
   "metadata": {},
   "source": [
    "### Analysis of Adding Implied Odds as a Feature to Models"
   ]
  },
  {
   "cell_type": "code",
   "execution_count": 5,
   "id": "a7fe7463",
   "metadata": {},
   "outputs": [
    {
     "data": {
      "text/html": [
       "<div>\n",
       "<style scoped>\n",
       "    .dataframe tbody tr th:only-of-type {\n",
       "        vertical-align: middle;\n",
       "    }\n",
       "\n",
       "    .dataframe tbody tr th {\n",
       "        vertical-align: top;\n",
       "    }\n",
       "\n",
       "    .dataframe thead th {\n",
       "        text-align: right;\n",
       "    }\n",
       "</style>\n",
       "<table border=\"1\" class=\"dataframe\">\n",
       "  <thead>\n",
       "    <tr style=\"text-align: right;\">\n",
       "      <th></th>\n",
       "      <th>Model_Inclusion</th>\n",
       "      <th>Training_Error</th>\n",
       "      <th>Training_SD</th>\n",
       "      <th>Testing_Error</th>\n",
       "    </tr>\n",
       "  </thead>\n",
       "  <tbody>\n",
       "    <tr>\n",
       "      <th>0</th>\n",
       "      <td>Full_Model</td>\n",
       "      <td>5.401038</td>\n",
       "      <td>0.038802</td>\n",
       "      <td>5.384632</td>\n",
       "    </tr>\n",
       "    <tr>\n",
       "      <th>1</th>\n",
       "      <td>Full Model + Implied Odds</td>\n",
       "      <td>5.350000</td>\n",
       "      <td>0.020000</td>\n",
       "      <td>5.330000</td>\n",
       "    </tr>\n",
       "    <tr>\n",
       "      <th>2</th>\n",
       "      <td>Implied Odds Only</td>\n",
       "      <td>5.310000</td>\n",
       "      <td>0.010000</td>\n",
       "      <td>5.290000</td>\n",
       "    </tr>\n",
       "  </tbody>\n",
       "</table>\n",
       "</div>"
      ],
      "text/plain": [
       "             Model_Inclusion  Training_Error  Training_SD  Testing_Error\n",
       "0                 Full_Model        5.401038     0.038802       5.384632\n",
       "1  Full Model + Implied Odds        5.350000     0.020000       5.330000\n",
       "2          Implied Odds Only        5.310000     0.010000       5.290000"
      ]
     },
     "execution_count": 5,
     "metadata": {},
     "output_type": "execute_result"
    }
   ],
   "source": [
    "#Hard Court\n",
    "#Player Performance Features\n",
    "data = [[\"Full_Model\", 5.401037506296505, 0.03880163243608201, 5.384631822640838], [\"Full Model + Implied Odds\", 5.35, 0.02, 5.33], [\"Implied Odds Only\", 5.31, 0.01, 5.29]]\n",
    "df = pd.DataFrame(data, columns=[\"Model_Inclusion\", \"Training_Error\", \"Training_SD\", \"Testing_Error\"])\n",
    "df"
   ]
  },
  {
   "cell_type": "code",
   "execution_count": 6,
   "id": "b3f8d523",
   "metadata": {},
   "outputs": [
    {
     "data": {
      "text/plain": [
       "(5.2, 6.0)"
      ]
     },
     "execution_count": 6,
     "metadata": {},
     "output_type": "execute_result"
    },
    {
     "data": {
      "image/png": "[encoded data removed]",
      "text/plain": [
       "<Figure size 432x288 with 1 Axes>"
      ]
     },
     "metadata": {
      "needs_background": "light"
     },
     "output_type": "display_data"
    }
   ],
   "source": [
    "g = sns.barplot(x=\"Model_Inclusion\",y=\"Training_Error\",data=df, palette = [\"blue\",\"navy\",\"black\"], yerr=df[\"Training_SD\"]*1)\n",
    "g.set_ylabel(\"training_error (mean + se)\")\n",
    "#g.set(xticklabels=[\"\", \"\"])\n",
    "g.set_xlabel(\"Model_Error\")\n",
    "g.set_ylim(5.2,6)"
   ]
  },
  {
   "cell_type": "code",
   "execution_count": 7,
   "id": "9d576c25",
   "metadata": {},
   "outputs": [
    {
     "data": {
      "text/html": [
       "<div>\n",
       "<style scoped>\n",
       "    .dataframe tbody tr th:only-of-type {\n",
       "        vertical-align: middle;\n",
       "    }\n",
       "\n",
       "    .dataframe tbody tr th {\n",
       "        vertical-align: top;\n",
       "    }\n",
       "\n",
       "    .dataframe thead th {\n",
       "        text-align: right;\n",
       "    }\n",
       "</style>\n",
       "<table border=\"1\" class=\"dataframe\">\n",
       "  <thead>\n",
       "    <tr style=\"text-align: right;\">\n",
       "      <th></th>\n",
       "      <th>Model_Inclusion</th>\n",
       "      <th>Training_Error</th>\n",
       "      <th>Training_SD</th>\n",
       "      <th>Testing_Error</th>\n",
       "    </tr>\n",
       "  </thead>\n",
       "  <tbody>\n",
       "    <tr>\n",
       "      <th>0</th>\n",
       "      <td>Full_Model</td>\n",
       "      <td>5.83</td>\n",
       "      <td>0.08</td>\n",
       "      <td>5.87</td>\n",
       "    </tr>\n",
       "    <tr>\n",
       "      <th>1</th>\n",
       "      <td>Full Model + Implied Odds</td>\n",
       "      <td>5.75</td>\n",
       "      <td>0.09</td>\n",
       "      <td>5.78</td>\n",
       "    </tr>\n",
       "    <tr>\n",
       "      <th>2</th>\n",
       "      <td>Implied Odds Only</td>\n",
       "      <td>5.73</td>\n",
       "      <td>0.07</td>\n",
       "      <td>5.80</td>\n",
       "    </tr>\n",
       "  </tbody>\n",
       "</table>\n",
       "</div>"
      ],
      "text/plain": [
       "             Model_Inclusion  Training_Error  Training_SD  Testing_Error\n",
       "0                 Full_Model            5.83         0.08           5.87\n",
       "1  Full Model + Implied Odds            5.75         0.09           5.78\n",
       "2          Implied Odds Only            5.73         0.07           5.80"
      ]
     },
     "execution_count": 7,
     "metadata": {},
     "output_type": "execute_result"
    }
   ],
   "source": [
    "#Clay Court\n",
    "#Player Performance Features\n",
    "data = [[\"Full_Model\", 5.83, 0.08, 5.87], [\"Full Model + Implied Odds\", 5.75, 0.09, 5.78], [\"Implied Odds Only\", 5.73, 0.07, 5.80]]\n",
    "df = pd.DataFrame(data, columns=[\"Model_Inclusion\", \"Training_Error\", \"Training_SD\", \"Testing_Error\"])\n",
    "df"
   ]
  },
  {
   "cell_type": "code",
   "execution_count": 13,
   "id": "3b3884e2",
   "metadata": {},
   "outputs": [
    {
     "data": {
      "text/plain": [
       "(5.2, 6.0)"
      ]
     },
     "execution_count": 13,
     "metadata": {},
     "output_type": "execute_result"
    },
    {
     "data": {
      "image/png": "[encoded data removed]",
      "text/plain": [
       "<Figure size 432x288 with 1 Axes>"
      ]
     },
     "metadata": {
      "needs_background": "light"
     },
     "output_type": "display_data"
    }
   ],
   "source": [
    "g = sns.barplot(x=\"Model_Inclusion\",y=\"Training_Error\",data=df, palette = [\"maroon\",\"purple\",\"black\"], yerr=df[\"Training_SD\"]*1)\n",
    "g.set_ylabel(\"training_error (mean + se)\")\n",
    "#g.set(xticklabels=[\"\", \"\"])\n",
    "g.set_xlabel(\"Model_Error\")\n",
    "g.set_ylim(5.2,6)"
   ]
  },
  {
   "cell_type": "code",
   "execution_count": null,
   "id": "87dcdcf5",
   "metadata": {},
   "outputs": [],
   "source": []
  }
 ],
 "metadata": {
  "kernelspec": {
   "display_name": "Python 3",
   "language": "python",
   "name": "python3"
  },
  "language_info": {
   "codemirror_mode": {
    "name": "ipython",
    "version": 3
   },
   "file_extension": ".py",
   "mimetype": "text/x-python",
   "name": "python",
   "nbconvert_exporter": "python",
   "pygments_lexer": "ipython3",
   "version": "3.8.8"
  }
 },
 "nbformat": 4,
 "nbformat_minor": 5
}
